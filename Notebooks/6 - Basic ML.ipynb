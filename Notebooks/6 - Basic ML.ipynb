{
 "cells": [
  {
   "cell_type": "markdown",
   "id": "490a64b3-ef71-4463-bb99-3903b5782fd0",
   "metadata": {},
   "source": [
    "# Basic ML: Phonocardiograms"
   ]
  },
  {
   "cell_type": "markdown",
   "id": "fa1bcf3d-b7a4-46e4-89b0-c3073d6a5e10",
   "metadata": {},
   "source": [
    "Author: Jake Dumbauld <br>\n",
    "Contact: jacobmilodumbauld@gmail.com<br>\n",
    "Date: 3.15.22"
   ]
  },
  {
   "cell_type": "markdown",
   "id": "732046ce-784f-4bba-a5cb-86d8061788b4",
   "metadata": {},
   "source": [
    "## Intro"
   ]
  },
  {
   "cell_type": "markdown",
   "id": "d89607f6-34a3-4ae5-a3f0-26bfb7ff67a4",
   "metadata": {},
   "source": [
    "Initial modelling here - copied same model from above </br>\n",
    "Found that it was not overfitting at all, began to trim some regularization and removed the callbacks. </br>\n",
    "Also removed the topmost input layer of 1024 </br>\n",
    "Quickly fell into overfitting, with val loss increasing after only a 2 epochs. Increased regularization adding dropout of 0.4 back to each layer </br>\n",
    "Began underfitting here, so I trimmed dropout to 0.2 and removed the learning rate schedule </br> \n",
    "Quickly fell into an overfitting regime again here. </br>\n",
    "\n",
    "\n",
    "Out of curiousity, I wanted to try SGD to see if I could get more robust performance on my validation & test sets.\n"
   ]
  },
  {
   "cell_type": "markdown",
   "id": "23904468-e516-424e-97a9-a853440dfa8d",
   "metadata": {},
   "source": [
    "It was around this point that I felt that I needed a more scientific approach to model evaluation and tuning. Starting from a fresh notebook."
   ]
  },
  {
   "cell_type": "markdown",
   "id": "8632aee3-b257-4d30-9be6-13034a9a4c96",
   "metadata": {},
   "source": [
    "## Imports"
   ]
  },
  {
   "cell_type": "code",
   "execution_count": 1,
   "id": "8a727db3-572e-4988-abac-7e33c5d7dec7",
   "metadata": {},
   "outputs": [],
   "source": [
    "#imports\n",
    "\n",
    "import numpy as np\n",
    "import pandas as pd\n",
    "import matplotlib.pyplot as plt\n",
    "\n",
    "import time\n",
    "import re\n",
    "\n",
    "from sklearn.model_selection import train_test_split\n",
    "\n",
    "import tensorflow as tf\n",
    "from tensorflow import keras\n",
    "from tensorflow.keras.models import Sequential\n",
    "from tensorflow.keras.layers import Conv2D\n",
    "from tensorflow.keras.layers import MaxPooling2D\n",
    "from tensorflow.keras.layers import Flatten\n",
    "from tensorflow.keras.layers import Dense\n",
    "from tensorflow.keras.layers import Dropout\n",
    "from tensorflow.keras import regularizers\n",
    "import keras_tuner as kt"
   ]
  },
  {
   "cell_type": "markdown",
   "id": "2998aa87-b46d-462e-a21c-8b504d8a5475",
   "metadata": {},
   "source": [
    "From the Keras FAQ: https://keras.io/getting_started/faq/#how-can-i-obtain-reproducible-results-using-keras-during-development\n",
    "- Trying to obtain reproducible results. Best I can tell scikitlearn also uses np.random() seed"
   ]
  },
  {
   "cell_type": "code",
   "execution_count": 2,
   "id": "a45eb872-5513-4fa6-8b3e-0865547a7576",
   "metadata": {},
   "outputs": [
    {
     "name": "stdout",
     "output_type": "stream",
     "text": [
      "env: PYTHONHASHSEED=0\n",
      "env: CUDA_VISIBLE_DEVICES=\"\"\n"
     ]
    }
   ],
   "source": [
    "import random as python_random\n",
    "\n",
    "np.random.seed(42)\n",
    "\n",
    "# The below is necessary for starting core Python generated random numbers in a well-defined state.\n",
    "python_random.seed(42)\n",
    "\n",
    "# The below set_seed() will make random number generation\n",
    "# in the TensorFlow backend have a well-defined initial state.\n",
    "# For further details, see:\n",
    "# https://www.tensorflow.org/api_docs/python/tf/random/set_seed\n",
    "tf.random.set_seed(42)\n",
    "\n",
    "#not sure if the below are necessary - leaving in to perhaps un-comment later.\n",
    "%env PYTHONHASHSEED=0\n",
    "%env CUDA_VISIBLE_DEVICES=\"\""
   ]
  },
  {
   "cell_type": "markdown",
   "id": "bf5d8060-d35b-4417-8f60-5b2ddc2ad5ed",
   "metadata": {},
   "source": [
    "## Helper Functions"
   ]
  },
  {
   "cell_type": "markdown",
   "id": "b86a6cd7-6e72-477b-9a3b-973e0b4dd3de",
   "metadata": {},
   "source": [
    "Defining a Helper Function for Plotting Model Loss"
   ]
  },
  {
   "cell_type": "code",
   "execution_count": 3,
   "id": "1afc21c1-5768-44c9-b66c-f790ad9b75a1",
   "metadata": {
    "tags": []
   },
   "outputs": [],
   "source": [
    "def graph_model_loss(title, history):\n",
    "    \"\"\"\n",
    "    Description:\n",
    "    Graphs training vs validation loss over epochs for a given model. \n",
    "    \n",
    "    History: tensorflow.python.keras.callbacks.History object\n",
    "    Title: str\n",
    "    \"\"\" \n",
    "    plt.figure(figsize=(12,8))\n",
    "    plt.plot(history.history['loss'])\n",
    "    plt.plot(history.history['val_loss'])\n",
    "    plt.title(title,size=24)\n",
    "    plt.ylabel('Loss',size=16)\n",
    "    plt.xlabel('Epoch',size=16)\n",
    "    plt.legend(['Train', 'Validation'])\n",
    "    plt.show()"
   ]
  },
  {
   "cell_type": "markdown",
   "id": "a770d168-3410-496a-a700-1f6c1fdf63ec",
   "metadata": {},
   "source": [
    "Defining a helper function to evaluate train & test accuracies"
   ]
  },
  {
   "cell_type": "code",
   "execution_count": 4,
   "id": "73bfce1c-1dd5-4fb7-8651-a493eb647fc8",
   "metadata": {},
   "outputs": [],
   "source": [
    "def evaluate_model(model, history):\n",
    "    \"\"\"\n",
    "    Description:\n",
    "    Outputs model train & test accuracies for currently defined train and test set variables.\n",
    "    \n",
    "    model: tensorflow model,\n",
    "    history: tensorflow.python.keras.callbacks.History object\n",
    "    \"\"\"\n",
    "    # Evaluate the network\n",
    "    train_accuracy = history.history[\"binary_accuracy\"][-1]\n",
    "    result = model.evaluate(X_test,y_test, verbose=1)\n",
    "\n",
    "    print(f\"Train Accuracy: {np.round(train_accuracy, 6)*100}%\")\n",
    "    print(f\"Test Accuracy: {np.round(result[1], 6)*100}%\")"
   ]
  },
  {
   "cell_type": "markdown",
   "id": "94f511b1-910f-43db-8f35-e79ceb4e5a65",
   "metadata": {},
   "source": [
    "Model structure to be used throughout the notebook - FULL WRITE-UP TO COME"
   ]
  },
  {
   "cell_type": "code",
   "execution_count": 5,
   "id": "f03fbaa0-df53-490f-aa5e-1c372242bdc0",
   "metadata": {},
   "outputs": [
    {
     "name": "stderr",
     "output_type": "stream",
     "text": [
      "2022-03-30 21:50:43.310818: I tensorflow/core/platform/cpu_feature_guard.cc:142] This TensorFlow binary is optimized with oneAPI Deep Neural Network Library (oneDNN) to use the following CPU instructions in performance-critical operations:  SSE4.1 SSE4.2\n",
      "To enable them in other operations, rebuild TensorFlow with the appropriate compiler flags.\n"
     ]
    },
    {
     "data": {
      "text/plain": [
       "<tensorflow.python.keras.engine.sequential.Sequential at 0x7fc2b0011f10>"
      ]
     },
     "execution_count": 5,
     "metadata": {},
     "output_type": "execute_result"
    }
   ],
   "source": [
    "def build_model(hp):\n",
    "    model = keras.Sequential()\n",
    "    #flattening input\n",
    "    model.add(Flatten())\n",
    "    \n",
    "    for i in range(hp.Int('layers', 2, 4)):\n",
    "        model.add(\n",
    "            Dense(\n",
    "            #Tuning the number of units in my input layer.\n",
    "            units=hp.Int(\"units\" + str(i), min_value=32, max_value=1024, step=64),\n",
    "            kernel_regularizer=regularizers.l2(0.001),\n",
    "            activation=\"relu\"\n",
    "            )\n",
    "        )\n",
    "        #Tuning whether or not to use dropout.\n",
    "        if hp.Boolean(\"dropout\" + str(i)):\n",
    "            model.add(Dropout(rate=0.25))\n",
    "\n",
    "        #Adding batch normalization\n",
    "        if hp.Boolean(\"normalization\" + str(i)):\n",
    "            model.add(BatchNormalization())\n",
    "\n",
    "    #output layer\n",
    "    model.add(Dense(1, activation=\"sigmoid\"))\n",
    "    \n",
    "    #defining learning rate\n",
    "    lr_schedule = keras.optimizers.schedules.InverseTimeDecay(\n",
    "                      #tuning initial learning rate\n",
    "                      initial_learning_rate=hp.Float(\"starting_learning_rate\", min_value=1e-4, max_value=1e-2, sampling=\"log\"),\n",
    "                      decay_steps=1.0,\n",
    "                      decay_rate=0.1\n",
    "                  )\n",
    "    model.compile(\n",
    "        #Optimizer\n",
    "        optimizer = keras.optimizers.Adam(learning_rate=lr_schedule),\n",
    "        #Loss\n",
    "        loss=keras.losses.BinaryCrossentropy(),\n",
    "        #Metrics\n",
    "        metrics=[keras.metrics.BinaryAccuracy()]\n",
    "    )\n",
    "    return model\n",
    "\n",
    "build_model(kt.HyperParameters())"
   ]
  },
  {
   "cell_type": "markdown",
   "id": "3ca4e45f-7c17-4d89-b52b-45b798ac31e4",
   "metadata": {},
   "source": [
    "## Building a Simple Feed Forward Network"
   ]
  },
  {
   "cell_type": "markdown",
   "id": "42ba3608-a70b-4491-a3cc-1268e387bedd",
   "metadata": {},
   "source": [
    "### Raw Signal Data"
   ]
  },
  {
   "cell_type": "code",
   "execution_count": null,
   "id": "37ad96ac-603a-4973-9643-310efa70af1d",
   "metadata": {},
   "outputs": [],
   "source": [
    "raw = np.load('/Users/jmd/Documents/BOOTCAMP/Capstone/arrays/signal_murmur_presimple_4k.npy', allow_pickle=True)"
   ]
  },
  {
   "cell_type": "code",
   "execution_count": null,
   "id": "3e774fae-a8e5-4f4a-866b-5ac310c22a7c",
   "metadata": {},
   "outputs": [],
   "source": [
    "y = raw[:,0] #murmurs are just the first column\n",
    "X = raw[:,1:]"
   ]
  },
  {
   "cell_type": "code",
   "execution_count": null,
   "id": "8700e168-ed96-4c3b-bce5-ad781e8bed79",
   "metadata": {},
   "outputs": [],
   "source": [
    "#train test split\n",
    "X_train, X_test, y_train, y_test = train_test_split(X, y, stratify=y, test_size = 0.3)"
   ]
  },
  {
   "cell_type": "code",
   "execution_count": null,
   "id": "1697a7ed-74dd-4d27-8403-5f461b1146b5",
   "metadata": {},
   "outputs": [],
   "source": [
    "X_train, X_val, y_train, y_val = train_test_split(X_train, y_train, stratify=y_train, test_size=0.3)"
   ]
  },
  {
   "cell_type": "code",
   "execution_count": null,
   "id": "17dd3178-8891-4061-b60c-e0125b8cbd29",
   "metadata": {
    "scrolled": true,
    "tags": []
   },
   "outputs": [],
   "source": [
    "sequential_raw_signal_data_tuner = kt.BayesianOptimization(\n",
    "    hypermodel=build_model,\n",
    "    objective=\"val_loss\",\n",
    "    max_trials=10,\n",
    "    seed=42,\n",
    "    overwrite=True,\n",
    "    directory='/Users/jmd/Documents/BOOTCAMP/Capstone/kerastune_searches',\n",
    "    project_name='sequential_raw_signal_data'\n",
    ")\n",
    "\n",
    "sequential_raw_signal_data_tuner_tuner.search(X_train, y_train, epochs=100, validation_data=(X_val,y_val), callbacks=[es_callback])"
   ]
  },
  {
   "cell_type": "code",
   "execution_count": null,
   "id": "bb41a387-5e4e-4817-a99e-bb6fc2c10b80",
   "metadata": {
    "scrolled": true,
    "tags": []
   },
   "outputs": [],
   "source": [
    "sequential_raw_signal_data_tuner.results_summary(num_trials=1)"
   ]
  },
  {
   "cell_type": "code",
   "execution_count": null,
   "id": "3512ba1c-d65d-4148-99d2-80bbc0320d45",
   "metadata": {
    "scrolled": true,
    "tags": []
   },
   "outputs": [],
   "source": [
    "# Get the best hyperparameters.\n",
    "best_hps = sequential_raw_signal_data_tuner.get_best_hyperparameters()\n",
    "# Build the model with the best hp.\n",
    "sequential_raw_signal_data = build_model(best_hps[0])\n",
    "\n",
    "sequential_raw_signal_data_history = model.fit(X_train, y_train, epochs=1000, validation_data=(X_val,y_val), callbacks=[es_callback])"
   ]
  },
  {
   "cell_type": "code",
   "execution_count": null,
   "id": "e47ad94d-bd36-4656-b5af-276d378f7572",
   "metadata": {},
   "outputs": [],
   "source": [
    "sequential_raw_signal_data.summary()"
   ]
  },
  {
   "cell_type": "code",
   "execution_count": null,
   "id": "2b36bf38-8ae8-4d68-8f78-59a55fb81369",
   "metadata": {},
   "outputs": [],
   "source": [
    "evaluate_model(sequential_raw_signal_data, sequential_raw_signal_data_history)"
   ]
  },
  {
   "cell_type": "code",
   "execution_count": null,
   "id": "7d874729-70e1-4f0c-9498-5082ea4a6df6",
   "metadata": {},
   "outputs": [],
   "source": [
    "graph_model_loss('Raw Signal Data, No Patient Information', sequential_raw_signal_data_history)"
   ]
  },
  {
   "cell_type": "code",
   "execution_count": null,
   "id": "7e5c40dd-05cb-4955-8693-224896850f4b",
   "metadata": {},
   "outputs": [],
   "source": [
    "#saving model\n",
    "sequential_raw_signal_data.save('/Users/jmd/Documents/BOOTCAMP/Capstone/neural_nets/sequential_raw_signal_no_patient', overwrite=False)"
   ]
  },
  {
   "cell_type": "markdown",
   "id": "26aeefa3-bcaf-41f3-bf1d-f5992fc146ae",
   "metadata": {},
   "source": [
    "### MFCC w/o Patient Info: FFN"
   ]
  },
  {
   "cell_type": "code",
   "execution_count": null,
   "id": "0469d9a6-6eee-40b9-897f-652af987c20b",
   "metadata": {},
   "outputs": [],
   "source": [
    "X = np.load('/Users/jmd/Documents/BOOTCAMP/Capstone/arrays/MFCCs_noPatient.npy', allow_pickle=True)\n",
    "y = np.load('/Users/jmd/Documents/BOOTCAMP/Capstone/arrays/target_array.npy', allow_pickle=True)"
   ]
  },
  {
   "cell_type": "code",
   "execution_count": null,
   "id": "1e7548a1-d54a-46cc-9aa9-d7c5d4c34643",
   "metadata": {},
   "outputs": [],
   "source": [
    "X_train, X_test, y_train, y_test = train_test_split(X, y, stratify=y, test_size = 0.3)"
   ]
  },
  {
   "cell_type": "code",
   "execution_count": null,
   "id": "934755c0-3bd2-4b36-914c-3684637db07f",
   "metadata": {},
   "outputs": [],
   "source": [
    "X_train, X_val, y_train, y_val = train_test_split(X_train, y_train, stratify=y_train, test_size=0.3)"
   ]
  },
  {
   "cell_type": "code",
   "execution_count": null,
   "id": "4ffb4978-acb0-4ff8-bbe0-a54a805e1124",
   "metadata": {
    "tags": []
   },
   "outputs": [],
   "source": [
    "sequential_MFCC_no_patient_tuner = kt.BayesianOptimization(\n",
    "    hypermodel=build_model,\n",
    "    objective=\"val_loss\",\n",
    "    max_trials=50,\n",
    "    seed=42,\n",
    "    overwrite=True,\n",
    "    directory='/Users/jmd/Documents/BOOTCAMP/Capstone/kerastune_searches',\n",
    "    project_name='sequential_MFCC_no_patient'\n",
    ")\n",
    "\n",
    "sequential_MFCC_no_patient_tuner.search(X_train, y_train, epochs=100, validation_data=(X_val,y_val), callbacks=[es_callback])"
   ]
  },
  {
   "cell_type": "code",
   "execution_count": null,
   "id": "f97fae3f-dfc7-4e9a-9b97-c9344aabb410",
   "metadata": {
    "scrolled": true,
    "tags": []
   },
   "outputs": [],
   "source": [
    "sequential_MFCC_no_patient_tuner.results_summary(num_trials=1)"
   ]
  },
  {
   "cell_type": "code",
   "execution_count": null,
   "id": "ec1a2ca7-99b6-481b-a04e-35e4144c15dd",
   "metadata": {
    "scrolled": true,
    "tags": []
   },
   "outputs": [],
   "source": [
    "# Get the best hyperparameters.\n",
    "best_hps = sequential_MFCC_no_patient_tuner.get_best_hyperparameters()\n",
    "# Build the model with the best hp.\n",
    "sequential_MFCC_no_patient = build_model(best_hps[0])\n",
    "\n",
    "sequential_MFCC_no_patient_history = sequential_MFCC_no_patient.fit(X_train, y_train, epochs=1000, validation_data=(X_val,y_val), callbacks=[es_callback])"
   ]
  },
  {
   "cell_type": "code",
   "execution_count": null,
   "id": "bfc96a13-6f23-418d-a218-879247ba0491",
   "metadata": {},
   "outputs": [],
   "source": [
    "sequential_MFCC_no_patient.summary()"
   ]
  },
  {
   "cell_type": "code",
   "execution_count": null,
   "id": "ae8d6aec-0750-42f7-8c6a-1d9d462a0949",
   "metadata": {},
   "outputs": [],
   "source": [
    "evaluate_model(sequential_MFCC_no_patient, sequential_MFCC_no_patient_history)"
   ]
  },
  {
   "cell_type": "code",
   "execution_count": null,
   "id": "1675d65a-3e12-46f6-acf7-17aefd35b058",
   "metadata": {},
   "outputs": [],
   "source": [
    "graph_model_loss('MFCC w/o Patient Information', sequential_MFCC_no_patient_history)"
   ]
  },
  {
   "cell_type": "code",
   "execution_count": null,
   "id": "09cc02b7-d6da-4ae6-9265-e084d7d20083",
   "metadata": {},
   "outputs": [],
   "source": [
    "#saving\n",
    "sequential_MFCC_no_patient.save('/Users/jmd/Documents/BOOTCAMP/Capstone/neural_nets/sequential_MFCC_no_patient', overwrite=True)"
   ]
  },
  {
   "cell_type": "markdown",
   "id": "70bd07e6-cec8-4543-bd91-90048c5efa2b",
   "metadata": {},
   "source": [
    "below approach was BS and didn't work. commenting out for later."
   ]
  },
  {
   "cell_type": "code",
   "execution_count": null,
   "id": "14c92cd1-01ba-4a84-9523-5021c9ccdfed",
   "metadata": {},
   "outputs": [],
   "source": [
    "# # Create a new sequential model\n",
    "# FNN_MFCC_n_pt = keras.Sequential()\n",
    "\n",
    "# # Declare the hidden layers\n",
    "# FNN_MFCC_n_pt.add(layers.Dense(512, kernel_regularizer=regularizers.l2(0.001), activation=\"relu\"))\n",
    "# #model.add(layers.Dropout(0.4))\n",
    "# FNN_MFCC_n_pt.add(layers.BatchNormalization())  \n",
    "\n",
    "# FNN_MFCC_n_pt.add(layers.Dense(128, kernel_regularizer=regularizers.l2(0.001), activation=\"relu\"))\n",
    "# #model.add(layers.Dropout(0.4))\n",
    "# FNN_MFCC_n_pt.add(layers.BatchNormalization())  \n",
    "\n",
    "# FNN_MFCC_n_pt.add(layers.Dense(32, kernel_regularizer=regularizers.l2(0.001), activation=\"relu\"))\n",
    "# #model.add(layers.Dropout(0.4))\n",
    "\n",
    "# # Declare the output layer\n",
    "# FNN_MFCC_n_pt.add(layers.Dense(1, kernel_regularizer=regularizers.l2(0.001), activation=\"sigmoid\"))\n",
    "\n",
    "# #declaring learning rate schedule\n",
    "# lr_schedule = keras.optimizers.schedules.InverseTimeDecay(0.01, decay_steps=1.0, decay_rate=0.1)\n",
    "\n",
    "\n",
    "# FNN_MFCC_n_pt.compile(\n",
    "#     # Optimizer\n",
    "#     optimizer=keras.optimizers.Adam(lr_schedule),  \n",
    "#     # Loss function to minimize\n",
    "#     loss=keras.losses.BinaryCrossentropy(),\n",
    "#     # Metric used to evaluate model\n",
    "#     metrics=[keras.metrics.BinaryAccuracy()]\n",
    "# )\n",
    "\n",
    "# es_callback = keras.callbacks.EarlyStopping(monitor='val_loss', patience=10)\n",
    "\n",
    "# history2 = FNN_MFCC_n_pt.fit(X_train, y_train, epochs=1000, verbose=1, validation_split=0.3, callbacks=[es_callback])\n",
    "\n",
    "# plt.plot(history2.history['loss'])\n",
    "# plt.plot(history2.history['val_loss'])\n",
    "# plt.title('Model Loss')\n",
    "# plt.ylabel('Loss')\n",
    "# plt.xlabel('Epoch')\n",
    "# plt.legend(['Train', 'Validation'])\n",
    "# plt.show()\n",
    "\n",
    "# # Evaluate the network\n",
    "# train_accuracy = history2.history[\"binary_accuracy\"][-1]\n",
    "# result = FNN_MFCC_n_pt.evaluate(X_test,y_test, verbose=1)\n",
    "\n",
    "# print(f\"Train Accuracy: {train_accuracy:.4f}\")\n",
    "# print(f\"Test Accuracy: {result[1]:.4f}\")\n",
    "\n",
    "# FNN_MFCC_n_pt.summary()\n",
    "\n",
    "# #saving model\n",
    "# FNN_MFCC_n_pt.save('/Users/jmd/Documents/BOOTCAMP/Capstone/neural_nets/FFN_MFCC_no_patient', overwrite=False)"
   ]
  },
  {
   "cell_type": "markdown",
   "id": "8ae70820-08e9-4c41-9f9e-1e28fcd78e7b",
   "metadata": {},
   "source": [
    "### MFCC w/ Patient Info: FFN"
   ]
  },
  {
   "cell_type": "code",
   "execution_count": null,
   "id": "e9f3df2f-2ebe-433a-a8bc-ca93f876291b",
   "metadata": {},
   "outputs": [],
   "source": [
    "X = np.load('/Users/jmd/Documents/BOOTCAMP/Capstone/arrays/MFCCs_withPatient.npy', allow_pickle=True)\n",
    "y = np.load('/Users/jmd/Documents/BOOTCAMP/Capstone/arrays/target_array.npy', allow_pickle=True)"
   ]
  },
  {
   "cell_type": "code",
   "execution_count": null,
   "id": "da948b7a-6e70-48a2-9199-ea14be8ed4de",
   "metadata": {},
   "outputs": [],
   "source": [
    "X_train, X_test, y_train, y_test = train_test_split(X, y, stratify=y, test_size = 0.3)\n",
    "X_train, X_val, y_train, y_val = train_test_split(X_train, y_train, stratify=y_train, test_size=0.3)"
   ]
  },
  {
   "cell_type": "code",
   "execution_count": null,
   "id": "ef2d6675-04d4-462b-90e8-c0ce78142082",
   "metadata": {},
   "outputs": [],
   "source": [
    "es_callback = keras.callbacks.EarlyStopping(monitor='val_loss', patience=10)"
   ]
  },
  {
   "cell_type": "code",
   "execution_count": null,
   "id": "9377792a-6389-4a65-af4a-c1af999ac118",
   "metadata": {
    "scrolled": true,
    "tags": []
   },
   "outputs": [],
   "source": [
    "sequential_MFCC_with_patient_tuner = kt.BayesianOptimization(\n",
    "    hypermodel=build_model,\n",
    "    objective=\"val_loss\",\n",
    "    max_trials=50,\n",
    "    seed=42,\n",
    "    overwrite=True,\n",
    "    directory='/Users/jmd/Documents/BOOTCAMP/Capstone/kerastune_searches',\n",
    "    project_name='sequential_MFCC_with_patient'\n",
    ")\n",
    "\n",
    "sequential_MFCC_with_patient_tuner.search(X_train, y_train, epochs=100, validation_data=(X_val,y_val), callbacks=[es_callback])"
   ]
  },
  {
   "cell_type": "code",
   "execution_count": null,
   "id": "8fc9509e-42ce-4896-8e2f-2c8ba742e318",
   "metadata": {
    "scrolled": true,
    "tags": []
   },
   "outputs": [],
   "source": [
    "sequential_MFCC_with_patient_tuner.results_summary(num_trials=1)"
   ]
  },
  {
   "cell_type": "code",
   "execution_count": null,
   "id": "d326d139-342c-479d-8389-4d6815f737e0",
   "metadata": {
    "scrolled": true,
    "tags": []
   },
   "outputs": [],
   "source": [
    "# Get the best hyperparameters.\n",
    "best_hps = sequential_MFCC_with_patient_tuner.get_best_hyperparameters()\n",
    "# Build the model with the best hp.\n",
    "sequential_MFCC_with_patient = build_model(best_hps[0])\n",
    "\n",
    "sequential_MFCC_with_patient_history = sequential_MFCC_with_patient.fit(X_train, y_train, epochs=1000, validation_data=(X_val,y_val), callbacks=[es_callback])"
   ]
  },
  {
   "cell_type": "code",
   "execution_count": null,
   "id": "06feade5-16d2-408a-ba47-c9ce87708a62",
   "metadata": {},
   "outputs": [],
   "source": [
    "sequential_MFCC_with_patient.summary()"
   ]
  },
  {
   "cell_type": "code",
   "execution_count": null,
   "id": "48b279a6-2608-4d31-a0fe-9a8fcdb2f36a",
   "metadata": {},
   "outputs": [],
   "source": [
    "evaluate_model(sequential_MFCC_with_patient, sequential_MFCC_with_patient_history)"
   ]
  },
  {
   "cell_type": "code",
   "execution_count": null,
   "id": "4b187254-fccb-486e-bdf4-e0582e9cb3e0",
   "metadata": {},
   "outputs": [],
   "source": [
    "graph_model_loss('MFCC w/o Patient Information', sequential_MFCC_with_patient_history)"
   ]
  },
  {
   "cell_type": "code",
   "execution_count": null,
   "id": "469ec051-9bb7-47ef-b6ff-81fd85137291",
   "metadata": {},
   "outputs": [],
   "source": [
    "#saving model\n",
    "sequential_MFCC_with_patient.save('/Users/jmd/Documents/BOOTCAMP/Capstone/neural_nets/sequential_MFCC_with_patient', overwrite=False)"
   ]
  },
  {
   "cell_type": "markdown",
   "id": "56cb5530-f2d6-41a4-a2bb-81f9c6c83398",
   "metadata": {},
   "source": [
    "---"
   ]
  },
  {
   "cell_type": "markdown",
   "id": "430d64de-25d6-42bf-9fcb-7f7339cd63ba",
   "metadata": {},
   "source": [
    "## Setting up for CNN w/ and w/o MFCC"
   ]
  },
  {
   "cell_type": "code",
   "execution_count": 6,
   "id": "5d1dd6c6-bea1-4a6a-a518-eb43281d6530",
   "metadata": {},
   "outputs": [
    {
     "data": {
      "text/plain": [
       "<tensorflow.python.keras.engine.sequential.Sequential at 0x7fc2f6fea820>"
      ]
     },
     "execution_count": 6,
     "metadata": {},
     "output_type": "execute_result"
    }
   ],
   "source": [
    "def build_CNN_model(hp):\n",
    "    model = keras.Sequential()\n",
    "    \n",
    "    for i in range(hp.Int('conv_layers', 1, 3)):\n",
    "        model.add(\n",
    "            Conv2D(\n",
    "            #Tuning the number of units in my input layer.\n",
    "            filters=hp.Int(\"filters\" + str(i), min_value=32, max_value=128, step=16),\n",
    "            kernel_size=(3,3),\n",
    "            activation=\"relu\"\n",
    "            )\n",
    "        )\n",
    "        #Tuning whether or not to use dropout.\n",
    "        if hp.Boolean(\"conv_dropout\" + str(i)):\n",
    "            model.add(layers.Dropout(rate=0.25))\n",
    "\n",
    "    model.add(Flatten())\n",
    "    \n",
    "    for i in range(hp.Int('dense_layers', 1, 3)):\n",
    "        model.add(\n",
    "            Dense(\n",
    "            #Tuning the number of units in my input layer.\n",
    "            units=hp.Int(\"units\" + str(i), min_value=32, max_value=256, step=32),\n",
    "            activation=\"relu\"\n",
    "            )\n",
    "        )\n",
    "        #Tuning whether or not to use dropout.\n",
    "        if hp.Boolean(\"dropout\" + str(i)):\n",
    "            model.add(layers.Dropout(rate=0.25))\n",
    "\n",
    "        #Adding batch normalization\n",
    "        if hp.Boolean(\"normalization\" + str(i)):\n",
    "            model.add(layers.BatchNormalization())\n",
    "\n",
    "    #output layer\n",
    "    model.add(Dense(1, activation=\"sigmoid\"))\n",
    "    \n",
    "    #defining learning rate\n",
    "    lr_schedule = keras.optimizers.schedules.InverseTimeDecay(\n",
    "                      #tuning initial learning rate\n",
    "                      initial_learning_rate=hp.Float(\"starting_learning_rate\", min_value=1e-4, max_value=1e-2, sampling=\"log\"),\n",
    "                      decay_steps=1.0,\n",
    "                      decay_rate=0.1\n",
    "                  )\n",
    "    model.compile(\n",
    "        #Optimizer\n",
    "        optimizer = keras.optimizers.Adam(learning_rate=lr_schedule),\n",
    "        #Loss\n",
    "        loss=keras.losses.BinaryCrossentropy(),\n",
    "        #Metrics\n",
    "        metrics=[keras.metrics.BinaryAccuracy()]\n",
    "    )\n",
    "    return model\n",
    "\n",
    "build_CNN_model(kt.HyperParameters())"
   ]
  },
  {
   "cell_type": "markdown",
   "id": "b3966017-5a55-4f22-8280-351e0675b378",
   "metadata": {},
   "source": [
    "### CNN w/o Patient Info"
   ]
  },
  {
   "cell_type": "code",
   "execution_count": 7,
   "id": "407c31ef-c27c-48b4-b3c2-50486707b68b",
   "metadata": {},
   "outputs": [],
   "source": [
    "X = np.load('/Users/jmd/Documents/BOOTCAMP/Capstone/arrays/MFCCs_noPatient.npy', allow_pickle=True)\n",
    "y = np.load('/Users/jmd/Documents/BOOTCAMP/Capstone/arrays/target_array.npy', allow_pickle=True)"
   ]
  },
  {
   "cell_type": "code",
   "execution_count": 8,
   "id": "fb48edd6-c670-4b1e-ab72-7034b15a83e1",
   "metadata": {},
   "outputs": [],
   "source": [
    "X = X.reshape(X.shape[0], X.shape[1], X.shape[2], 1)"
   ]
  },
  {
   "cell_type": "code",
   "execution_count": 9,
   "id": "ceb2bbd3-51c6-46b1-90bb-aeed66b79f5b",
   "metadata": {},
   "outputs": [],
   "source": [
    "X_train, X_test, y_train, y_test = train_test_split(X, y, stratify=y, test_size = 0.3)\n",
    "X_train, X_val, y_train, y_val = train_test_split(X_train, y_train, stratify=y_train, test_size=0.3)"
   ]
  },
  {
   "cell_type": "code",
   "execution_count": 10,
   "id": "3527603f-3d1d-4cca-9f8e-80e8b6913131",
   "metadata": {},
   "outputs": [],
   "source": [
    "es_callback = keras.callbacks.EarlyStopping(monitor='val_loss', patience=5)"
   ]
  },
  {
   "cell_type": "code",
   "execution_count": 11,
   "id": "35a33c5c-d6a5-430a-ab5c-121dd29c3a75",
   "metadata": {},
   "outputs": [],
   "source": [
    "CNN_MFCC_no_patient_tuner = kt.BayesianOptimization(\n",
    "    hypermodel=build_CNN_model,\n",
    "    objective=\"val_loss\",\n",
    "    max_trials=250,\n",
    "    seed=42,\n",
    "    overwrite=True,\n",
    "    directory='/Users/jmd/Documents/BOOTCAMP/Capstone/kerastune_searches',\n",
    "    project_name='CNN_MFCC_no_patient'\n",
    ")"
   ]
  },
  {
   "cell_type": "code",
   "execution_count": null,
   "id": "d1ad1e41-1c46-4b1a-aed9-5a2d031c16dd",
   "metadata": {
    "scrolled": true,
    "tags": []
   },
   "outputs": [],
   "source": [
    "CNN_MFCC_no_patient_tuner.search(X_train, y_train, epochs=100, validation_data=(X_val,y_val), callbacks=[es_callback])"
   ]
  },
  {
   "cell_type": "code",
   "execution_count": null,
   "id": "9749741a-3bd7-4622-aa47-f1a3b0ef59ad",
   "metadata": {
    "scrolled": true,
    "tags": []
   },
   "outputs": [],
   "source": [
    "CNN_MFCC_no_patient_tuner.results_summary(num_trials=1)"
   ]
  },
  {
   "cell_type": "code",
   "execution_count": null,
   "id": "8ba78164-4562-4a90-a73a-985d0a0a8b87",
   "metadata": {
    "scrolled": true,
    "tags": []
   },
   "outputs": [],
   "source": [
    "es_callback = keras.callbacks.EarlyStopping(monitor='val_loss', patience=5)\n",
    "# Get the best hyperparameters.\n",
    "best_hps = CNN_MFCC_no_patient_tuner.get_best_hyperparameters()\n",
    "# Build the model with the best hp.\n",
    "CNN_MFCC_no_patient = build_CNN_model(best_hps[0])\n",
    "\n",
    "CNN_MFCC_no_patient_history = CNN_MFCC_no_patient.fit(X_train, y_train, epochs=5, validation_data=(X_val,y_val), callbacks=[es_callback])"
   ]
  },
  {
   "cell_type": "code",
   "execution_count": null,
   "id": "4cb71c13-0666-478a-b8a9-798832fd1c93",
   "metadata": {},
   "outputs": [],
   "source": [
    "CNN_MFCC_no_patient.summary()"
   ]
  },
  {
   "cell_type": "code",
   "execution_count": null,
   "id": "35b69007-795f-46b7-8583-7df4ed8d89a2",
   "metadata": {},
   "outputs": [],
   "source": [
    "evaluate_model(CNN_MFCC_no_patient, CNN_MFCC_no_patient_history)"
   ]
  },
  {
   "cell_type": "code",
   "execution_count": null,
   "id": "5ef9c9b0-50eb-4e2e-8091-0bcfbbcba2ee",
   "metadata": {},
   "outputs": [],
   "source": [
    "graph_model_loss('CNN MFCC w/o Patient Information', CNN_MFCC_no_patient_history)"
   ]
  },
  {
   "cell_type": "code",
   "execution_count": null,
   "id": "852e92d5-f9c4-4720-b36f-9029061dca4b",
   "metadata": {},
   "outputs": [],
   "source": [
    "#saving model\n",
    "CNN_MFCC_no_patient_tuner.save('/Users/jmd/Documents/BOOTCAMP/Capstone/neural_nets/CNN_MFCC_no_patient_tuner', overwrite=False)"
   ]
  },
  {
   "cell_type": "markdown",
   "id": "f81a678c-28ed-4c28-a89a-087ce31f4911",
   "metadata": {},
   "source": [
    "## Framework"
   ]
  },
  {
   "cell_type": "markdown",
   "id": "991a7d4f-334c-4d59-a508-f973e5d66398",
   "metadata": {},
   "source": [
    "How to Approach the Problem:\n",
    "- Current plan:\n",
    "    - Intend to initially fit an RNN to the raw, unpadded signal data and see how it fares. \n",
    "    - Also fit a CNN to the MFCC data and see how that fares\n",
    "    - Stack the outputs of those two with a third CNN that incorporates the patient information provided in the annotations.\n",
    "    \n",
    "- Questions:\n",
    "    - Does this plan make sense?\n",
    "    - How should I go about optimizing my parameters & deciding on network architecture?\n",
    "    - "
   ]
  },
  {
   "cell_type": "code",
   "execution_count": null,
   "id": "dbe780c9-7376-4527-a39c-d3fcc4f73f1e",
   "metadata": {},
   "outputs": [],
   "source": [
    "# use glob to extract files. "
   ]
  },
  {
   "cell_type": "markdown",
   "id": "9948ec37-188b-4517-9269-cb3d0009afbb",
   "metadata": {},
   "source": [
    "- do LTSM\n",
    "- 1D CNN \n",
    "\n",
    "\n",
    "- Trim sampling rate to 25% of what it is now."
   ]
  },
  {
   "cell_type": "markdown",
   "id": "0a17b860-22e8-4f23-8ce8-bc9a78b770cb",
   "metadata": {},
   "source": [
    "RNN approach, concatenate patient information into a 1D vector to feed into the model"
   ]
  },
  {
   "cell_type": "markdown",
   "id": "9fd6b67a-684d-4de7-a077-c90258f852df",
   "metadata": {},
   "source": [
    "Look into an ensemble/aggregation model. "
   ]
  },
  {
   "cell_type": "markdown",
   "id": "571ec269-646a-49b6-a94a-508293e05a59",
   "metadata": {},
   "source": [
    "Can incorporate patient info into CNN as well, just need to pad the vector"
   ]
  },
  {
   "cell_type": "markdown",
   "id": "07d4ba38-bc99-41d2-8b90-5e4937238320",
   "metadata": {},
   "source": [
    "Look into training accelerometer data on LTSMs. "
   ]
  },
  {
   "cell_type": "markdown",
   "id": "9862d579-7513-41e4-abb9-94fc2c4048a5",
   "metadata": {},
   "source": [
    "Look into varying model hyperparameters based on frequency of the data."
   ]
  },
  {
   "cell_type": "markdown",
   "id": "c58bc140-3c6b-4531-a391-e01ecbe2eba9",
   "metadata": {},
   "source": [
    "Look into example architectures for CNN that are used on MFCCs"
   ]
  },
  {
   "cell_type": "markdown",
   "id": "85dc28a8-bba7-4301-b012-83f5b40b9d2a",
   "metadata": {},
   "source": [
    "make sure to train a dumb feed forward model"
   ]
  },
  {
   "cell_type": "markdown",
   "id": "6875a0b4-bd38-4ecc-af0f-f18ef89700ae",
   "metadata": {},
   "source": [
    "Try 1024 for an input layer. "
   ]
  },
  {
   "cell_type": "markdown",
   "id": "b1e9a1d0-4b1e-4053-b82c-ac256170e850",
   "metadata": {},
   "source": [
    "1. Train a simple feed forward on the padded and transformed data. \n",
    "- MFCC data with patient demo info into feed forward. \n",
    "2. RNN, with patient info\n",
    "- First train without, then train with. \n",
    "3. CNN on MFCCs with patient info. \n",
    "- First train out, then train with. "
   ]
  }
 ],
 "metadata": {
  "kernelspec": {
   "display_name": "capstone",
   "language": "python",
   "name": "capstone"
  },
  "language_info": {
   "codemirror_mode": {
    "name": "ipython",
    "version": 3
   },
   "file_extension": ".py",
   "mimetype": "text/x-python",
   "name": "python",
   "nbconvert_exporter": "python",
   "pygments_lexer": "ipython3",
   "version": "3.8.12"
  },
  "toc-autonumbering": false,
  "toc-showmarkdowntxt": false
 },
 "nbformat": 4,
 "nbformat_minor": 5
}
