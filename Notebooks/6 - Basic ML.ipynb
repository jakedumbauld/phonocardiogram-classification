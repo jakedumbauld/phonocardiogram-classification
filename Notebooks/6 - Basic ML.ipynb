{
 "cells": [
  {
   "cell_type": "markdown",
   "id": "490a64b3-ef71-4463-bb99-3903b5782fd0",
   "metadata": {},
   "source": [
    "# Basic ML: Phonocardiograms"
   ]
  },
  {
   "cell_type": "markdown",
   "id": "fa1bcf3d-b7a4-46e4-89b0-c3073d6a5e10",
   "metadata": {},
   "source": [
    "Author: Jake Dumbauld <br>\n",
    "Contact: jacobmilodumbauld@gmail.com<br>\n",
    "Date: 3.15.22"
   ]
  },
  {
   "cell_type": "markdown",
   "id": "8632aee3-b257-4d30-9be6-13034a9a4c96",
   "metadata": {},
   "source": [
    "## Imports"
   ]
  },
  {
   "cell_type": "code",
   "execution_count": 2,
   "id": "8a727db3-572e-4988-abac-7e33c5d7dec7",
   "metadata": {},
   "outputs": [],
   "source": [
    "#imports\n",
    "\n",
    "import numpy as np\n",
    "import pandas as pd\n",
    "import matplotlib.pyplot as plt\n",
    "\n",
    "import time\n",
    "import re"
   ]
  },
  {
   "cell_type": "markdown",
   "id": "f81a678c-28ed-4c28-a89a-087ce31f4911",
   "metadata": {},
   "source": [
    "## Framework"
   ]
  },
  {
   "cell_type": "markdown",
   "id": "991a7d4f-334c-4d59-a508-f973e5d66398",
   "metadata": {},
   "source": [
    "How to Approach the Problem:\n",
    "- Current plan:\n",
    "    - Intend to initially fit an RNN to the raw, unpadded signal data and see how it fares. \n",
    "    - Also fit a CNN to the MFCC data and see how that fares\n",
    "    - Stack the outputs of those two with a third CNN that incorporates the patient information provided in the annotations.\n",
    "    \n",
    "- Questions:\n",
    "    - Does this plan make sense?\n",
    "    - How should I go about optimizing my parameters & deciding on network architecture?\n",
    "    - "
   ]
  },
  {
   "cell_type": "code",
   "execution_count": null,
   "id": "dbe780c9-7376-4527-a39c-d3fcc4f73f1e",
   "metadata": {},
   "outputs": [],
   "source": [
    "# use glob to extract files. "
   ]
  },
  {
   "cell_type": "markdown",
   "id": "9948ec37-188b-4517-9269-cb3d0009afbb",
   "metadata": {},
   "source": [
    "- do LTSM\n",
    "- 1D CNN \n",
    "\n",
    "\n",
    "- Trim sampling rate to 25% of what it is now."
   ]
  },
  {
   "cell_type": "markdown",
   "id": "0a17b860-22e8-4f23-8ce8-bc9a78b770cb",
   "metadata": {},
   "source": [
    "RNN approach, concatenate patient information into a 1D vector to feed into the model"
   ]
  },
  {
   "cell_type": "markdown",
   "id": "9fd6b67a-684d-4de7-a077-c90258f852df",
   "metadata": {},
   "source": [
    "Look into an ensemble/aggregation model. "
   ]
  },
  {
   "cell_type": "markdown",
   "id": "571ec269-646a-49b6-a94a-508293e05a59",
   "metadata": {},
   "source": [
    "Can incorporate patient info into CNN as well, just need to pad the vector"
   ]
  },
  {
   "cell_type": "markdown",
   "id": "07d4ba38-bc99-41d2-8b90-5e4937238320",
   "metadata": {},
   "source": [
    "Look into training accelerometer data on LTSMs. "
   ]
  },
  {
   "cell_type": "markdown",
   "id": "9862d579-7513-41e4-abb9-94fc2c4048a5",
   "metadata": {},
   "source": [
    "Look into varying model hyperparameters based on frequency of the data."
   ]
  },
  {
   "cell_type": "markdown",
   "id": "c58bc140-3c6b-4531-a391-e01ecbe2eba9",
   "metadata": {},
   "source": [
    "Look into example architectures for CNN that are used on MFCCs"
   ]
  },
  {
   "cell_type": "markdown",
   "id": "85dc28a8-bba7-4301-b012-83f5b40b9d2a",
   "metadata": {},
   "source": [
    "make sure to train a dumb feed forward model"
   ]
  },
  {
   "cell_type": "markdown",
   "id": "6875a0b4-bd38-4ecc-af0f-f18ef89700ae",
   "metadata": {},
   "source": [
    "Try 1024 for an input layer. "
   ]
  },
  {
   "cell_type": "markdown",
   "id": "b1e9a1d0-4b1e-4053-b82c-ac256170e850",
   "metadata": {},
   "source": [
    "1. Train a simple feed forward on the padded and transformed data. \n",
    "- MFCC data with patient demo info into feed forward. \n",
    "2. RNN, with patient info\n",
    "- First train without, then train with. \n",
    "3. CNN on MFCCs with patient info. \n",
    "- First train out, then train with. "
   ]
  }
 ],
 "metadata": {
  "kernelspec": {
   "display_name": "capstone",
   "language": "python",
   "name": "capstone"
  },
  "language_info": {
   "codemirror_mode": {
    "name": "ipython",
    "version": 3
   },
   "file_extension": ".py",
   "mimetype": "text/x-python",
   "name": "python",
   "nbconvert_exporter": "python",
   "pygments_lexer": "ipython3",
   "version": "3.8.12"
  }
 },
 "nbformat": 4,
 "nbformat_minor": 5
}
