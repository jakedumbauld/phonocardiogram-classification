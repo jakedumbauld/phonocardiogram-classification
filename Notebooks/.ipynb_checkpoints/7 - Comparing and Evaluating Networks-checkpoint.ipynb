{
 "cells": [
  {
   "cell_type": "markdown",
   "id": "dd743c3a-b8bc-468f-8f78-4ab54e3d8fc6",
   "metadata": {
    "id": "dd743c3a-b8bc-468f-8f78-4ab54e3d8fc6"
   },
   "source": [
    "# Building Out Comparisons"
   ]
  },
  {
   "cell_type": "markdown",
   "id": "c7256b53-7263-4e5a-a336-d76a4e11eb39",
   "metadata": {
    "id": "c7256b53-7263-4e5a-a336-d76a4e11eb39"
   },
   "source": [
    "Author: Jake Dumbauld <br>\n",
    "Contact: jacobmilodumbauld@gmail.com<br>\n",
    "Date: 3.15.22"
   ]
  },
  {
   "cell_type": "code",
   "execution_count": 1,
   "id": "d7ea0fc5-2e66-449a-aaa3-4272ce8da2c4",
   "metadata": {
    "executionInfo": {
     "elapsed": 3725,
     "status": "ok",
     "timestamp": 1648936831127,
     "user": {
      "displayName": "Jake",
      "userId": "18385482828738288081"
     },
     "user_tz": 240
    },
    "id": "d7ea0fc5-2e66-449a-aaa3-4272ce8da2c4"
   },
   "outputs": [],
   "source": [
    "#imports\n",
    "\n",
    "import numpy as np\n",
    "import pandas as pd\n",
    "import matplotlib.pyplot as plt\n",
    "import seaborn as sns\n",
    "\n",
    "import time\n",
    "import re\n",
    "from IPython.display import clear_output\n",
    "import gc\n",
    "\n",
    "from sklearn.model_selection import train_test_split\n",
    "\n",
    "import tensorflow as tf\n",
    "from tensorflow import keras\n",
    "from tensorflow.keras import regularizers\n",
    "from tensorflow.keras.models import Sequential\n",
    "from tensorflow.keras.layers import Conv2D, MaxPooling2D, AveragePooling2D, Flatten, Dense, Dropout, BatchNormalization\n",
    "from tensorflow.keras import backend"
   ]
  },
  {
   "cell_type": "markdown",
   "id": "69c8546b-7f82-459c-af06-d5f2babf6370",
   "metadata": {
    "id": "69c8546b-7f82-459c-af06-d5f2babf6370"
   },
   "source": [
    "Defining a Helper Function to Plot Confusion Matrix"
   ]
  },
  {
   "cell_type": "code",
   "execution_count": 2,
   "id": "d4f9de6d-c204-42ad-a9b7-bfd3e2fe02d8",
   "metadata": {
    "executionInfo": {
     "elapsed": 12,
     "status": "ok",
     "timestamp": 1648936831128,
     "user": {
      "displayName": "Jake",
      "userId": "18385482828738288081"
     },
     "user_tz": 240
    },
    "id": "d4f9de6d-c204-42ad-a9b7-bfd3e2fe02d8"
   },
   "outputs": [],
   "source": [
    "def plot_CF(cf_matrix, title):\n",
    "    \"\"\"\n",
    "    Takes an input confusion matrix as an NP array and returns a seaborn heatmap plot with labels.\n",
    "\n",
    "    cf_matrix : confusion matrix as an np array\n",
    "    title: title of the file & image. str.\n",
    "    \"\"\"\n",
    "    group_names = ['True Neg','False Pos','False Neg','True Pos']\n",
    "\n",
    "    group_counts = [\"{0:0.0f}\".format(value) for value in\n",
    "                    cf_matrix.flatten()]\n",
    "\n",
    "    group_percentages = [\"{0:.2%}\".format(value) for value in\n",
    "                         cf_matrix.flatten()/np.sum(cf_matrix)]\n",
    "\n",
    "    labels = [f\"{v1}\\n{v2}\\n{v3}\" for v1, v2, v3 in\n",
    "              zip(group_names,group_counts,group_percentages)]\n",
    "\n",
    "    labels = np.asarray(labels).reshape(2,2)\n",
    "    \n",
    "    plt.figure(figsize=(6,6))\n",
    "    plt.title(title, size=14)\n",
    "    sns.heatmap(cf_matrix, annot=labels, fmt='', cmap='Blues')\n",
    "    plt.savefig(root_path+'/confusion_matrices/' + title)"
   ]
  },
  {
   "cell_type": "code",
   "execution_count": 3,
   "id": "hh5geGLdFRDE",
   "metadata": {
    "executionInfo": {
     "elapsed": 11,
     "status": "ok",
     "timestamp": 1648936831129,
     "user": {
      "displayName": "Jake",
      "userId": "18385482828738288081"
     },
     "user_tz": 240
    },
    "id": "hh5geGLdFRDE"
   },
   "outputs": [],
   "source": [
    "def record_accs(title, train_accs, val_accs, test_accs):\n",
    "  \"\"\"\n",
    "  Takes a title and 3 lists of accuracies to save a csv of the accs.\n",
    "  \"\"\"\n",
    "\n",
    "  df = pd.DataFrame(list(zip(train_accs, val_accs, test_accs)),\n",
    "                    columns =['train_accs', 'val_accs', 'test_accs'])\n",
    "\n",
    "  df.to_csv(((root_path + '/model_eval_csv/') + title) + '.csv', index=False)"
   ]
  },
  {
   "cell_type": "markdown",
   "id": "dcadcee6-443d-4253-9220-74236a1b0ee4",
   "metadata": {
    "id": "dcadcee6-443d-4253-9220-74236a1b0ee4"
   },
   "source": [
    "Defining Function to Train Models Iteratively"
   ]
  },
  {
   "cell_type": "code",
   "execution_count": 4,
   "id": "c9cf9bf8-6677-4493-a497-5f12010cf6f2",
   "metadata": {
    "executionInfo": {
     "elapsed": 208,
     "status": "ok",
     "timestamp": 1648936831326,
     "user": {
      "displayName": "Jake",
      "userId": "18385482828738288081"
     },
     "user_tz": 240
    },
    "id": "c9cf9bf8-6677-4493-a497-5f12010cf6f2",
    "scrolled": true
   },
   "outputs": [],
   "source": [
    "def model_n_trials(n, config_path, initial_learning_rate):\n",
    "    \"\"\"\n",
    "    Trains a keras model from a given architecture specified at the `config_path` n times. Tracks train_accs, val_accs, test_accs, and generates a running confusion matrix across all trials.\n",
    "    \n",
    "    n: number of times to train the model\n",
    "    config_path: filepath to a saved neural network\n",
    "    initial_learning_rate: initial learning rate for the model to be used in the lr_schedule.\n",
    "    \"\"\"\n",
    "    \n",
    "    #loading in optimal model configuration from my model search\n",
    "    best_config = keras.models.load_model(config_path).get_config()\n",
    "\n",
    "    #defining learning rate\n",
    "    lr_schedule = keras.optimizers.schedules.InverseTimeDecay(\n",
    "                  #initial learning rate copied from model search.\n",
    "                  initial_learning_rate=initial_learning_rate,\n",
    "                  decay_steps=1.0,\n",
    "                  decay_rate=0.1\n",
    "    )\n",
    "\n",
    "    #defining a blank confusion matrix to keep a running total\n",
    "    final_cf = np.zeros((2,2), np.int32)\n",
    "    #defining a lists for other metrics of interest\n",
    "    train_accs = []\n",
    "    val_accs = []\n",
    "    test_accs = []\n",
    "\n",
    "    for i in range(0,n):\n",
    "        print(\"Trial \" + str(i+1) + \"/30 Begin\")\n",
    "        model = keras.Sequential.from_config(best_config)\n",
    "\n",
    "        model.compile(\n",
    "            #Optimizer\n",
    "            optimizer = keras.optimizers.Adam(learning_rate=lr_schedule),\n",
    "            #Loss\n",
    "            loss=keras.losses.BinaryCrossentropy(),\n",
    "            #Metrics\n",
    "            metrics=[keras.metrics.BinaryAccuracy()]\n",
    "        )\n",
    "        #training model with an early stopping callback\n",
    "        es_callback = keras.callbacks.EarlyStopping(monitor='val_loss', patience=5)\n",
    "        history = model.fit(X_train, y_train, validation_data=(X_val, y_val), epochs=100, callbacks=(es_callback))\n",
    "\n",
    "        #appending training accuracy\n",
    "        train_accs.append(history.history[\"binary_accuracy\"][-1])\n",
    "        #appending validation accuracy\n",
    "        val_accs.append(history.history[\"val_binary_accuracy\"][-1])\n",
    "        \n",
    "        print(\"Evaluating Model \" + str(i+1))\n",
    "        \n",
    "        #appending test accuracy\n",
    "        test_accs.append(model.evaluate(X_test,y_test)[1])\n",
    "        #adding running totals to the overall confusion matrix\n",
    "        y_pred= (model.predict(X_test) > 0.5).astype(\"int32\")\n",
    "        cf_matrix = tf.math.confusion_matrix(labels=y_test, predictions=y_pred).numpy()\n",
    "        final_cf += cf_matrix\n",
    "\n",
    "        #necessary to avoid memory issues from iteratively training kears models that I read about online.\n",
    "        backend.clear_session()\n",
    "        gc.collect()\n",
    "        #clearing output text after each trial to avoid screen vomit\n",
    "        clear_output(wait=True)\n",
    "    \n",
    "    return final_cf, train_accs, val_accs, test_accs"
   ]
  },
  {
   "cell_type": "code",
   "execution_count": 5,
   "id": "rL_xt1WI-Diu",
   "metadata": {
    "colab": {
     "base_uri": "https://localhost:8080/"
    },
    "executionInfo": {
     "elapsed": 964,
     "status": "ok",
     "timestamp": 1648936832287,
     "user": {
      "displayName": "Jake",
      "userId": "18385482828738288081"
     },
     "user_tz": 240
    },
    "id": "rL_xt1WI-Diu",
    "outputId": "5e8c16cc-6516-4a7a-9f5f-1dfd64166337"
   },
   "outputs": [
    {
     "name": "stdout",
     "output_type": "stream",
     "text": [
      "Drive already mounted at /content/drive; to attempt to forcibly remount, call drive.mount(\"/content/drive\", force_remount=True).\n"
     ]
    }
   ],
   "source": [
    "from google.colab import drive\n",
    "drive.mount('/content/drive')"
   ]
  },
  {
   "cell_type": "code",
   "execution_count": 17,
   "id": "63d612be-bf59-4309-a4dd-e0799166e695",
   "metadata": {
    "executionInfo": {
     "elapsed": 7,
     "status": "ok",
     "timestamp": 1648936832289,
     "user": {
      "displayName": "Jake",
      "userId": "18385482828738288081"
     },
     "user_tz": 240
    },
    "id": "63d612be-bf59-4309-a4dd-e0799166e695"
   },
   "outputs": [],
   "source": [
    "root_path = '/Users/jmd/Documents/BOOTCAMP/Capstone'"
   ]
  },
  {
   "cell_type": "code",
   "execution_count": 7,
   "id": "Bj7unr2CJSKq",
   "metadata": {
    "executionInfo": {
     "elapsed": 6,
     "status": "ok",
     "timestamp": 1648936832289,
     "user": {
      "displayName": "Jake",
      "userId": "18385482828738288081"
     },
     "user_tz": 240
    },
    "id": "Bj7unr2CJSKq"
   },
   "outputs": [],
   "source": [
    "n_trials = 30"
   ]
  },
  {
   "cell_type": "markdown",
   "id": "a2f1cbc4-d705-4ece-b391-818e2ea28211",
   "metadata": {
    "id": "a2f1cbc4-d705-4ece-b391-818e2ea28211"
   },
   "source": [
    "Importantly - NOT setting random seed here. I want to ensure that there is some randomness in the training process to demonstrate the robustness of my output models."
   ]
  },
  {
   "cell_type": "markdown",
   "id": "9fe34c3f-b31d-40d5-840c-d639d89c4cfc",
   "metadata": {
    "id": "9fe34c3f-b31d-40d5-840c-d639d89c4cfc"
   },
   "source": [
    "Defining the Model From the Best HPs found in Model Search"
   ]
  },
  {
   "cell_type": "markdown",
   "id": "2da64d5c-ea4f-42b6-9341-f551770a1cc7",
   "metadata": {},
   "source": [
    "## Gathering Data"
   ]
  },
  {
   "cell_type": "markdown",
   "id": "92c9432a-a914-488d-a6c8-fe7a364b1e79",
   "metadata": {
    "id": "92c9432a-a914-488d-a6c8-fe7a364b1e79"
   },
   "source": [
    "### 0 - Sequential Basline 4K No Pt"
   ]
  },
  {
   "cell_type": "code",
   "execution_count": 8,
   "id": "b01b0545-a0aa-4d59-92a6-a96eda4e2cac",
   "metadata": {
    "colab": {
     "base_uri": "https://localhost:8080/"
    },
    "executionInfo": {
     "elapsed": 1151364,
     "status": "ok",
     "timestamp": 1648937983648,
     "user": {
      "displayName": "Jake",
      "userId": "18385482828738288081"
     },
     "user_tz": 240
    },
    "id": "b01b0545-a0aa-4d59-92a6-a96eda4e2cac",
    "outputId": "d9b1ca19-db89-453b-d3d5-522f3fd1ce78",
    "scrolled": true
   },
   "outputs": [
    {
     "name": "stdout",
     "output_type": "stream",
     "text": [
      "Trial 30/30 Begin\n",
      "Epoch 1/100\n",
      "46/46 [==============================] - 1s 14ms/step - loss: 0.7716 - binary_accuracy: 0.7249 - val_loss: 0.7565 - val_binary_accuracy: 0.7896\n",
      "Epoch 2/100\n",
      "46/46 [==============================] - 0s 9ms/step - loss: 0.6493 - binary_accuracy: 0.8682 - val_loss: 0.7385 - val_binary_accuracy: 0.7911\n",
      "Epoch 3/100\n",
      "46/46 [==============================] - 0s 8ms/step - loss: 0.5939 - binary_accuracy: 0.8879 - val_loss: 0.7275 - val_binary_accuracy: 0.7911\n",
      "Epoch 4/100\n",
      "46/46 [==============================] - 0s 8ms/step - loss: 0.5580 - binary_accuracy: 0.8988 - val_loss: 0.7206 - val_binary_accuracy: 0.7927\n",
      "Epoch 5/100\n",
      "46/46 [==============================] - 0s 8ms/step - loss: 0.5295 - binary_accuracy: 0.9076 - val_loss: 0.7150 - val_binary_accuracy: 0.7927\n",
      "Epoch 6/100\n",
      "46/46 [==============================] - 0s 9ms/step - loss: 0.5115 - binary_accuracy: 0.9090 - val_loss: 0.7108 - val_binary_accuracy: 0.7911\n",
      "Epoch 7/100\n",
      "46/46 [==============================] - 0s 9ms/step - loss: 0.4909 - binary_accuracy: 0.9219 - val_loss: 0.7075 - val_binary_accuracy: 0.7911\n",
      "Epoch 8/100\n",
      "46/46 [==============================] - 0s 9ms/step - loss: 0.4792 - binary_accuracy: 0.9171 - val_loss: 0.7049 - val_binary_accuracy: 0.7911\n",
      "Epoch 9/100\n",
      "46/46 [==============================] - 0s 9ms/step - loss: 0.4650 - binary_accuracy: 0.9232 - val_loss: 0.7025 - val_binary_accuracy: 0.7896\n",
      "Epoch 10/100\n",
      "46/46 [==============================] - 0s 9ms/step - loss: 0.4525 - binary_accuracy: 0.9321 - val_loss: 0.7005 - val_binary_accuracy: 0.7896\n",
      "Epoch 11/100\n",
      "46/46 [==============================] - 0s 8ms/step - loss: 0.4467 - binary_accuracy: 0.9334 - val_loss: 0.6989 - val_binary_accuracy: 0.7880\n",
      "Epoch 12/100\n",
      "46/46 [==============================] - 0s 9ms/step - loss: 0.4361 - binary_accuracy: 0.9334 - val_loss: 0.6973 - val_binary_accuracy: 0.7880\n",
      "Epoch 13/100\n",
      "46/46 [==============================] - 0s 8ms/step - loss: 0.4265 - binary_accuracy: 0.9348 - val_loss: 0.6960 - val_binary_accuracy: 0.7864\n",
      "Epoch 14/100\n",
      "46/46 [==============================] - 0s 8ms/step - loss: 0.4200 - binary_accuracy: 0.9382 - val_loss: 0.6947 - val_binary_accuracy: 0.7848\n",
      "Epoch 15/100\n",
      "46/46 [==============================] - 0s 8ms/step - loss: 0.4150 - binary_accuracy: 0.9355 - val_loss: 0.6937 - val_binary_accuracy: 0.7848\n",
      "Epoch 16/100\n",
      "46/46 [==============================] - 0s 8ms/step - loss: 0.4056 - binary_accuracy: 0.9348 - val_loss: 0.6927 - val_binary_accuracy: 0.7848\n",
      "Epoch 17/100\n",
      "46/46 [==============================] - 0s 8ms/step - loss: 0.4030 - binary_accuracy: 0.9409 - val_loss: 0.6919 - val_binary_accuracy: 0.7848\n",
      "Epoch 18/100\n",
      "46/46 [==============================] - 0s 9ms/step - loss: 0.3954 - binary_accuracy: 0.9463 - val_loss: 0.6912 - val_binary_accuracy: 0.7848\n",
      "Epoch 19/100\n",
      "46/46 [==============================] - 0s 8ms/step - loss: 0.3932 - binary_accuracy: 0.9409 - val_loss: 0.6906 - val_binary_accuracy: 0.7848\n",
      "Epoch 20/100\n",
      "46/46 [==============================] - 0s 9ms/step - loss: 0.3892 - binary_accuracy: 0.9402 - val_loss: 0.6898 - val_binary_accuracy: 0.7864\n",
      "Epoch 21/100\n",
      "46/46 [==============================] - 0s 8ms/step - loss: 0.3856 - binary_accuracy: 0.9395 - val_loss: 0.6894 - val_binary_accuracy: 0.7864\n",
      "Epoch 22/100\n",
      "46/46 [==============================] - 0s 8ms/step - loss: 0.3768 - binary_accuracy: 0.9457 - val_loss: 0.6888 - val_binary_accuracy: 0.7848\n",
      "Epoch 23/100\n",
      "46/46 [==============================] - 0s 9ms/step - loss: 0.3735 - binary_accuracy: 0.9477 - val_loss: 0.6884 - val_binary_accuracy: 0.7848\n",
      "Epoch 24/100\n",
      "46/46 [==============================] - 0s 8ms/step - loss: 0.3692 - binary_accuracy: 0.9504 - val_loss: 0.6879 - val_binary_accuracy: 0.7848\n",
      "Epoch 25/100\n",
      "46/46 [==============================] - 0s 8ms/step - loss: 0.3661 - binary_accuracy: 0.9504 - val_loss: 0.6876 - val_binary_accuracy: 0.7848\n",
      "Epoch 26/100\n",
      "46/46 [==============================] - 0s 9ms/step - loss: 0.3667 - binary_accuracy: 0.9484 - val_loss: 0.6873 - val_binary_accuracy: 0.7832\n",
      "Epoch 27/100\n",
      "46/46 [==============================] - 0s 10ms/step - loss: 0.3586 - binary_accuracy: 0.9524 - val_loss: 0.6869 - val_binary_accuracy: 0.7832\n",
      "Epoch 28/100\n",
      "46/46 [==============================] - 0s 10ms/step - loss: 0.3598 - binary_accuracy: 0.9497 - val_loss: 0.6866 - val_binary_accuracy: 0.7816\n",
      "Epoch 29/100\n",
      "46/46 [==============================] - 0s 9ms/step - loss: 0.3579 - binary_accuracy: 0.9490 - val_loss: 0.6864 - val_binary_accuracy: 0.7816\n",
      "Epoch 30/100\n",
      "46/46 [==============================] - 0s 8ms/step - loss: 0.3526 - binary_accuracy: 0.9518 - val_loss: 0.6861 - val_binary_accuracy: 0.7816\n",
      "Epoch 31/100\n",
      "46/46 [==============================] - 0s 8ms/step - loss: 0.3489 - binary_accuracy: 0.9524 - val_loss: 0.6858 - val_binary_accuracy: 0.7816\n",
      "Epoch 32/100\n",
      "46/46 [==============================] - 0s 9ms/step - loss: 0.3460 - binary_accuracy: 0.9552 - val_loss: 0.6856 - val_binary_accuracy: 0.7816\n",
      "Epoch 33/100\n",
      "46/46 [==============================] - 0s 9ms/step - loss: 0.3444 - binary_accuracy: 0.9538 - val_loss: 0.6854 - val_binary_accuracy: 0.7801\n",
      "Epoch 34/100\n",
      "46/46 [==============================] - 0s 9ms/step - loss: 0.3404 - binary_accuracy: 0.9558 - val_loss: 0.6852 - val_binary_accuracy: 0.7801\n",
      "Epoch 35/100\n",
      "46/46 [==============================] - 0s 8ms/step - loss: 0.3428 - binary_accuracy: 0.9518 - val_loss: 0.6850 - val_binary_accuracy: 0.7801\n",
      "Epoch 36/100\n",
      "46/46 [==============================] - 0s 9ms/step - loss: 0.3369 - binary_accuracy: 0.9558 - val_loss: 0.6848 - val_binary_accuracy: 0.7801\n",
      "Epoch 37/100\n",
      "46/46 [==============================] - 0s 8ms/step - loss: 0.3351 - binary_accuracy: 0.9552 - val_loss: 0.6846 - val_binary_accuracy: 0.7801\n",
      "Epoch 38/100\n",
      "46/46 [==============================] - 0s 8ms/step - loss: 0.3313 - binary_accuracy: 0.9531 - val_loss: 0.6845 - val_binary_accuracy: 0.7801\n",
      "Epoch 39/100\n",
      "46/46 [==============================] - 0s 8ms/step - loss: 0.3310 - binary_accuracy: 0.9565 - val_loss: 0.6844 - val_binary_accuracy: 0.7801\n",
      "Epoch 40/100\n",
      "46/46 [==============================] - 0s 9ms/step - loss: 0.3298 - binary_accuracy: 0.9565 - val_loss: 0.6843 - val_binary_accuracy: 0.7801\n",
      "Epoch 41/100\n",
      "46/46 [==============================] - 0s 8ms/step - loss: 0.3286 - binary_accuracy: 0.9579 - val_loss: 0.6841 - val_binary_accuracy: 0.7801\n",
      "Epoch 42/100\n",
      "46/46 [==============================] - 0s 8ms/step - loss: 0.3236 - binary_accuracy: 0.9572 - val_loss: 0.6840 - val_binary_accuracy: 0.7801\n",
      "Epoch 43/100\n",
      "46/46 [==============================] - 0s 9ms/step - loss: 0.3259 - binary_accuracy: 0.9592 - val_loss: 0.6839 - val_binary_accuracy: 0.7801\n",
      "Epoch 44/100\n",
      "46/46 [==============================] - 0s 8ms/step - loss: 0.3196 - binary_accuracy: 0.9620 - val_loss: 0.6838 - val_binary_accuracy: 0.7801\n",
      "Epoch 45/100\n",
      "46/46 [==============================] - 0s 8ms/step - loss: 0.3192 - binary_accuracy: 0.9592 - val_loss: 0.6837 - val_binary_accuracy: 0.7801\n",
      "Epoch 46/100\n",
      "46/46 [==============================] - 0s 9ms/step - loss: 0.3171 - binary_accuracy: 0.9633 - val_loss: 0.6836 - val_binary_accuracy: 0.7801\n",
      "Epoch 47/100\n",
      "46/46 [==============================] - 0s 9ms/step - loss: 0.3203 - binary_accuracy: 0.9579 - val_loss: 0.6836 - val_binary_accuracy: 0.7801\n",
      "Epoch 48/100\n",
      "46/46 [==============================] - 0s 9ms/step - loss: 0.3157 - binary_accuracy: 0.9626 - val_loss: 0.6835 - val_binary_accuracy: 0.7801\n",
      "Epoch 49/100\n",
      "46/46 [==============================] - 0s 8ms/step - loss: 0.3147 - binary_accuracy: 0.9620 - val_loss: 0.6834 - val_binary_accuracy: 0.7785\n",
      "Epoch 50/100\n",
      "46/46 [==============================] - 0s 9ms/step - loss: 0.3099 - binary_accuracy: 0.9660 - val_loss: 0.6834 - val_binary_accuracy: 0.7769\n",
      "Epoch 51/100\n",
      "46/46 [==============================] - 0s 9ms/step - loss: 0.3113 - binary_accuracy: 0.9613 - val_loss: 0.6833 - val_binary_accuracy: 0.7769\n",
      "Epoch 52/100\n",
      "46/46 [==============================] - 0s 8ms/step - loss: 0.3080 - binary_accuracy: 0.9599 - val_loss: 0.6833 - val_binary_accuracy: 0.7769\n",
      "Epoch 53/100\n",
      "46/46 [==============================] - 0s 9ms/step - loss: 0.3070 - binary_accuracy: 0.9626 - val_loss: 0.6832 - val_binary_accuracy: 0.7769\n",
      "Epoch 54/100\n",
      "46/46 [==============================] - 0s 9ms/step - loss: 0.3062 - binary_accuracy: 0.9592 - val_loss: 0.6832 - val_binary_accuracy: 0.7769\n",
      "Epoch 55/100\n",
      "46/46 [==============================] - 0s 9ms/step - loss: 0.3069 - binary_accuracy: 0.9606 - val_loss: 0.6832 - val_binary_accuracy: 0.7769\n",
      "Epoch 56/100\n",
      "46/46 [==============================] - 0s 9ms/step - loss: 0.3036 - binary_accuracy: 0.9654 - val_loss: 0.6832 - val_binary_accuracy: 0.7769\n",
      "Epoch 57/100\n",
      "46/46 [==============================] - 0s 9ms/step - loss: 0.3002 - binary_accuracy: 0.9660 - val_loss: 0.6832 - val_binary_accuracy: 0.7769\n",
      "Epoch 58/100\n",
      "46/46 [==============================] - 0s 8ms/step - loss: 0.3028 - binary_accuracy: 0.9626 - val_loss: 0.6832 - val_binary_accuracy: 0.7769\n",
      "Epoch 59/100\n",
      "46/46 [==============================] - 0s 8ms/step - loss: 0.3028 - binary_accuracy: 0.9606 - val_loss: 0.6832 - val_binary_accuracy: 0.7769\n",
      "Epoch 60/100\n",
      "46/46 [==============================] - 0s 9ms/step - loss: 0.2981 - binary_accuracy: 0.9633 - val_loss: 0.6832 - val_binary_accuracy: 0.7769\n",
      "Epoch 61/100\n",
      "46/46 [==============================] - 0s 9ms/step - loss: 0.2983 - binary_accuracy: 0.9640 - val_loss: 0.6832 - val_binary_accuracy: 0.7785\n",
      "Epoch 62/100\n",
      "46/46 [==============================] - 0s 8ms/step - loss: 0.3002 - binary_accuracy: 0.9640 - val_loss: 0.6832 - val_binary_accuracy: 0.7769\n",
      "Epoch 63/100\n",
      "46/46 [==============================] - 0s 8ms/step - loss: 0.2958 - binary_accuracy: 0.9667 - val_loss: 0.6832 - val_binary_accuracy: 0.7769\n",
      "Epoch 64/100\n",
      "46/46 [==============================] - 0s 9ms/step - loss: 0.2908 - binary_accuracy: 0.9681 - val_loss: 0.6832 - val_binary_accuracy: 0.7769\n",
      "Epoch 65/100\n",
      "46/46 [==============================] - 0s 8ms/step - loss: 0.2959 - binary_accuracy: 0.9633 - val_loss: 0.6832 - val_binary_accuracy: 0.7785\n",
      "Epoch 66/100\n",
      "46/46 [==============================] - 0s 8ms/step - loss: 0.2906 - binary_accuracy: 0.9688 - val_loss: 0.6832 - val_binary_accuracy: 0.7785\n",
      "Evaluating Model 30\n",
      "29/29 [==============================] - 0s 6ms/step - loss: 0.6457 - binary_accuracy: 0.7863\n"
     ]
    }
   ],
   "source": [
    "#loading in training data\n",
    "raw = np.load(root_path + '/arrays/signal_murmur_presimple_4k.npy')\n",
    "\n",
    "y = raw[:,0] #murmurs are just the first column\n",
    "X = raw[:,1:]\n",
    "\n",
    "#train test val split\n",
    "X_train, X_test, y_train, y_test = train_test_split(X, y, stratify=y, test_size = 0.3)\n",
    "X_train, X_val, y_train, y_val = train_test_split(X_train, y_train, stratify=y_train, test_size=0.3)\n",
    "\n",
    "#training model 30 times, randomly initializing each time. \n",
    "sequential_signal_4k_no_cf, sequential_signal_4k_no_train_accs, sequential_signal_4k_no_val_accs, sequential_signal_4k_no_test_accs = model_n_trials(n_trials, \n",
    "                                                                                                                                                     root_path + '/neural_nets/sequential_4k_signal_no_patient',\n",
    "                                                                                                                                                     0.0011433841321939594)"
   ]
  },
  {
   "cell_type": "code",
   "execution_count": null,
   "id": "4b7ede1d-470d-4c5f-8dba-89959a97431f",
   "metadata": {
    "colab": {
     "base_uri": "https://localhost:8080/",
     "height": 391
    },
    "executionInfo": {
     "elapsed": 522,
     "status": "ok",
     "timestamp": 1648937984163,
     "user": {
      "displayName": "Jake",
      "userId": "18385482828738288081"
     },
     "user_tz": 240
    },
    "id": "4b7ede1d-470d-4c5f-8dba-89959a97431f",
    "outputId": "f5b160e8-6052-4bad-be8a-d2f322035f14"
   },
   "outputs": [],
   "source": [
    "plot_CF(sequential_signal_4k_no_cf, 'Sequential Model, 4k Signal, No Patient')\n",
    "record_accs('Sequential Model, 4k Signal, No Patient', sequential_signal_4k_no_train_accs, sequential_signal_4k_no_val_accs, sequential_signal_4k_no_test_accs)"
   ]
  },
  {
   "cell_type": "markdown",
   "id": "15ee9514-7faa-4232-9aac-26e306ccd1ca",
   "metadata": {
    "id": "15ee9514-7faa-4232-9aac-26e306ccd1ca"
   },
   "source": [
    "### 1 - Sequential Baseline 1K No Pt"
   ]
  },
  {
   "cell_type": "code",
   "execution_count": 10,
   "id": "8bfbc7b7-83a3-4510-bc40-73202f7c9e7e",
   "metadata": {
    "colab": {
     "base_uri": "https://localhost:8080/"
    },
    "executionInfo": {
     "elapsed": 197882,
     "status": "ok",
     "timestamp": 1648938182038,
     "user": {
      "displayName": "Jake",
      "userId": "18385482828738288081"
     },
     "user_tz": 240
    },
    "id": "8bfbc7b7-83a3-4510-bc40-73202f7c9e7e",
    "outputId": "d86a9081-0762-484a-c27f-ce7d4de4753f",
    "scrolled": true
   },
   "outputs": [
    {
     "name": "stdout",
     "output_type": "stream",
     "text": [
      "Trial 30/30 Begin\n",
      "Epoch 1/100\n",
      "46/46 [==============================] - 1s 9ms/step - loss: 0.6068 - binary_accuracy: 0.7826 - val_loss: 0.5660 - val_binary_accuracy: 0.7959\n",
      "Epoch 2/100\n",
      "46/46 [==============================] - 0s 5ms/step - loss: 0.5392 - binary_accuracy: 0.7948 - val_loss: 0.5508 - val_binary_accuracy: 0.7959\n",
      "Epoch 3/100\n",
      "46/46 [==============================] - 0s 5ms/step - loss: 0.4662 - binary_accuracy: 0.7948 - val_loss: 0.6714 - val_binary_accuracy: 0.7959\n",
      "Epoch 4/100\n",
      "46/46 [==============================] - 0s 5ms/step - loss: 0.3247 - binary_accuracy: 0.8594 - val_loss: 0.9127 - val_binary_accuracy: 0.7073\n",
      "Epoch 5/100\n",
      "46/46 [==============================] - 0s 6ms/step - loss: 0.2534 - binary_accuracy: 0.9558 - val_loss: 1.0982 - val_binary_accuracy: 0.6930\n",
      "Epoch 6/100\n",
      "46/46 [==============================] - 0s 5ms/step - loss: 0.2120 - binary_accuracy: 0.9728 - val_loss: 1.2018 - val_binary_accuracy: 0.6835\n",
      "Epoch 7/100\n",
      "46/46 [==============================] - 0s 6ms/step - loss: 0.1668 - binary_accuracy: 0.9844 - val_loss: 1.3116 - val_binary_accuracy: 0.6345\n",
      "Evaluating Model 30\n",
      "29/29 [==============================] - 0s 3ms/step - loss: 1.3183 - binary_accuracy: 0.6489\n"
     ]
    }
   ],
   "source": [
    "X = np.load(root_path + '/arrays/signal_noPatient.npy', allow_pickle=True)\n",
    "y = np.load(root_path + '/arrays/target_array.npy', allow_pickle=True)\n",
    "\n",
    "#train test val split\n",
    "X_train, X_test, y_train, y_test = train_test_split(X, y, stratify=y, test_size = 0.3)\n",
    "X_train, X_val, y_train, y_val = train_test_split(X_train, y_train, stratify=y_train, test_size=0.3)\n",
    "\n",
    "#training model 30 times, randomly initializing each time. \n",
    "sequential_signal_1k_no_cf, sequential_signal_1k_no_train_accs, sequential_signal_1k_no_val_accs, sequential_signal_1k_no_test_accs = model_n_trials(n_trials, \n",
    "                                                                                                                                                     root_path + '/neural_nets/sequential_signal_no_patient',\n",
    "                                                                                                                                                     0.01)"
   ]
  },
  {
   "cell_type": "code",
   "execution_count": null,
   "id": "bf9b5782-a0cf-4b20-baa0-fd158ce72d13",
   "metadata": {
    "colab": {
     "base_uri": "https://localhost:8080/",
     "height": 391
    },
    "executionInfo": {
     "elapsed": 330,
     "status": "ok",
     "timestamp": 1648938182351,
     "user": {
      "displayName": "Jake",
      "userId": "18385482828738288081"
     },
     "user_tz": 240
    },
    "id": "bf9b5782-a0cf-4b20-baa0-fd158ce72d13",
    "outputId": "013aefa3-3236-4d46-c979-fe5e79aae467"
   },
   "outputs": [],
   "source": [
    "plot_CF(sequential_signal_1k_no_cf, 'Sequential Model, 1k Signal, No Patient')\n",
    "record_accs('Sequential Model, 1k Signal, No Patient', sequential_signal_1k_no_train_accs, sequential_signal_1k_no_val_accs, sequential_signal_1k_no_test_accs)"
   ]
  },
  {
   "cell_type": "markdown",
   "id": "53c4b920-6f10-4a4b-8a01-65054fe1108c",
   "metadata": {
    "id": "53c4b920-6f10-4a4b-8a01-65054fe1108c"
   },
   "source": [
    "### 2- Sequential Baseline 1K with Pt"
   ]
  },
  {
   "cell_type": "code",
   "execution_count": 12,
   "id": "d94f0a71-d197-4e6f-b9ee-1a0564837981",
   "metadata": {
    "colab": {
     "base_uri": "https://localhost:8080/"
    },
    "executionInfo": {
     "elapsed": 552038,
     "status": "ok",
     "timestamp": 1648938734383,
     "user": {
      "displayName": "Jake",
      "userId": "18385482828738288081"
     },
     "user_tz": 240
    },
    "id": "d94f0a71-d197-4e6f-b9ee-1a0564837981",
    "outputId": "d916ae7b-18d4-42c1-b2fb-e2bc9501ce14",
    "scrolled": true
   },
   "outputs": [
    {
     "name": "stdout",
     "output_type": "stream",
     "text": [
      "Trial 30/30 Begin\n",
      "Epoch 1/100\n",
      "46/46 [==============================] - 1s 17ms/step - loss: 18.1248 - binary_accuracy: 0.6787 - val_loss: 1.4557 - val_binary_accuracy: 0.7959\n",
      "Epoch 2/100\n",
      "46/46 [==============================] - 0s 10ms/step - loss: 1.2634 - binary_accuracy: 0.6984 - val_loss: 0.6726 - val_binary_accuracy: 0.7959\n",
      "Epoch 3/100\n",
      "46/46 [==============================] - 0s 10ms/step - loss: 0.8735 - binary_accuracy: 0.6692 - val_loss: 0.6072 - val_binary_accuracy: 0.7959\n",
      "Epoch 4/100\n",
      "46/46 [==============================] - 0s 10ms/step - loss: 0.8159 - binary_accuracy: 0.7004 - val_loss: 0.6489 - val_binary_accuracy: 0.7864\n",
      "Epoch 5/100\n",
      "46/46 [==============================] - 0s 10ms/step - loss: 0.6351 - binary_accuracy: 0.7683 - val_loss: 0.5986 - val_binary_accuracy: 0.7959\n",
      "Epoch 6/100\n",
      "46/46 [==============================] - 0s 10ms/step - loss: 0.6597 - binary_accuracy: 0.7643 - val_loss: 0.5797 - val_binary_accuracy: 0.7959\n",
      "Epoch 7/100\n",
      "46/46 [==============================] - 0s 10ms/step - loss: 0.5806 - binary_accuracy: 0.7942 - val_loss: 0.5782 - val_binary_accuracy: 0.7959\n",
      "Epoch 8/100\n",
      "46/46 [==============================] - 0s 10ms/step - loss: 0.5818 - binary_accuracy: 0.7969 - val_loss: 0.5789 - val_binary_accuracy: 0.7959\n",
      "Epoch 9/100\n",
      "46/46 [==============================] - 0s 11ms/step - loss: 0.5817 - binary_accuracy: 0.7948 - val_loss: 0.5949 - val_binary_accuracy: 0.7911\n",
      "Epoch 10/100\n",
      "46/46 [==============================] - 0s 10ms/step - loss: 0.5714 - binary_accuracy: 0.7948 - val_loss: 0.5815 - val_binary_accuracy: 0.7959\n",
      "Epoch 11/100\n",
      "46/46 [==============================] - 0s 10ms/step - loss: 0.6049 - binary_accuracy: 0.7908 - val_loss: 0.5753 - val_binary_accuracy: 0.7959\n",
      "Epoch 12/100\n",
      "46/46 [==============================] - 1s 11ms/step - loss: 0.5691 - binary_accuracy: 0.7948 - val_loss: 0.5827 - val_binary_accuracy: 0.7959\n",
      "Epoch 13/100\n",
      "46/46 [==============================] - 0s 10ms/step - loss: 0.5827 - binary_accuracy: 0.7955 - val_loss: 0.6499 - val_binary_accuracy: 0.7816\n",
      "Epoch 14/100\n",
      "46/46 [==============================] - 0s 10ms/step - loss: 0.5739 - binary_accuracy: 0.7928 - val_loss: 0.5839 - val_binary_accuracy: 0.7959\n",
      "Epoch 15/100\n",
      "46/46 [==============================] - 0s 10ms/step - loss: 0.5842 - binary_accuracy: 0.7942 - val_loss: 0.5725 - val_binary_accuracy: 0.7959\n",
      "Epoch 16/100\n",
      "46/46 [==============================] - 0s 10ms/step - loss: 0.5932 - binary_accuracy: 0.7867 - val_loss: 0.6623 - val_binary_accuracy: 0.7595\n",
      "Epoch 17/100\n",
      "46/46 [==============================] - 0s 10ms/step - loss: 0.5918 - binary_accuracy: 0.7962 - val_loss: 0.5712 - val_binary_accuracy: 0.7959\n",
      "Epoch 18/100\n",
      "46/46 [==============================] - 0s 10ms/step - loss: 0.5755 - binary_accuracy: 0.7914 - val_loss: 0.5783 - val_binary_accuracy: 0.7959\n",
      "Epoch 19/100\n",
      "46/46 [==============================] - 0s 10ms/step - loss: 0.5848 - binary_accuracy: 0.7955 - val_loss: 0.5883 - val_binary_accuracy: 0.7927\n",
      "Epoch 20/100\n",
      "46/46 [==============================] - 0s 10ms/step - loss: 0.5661 - binary_accuracy: 0.7962 - val_loss: 0.5874 - val_binary_accuracy: 0.7959\n",
      "Epoch 21/100\n",
      "46/46 [==============================] - 1s 11ms/step - loss: 0.5665 - binary_accuracy: 0.7962 - val_loss: 0.5707 - val_binary_accuracy: 0.7959\n",
      "Epoch 22/100\n",
      "46/46 [==============================] - 0s 10ms/step - loss: 0.5643 - binary_accuracy: 0.7935 - val_loss: 0.5790 - val_binary_accuracy: 0.7959\n",
      "Epoch 23/100\n",
      "46/46 [==============================] - 0s 10ms/step - loss: 0.5665 - binary_accuracy: 0.7928 - val_loss: 0.5731 - val_binary_accuracy: 0.7959\n",
      "Epoch 24/100\n",
      "46/46 [==============================] - 0s 10ms/step - loss: 0.5684 - binary_accuracy: 0.7969 - val_loss: 0.5730 - val_binary_accuracy: 0.7959\n",
      "Epoch 25/100\n",
      "46/46 [==============================] - 1s 11ms/step - loss: 0.5661 - binary_accuracy: 0.7976 - val_loss: 0.6414 - val_binary_accuracy: 0.7959\n",
      "Epoch 26/100\n",
      "46/46 [==============================] - 0s 10ms/step - loss: 0.5726 - binary_accuracy: 0.7935 - val_loss: 0.5751 - val_binary_accuracy: 0.7959\n",
      "Evaluating Model 30\n",
      "29/29 [==============================] - 0s 7ms/step - loss: 0.5780 - binary_accuracy: 0.7951\n"
     ]
    }
   ],
   "source": [
    "X = np.load(root_path + '/arrays/signal_withPatient.npy', allow_pickle=True)\n",
    "y = np.load(root_path + '/arrays/target_array.npy', allow_pickle=True)\n",
    "\n",
    "#train test split\n",
    "X_train, X_test, y_train, y_test = train_test_split(X, y, stratify=y, test_size = 0.3)\n",
    "X_train, X_val, y_train, y_val = train_test_split(X_train, y_train, stratify=y_train, test_size=0.3)\n",
    "\n",
    "#training model 30 times, randomly initializing each time. \n",
    "sequential_signal_1k_w_cf, sequential_signal_1k_w_train_accs, sequential_signal_1k_w_val_accs, sequential_signal_1k_w_test_accs = model_n_trials(n_trials, \n",
    "                                                                                                                                                 root_path + '/neural_nets/sequential_signal_with_patient',\n",
    "                                                                                                                                                 0.001230336587363103)"
   ]
  },
  {
   "cell_type": "code",
   "execution_count": null,
   "id": "4febf37f-818f-4aba-b582-57804f546a83",
   "metadata": {
    "colab": {
     "base_uri": "https://localhost:8080/",
     "height": 391
    },
    "executionInfo": {
     "elapsed": 990,
     "status": "ok",
     "timestamp": 1648938735364,
     "user": {
      "displayName": "Jake",
      "userId": "18385482828738288081"
     },
     "user_tz": 240
    },
    "id": "4febf37f-818f-4aba-b582-57804f546a83",
    "outputId": "f19099e9-4dfe-497b-9835-aa0a588db201"
   },
   "outputs": [],
   "source": [
    "plot_CF(sequential_signal_1k_w_cf, 'Sequential Model, 1k Signal, With Patient')\n",
    "record_accs('Sequential Model, 1k Signal, With Patient', sequential_signal_1k_w_train_accs, sequential_signal_1k_w_val_accs, sequential_signal_1k_w_test_accs)"
   ]
  },
  {
   "cell_type": "markdown",
   "id": "21521fc4-b797-42c1-8fd6-39bfe018ae22",
   "metadata": {
    "id": "21521fc4-b797-42c1-8fd6-39bfe018ae22"
   },
   "source": [
    "### 3 - Sequential MFCC no Pt"
   ]
  },
  {
   "cell_type": "code",
   "execution_count": 14,
   "id": "a006c24b-39ca-4e27-b293-d275ae5b5de5",
   "metadata": {
    "colab": {
     "base_uri": "https://localhost:8080/"
    },
    "executionInfo": {
     "elapsed": 239944,
     "status": "ok",
     "timestamp": 1648938975293,
     "user": {
      "displayName": "Jake",
      "userId": "18385482828738288081"
     },
     "user_tz": 240
    },
    "id": "a006c24b-39ca-4e27-b293-d275ae5b5de5",
    "outputId": "428718e7-cd7e-4195-c9c9-f30d87812001",
    "scrolled": true
   },
   "outputs": [
    {
     "name": "stdout",
     "output_type": "stream",
     "text": [
      "Trial 30/30 Begin\n",
      "Epoch 1/100\n",
      "46/46 [==============================] - 1s 8ms/step - loss: 0.6772 - binary_accuracy: 0.6997 - val_loss: 0.5967 - val_binary_accuracy: 0.7959\n",
      "Epoch 2/100\n",
      "46/46 [==============================] - 0s 5ms/step - loss: 0.5567 - binary_accuracy: 0.7894 - val_loss: 0.5444 - val_binary_accuracy: 0.7959\n",
      "Epoch 3/100\n",
      "46/46 [==============================] - 0s 5ms/step - loss: 0.5412 - binary_accuracy: 0.7908 - val_loss: 0.5360 - val_binary_accuracy: 0.7959\n",
      "Epoch 4/100\n",
      "46/46 [==============================] - 0s 6ms/step - loss: 0.5335 - binary_accuracy: 0.7894 - val_loss: 0.5459 - val_binary_accuracy: 0.7959\n",
      "Epoch 5/100\n",
      "46/46 [==============================] - 0s 6ms/step - loss: 0.5232 - binary_accuracy: 0.7948 - val_loss: 0.5271 - val_binary_accuracy: 0.7959\n",
      "Epoch 6/100\n",
      "46/46 [==============================] - 0s 5ms/step - loss: 0.5172 - binary_accuracy: 0.7935 - val_loss: 0.5508 - val_binary_accuracy: 0.7991\n",
      "Epoch 7/100\n",
      "46/46 [==============================] - 0s 5ms/step - loss: 0.5127 - binary_accuracy: 0.7969 - val_loss: 0.5334 - val_binary_accuracy: 0.7991\n",
      "Epoch 8/100\n",
      "46/46 [==============================] - 0s 4ms/step - loss: 0.5091 - binary_accuracy: 0.7989 - val_loss: 0.5547 - val_binary_accuracy: 0.8006\n",
      "Epoch 9/100\n",
      "46/46 [==============================] - 0s 5ms/step - loss: 0.5068 - binary_accuracy: 0.8003 - val_loss: 0.5564 - val_binary_accuracy: 0.8085\n",
      "Epoch 10/100\n",
      "46/46 [==============================] - 0s 6ms/step - loss: 0.5016 - binary_accuracy: 0.7935 - val_loss: 0.5965 - val_binary_accuracy: 0.8117\n",
      "Evaluating Model 30\n",
      "29/29 [==============================] - 0s 3ms/step - loss: 0.5872 - binary_accuracy: 0.7951\n"
     ]
    }
   ],
   "source": [
    "X = np.load(root_path + '/arrays/MFCCs_noPatient.npy', allow_pickle=True)\n",
    "y = np.load(root_path + '/arrays/target_array.npy', allow_pickle=True)\n",
    "\n",
    "#train test split\n",
    "X_train, X_test, y_train, y_test = train_test_split(X, y, stratify=y, test_size = 0.3)\n",
    "X_train, X_val, y_train, y_val = train_test_split(X_train, y_train, stratify=y_train, test_size=0.3)\n",
    "\n",
    "#training model 30 times, randomly initializing each time. \n",
    "sequential_MFCC_no_cf, sequential_MFCC_no_train_accs, sequential_MFCC_no_val_accs, sequential_MFCC_no_test_accs = model_n_trials(n_trials, \n",
    "                                                                                                                                 root_path + '/neural_nets/sequential_MFCCs_no_patient',\n",
    "                                                                                                                                 0.01)"
   ]
  },
  {
   "cell_type": "code",
   "execution_count": null,
   "id": "343bec02-e9e5-4d1e-8a32-dc40698e702e",
   "metadata": {
    "colab": {
     "base_uri": "https://localhost:8080/",
     "height": 391
    },
    "executionInfo": {
     "elapsed": 852,
     "status": "ok",
     "timestamp": 1648938976140,
     "user": {
      "displayName": "Jake",
      "userId": "18385482828738288081"
     },
     "user_tz": 240
    },
    "id": "343bec02-e9e5-4d1e-8a32-dc40698e702e",
    "outputId": "15016978-1017-4e58-81e9-11bd5ba7894b"
   },
   "outputs": [],
   "source": [
    "plot_CF(sequential_MFCC_no_cf, 'Sequential Model, MFCCs, No Patient')\n",
    "record_accs('Sequential Model, MFCCs, No Patient', sequential_MFCC_no_train_accs, sequential_MFCC_no_val_accs, sequential_MFCC_no_test_accs)"
   ]
  },
  {
   "cell_type": "markdown",
   "id": "34f8b052-a180-49cf-8002-3dbc9f687675",
   "metadata": {
    "id": "34f8b052-a180-49cf-8002-3dbc9f687675"
   },
   "source": [
    "### 4 - Sequential MFCC with Pt"
   ]
  },
  {
   "cell_type": "code",
   "execution_count": 16,
   "id": "f4a216ac-c33a-4cc3-8f00-f18f439aa3e9",
   "metadata": {
    "colab": {
     "base_uri": "https://localhost:8080/"
    },
    "executionInfo": {
     "elapsed": 99579,
     "status": "ok",
     "timestamp": 1648939075713,
     "user": {
      "displayName": "Jake",
      "userId": "18385482828738288081"
     },
     "user_tz": 240
    },
    "id": "f4a216ac-c33a-4cc3-8f00-f18f439aa3e9",
    "outputId": "384cf7b7-588f-4757-fd36-85a92679520a",
    "scrolled": true
   },
   "outputs": [
    {
     "name": "stdout",
     "output_type": "stream",
     "text": [
      "Trial 30/30 Begin\n",
      "Epoch 1/100\n",
      "46/46 [==============================] - 1s 8ms/step - loss: 0.6228 - binary_accuracy: 0.7935 - val_loss: 0.8443 - val_binary_accuracy: 0.7959\n",
      "Epoch 2/100\n",
      "46/46 [==============================] - 0s 4ms/step - loss: 0.5483 - binary_accuracy: 0.8077 - val_loss: 0.5657 - val_binary_accuracy: 0.8133\n",
      "Epoch 3/100\n",
      "46/46 [==============================] - 0s 5ms/step - loss: 0.5246 - binary_accuracy: 0.8200 - val_loss: 0.5453 - val_binary_accuracy: 0.8101\n",
      "Epoch 4/100\n",
      "46/46 [==============================] - 0s 4ms/step - loss: 0.4971 - binary_accuracy: 0.8281 - val_loss: 0.5790 - val_binary_accuracy: 0.8180\n",
      "Epoch 5/100\n",
      "46/46 [==============================] - 0s 5ms/step - loss: 0.4820 - binary_accuracy: 0.8288 - val_loss: 0.6134 - val_binary_accuracy: 0.8101\n",
      "Epoch 6/100\n",
      "46/46 [==============================] - 0s 4ms/step - loss: 0.4773 - binary_accuracy: 0.8152 - val_loss: 0.6407 - val_binary_accuracy: 0.8085\n",
      "Epoch 7/100\n",
      "46/46 [==============================] - 0s 5ms/step - loss: 0.4427 - binary_accuracy: 0.8322 - val_loss: 0.6616 - val_binary_accuracy: 0.7326\n",
      "Epoch 8/100\n",
      "46/46 [==============================] - 0s 5ms/step - loss: 0.4322 - binary_accuracy: 0.8438 - val_loss: 0.6483 - val_binary_accuracy: 0.7516\n",
      "Evaluating Model 30\n",
      "29/29 [==============================] - 0s 3ms/step - loss: 0.6413 - binary_accuracy: 0.7785\n"
     ]
    }
   ],
   "source": [
    "X = np.load(root_path + '/arrays/MFCCs_withPatient.npy', allow_pickle=True)\n",
    "y = np.load(root_path + '/arrays/target_array.npy', allow_pickle=True)\n",
    "\n",
    "#train test split\n",
    "X_train, X_test, y_train, y_test = train_test_split(X, y, stratify=y, test_size = 0.3)\n",
    "X_train, X_val, y_train, y_val = train_test_split(X_train, y_train, stratify=y_train, test_size=0.3)\n",
    "\n",
    "#training model 30 times, randomly initializing each time. \n",
    "sequential_MFCC_w_cf, sequential_MFCC_w_train_accs, sequential_MFCC_w_val_accs, sequential_MFCC_w_test_accs = model_n_trials(n_trials, \n",
    "                                                                                                                             root_path + '/neural_nets/sequential_MFCCs_with_patient',\n",
    "                                                                                                                             0.01)"
   ]
  },
  {
   "cell_type": "code",
   "execution_count": null,
   "id": "baf6097a-32f6-499b-a625-86121a81b2fc",
   "metadata": {
    "colab": {
     "base_uri": "https://localhost:8080/",
     "height": 391
    },
    "executionInfo": {
     "elapsed": 841,
     "status": "ok",
     "timestamp": 1648939076531,
     "user": {
      "displayName": "Jake",
      "userId": "18385482828738288081"
     },
     "user_tz": 240
    },
    "id": "baf6097a-32f6-499b-a625-86121a81b2fc",
    "outputId": "7d7dd1c9-13bd-4bd1-a828-d214363efcb8"
   },
   "outputs": [],
   "source": [
    "plot_CF(sequential_MFCC_w_cf, 'Sequential Model, MFCCs, With Patient')\n",
    "record_accs('Sequential Model, MFCCs, With Patient', sequential_MFCC_w_train_accs, sequential_MFCC_w_val_accs, sequential_MFCC_w_test_accs)"
   ]
  },
  {
   "cell_type": "markdown",
   "id": "ba5cfdcc-70f7-4897-9b50-09c8e8bc74ad",
   "metadata": {
    "id": "ba5cfdcc-70f7-4897-9b50-09c8e8bc74ad"
   },
   "source": [
    "### 5 - CNN MFCC no Pt"
   ]
  },
  {
   "cell_type": "code",
   "execution_count": 18,
   "id": "51890848-5bd1-4ce3-a896-1b10b0d17c4c",
   "metadata": {
    "colab": {
     "base_uri": "https://localhost:8080/"
    },
    "executionInfo": {
     "elapsed": 334897,
     "status": "ok",
     "timestamp": 1648939411419,
     "user": {
      "displayName": "Jake",
      "userId": "18385482828738288081"
     },
     "user_tz": 240
    },
    "id": "51890848-5bd1-4ce3-a896-1b10b0d17c4c",
    "outputId": "76cadca1-9845-457e-caca-e02645b250da",
    "scrolled": true
   },
   "outputs": [
    {
     "name": "stdout",
     "output_type": "stream",
     "text": [
      "Trial 30/30 Begin\n",
      "Epoch 1/100\n",
      "46/46 [==============================] - 1s 10ms/step - loss: 0.5710 - binary_accuracy: 0.7568 - val_loss: 0.6627 - val_binary_accuracy: 0.7959\n",
      "Epoch 2/100\n",
      "46/46 [==============================] - 0s 7ms/step - loss: 0.5147 - binary_accuracy: 0.7935 - val_loss: 0.5575 - val_binary_accuracy: 0.7959\n",
      "Epoch 3/100\n",
      "46/46 [==============================] - 0s 7ms/step - loss: 0.4790 - binary_accuracy: 0.8030 - val_loss: 0.4552 - val_binary_accuracy: 0.8133\n",
      "Epoch 4/100\n",
      "46/46 [==============================] - 0s 7ms/step - loss: 0.4909 - binary_accuracy: 0.7976 - val_loss: 0.4451 - val_binary_accuracy: 0.8133\n",
      "Epoch 5/100\n",
      "46/46 [==============================] - 0s 7ms/step - loss: 0.4832 - binary_accuracy: 0.7996 - val_loss: 0.4432 - val_binary_accuracy: 0.8165\n",
      "Epoch 6/100\n",
      "46/46 [==============================] - 0s 7ms/step - loss: 0.4773 - binary_accuracy: 0.8098 - val_loss: 0.4430 - val_binary_accuracy: 0.8165\n",
      "Epoch 7/100\n",
      "46/46 [==============================] - 0s 7ms/step - loss: 0.4688 - binary_accuracy: 0.8186 - val_loss: 0.4409 - val_binary_accuracy: 0.8149\n",
      "Epoch 8/100\n",
      "46/46 [==============================] - 0s 7ms/step - loss: 0.4696 - binary_accuracy: 0.8132 - val_loss: 0.4390 - val_binary_accuracy: 0.8212\n",
      "Epoch 9/100\n",
      "46/46 [==============================] - 0s 7ms/step - loss: 0.4495 - binary_accuracy: 0.8111 - val_loss: 0.4378 - val_binary_accuracy: 0.8149\n",
      "Epoch 10/100\n",
      "46/46 [==============================] - 0s 7ms/step - loss: 0.4649 - binary_accuracy: 0.8125 - val_loss: 0.4384 - val_binary_accuracy: 0.8212\n",
      "Epoch 11/100\n",
      "46/46 [==============================] - 0s 7ms/step - loss: 0.4513 - binary_accuracy: 0.8166 - val_loss: 0.4370 - val_binary_accuracy: 0.8180\n",
      "Epoch 12/100\n",
      "46/46 [==============================] - 0s 7ms/step - loss: 0.4537 - binary_accuracy: 0.8132 - val_loss: 0.4351 - val_binary_accuracy: 0.8117\n",
      "Epoch 13/100\n",
      "46/46 [==============================] - 0s 7ms/step - loss: 0.4479 - binary_accuracy: 0.8193 - val_loss: 0.4373 - val_binary_accuracy: 0.8165\n",
      "Epoch 14/100\n",
      "46/46 [==============================] - 0s 7ms/step - loss: 0.4468 - binary_accuracy: 0.8139 - val_loss: 0.4341 - val_binary_accuracy: 0.8149\n",
      "Epoch 15/100\n",
      "46/46 [==============================] - 0s 7ms/step - loss: 0.4442 - binary_accuracy: 0.8234 - val_loss: 0.4337 - val_binary_accuracy: 0.8133\n",
      "Epoch 16/100\n",
      "46/46 [==============================] - 0s 7ms/step - loss: 0.4517 - binary_accuracy: 0.8118 - val_loss: 0.4330 - val_binary_accuracy: 0.8117\n",
      "Epoch 17/100\n",
      "46/46 [==============================] - 0s 7ms/step - loss: 0.4550 - binary_accuracy: 0.8186 - val_loss: 0.4329 - val_binary_accuracy: 0.8101\n",
      "Epoch 18/100\n",
      "46/46 [==============================] - 0s 7ms/step - loss: 0.4458 - binary_accuracy: 0.8179 - val_loss: 0.4346 - val_binary_accuracy: 0.8149\n",
      "Epoch 19/100\n",
      "46/46 [==============================] - 0s 7ms/step - loss: 0.4499 - binary_accuracy: 0.8234 - val_loss: 0.4340 - val_binary_accuracy: 0.8149\n",
      "Epoch 20/100\n",
      "46/46 [==============================] - 0s 7ms/step - loss: 0.4521 - binary_accuracy: 0.8125 - val_loss: 0.4343 - val_binary_accuracy: 0.8133\n",
      "Epoch 21/100\n",
      "46/46 [==============================] - 0s 7ms/step - loss: 0.4442 - binary_accuracy: 0.8186 - val_loss: 0.4333 - val_binary_accuracy: 0.8165\n",
      "Epoch 22/100\n",
      "46/46 [==============================] - 0s 7ms/step - loss: 0.4390 - binary_accuracy: 0.8200 - val_loss: 0.4328 - val_binary_accuracy: 0.8149\n",
      "Epoch 23/100\n",
      "46/46 [==============================] - 0s 7ms/step - loss: 0.4473 - binary_accuracy: 0.8227 - val_loss: 0.4328 - val_binary_accuracy: 0.8149\n",
      "Epoch 24/100\n",
      "46/46 [==============================] - 0s 7ms/step - loss: 0.4373 - binary_accuracy: 0.8207 - val_loss: 0.4326 - val_binary_accuracy: 0.8165\n",
      "Epoch 25/100\n",
      "46/46 [==============================] - 0s 7ms/step - loss: 0.4355 - binary_accuracy: 0.8261 - val_loss: 0.4323 - val_binary_accuracy: 0.8165\n",
      "Epoch 26/100\n",
      "46/46 [==============================] - 0s 7ms/step - loss: 0.4415 - binary_accuracy: 0.8220 - val_loss: 0.4327 - val_binary_accuracy: 0.8149\n",
      "Epoch 27/100\n",
      "46/46 [==============================] - 0s 7ms/step - loss: 0.4334 - binary_accuracy: 0.8234 - val_loss: 0.4340 - val_binary_accuracy: 0.8196\n",
      "Epoch 28/100\n",
      "46/46 [==============================] - 0s 7ms/step - loss: 0.4249 - binary_accuracy: 0.8308 - val_loss: 0.4321 - val_binary_accuracy: 0.8228\n",
      "Epoch 29/100\n",
      "46/46 [==============================] - 0s 6ms/step - loss: 0.4361 - binary_accuracy: 0.8261 - val_loss: 0.4323 - val_binary_accuracy: 0.8196\n",
      "Epoch 30/100\n",
      "46/46 [==============================] - 0s 7ms/step - loss: 0.4272 - binary_accuracy: 0.8254 - val_loss: 0.4317 - val_binary_accuracy: 0.8196\n",
      "Epoch 31/100\n",
      "46/46 [==============================] - 0s 7ms/step - loss: 0.4420 - binary_accuracy: 0.8227 - val_loss: 0.4323 - val_binary_accuracy: 0.8180\n",
      "Epoch 32/100\n",
      "46/46 [==============================] - 0s 7ms/step - loss: 0.4345 - binary_accuracy: 0.8240 - val_loss: 0.4324 - val_binary_accuracy: 0.8165\n",
      "Epoch 33/100\n",
      "46/46 [==============================] - 0s 7ms/step - loss: 0.4387 - binary_accuracy: 0.8132 - val_loss: 0.4318 - val_binary_accuracy: 0.8196\n",
      "Epoch 34/100\n",
      "46/46 [==============================] - 0s 7ms/step - loss: 0.4427 - binary_accuracy: 0.8234 - val_loss: 0.4319 - val_binary_accuracy: 0.8196\n",
      "Epoch 35/100\n",
      "46/46 [==============================] - 0s 9ms/step - loss: 0.4342 - binary_accuracy: 0.8261 - val_loss: 0.4318 - val_binary_accuracy: 0.8212\n",
      "Evaluating Model 30\n",
      "29/29 [==============================] - 0s 3ms/step - loss: 0.4190 - binary_accuracy: 0.8328\n"
     ]
    }
   ],
   "source": [
    "X = np.load(root_path + '/arrays/MFCCs_noPatient.npy', allow_pickle=True)\n",
    "y = np.load(root_path + '/arrays/target_array.npy', allow_pickle=True)\n",
    "\n",
    "X = X.reshape(X.shape[0], X.shape[1], X.shape[2], 1)\n",
    "\n",
    "#train test split\n",
    "X_train, X_test, y_train, y_test = train_test_split(X, y, stratify=y, test_size = 0.3)\n",
    "X_train, X_val, y_train, y_val = train_test_split(X_train, y_train, stratify=y_train, test_size=0.3)\n",
    "\n",
    "#training model 30 times, randomly initializing each time. \n",
    "CNN_MFCC_no_cf, CNN_MFCC_no_train_accs, CNN_MFCC_no_val_accs, CNN_MFCC_no_test_accs = model_n_trials(n_trials, \n",
    "                                                                                                     root_path + '/neural_nets/CNN_MFCCs_no_patient',\n",
    "                                                                                                     0.01)"
   ]
  },
  {
   "cell_type": "code",
   "execution_count": null,
   "id": "260c7c19-0df6-4930-a4b8-ced879e26e14",
   "metadata": {
    "colab": {
     "base_uri": "https://localhost:8080/",
     "height": 391
    },
    "executionInfo": {
     "elapsed": 833,
     "status": "ok",
     "timestamp": 1648939412236,
     "user": {
      "displayName": "Jake",
      "userId": "18385482828738288081"
     },
     "user_tz": 240
    },
    "id": "260c7c19-0df6-4930-a4b8-ced879e26e14",
    "outputId": "7143d1ba-c237-4565-bda8-e9207aa3cc6b"
   },
   "outputs": [],
   "source": [
    "plot_CF(CNN_MFCC_no_cf, 'CNN Model, MFCCs, No Patient')\n",
    "record_accs('CNN Model, MFCCs, No Patient', CNN_MFCC_no_train_accs, CNN_MFCC_no_val_accs, CNN_MFCC_no_test_accs)"
   ]
  },
  {
   "cell_type": "markdown",
   "id": "cd20b046-187b-48b3-b657-08cc0d185dcb",
   "metadata": {
    "id": "cd20b046-187b-48b3-b657-08cc0d185dcb"
   },
   "source": [
    "### 6 - CNN MFCC with Pt"
   ]
  },
  {
   "cell_type": "code",
   "execution_count": 20,
   "id": "0ad177b7-411a-4469-89d6-6ded76869041",
   "metadata": {
    "colab": {
     "base_uri": "https://localhost:8080/"
    },
    "executionInfo": {
     "elapsed": 1256629,
     "status": "ok",
     "timestamp": 1648940668859,
     "user": {
      "displayName": "Jake",
      "userId": "18385482828738288081"
     },
     "user_tz": 240
    },
    "id": "0ad177b7-411a-4469-89d6-6ded76869041",
    "outputId": "d43c2d59-3dcb-4bd0-b312-5b7abecb34aa",
    "scrolled": true
   },
   "outputs": [
    {
     "name": "stdout",
     "output_type": "stream",
     "text": [
      "Trial 30/30 Begin\n",
      "Epoch 1/100\n",
      "46/46 [==============================] - 1s 12ms/step - loss: 0.6054 - binary_accuracy: 0.7840 - val_loss: 0.4855 - val_binary_accuracy: 0.7959\n",
      "Epoch 2/100\n",
      "46/46 [==============================] - 0s 9ms/step - loss: 0.4775 - binary_accuracy: 0.7948 - val_loss: 0.4824 - val_binary_accuracy: 0.7959\n",
      "Epoch 3/100\n",
      "46/46 [==============================] - 0s 10ms/step - loss: 0.4789 - binary_accuracy: 0.7962 - val_loss: 0.4728 - val_binary_accuracy: 0.7959\n",
      "Epoch 4/100\n",
      "46/46 [==============================] - 0s 10ms/step - loss: 0.4644 - binary_accuracy: 0.7989 - val_loss: 0.4643 - val_binary_accuracy: 0.8006\n",
      "Epoch 5/100\n",
      "46/46 [==============================] - 0s 9ms/step - loss: 0.4539 - binary_accuracy: 0.8010 - val_loss: 0.4631 - val_binary_accuracy: 0.8054\n",
      "Epoch 6/100\n",
      "46/46 [==============================] - 0s 10ms/step - loss: 0.4474 - binary_accuracy: 0.8057 - val_loss: 0.4590 - val_binary_accuracy: 0.8038\n",
      "Epoch 7/100\n",
      "46/46 [==============================] - 0s 10ms/step - loss: 0.4446 - binary_accuracy: 0.8098 - val_loss: 0.4567 - val_binary_accuracy: 0.8054\n",
      "Epoch 8/100\n",
      "46/46 [==============================] - 0s 9ms/step - loss: 0.4388 - binary_accuracy: 0.8125 - val_loss: 0.4598 - val_binary_accuracy: 0.8212\n",
      "Epoch 9/100\n",
      "46/46 [==============================] - 0s 10ms/step - loss: 0.4345 - binary_accuracy: 0.8186 - val_loss: 0.4534 - val_binary_accuracy: 0.8196\n",
      "Epoch 10/100\n",
      "46/46 [==============================] - 0s 9ms/step - loss: 0.4319 - binary_accuracy: 0.8179 - val_loss: 0.4511 - val_binary_accuracy: 0.8196\n",
      "Epoch 11/100\n",
      "46/46 [==============================] - 0s 10ms/step - loss: 0.4292 - binary_accuracy: 0.8213 - val_loss: 0.4498 - val_binary_accuracy: 0.8180\n",
      "Epoch 12/100\n",
      "46/46 [==============================] - 0s 10ms/step - loss: 0.4254 - binary_accuracy: 0.8268 - val_loss: 0.4474 - val_binary_accuracy: 0.8196\n",
      "Epoch 13/100\n",
      "46/46 [==============================] - 0s 8ms/step - loss: 0.4233 - binary_accuracy: 0.8261 - val_loss: 0.4466 - val_binary_accuracy: 0.8228\n",
      "Epoch 14/100\n",
      "46/46 [==============================] - 0s 10ms/step - loss: 0.4216 - binary_accuracy: 0.8227 - val_loss: 0.4468 - val_binary_accuracy: 0.8196\n",
      "Epoch 15/100\n",
      "46/46 [==============================] - 0s 10ms/step - loss: 0.4202 - binary_accuracy: 0.8261 - val_loss: 0.4471 - val_binary_accuracy: 0.8196\n",
      "Epoch 16/100\n",
      "46/46 [==============================] - 0s 10ms/step - loss: 0.4200 - binary_accuracy: 0.8308 - val_loss: 0.4450 - val_binary_accuracy: 0.8275\n",
      "Epoch 17/100\n",
      "46/46 [==============================] - 0s 8ms/step - loss: 0.4182 - binary_accuracy: 0.8274 - val_loss: 0.4456 - val_binary_accuracy: 0.8196\n",
      "Epoch 18/100\n",
      "46/46 [==============================] - 0s 10ms/step - loss: 0.4167 - binary_accuracy: 0.8268 - val_loss: 0.4446 - val_binary_accuracy: 0.8228\n",
      "Epoch 19/100\n",
      "46/46 [==============================] - 0s 8ms/step - loss: 0.4163 - binary_accuracy: 0.8261 - val_loss: 0.4439 - val_binary_accuracy: 0.8228\n",
      "Epoch 20/100\n",
      "46/46 [==============================] - 0s 9ms/step - loss: 0.4155 - binary_accuracy: 0.8295 - val_loss: 0.4434 - val_binary_accuracy: 0.8212\n",
      "Epoch 21/100\n",
      "46/46 [==============================] - 0s 8ms/step - loss: 0.4136 - binary_accuracy: 0.8295 - val_loss: 0.4443 - val_binary_accuracy: 0.8196\n",
      "Epoch 22/100\n",
      "46/46 [==============================] - 0s 9ms/step - loss: 0.4154 - binary_accuracy: 0.8274 - val_loss: 0.4452 - val_binary_accuracy: 0.8133\n",
      "Epoch 23/100\n",
      "46/46 [==============================] - 0s 9ms/step - loss: 0.4129 - binary_accuracy: 0.8329 - val_loss: 0.4426 - val_binary_accuracy: 0.8228\n",
      "Epoch 24/100\n",
      "46/46 [==============================] - 0s 10ms/step - loss: 0.4120 - binary_accuracy: 0.8308 - val_loss: 0.4424 - val_binary_accuracy: 0.8196\n",
      "Epoch 25/100\n",
      "46/46 [==============================] - 0s 10ms/step - loss: 0.4110 - binary_accuracy: 0.8268 - val_loss: 0.4419 - val_binary_accuracy: 0.8196\n",
      "Epoch 26/100\n",
      "46/46 [==============================] - 0s 9ms/step - loss: 0.4104 - binary_accuracy: 0.8308 - val_loss: 0.4418 - val_binary_accuracy: 0.8228\n",
      "Epoch 27/100\n",
      "46/46 [==============================] - 0s 10ms/step - loss: 0.4094 - binary_accuracy: 0.8308 - val_loss: 0.4426 - val_binary_accuracy: 0.8196\n",
      "Epoch 28/100\n",
      "46/46 [==============================] - 0s 10ms/step - loss: 0.4103 - binary_accuracy: 0.8315 - val_loss: 0.4421 - val_binary_accuracy: 0.8212\n",
      "Epoch 29/100\n",
      "46/46 [==============================] - 0s 9ms/step - loss: 0.4099 - binary_accuracy: 0.8302 - val_loss: 0.4423 - val_binary_accuracy: 0.8180\n",
      "Epoch 30/100\n",
      "46/46 [==============================] - 0s 9ms/step - loss: 0.4096 - binary_accuracy: 0.8295 - val_loss: 0.4417 - val_binary_accuracy: 0.8165\n",
      "Epoch 31/100\n",
      "46/46 [==============================] - 0s 10ms/step - loss: 0.4078 - binary_accuracy: 0.8302 - val_loss: 0.4406 - val_binary_accuracy: 0.8228\n",
      "Epoch 32/100\n",
      "46/46 [==============================] - 0s 10ms/step - loss: 0.4070 - binary_accuracy: 0.8302 - val_loss: 0.4418 - val_binary_accuracy: 0.8180\n",
      "Epoch 33/100\n",
      "46/46 [==============================] - 0s 8ms/step - loss: 0.4087 - binary_accuracy: 0.8329 - val_loss: 0.4407 - val_binary_accuracy: 0.8212\n",
      "Epoch 34/100\n",
      "46/46 [==============================] - 0s 8ms/step - loss: 0.4063 - binary_accuracy: 0.8329 - val_loss: 0.4404 - val_binary_accuracy: 0.8228\n",
      "Epoch 35/100\n",
      "46/46 [==============================] - 0s 10ms/step - loss: 0.4068 - binary_accuracy: 0.8342 - val_loss: 0.4401 - val_binary_accuracy: 0.8244\n",
      "Epoch 36/100\n",
      "46/46 [==============================] - 0s 8ms/step - loss: 0.4068 - binary_accuracy: 0.8329 - val_loss: 0.4399 - val_binary_accuracy: 0.8244\n",
      "Epoch 37/100\n",
      "46/46 [==============================] - 0s 9ms/step - loss: 0.4053 - binary_accuracy: 0.8342 - val_loss: 0.4398 - val_binary_accuracy: 0.8244\n",
      "Epoch 38/100\n",
      "46/46 [==============================] - 0s 10ms/step - loss: 0.4054 - binary_accuracy: 0.8315 - val_loss: 0.4413 - val_binary_accuracy: 0.8165\n",
      "Epoch 39/100\n",
      "46/46 [==============================] - 0s 10ms/step - loss: 0.4049 - binary_accuracy: 0.8356 - val_loss: 0.4397 - val_binary_accuracy: 0.8244\n",
      "Epoch 40/100\n",
      "46/46 [==============================] - 0s 10ms/step - loss: 0.4041 - binary_accuracy: 0.8349 - val_loss: 0.4394 - val_binary_accuracy: 0.8196\n",
      "Epoch 41/100\n",
      "46/46 [==============================] - 0s 10ms/step - loss: 0.4039 - binary_accuracy: 0.8376 - val_loss: 0.4390 - val_binary_accuracy: 0.8228\n",
      "Epoch 42/100\n",
      "46/46 [==============================] - 0s 10ms/step - loss: 0.4043 - binary_accuracy: 0.8322 - val_loss: 0.4392 - val_binary_accuracy: 0.8259\n",
      "Epoch 43/100\n",
      "46/46 [==============================] - 0s 10ms/step - loss: 0.4042 - binary_accuracy: 0.8336 - val_loss: 0.4399 - val_binary_accuracy: 0.8180\n",
      "Epoch 44/100\n",
      "46/46 [==============================] - 0s 8ms/step - loss: 0.4027 - binary_accuracy: 0.8356 - val_loss: 0.4388 - val_binary_accuracy: 0.8196\n",
      "Epoch 45/100\n",
      "46/46 [==============================] - 0s 10ms/step - loss: 0.4028 - binary_accuracy: 0.8376 - val_loss: 0.4388 - val_binary_accuracy: 0.8180\n",
      "Epoch 46/100\n",
      "46/46 [==============================] - 0s 10ms/step - loss: 0.4023 - binary_accuracy: 0.8370 - val_loss: 0.4389 - val_binary_accuracy: 0.8180\n",
      "Epoch 47/100\n",
      "46/46 [==============================] - 0s 10ms/step - loss: 0.4024 - binary_accuracy: 0.8383 - val_loss: 0.4389 - val_binary_accuracy: 0.8180\n",
      "Epoch 48/100\n",
      "46/46 [==============================] - 0s 10ms/step - loss: 0.4020 - binary_accuracy: 0.8383 - val_loss: 0.4383 - val_binary_accuracy: 0.8212\n",
      "Epoch 49/100\n",
      "46/46 [==============================] - 0s 8ms/step - loss: 0.4017 - binary_accuracy: 0.8376 - val_loss: 0.4390 - val_binary_accuracy: 0.8180\n",
      "Epoch 50/100\n",
      "46/46 [==============================] - 0s 10ms/step - loss: 0.4011 - binary_accuracy: 0.8383 - val_loss: 0.4383 - val_binary_accuracy: 0.8180\n",
      "Epoch 51/100\n",
      "46/46 [==============================] - 0s 10ms/step - loss: 0.4008 - binary_accuracy: 0.8376 - val_loss: 0.4380 - val_binary_accuracy: 0.8212\n",
      "Epoch 52/100\n",
      "46/46 [==============================] - 0s 8ms/step - loss: 0.4005 - binary_accuracy: 0.8363 - val_loss: 0.4381 - val_binary_accuracy: 0.8180\n",
      "Epoch 53/100\n",
      "46/46 [==============================] - 0s 9ms/step - loss: 0.4006 - binary_accuracy: 0.8370 - val_loss: 0.4378 - val_binary_accuracy: 0.8212\n",
      "Epoch 54/100\n",
      "46/46 [==============================] - 0s 9ms/step - loss: 0.4004 - binary_accuracy: 0.8370 - val_loss: 0.4379 - val_binary_accuracy: 0.8180\n",
      "Epoch 55/100\n",
      "46/46 [==============================] - 0s 8ms/step - loss: 0.4005 - binary_accuracy: 0.8370 - val_loss: 0.4382 - val_binary_accuracy: 0.8180\n",
      "Epoch 56/100\n",
      "46/46 [==============================] - 0s 10ms/step - loss: 0.3998 - binary_accuracy: 0.8390 - val_loss: 0.4377 - val_binary_accuracy: 0.8180\n",
      "Epoch 57/100\n",
      "46/46 [==============================] - 0s 10ms/step - loss: 0.3991 - binary_accuracy: 0.8390 - val_loss: 0.4375 - val_binary_accuracy: 0.8196\n",
      "Epoch 58/100\n",
      "46/46 [==============================] - 0s 10ms/step - loss: 0.3990 - binary_accuracy: 0.8397 - val_loss: 0.4374 - val_binary_accuracy: 0.8196\n",
      "Epoch 59/100\n",
      "46/46 [==============================] - 0s 10ms/step - loss: 0.3990 - binary_accuracy: 0.8376 - val_loss: 0.4372 - val_binary_accuracy: 0.8196\n",
      "Epoch 60/100\n",
      "46/46 [==============================] - 0s 8ms/step - loss: 0.3986 - binary_accuracy: 0.8383 - val_loss: 0.4375 - val_binary_accuracy: 0.8180\n",
      "Epoch 61/100\n",
      "46/46 [==============================] - 0s 8ms/step - loss: 0.3991 - binary_accuracy: 0.8397 - val_loss: 0.4373 - val_binary_accuracy: 0.8196\n",
      "Epoch 62/100\n",
      "46/46 [==============================] - 0s 10ms/step - loss: 0.3993 - binary_accuracy: 0.8390 - val_loss: 0.4384 - val_binary_accuracy: 0.8165\n",
      "Epoch 63/100\n",
      "46/46 [==============================] - 0s 9ms/step - loss: 0.3984 - binary_accuracy: 0.8397 - val_loss: 0.4370 - val_binary_accuracy: 0.8196\n",
      "Epoch 64/100\n",
      "46/46 [==============================] - 0s 8ms/step - loss: 0.3983 - binary_accuracy: 0.8397 - val_loss: 0.4369 - val_binary_accuracy: 0.8228\n",
      "Epoch 65/100\n",
      "46/46 [==============================] - 0s 9ms/step - loss: 0.3984 - binary_accuracy: 0.8397 - val_loss: 0.4369 - val_binary_accuracy: 0.8196\n",
      "Epoch 66/100\n",
      "46/46 [==============================] - 0s 9ms/step - loss: 0.3977 - binary_accuracy: 0.8390 - val_loss: 0.4369 - val_binary_accuracy: 0.8196\n",
      "Epoch 67/100\n",
      "46/46 [==============================] - 0s 10ms/step - loss: 0.3975 - binary_accuracy: 0.8383 - val_loss: 0.4370 - val_binary_accuracy: 0.8196\n",
      "Epoch 68/100\n",
      "46/46 [==============================] - 0s 8ms/step - loss: 0.3972 - binary_accuracy: 0.8410 - val_loss: 0.4367 - val_binary_accuracy: 0.8196\n",
      "Epoch 69/100\n",
      "46/46 [==============================] - 0s 8ms/step - loss: 0.3970 - binary_accuracy: 0.8363 - val_loss: 0.4369 - val_binary_accuracy: 0.8196\n",
      "Epoch 70/100\n",
      "46/46 [==============================] - 0s 8ms/step - loss: 0.3970 - binary_accuracy: 0.8397 - val_loss: 0.4370 - val_binary_accuracy: 0.8180\n",
      "Epoch 71/100\n",
      "46/46 [==============================] - 0s 10ms/step - loss: 0.3962 - binary_accuracy: 0.8404 - val_loss: 0.4365 - val_binary_accuracy: 0.8196\n",
      "Epoch 72/100\n",
      "46/46 [==============================] - 0s 10ms/step - loss: 0.3966 - binary_accuracy: 0.8397 - val_loss: 0.4364 - val_binary_accuracy: 0.8180\n",
      "Epoch 73/100\n",
      "46/46 [==============================] - 0s 10ms/step - loss: 0.3963 - binary_accuracy: 0.8397 - val_loss: 0.4365 - val_binary_accuracy: 0.8196\n",
      "Epoch 74/100\n",
      "46/46 [==============================] - 0s 10ms/step - loss: 0.3957 - binary_accuracy: 0.8397 - val_loss: 0.4364 - val_binary_accuracy: 0.8196\n",
      "Epoch 75/100\n",
      "46/46 [==============================] - 0s 9ms/step - loss: 0.3958 - binary_accuracy: 0.8397 - val_loss: 0.4364 - val_binary_accuracy: 0.8196\n",
      "Epoch 76/100\n",
      "46/46 [==============================] - 0s 8ms/step - loss: 0.3953 - binary_accuracy: 0.8404 - val_loss: 0.4363 - val_binary_accuracy: 0.8196\n",
      "Epoch 77/100\n",
      "46/46 [==============================] - 0s 10ms/step - loss: 0.3952 - binary_accuracy: 0.8404 - val_loss: 0.4363 - val_binary_accuracy: 0.8196\n",
      "Epoch 78/100\n",
      "46/46 [==============================] - 0s 8ms/step - loss: 0.3952 - binary_accuracy: 0.8397 - val_loss: 0.4363 - val_binary_accuracy: 0.8196\n",
      "Epoch 79/100\n",
      "46/46 [==============================] - 0s 8ms/step - loss: 0.3951 - binary_accuracy: 0.8410 - val_loss: 0.4362 - val_binary_accuracy: 0.8196\n",
      "Epoch 80/100\n",
      "46/46 [==============================] - 0s 10ms/step - loss: 0.3947 - binary_accuracy: 0.8410 - val_loss: 0.4360 - val_binary_accuracy: 0.8196\n",
      "Epoch 81/100\n",
      "46/46 [==============================] - 0s 10ms/step - loss: 0.3952 - binary_accuracy: 0.8397 - val_loss: 0.4360 - val_binary_accuracy: 0.8196\n",
      "Epoch 82/100\n",
      "46/46 [==============================] - 0s 10ms/step - loss: 0.3945 - binary_accuracy: 0.8410 - val_loss: 0.4360 - val_binary_accuracy: 0.8196\n",
      "Epoch 83/100\n",
      "46/46 [==============================] - 0s 10ms/step - loss: 0.3942 - binary_accuracy: 0.8410 - val_loss: 0.4358 - val_binary_accuracy: 0.8196\n",
      "Epoch 84/100\n",
      "46/46 [==============================] - 0s 10ms/step - loss: 0.3942 - binary_accuracy: 0.8424 - val_loss: 0.4359 - val_binary_accuracy: 0.8196\n",
      "Epoch 85/100\n",
      "46/46 [==============================] - 0s 9ms/step - loss: 0.3941 - binary_accuracy: 0.8397 - val_loss: 0.4357 - val_binary_accuracy: 0.8196\n",
      "Epoch 86/100\n",
      "46/46 [==============================] - 0s 9ms/step - loss: 0.3940 - binary_accuracy: 0.8417 - val_loss: 0.4361 - val_binary_accuracy: 0.8196\n",
      "Epoch 87/100\n",
      "46/46 [==============================] - 0s 9ms/step - loss: 0.3937 - binary_accuracy: 0.8417 - val_loss: 0.4356 - val_binary_accuracy: 0.8196\n",
      "Epoch 88/100\n",
      "46/46 [==============================] - 0s 9ms/step - loss: 0.3940 - binary_accuracy: 0.8410 - val_loss: 0.4355 - val_binary_accuracy: 0.8196\n",
      "Epoch 89/100\n",
      "46/46 [==============================] - 0s 9ms/step - loss: 0.3938 - binary_accuracy: 0.8410 - val_loss: 0.4355 - val_binary_accuracy: 0.8196\n",
      "Epoch 90/100\n",
      "46/46 [==============================] - 0s 10ms/step - loss: 0.3940 - binary_accuracy: 0.8410 - val_loss: 0.4355 - val_binary_accuracy: 0.8196\n",
      "Epoch 91/100\n",
      "46/46 [==============================] - 0s 10ms/step - loss: 0.3931 - binary_accuracy: 0.8417 - val_loss: 0.4356 - val_binary_accuracy: 0.8196\n",
      "Epoch 92/100\n",
      "46/46 [==============================] - 0s 8ms/step - loss: 0.3930 - binary_accuracy: 0.8417 - val_loss: 0.4356 - val_binary_accuracy: 0.8196\n",
      "Epoch 93/100\n",
      "46/46 [==============================] - 0s 9ms/step - loss: 0.3932 - binary_accuracy: 0.8424 - val_loss: 0.4356 - val_binary_accuracy: 0.8196\n",
      "Epoch 94/100\n",
      "46/46 [==============================] - 0s 10ms/step - loss: 0.3925 - binary_accuracy: 0.8417 - val_loss: 0.4352 - val_binary_accuracy: 0.8196\n",
      "Epoch 95/100\n",
      "46/46 [==============================] - 0s 10ms/step - loss: 0.3926 - binary_accuracy: 0.8417 - val_loss: 0.4354 - val_binary_accuracy: 0.8196\n",
      "Epoch 96/100\n",
      "46/46 [==============================] - 0s 8ms/step - loss: 0.3923 - binary_accuracy: 0.8424 - val_loss: 0.4353 - val_binary_accuracy: 0.8196\n",
      "Epoch 97/100\n",
      "46/46 [==============================] - 0s 9ms/step - loss: 0.3925 - binary_accuracy: 0.8424 - val_loss: 0.4352 - val_binary_accuracy: 0.8196\n",
      "Epoch 98/100\n",
      "46/46 [==============================] - 0s 10ms/step - loss: 0.3920 - binary_accuracy: 0.8404 - val_loss: 0.4352 - val_binary_accuracy: 0.8196\n",
      "Epoch 99/100\n",
      "46/46 [==============================] - 0s 10ms/step - loss: 0.3917 - binary_accuracy: 0.8417 - val_loss: 0.4351 - val_binary_accuracy: 0.8196\n",
      "Epoch 100/100\n",
      "46/46 [==============================] - 0s 8ms/step - loss: 0.3921 - binary_accuracy: 0.8417 - val_loss: 0.4351 - val_binary_accuracy: 0.8196\n",
      "Evaluating Model 30\n",
      "29/29 [==============================] - 0s 5ms/step - loss: 0.4355 - binary_accuracy: 0.8339\n"
     ]
    }
   ],
   "source": [
    "#loading in and reshaping data to train model\n",
    "X = np.load(root_path + '/arrays/MFCCs_withPatient.npy', allow_pickle=True)\n",
    "y = np.load(root_path + '/arrays/target_array.npy', allow_pickle=True)\n",
    "\n",
    "X = X.reshape(X.shape[0], X.shape[1], X.shape[2], 1)\n",
    "\n",
    "#train test split\n",
    "X_train, X_test, y_train, y_test = train_test_split(X, y, stratify=y, test_size = 0.3)\n",
    "\n",
    "X_train, X_val, y_train, y_val = train_test_split(X_train, y_train, stratify=y_train, test_size=0.3)\n",
    "\n",
    "#training model 30 times, randomly initializing each time. \n",
    "CNN_MFCC_w_cf, CNN_MFCC_w_train_accs, CNN_MFCC_w_val_accs, CNN_MFCC_w_test_accs = model_n_trials(n_trials, \n",
    "                                                                                                 root_path + '/neural_nets/CNN_MFCCs_with_patient',\n",
    "                                                                                                 0.00020681360209481224)"
   ]
  },
  {
   "cell_type": "code",
   "execution_count": null,
   "id": "248695b1-81a7-4d1e-87ae-b7dee86b474e",
   "metadata": {
    "colab": {
     "base_uri": "https://localhost:8080/",
     "height": 391
    },
    "executionInfo": {
     "elapsed": 926,
     "status": "ok",
     "timestamp": 1648940669770,
     "user": {
      "displayName": "Jake",
      "userId": "18385482828738288081"
     },
     "user_tz": 240
    },
    "id": "248695b1-81a7-4d1e-87ae-b7dee86b474e",
    "outputId": "0286311d-6135-49b0-a85a-3d3219c05697"
   },
   "outputs": [],
   "source": [
    "plot_CF(CNN_MFCC_w_cf, 'CNN Model, MFCCs, With Patient')\n",
    "record_accs('CNN Model, MFCCs, With Patient', CNN_MFCC_w_train_accs, CNN_MFCC_w_val_accs, CNN_MFCC_w_test_accs)"
   ]
  },
  {
   "cell_type": "markdown",
   "id": "68985701-4577-468c-855c-9c5a4ca6f62c",
   "metadata": {},
   "source": [
    "Picking Back up On My Local Machine"
   ]
  },
  {
   "cell_type": "markdown",
   "id": "757a2cc8-2578-447e-940b-5d515727d049",
   "metadata": {},
   "source": [
    "## Evaluating Models"
   ]
  },
  {
   "cell_type": "code",
   "execution_count": 14,
   "id": "71df5177-ddfe-437a-9fd7-e3105adebc21",
   "metadata": {},
   "outputs": [],
   "source": [
    "def p_r_f1(title, true_neg, false_pos, false_neg, true_pos):\n",
    "    \n",
    "    precision = true_pos/(true_pos+false_pos)\n",
    "    \n",
    "    recall = true_pos/(true_pos+false_neg)\n",
    "    \n",
    "    f1 = 2 * ((precision * recall)/(precision+recall))\n",
    "    \n",
    "    s = \"\"\"\\\n",
    "    {title}\n",
    "    ----------------------------------\n",
    "    Precision: {precision}\n",
    "    Recall: {recall}\n",
    "    \n",
    "    F1 Score: {f1}\n",
    "    \"\"\".format(title=title, precision=precision, recall=recall, f1=f1)\n",
    "    \n",
    "    print(s)"
   ]
  },
  {
   "cell_type": "code",
   "execution_count": 47,
   "id": "7982f69d-a63d-4d5b-be7b-c7b1dfc67b51",
   "metadata": {},
   "outputs": [],
   "source": [
    "def plot_accs_give_df(path, title):\n",
    "    \n",
    "    full_path = root_path + path\n",
    "    df = pd.DataFrame(data = pd.read_csv(full_path),\n",
    "                      columns = (['train_accs', 'val_accs', 'test_accs']))\n",
    "\n",
    "    fig, axs = plt.subplots(3, sharex=True, figsize=(10,12))\n",
    "    fig.suptitle(title, size=24)\n",
    "    axs[0].hist(df['train_accs'], color='blue')\n",
    "    axs[0].set_title('Train Accuracies')\n",
    "    axs[1].hist(df['val_accs'], color='black')\n",
    "    axs[1].set_title('Validation Accuracies')\n",
    "    axs[2].hist(df['test_accs'], color='red')\n",
    "    axs[2].set_title('Test Accuracies')\n",
    "    plt.savefig((root_path + '/model_eval_png/') + title)\n",
    "    \n",
    "    return df"
   ]
  },
  {
   "cell_type": "markdown",
   "id": "a3a81ebe-0fda-4186-8148-15bdb2dffd3c",
   "metadata": {},
   "source": [
    "### Sequential 4K, No Pt"
   ]
  },
  {
   "cell_type": "code",
   "execution_count": 51,
   "id": "03ea2172-9f66-493e-a2ca-18bc9472d07b",
   "metadata": {},
   "outputs": [
    {
     "data": {
      "image/png": "[encoded data removed]",
      "text/plain": [
       "<Figure size 720x864 with 3 Axes>"
      ]
     },
     "metadata": {
      "needs_background": "light"
     },
     "output_type": "display_data"
    }
   ],
   "source": [
    "seq_4k_no_df = plot_accs_give_df('/model_eval_csv/Sequential Model, 4k Signal, No Patient.csv', \n",
    "                                 'Sequential Model, 4k Signal, No Patient')"
   ]
  },
  {
   "cell_type": "code",
   "execution_count": 52,
   "id": "b55a406d-beec-4b55-9a37-3abe760efc7a",
   "metadata": {},
   "outputs": [
    {
     "name": "stdout",
     "output_type": "stream",
     "text": [
      "    Sequential, 4K, No Pt\n",
      "    ----------------------------------\n",
      "    Precision: 0.3537117903930131\n",
      "    Recall: 0.04378378378378378\n",
      "    \n",
      "    F1 Score: 0.07792207792207792\n",
      "    \n"
     ]
    }
   ],
   "source": [
    "p_r_f1('Sequential, 4K, No Pt', 21096, 444, 5307, 243)"
   ]
  },
  {
   "attachments": {
    "370c6580-17b6-472e-bd9f-ac267592e8e7.png": {
     "image/png": "[encoded data removed]"
    }
   },
   "cell_type": "markdown",
   "id": "b5f5d3ea-7106-4842-9e49-957e77482ae0",
   "metadata": {},
   "source": [
    "![Sequential Model, 4k Signal, No Patient.png](attachment:370c6580-17b6-472e-bd9f-ac267592e8e7.png)"
   ]
  },
  {
   "cell_type": "markdown",
   "id": "261a3ec2-3f80-4832-8f99-55bf127841e6",
   "metadata": {},
   "source": [
    "### Sequential 1k, No Pt"
   ]
  },
  {
   "cell_type": "code",
   "execution_count": 53,
   "id": "97950642-dd10-4eda-bd2b-ff6a69af68c6",
   "metadata": {},
   "outputs": [
    {
     "data": {
      "image/png": "[encoded data removed]",
      "text/plain": [
       "<Figure size 720x864 with 3 Axes>"
      ]
     },
     "metadata": {
      "needs_background": "light"
     },
     "output_type": "display_data"
    }
   ],
   "source": [
    "seq_1k_no_df = plot_accs_give_df('/model_eval_csv/Sequential Model, 1k Signal, No Patient.csv', \n",
    "                                 'Sequential Model, 1k Signal, No Patient')"
   ]
  },
  {
   "cell_type": "code",
   "execution_count": 54,
   "id": "b201663d-b6a8-4a53-81ae-8d105a860e53",
   "metadata": {},
   "outputs": [
    {
     "name": "stdout",
     "output_type": "stream",
     "text": [
      "    Sequential, 1K, No Pt\n",
      "    ----------------------------------\n",
      "    Precision: 0.20077034183919115\n",
      "    Recall: 0.15027027027027026\n",
      "    \n",
      "    F1 Score: 0.1718878812860676\n",
      "    \n"
     ]
    }
   ],
   "source": [
    "p_r_f1('Sequential, 1K, No Pt', 18220, 3320, 4716, 834)"
   ]
  },
  {
   "attachments": {
    "7e73ac2d-5244-459e-b902-97102933c46b.png": {
     "image/png": "[encoded data removed]"
    }
   },
   "cell_type": "markdown",
   "id": "92466578-9cf4-47e9-85af-0d57c59a5c9b",
   "metadata": {},
   "source": [
    "![Sequential Model, 1k Signal, No Patient.png](attachment:7e73ac2d-5244-459e-b902-97102933c46b.png)"
   ]
  },
  {
   "cell_type": "markdown",
   "id": "a2dfccc3-d37b-47fa-898a-26226388fda5",
   "metadata": {},
   "source": [
    "### Sequential 1k, With Pt"
   ]
  },
  {
   "cell_type": "code",
   "execution_count": 55,
   "id": "a4af7e58-2a05-40f7-9594-ca67207d2d18",
   "metadata": {},
   "outputs": [
    {
     "data": {
      "image/png": "[encoded data removed]",
      "text/plain": [
       "<Figure size 720x864 with 3 Axes>"
      ]
     },
     "metadata": {
      "needs_background": "light"
     },
     "output_type": "display_data"
    }
   ],
   "source": [
    "seq_1k_w_df = plot_accs_give_df('/model_eval_csv/Sequential Model, 1k Signal, With Patient.csv', \n",
    "                                 'Sequential Model, 1k Signal, With Patient')"
   ]
  },
  {
   "cell_type": "code",
   "execution_count": 56,
   "id": "8073e14c-af3b-4da6-b568-d7a537229848",
   "metadata": {},
   "outputs": [
    {
     "name": "stdout",
     "output_type": "stream",
     "text": [
      "    Sequential, 1K, With Pt\n",
      "    ----------------------------------\n",
      "    Precision: 0.5454545454545454\n",
      "    Recall: 0.001081081081081081\n",
      "    \n",
      "    F1 Score: 0.0021578852724330154\n",
      "    \n"
     ]
    }
   ],
   "source": [
    "p_r_f1('Sequential, 1K, With Pt', 21535, 5, 5544, 6)"
   ]
  },
  {
   "attachments": {
    "c74da0df-6312-4208-b0a3-77011b05d79d.png": {
     "image/png": "[encoded data removed]"
    }
   },
   "cell_type": "markdown",
   "id": "20a95ba2-c382-40ae-a57e-e916d2335a98",
   "metadata": {},
   "source": [
    "![Sequential Model, 1k Signal, With Patient.png](attachment:c74da0df-6312-4208-b0a3-77011b05d79d.png)"
   ]
  },
  {
   "cell_type": "markdown",
   "id": "603ffff5-e268-42d1-9451-1af414502104",
   "metadata": {},
   "source": [
    "### Sequential MFCC, No Pt"
   ]
  },
  {
   "cell_type": "code",
   "execution_count": 57,
   "id": "79be137e-fb0f-4173-a16d-559fe114abba",
   "metadata": {},
   "outputs": [
    {
     "data": {
      "image/png": "[encoded data removed]",
      "text/plain": [
       "<Figure size 720x864 with 3 Axes>"
      ]
     },
     "metadata": {
      "needs_background": "light"
     },
     "output_type": "display_data"
    }
   ],
   "source": [
    "seq_MFCC_no_df = plot_accs_give_df('/model_eval_csv/Sequential Model, MFCCs, No Patient.csv', \n",
    "                                   'Sequential Model, MFCCs, No Patient')"
   ]
  },
  {
   "cell_type": "code",
   "execution_count": 58,
   "id": "3c534e91-0233-481b-9955-bfabeb9e87fa",
   "metadata": {},
   "outputs": [
    {
     "name": "stdout",
     "output_type": "stream",
     "text": [
      "    Sequential, MFCCs, No Pt\n",
      "    ----------------------------------\n",
      "    Precision: 0.6038314176245211\n",
      "    Recall: 0.14198198198198198\n",
      "    \n",
      "    F1 Score: 0.2299051787016776\n",
      "    \n"
     ]
    }
   ],
   "source": [
    "p_r_f1('Sequential, MFCCs, No Pt', 21023, 517, 4762, 788)"
   ]
  },
  {
   "attachments": {
    "e46b9938-021e-4897-8728-b2e956da5e36.png": {
     "image/png": "[encoded data removed]"
    }
   },
   "cell_type": "markdown",
   "id": "e164c60e-8d74-4253-bfa9-0febfa2904bd",
   "metadata": {},
   "source": [
    "![Sequential Model, MFCCs, No Patient.png](attachment:e46b9938-021e-4897-8728-b2e956da5e36.png)"
   ]
  },
  {
   "cell_type": "markdown",
   "id": "2c43c40a-23b9-42be-ab60-a7b394351d8d",
   "metadata": {},
   "source": [
    "### Sequential MFCC, With Pt"
   ]
  },
  {
   "cell_type": "code",
   "execution_count": null,
   "id": "a69e9786-5f22-4697-8088-640aa1db4499",
   "metadata": {},
   "outputs": [],
   "source": []
  },
  {
   "cell_type": "markdown",
   "id": "0df7584e-b645-4fec-8ccf-2cacd05efc7e",
   "metadata": {},
   "source": [
    "### CNN MFCC, No Pt"
   ]
  },
  {
   "cell_type": "code",
   "execution_count": null,
   "id": "8185e5b1-2474-43cf-9ae1-dd31970308ec",
   "metadata": {},
   "outputs": [],
   "source": []
  },
  {
   "cell_type": "markdown",
   "id": "42ea7948-87f8-44ae-a90f-16fbc85e0271",
   "metadata": {},
   "source": [
    "### CNN MFCC, With Pt"
   ]
  },
  {
   "cell_type": "code",
   "execution_count": null,
   "id": "7a47ff53-4fdb-4032-92e7-8b78f311d15d",
   "metadata": {},
   "outputs": [],
   "source": []
  }
 ],
 "metadata": {
  "accelerator": "GPU",
  "colab": {
   "background_execution": "on",
   "name": "7 - Comparing and Evaluating Networks.ipynb",
   "provenance": []
  },
  "kernelspec": {
   "display_name": "capstone",
   "language": "python",
   "name": "capstone"
  },
  "language_info": {
   "codemirror_mode": {
    "name": "ipython",
    "version": 3
   },
   "file_extension": ".py",
   "mimetype": "text/x-python",
   "name": "python",
   "nbconvert_exporter": "python",
   "pygments_lexer": "ipython3",
   "version": "3.8.12"
  }
 },
 "nbformat": 4,
 "nbformat_minor": 5
}
