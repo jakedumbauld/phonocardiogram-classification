{
 "cells": [
  {
   "cell_type": "markdown",
   "id": "447dcfd6-677e-4838-a4ce-89ce0072ebbd",
   "metadata": {},
   "source": [
    "# Pre-Processing: Phonocardiograms"
   ]
  },
  {
   "cell_type": "markdown",
   "id": "e1e9d9ca-1d62-4103-b17c-746cb332f967",
   "metadata": {},
   "source": [
    "Author: Jake Dumbauld <br>\n",
    "Contact: jacobmilodumbauld@gmail.com<br>\n",
    "Date: 3.15.22"
   ]
  },
  {
   "cell_type": "code",
   "execution_count": 1,
   "id": "03c27a3b-efaa-4734-ab79-cc13f6685ac0",
   "metadata": {},
   "outputs": [],
   "source": [
    "# importing libraries\n",
    "\n",
    "import numpy as np\n",
    "import pandas as pd\n",
    "import matplotlib.pyplot as plt\n",
    "\n",
    "import librosa\n",
    "import librosa.display\n",
    "import IPython\n",
    "\n",
    "import os\n",
    "from random import uniform\n",
    "import time\n",
    "from IPython.display import display, clear_output"
   ]
  },
  {
   "cell_type": "code",
   "execution_count": 2,
   "id": "140dd527-cf0f-4aa4-b251-0f083c767962",
   "metadata": {},
   "outputs": [
    {
     "data": {
      "text/html": [
       "<div>\n",
       "<style scoped>\n",
       "    .dataframe tbody tr th:only-of-type {\n",
       "        vertical-align: middle;\n",
       "    }\n",
       "\n",
       "    .dataframe tbody tr th {\n",
       "        vertical-align: top;\n",
       "    }\n",
       "\n",
       "    .dataframe thead th {\n",
       "        text-align: right;\n",
       "    }\n",
       "</style>\n",
       "<table border=\"1\" class=\"dataframe\">\n",
       "  <thead>\n",
       "    <tr style=\"text-align: right;\">\n",
       "      <th></th>\n",
       "      <th>Patient ID</th>\n",
       "      <th>Locations</th>\n",
       "      <th>Age</th>\n",
       "      <th>Sex</th>\n",
       "      <th>Height</th>\n",
       "      <th>Weight</th>\n",
       "      <th>Pregnancy status</th>\n",
       "      <th>Murmur</th>\n",
       "      <th>Murmur locations</th>\n",
       "      <th>Most audible location</th>\n",
       "      <th>...</th>\n",
       "      <th>Systolic murmur grading</th>\n",
       "      <th>Systolic murmur pitch</th>\n",
       "      <th>Systolic murmur quality</th>\n",
       "      <th>Diastolic murmur timing</th>\n",
       "      <th>Diastolic murmur shape</th>\n",
       "      <th>Diastolic murmur grading</th>\n",
       "      <th>Diastolic murmur pitch</th>\n",
       "      <th>Diastolic murmur quality</th>\n",
       "      <th>Campaign</th>\n",
       "      <th>Additional ID</th>\n",
       "    </tr>\n",
       "  </thead>\n",
       "  <tbody>\n",
       "    <tr>\n",
       "      <th>0</th>\n",
       "      <td>2530</td>\n",
       "      <td>AV+PV+TV+MV</td>\n",
       "      <td>Child</td>\n",
       "      <td>Female</td>\n",
       "      <td>98.0</td>\n",
       "      <td>15.9</td>\n",
       "      <td>False</td>\n",
       "      <td>Absent</td>\n",
       "      <td>NaN</td>\n",
       "      <td>NaN</td>\n",
       "      <td>...</td>\n",
       "      <td>NaN</td>\n",
       "      <td>NaN</td>\n",
       "      <td>NaN</td>\n",
       "      <td>NaN</td>\n",
       "      <td>NaN</td>\n",
       "      <td>NaN</td>\n",
       "      <td>NaN</td>\n",
       "      <td>NaN</td>\n",
       "      <td>CC2015</td>\n",
       "      <td>NaN</td>\n",
       "    </tr>\n",
       "    <tr>\n",
       "      <th>1</th>\n",
       "      <td>9979</td>\n",
       "      <td>AV+PV+TV+MV</td>\n",
       "      <td>Child</td>\n",
       "      <td>Female</td>\n",
       "      <td>103.0</td>\n",
       "      <td>13.1</td>\n",
       "      <td>False</td>\n",
       "      <td>Present</td>\n",
       "      <td>AV+MV+PV+TV</td>\n",
       "      <td>TV</td>\n",
       "      <td>...</td>\n",
       "      <td>III/VI</td>\n",
       "      <td>High</td>\n",
       "      <td>Harsh</td>\n",
       "      <td>NaN</td>\n",
       "      <td>NaN</td>\n",
       "      <td>NaN</td>\n",
       "      <td>NaN</td>\n",
       "      <td>NaN</td>\n",
       "      <td>CC2015</td>\n",
       "      <td>NaN</td>\n",
       "    </tr>\n",
       "    <tr>\n",
       "      <th>2</th>\n",
       "      <td>9983</td>\n",
       "      <td>AV+PV+TV+MV</td>\n",
       "      <td>Child</td>\n",
       "      <td>Male</td>\n",
       "      <td>115.0</td>\n",
       "      <td>19.1</td>\n",
       "      <td>False</td>\n",
       "      <td>Unknown</td>\n",
       "      <td>NaN</td>\n",
       "      <td>NaN</td>\n",
       "      <td>...</td>\n",
       "      <td>NaN</td>\n",
       "      <td>NaN</td>\n",
       "      <td>NaN</td>\n",
       "      <td>NaN</td>\n",
       "      <td>NaN</td>\n",
       "      <td>NaN</td>\n",
       "      <td>NaN</td>\n",
       "      <td>NaN</td>\n",
       "      <td>CC2015</td>\n",
       "      <td>NaN</td>\n",
       "    </tr>\n",
       "    <tr>\n",
       "      <th>3</th>\n",
       "      <td>13918</td>\n",
       "      <td>AV+PV+TV+MV</td>\n",
       "      <td>Child</td>\n",
       "      <td>Male</td>\n",
       "      <td>98.0</td>\n",
       "      <td>15.9</td>\n",
       "      <td>False</td>\n",
       "      <td>Present</td>\n",
       "      <td>TV</td>\n",
       "      <td>TV</td>\n",
       "      <td>...</td>\n",
       "      <td>I/VI</td>\n",
       "      <td>Low</td>\n",
       "      <td>Blowing</td>\n",
       "      <td>NaN</td>\n",
       "      <td>NaN</td>\n",
       "      <td>NaN</td>\n",
       "      <td>NaN</td>\n",
       "      <td>NaN</td>\n",
       "      <td>CC2015</td>\n",
       "      <td>NaN</td>\n",
       "    </tr>\n",
       "    <tr>\n",
       "      <th>4</th>\n",
       "      <td>14241</td>\n",
       "      <td>AV+PV+TV+MV</td>\n",
       "      <td>Child</td>\n",
       "      <td>Male</td>\n",
       "      <td>87.0</td>\n",
       "      <td>11.2</td>\n",
       "      <td>False</td>\n",
       "      <td>Present</td>\n",
       "      <td>AV+MV+PV+TV</td>\n",
       "      <td>PV</td>\n",
       "      <td>...</td>\n",
       "      <td>II/VI</td>\n",
       "      <td>Low</td>\n",
       "      <td>Harsh</td>\n",
       "      <td>NaN</td>\n",
       "      <td>NaN</td>\n",
       "      <td>NaN</td>\n",
       "      <td>NaN</td>\n",
       "      <td>NaN</td>\n",
       "      <td>CC2015</td>\n",
       "      <td>NaN</td>\n",
       "    </tr>\n",
       "    <tr>\n",
       "      <th>...</th>\n",
       "      <td>...</td>\n",
       "      <td>...</td>\n",
       "      <td>...</td>\n",
       "      <td>...</td>\n",
       "      <td>...</td>\n",
       "      <td>...</td>\n",
       "      <td>...</td>\n",
       "      <td>...</td>\n",
       "      <td>...</td>\n",
       "      <td>...</td>\n",
       "      <td>...</td>\n",
       "      <td>...</td>\n",
       "      <td>...</td>\n",
       "      <td>...</td>\n",
       "      <td>...</td>\n",
       "      <td>...</td>\n",
       "      <td>...</td>\n",
       "      <td>...</td>\n",
       "      <td>...</td>\n",
       "      <td>...</td>\n",
       "      <td>...</td>\n",
       "    </tr>\n",
       "    <tr>\n",
       "      <th>937</th>\n",
       "      <td>85340</td>\n",
       "      <td>AV+PV+TV+MV</td>\n",
       "      <td>Child</td>\n",
       "      <td>Male</td>\n",
       "      <td>105.0</td>\n",
       "      <td>16.6</td>\n",
       "      <td>False</td>\n",
       "      <td>Absent</td>\n",
       "      <td>NaN</td>\n",
       "      <td>NaN</td>\n",
       "      <td>...</td>\n",
       "      <td>NaN</td>\n",
       "      <td>NaN</td>\n",
       "      <td>NaN</td>\n",
       "      <td>NaN</td>\n",
       "      <td>NaN</td>\n",
       "      <td>NaN</td>\n",
       "      <td>NaN</td>\n",
       "      <td>NaN</td>\n",
       "      <td>CC2015</td>\n",
       "      <td>NaN</td>\n",
       "    </tr>\n",
       "    <tr>\n",
       "      <th>938</th>\n",
       "      <td>85341</td>\n",
       "      <td>AV+PV+TV+MV</td>\n",
       "      <td>Child</td>\n",
       "      <td>Male</td>\n",
       "      <td>92.0</td>\n",
       "      <td>15.2</td>\n",
       "      <td>False</td>\n",
       "      <td>Absent</td>\n",
       "      <td>NaN</td>\n",
       "      <td>NaN</td>\n",
       "      <td>...</td>\n",
       "      <td>NaN</td>\n",
       "      <td>NaN</td>\n",
       "      <td>NaN</td>\n",
       "      <td>NaN</td>\n",
       "      <td>NaN</td>\n",
       "      <td>NaN</td>\n",
       "      <td>NaN</td>\n",
       "      <td>NaN</td>\n",
       "      <td>CC2015</td>\n",
       "      <td>NaN</td>\n",
       "    </tr>\n",
       "    <tr>\n",
       "      <th>939</th>\n",
       "      <td>85343</td>\n",
       "      <td>AV+PV+TV+MV</td>\n",
       "      <td>Child</td>\n",
       "      <td>Female</td>\n",
       "      <td>97.0</td>\n",
       "      <td>13.5</td>\n",
       "      <td>False</td>\n",
       "      <td>Present</td>\n",
       "      <td>MV+TV</td>\n",
       "      <td>TV</td>\n",
       "      <td>...</td>\n",
       "      <td>I/VI</td>\n",
       "      <td>Low</td>\n",
       "      <td>Blowing</td>\n",
       "      <td>NaN</td>\n",
       "      <td>NaN</td>\n",
       "      <td>NaN</td>\n",
       "      <td>NaN</td>\n",
       "      <td>NaN</td>\n",
       "      <td>CC2015</td>\n",
       "      <td>NaN</td>\n",
       "    </tr>\n",
       "    <tr>\n",
       "      <th>940</th>\n",
       "      <td>85345</td>\n",
       "      <td>AV+PV</td>\n",
       "      <td>Child</td>\n",
       "      <td>Female</td>\n",
       "      <td>132.0</td>\n",
       "      <td>38.1</td>\n",
       "      <td>False</td>\n",
       "      <td>Absent</td>\n",
       "      <td>NaN</td>\n",
       "      <td>NaN</td>\n",
       "      <td>...</td>\n",
       "      <td>NaN</td>\n",
       "      <td>NaN</td>\n",
       "      <td>NaN</td>\n",
       "      <td>NaN</td>\n",
       "      <td>NaN</td>\n",
       "      <td>NaN</td>\n",
       "      <td>NaN</td>\n",
       "      <td>NaN</td>\n",
       "      <td>CC2015</td>\n",
       "      <td>NaN</td>\n",
       "    </tr>\n",
       "    <tr>\n",
       "      <th>941</th>\n",
       "      <td>85349</td>\n",
       "      <td>AV+PV+TV</td>\n",
       "      <td>NaN</td>\n",
       "      <td>Female</td>\n",
       "      <td>NaN</td>\n",
       "      <td>NaN</td>\n",
       "      <td>True</td>\n",
       "      <td>Absent</td>\n",
       "      <td>NaN</td>\n",
       "      <td>NaN</td>\n",
       "      <td>...</td>\n",
       "      <td>NaN</td>\n",
       "      <td>NaN</td>\n",
       "      <td>NaN</td>\n",
       "      <td>NaN</td>\n",
       "      <td>NaN</td>\n",
       "      <td>NaN</td>\n",
       "      <td>NaN</td>\n",
       "      <td>NaN</td>\n",
       "      <td>CC2015</td>\n",
       "      <td>NaN</td>\n",
       "    </tr>\n",
       "  </tbody>\n",
       "</table>\n",
       "<p>942 rows × 22 columns</p>\n",
       "</div>"
      ],
      "text/plain": [
       "     Patient ID    Locations    Age     Sex  Height  Weight  Pregnancy status  \\\n",
       "0          2530  AV+PV+TV+MV  Child  Female    98.0    15.9             False   \n",
       "1          9979  AV+PV+TV+MV  Child  Female   103.0    13.1             False   \n",
       "2          9983  AV+PV+TV+MV  Child    Male   115.0    19.1             False   \n",
       "3         13918  AV+PV+TV+MV  Child    Male    98.0    15.9             False   \n",
       "4         14241  AV+PV+TV+MV  Child    Male    87.0    11.2             False   \n",
       "..          ...          ...    ...     ...     ...     ...               ...   \n",
       "937       85340  AV+PV+TV+MV  Child    Male   105.0    16.6             False   \n",
       "938       85341  AV+PV+TV+MV  Child    Male    92.0    15.2             False   \n",
       "939       85343  AV+PV+TV+MV  Child  Female    97.0    13.5             False   \n",
       "940       85345        AV+PV  Child  Female   132.0    38.1             False   \n",
       "941       85349     AV+PV+TV    NaN  Female     NaN     NaN              True   \n",
       "\n",
       "      Murmur Murmur locations Most audible location  ...  \\\n",
       "0     Absent              NaN                   NaN  ...   \n",
       "1    Present      AV+MV+PV+TV                    TV  ...   \n",
       "2    Unknown              NaN                   NaN  ...   \n",
       "3    Present               TV                    TV  ...   \n",
       "4    Present      AV+MV+PV+TV                    PV  ...   \n",
       "..       ...              ...                   ...  ...   \n",
       "937   Absent              NaN                   NaN  ...   \n",
       "938   Absent              NaN                   NaN  ...   \n",
       "939  Present            MV+TV                    TV  ...   \n",
       "940   Absent              NaN                   NaN  ...   \n",
       "941   Absent              NaN                   NaN  ...   \n",
       "\n",
       "    Systolic murmur grading Systolic murmur pitch Systolic murmur quality  \\\n",
       "0                       NaN                   NaN                     NaN   \n",
       "1                    III/VI                  High                   Harsh   \n",
       "2                       NaN                   NaN                     NaN   \n",
       "3                      I/VI                   Low                 Blowing   \n",
       "4                     II/VI                   Low                   Harsh   \n",
       "..                      ...                   ...                     ...   \n",
       "937                     NaN                   NaN                     NaN   \n",
       "938                     NaN                   NaN                     NaN   \n",
       "939                    I/VI                   Low                 Blowing   \n",
       "940                     NaN                   NaN                     NaN   \n",
       "941                     NaN                   NaN                     NaN   \n",
       "\n",
       "    Diastolic murmur timing Diastolic murmur shape Diastolic murmur grading  \\\n",
       "0                       NaN                    NaN                      NaN   \n",
       "1                       NaN                    NaN                      NaN   \n",
       "2                       NaN                    NaN                      NaN   \n",
       "3                       NaN                    NaN                      NaN   \n",
       "4                       NaN                    NaN                      NaN   \n",
       "..                      ...                    ...                      ...   \n",
       "937                     NaN                    NaN                      NaN   \n",
       "938                     NaN                    NaN                      NaN   \n",
       "939                     NaN                    NaN                      NaN   \n",
       "940                     NaN                    NaN                      NaN   \n",
       "941                     NaN                    NaN                      NaN   \n",
       "\n",
       "    Diastolic murmur pitch Diastolic murmur quality Campaign Additional ID  \n",
       "0                      NaN                      NaN   CC2015           NaN  \n",
       "1                      NaN                      NaN   CC2015           NaN  \n",
       "2                      NaN                      NaN   CC2015           NaN  \n",
       "3                      NaN                      NaN   CC2015           NaN  \n",
       "4                      NaN                      NaN   CC2015           NaN  \n",
       "..                     ...                      ...      ...           ...  \n",
       "937                    NaN                      NaN   CC2015           NaN  \n",
       "938                    NaN                      NaN   CC2015           NaN  \n",
       "939                    NaN                      NaN   CC2015           NaN  \n",
       "940                    NaN                      NaN   CC2015           NaN  \n",
       "941                    NaN                      NaN   CC2015           NaN  \n",
       "\n",
       "[942 rows x 22 columns]"
      ]
     },
     "execution_count": 2,
     "metadata": {},
     "output_type": "execute_result"
    }
   ],
   "source": [
    "# importing data annotations as a df\n",
    "patient_info = pd.read_csv('/Users/jmd/Documents/BOOTCAMP/Capstone/the-circor-digiscope-phonocardiogram-dataset-1.0.1/training_data.csv')\n",
    "patient_info"
   ]
  },
  {
   "cell_type": "code",
   "execution_count": 3,
   "id": "67786dbf-8515-42cd-9c12-4a4cd8575cab",
   "metadata": {},
   "outputs": [
    {
     "data": {
      "text/plain": [
       "Index(['Patient ID', 'Locations', 'Age', 'Sex', 'Height', 'Weight',\n",
       "       'Pregnancy status', 'Murmur', 'Murmur locations',\n",
       "       'Most audible location', 'Systolic murmur timing',\n",
       "       'Systolic murmur shape', 'Systolic murmur grading',\n",
       "       'Systolic murmur pitch', 'Systolic murmur quality',\n",
       "       'Diastolic murmur timing', 'Diastolic murmur shape',\n",
       "       'Diastolic murmur grading', 'Diastolic murmur pitch',\n",
       "       'Diastolic murmur quality', 'Campaign', 'Additional ID'],\n",
       "      dtype='object')"
      ]
     },
     "execution_count": 3,
     "metadata": {},
     "output_type": "execute_result"
    }
   ],
   "source": [
    "patient_info.columns"
   ]
  },
  {
   "cell_type": "code",
   "execution_count": 4,
   "id": "5d2290a7-7e00-4793-8f48-ccd0cba5720f",
   "metadata": {},
   "outputs": [],
   "source": [
    "training_folder_path = '/Users/jmd/Documents/BOOTCAMP/Capstone/the-circor-digiscope-phonocardiogram-dataset-1.0.1/training_data/'"
   ]
  },
  {
   "cell_type": "markdown",
   "id": "dc735f9c-c993-4065-9340-ddc73e299a0e",
   "metadata": {},
   "source": [
    "Looping over the files in my training data and importing with a 4k sampling rate - reason for this is that further exploration of the data later down the line revealed that the important frequencies are all less than 2000 Hz. Choosing a sampling rate of twice that to satisfy the Nyquist-Shannon Sampling Theorem. "
   ]
  },
  {
   "cell_type": "code",
   "execution_count": 5,
   "id": "61ff8a4e-67b7-4908-9994-4f6340903d1d",
   "metadata": {},
   "outputs": [],
   "source": [
    "sr = 4096"
   ]
  },
  {
   "cell_type": "code",
   "execution_count": 6,
   "id": "7786908b-45ee-43a4-b863-d76cb72e4409",
   "metadata": {
    "tags": []
   },
   "outputs": [
    {
     "data": {
      "text/plain": [
       "'3150 files loaded'"
      ]
     },
     "metadata": {},
     "output_type": "display_data"
    }
   ],
   "source": [
    "filenames = []\n",
    "signals = []\n",
    "\n",
    "i = 0\n",
    "\n",
    "for file in os.listdir(training_folder_path):\n",
    "    filename = os.fsdecode(file)\n",
    "    if filename.endswith(\".wav\"):\n",
    "        signal, sr = librosa.load(training_folder_path + file, sr = sr)\n",
    "        filenames.append(filename.split('.')[0])\n",
    "        signals.append(signal)\n",
    "        i += 1\n",
    "    if i % 50 == 0:\n",
    "        clear_output(wait=True)\n",
    "        display(f\"{i} files loaded\")\n",
    "    else:\n",
    "        continue"
   ]
  },
  {
   "cell_type": "code",
   "execution_count": 7,
   "id": "17172af2-651c-4a3c-9740-a4f33e15d20b",
   "metadata": {},
   "outputs": [],
   "source": [
    "signal_locations = []\n",
    "for file in filenames:\n",
    "    signal_locations.append(file.split('_')[1])\n",
    "\n",
    "signal_patient_ids = []\n",
    "for file in filenames:\n",
    "    signal_patient_ids.append(file.split('_')[0])"
   ]
  },
  {
   "cell_type": "code",
   "execution_count": 8,
   "id": "eb57d36d-9be9-4ab7-839c-ede06df43abe",
   "metadata": {},
   "outputs": [],
   "source": [
    "signal_df = pd.DataFrame({'signal_patient_id': signal_patient_ids,\n",
    "                         'location': signal_locations,\n",
    "                         'signal': signals},\n",
    "                         columns=['signal_patient_id','location','signal'])"
   ]
  },
  {
   "cell_type": "code",
   "execution_count": 9,
   "id": "4983f662-b7cd-4e93-a36d-66a086c182e0",
   "metadata": {},
   "outputs": [],
   "source": [
    "signal_df['signal_patient_id'] = signal_df['signal_patient_id'].astype('int')"
   ]
  },
  {
   "cell_type": "code",
   "execution_count": 10,
   "id": "d2ee7e05-f8fd-4589-82e0-07af1670bab3",
   "metadata": {},
   "outputs": [
    {
     "data": {
      "text/html": [
       "<div>\n",
       "<style scoped>\n",
       "    .dataframe tbody tr th:only-of-type {\n",
       "        vertical-align: middle;\n",
       "    }\n",
       "\n",
       "    .dataframe tbody tr th {\n",
       "        vertical-align: top;\n",
       "    }\n",
       "\n",
       "    .dataframe thead th {\n",
       "        text-align: right;\n",
       "    }\n",
       "</style>\n",
       "<table border=\"1\" class=\"dataframe\">\n",
       "  <thead>\n",
       "    <tr style=\"text-align: right;\">\n",
       "      <th></th>\n",
       "      <th>signal_patient_id</th>\n",
       "      <th>location</th>\n",
       "      <th>signal</th>\n",
       "    </tr>\n",
       "  </thead>\n",
       "  <tbody>\n",
       "    <tr>\n",
       "      <th>0</th>\n",
       "      <td>2530</td>\n",
       "      <td>PV</td>\n",
       "      <td>[0.07682987, 0.06061038, 0.039170958, 0.048250...</td>\n",
       "    </tr>\n",
       "    <tr>\n",
       "      <th>1</th>\n",
       "      <td>2530</td>\n",
       "      <td>AV</td>\n",
       "      <td>[-0.01187718, 0.029969877, 0.01927742, -0.0206...</td>\n",
       "    </tr>\n",
       "    <tr>\n",
       "      <th>2</th>\n",
       "      <td>2530</td>\n",
       "      <td>MV</td>\n",
       "      <td>[0.37442628, 0.32439327, 0.095518045, -0.06558...</td>\n",
       "    </tr>\n",
       "    <tr>\n",
       "      <th>3</th>\n",
       "      <td>2530</td>\n",
       "      <td>TV</td>\n",
       "      <td>[0.06770988, 0.073658854, 0.072224066, 0.08253...</td>\n",
       "    </tr>\n",
       "    <tr>\n",
       "      <th>4</th>\n",
       "      <td>9979</td>\n",
       "      <td>MV</td>\n",
       "      <td>[0.15039496, 0.18560724, 0.17212218, 0.1603406...</td>\n",
       "    </tr>\n",
       "    <tr>\n",
       "      <th>...</th>\n",
       "      <td>...</td>\n",
       "      <td>...</td>\n",
       "      <td>...</td>\n",
       "    </tr>\n",
       "    <tr>\n",
       "      <th>3158</th>\n",
       "      <td>85345</td>\n",
       "      <td>AV</td>\n",
       "      <td>[0.03814805, 0.06008572, 0.03808801, -0.008758...</td>\n",
       "    </tr>\n",
       "    <tr>\n",
       "      <th>3159</th>\n",
       "      <td>85345</td>\n",
       "      <td>PV</td>\n",
       "      <td>[-0.0061015976, 0.029588033, 0.020953469, 0.00...</td>\n",
       "    </tr>\n",
       "    <tr>\n",
       "      <th>3160</th>\n",
       "      <td>85349</td>\n",
       "      <td>AV</td>\n",
       "      <td>[0.00026825635, 0.0034792388, 0.014762115, -0....</td>\n",
       "    </tr>\n",
       "    <tr>\n",
       "      <th>3161</th>\n",
       "      <td>85349</td>\n",
       "      <td>PV</td>\n",
       "      <td>[0.1387334, 0.08302983, 0.13867667, -0.0078439...</td>\n",
       "    </tr>\n",
       "    <tr>\n",
       "      <th>3162</th>\n",
       "      <td>85349</td>\n",
       "      <td>TV</td>\n",
       "      <td>[0.20991552, 0.118048884, -0.0015913057, 0.006...</td>\n",
       "    </tr>\n",
       "  </tbody>\n",
       "</table>\n",
       "<p>3163 rows × 3 columns</p>\n",
       "</div>"
      ],
      "text/plain": [
       "      signal_patient_id location  \\\n",
       "0                  2530       PV   \n",
       "1                  2530       AV   \n",
       "2                  2530       MV   \n",
       "3                  2530       TV   \n",
       "4                  9979       MV   \n",
       "...                 ...      ...   \n",
       "3158              85345       AV   \n",
       "3159              85345       PV   \n",
       "3160              85349       AV   \n",
       "3161              85349       PV   \n",
       "3162              85349       TV   \n",
       "\n",
       "                                                 signal  \n",
       "0     [0.07682987, 0.06061038, 0.039170958, 0.048250...  \n",
       "1     [-0.01187718, 0.029969877, 0.01927742, -0.0206...  \n",
       "2     [0.37442628, 0.32439327, 0.095518045, -0.06558...  \n",
       "3     [0.06770988, 0.073658854, 0.072224066, 0.08253...  \n",
       "4     [0.15039496, 0.18560724, 0.17212218, 0.1603406...  \n",
       "...                                                 ...  \n",
       "3158  [0.03814805, 0.06008572, 0.03808801, -0.008758...  \n",
       "3159  [-0.0061015976, 0.029588033, 0.020953469, 0.00...  \n",
       "3160  [0.00026825635, 0.0034792388, 0.014762115, -0....  \n",
       "3161  [0.1387334, 0.08302983, 0.13867667, -0.0078439...  \n",
       "3162  [0.20991552, 0.118048884, -0.0015913057, 0.006...  \n",
       "\n",
       "[3163 rows x 3 columns]"
      ]
     },
     "execution_count": 10,
     "metadata": {},
     "output_type": "execute_result"
    }
   ],
   "source": [
    "signal_df.sort_values(by='signal_patient_id').reset_index(drop=True)"
   ]
  },
  {
   "cell_type": "code",
   "execution_count": 11,
   "id": "74963d95-b849-4767-b946-887773fb040e",
   "metadata": {},
   "outputs": [],
   "source": [
    "patient_info['location_count'] = 0\n",
    "for i in range(0,len(patient_info['location_count'])):\n",
    "    patient_info.at[i,'location_count'] = len(patient_info['Locations'][i].split('+'))"
   ]
  },
  {
   "cell_type": "code",
   "execution_count": 12,
   "id": "737bacf6-11b5-48a2-b9ef-109ba3bb8c8c",
   "metadata": {},
   "outputs": [],
   "source": [
    "patient_info = patient_info.loc[patient_info.index.repeat(patient_info.location_count)]"
   ]
  },
  {
   "cell_type": "code",
   "execution_count": 13,
   "id": "cb55d90a-75c4-4b70-8d4c-0b3d337b5e43",
   "metadata": {},
   "outputs": [],
   "source": [
    "patient_info.reset_index(drop=True,inplace=True)"
   ]
  },
  {
   "cell_type": "code",
   "execution_count": 14,
   "id": "fff01f82-adbd-4f67-8712-2bd64faa14f4",
   "metadata": {},
   "outputs": [],
   "source": [
    "final_patient_info = pd.concat([patient_info.reset_index(drop=True),\n",
    "                                signal_df.sort_values(by='signal_patient_id').reset_index(drop=True)], axis=1)"
   ]
  },
  {
   "cell_type": "code",
   "execution_count": 15,
   "id": "0013eb7f-7380-40d1-86dc-1caf13b4296b",
   "metadata": {},
   "outputs": [
    {
     "data": {
      "text/plain": [
       "Index(['Patient ID', 'Locations', 'Age', 'Sex', 'Height', 'Weight',\n",
       "       'Pregnancy status', 'Murmur', 'Murmur locations',\n",
       "       'Most audible location', 'Systolic murmur timing',\n",
       "       'Systolic murmur shape', 'Systolic murmur grading',\n",
       "       'Systolic murmur pitch', 'Systolic murmur quality',\n",
       "       'Diastolic murmur timing', 'Diastolic murmur shape',\n",
       "       'Diastolic murmur grading', 'Diastolic murmur pitch',\n",
       "       'Diastolic murmur quality', 'Campaign', 'Additional ID',\n",
       "       'location_count', 'signal_patient_id', 'location', 'signal'],\n",
       "      dtype='object')"
      ]
     },
     "execution_count": 15,
     "metadata": {},
     "output_type": "execute_result"
    }
   ],
   "source": [
    "final_patient_info.columns"
   ]
  },
  {
   "cell_type": "code",
   "execution_count": 16,
   "id": "9397a94c-ed1a-44d8-9a94-0d4b44fc8026",
   "metadata": {},
   "outputs": [],
   "source": [
    "np.save('/Users/jmd/Documents/BOOTCAMP/Capstone/patient_signals_4k.npy', final_patient_info.to_numpy())"
   ]
  },
  {
   "cell_type": "code",
   "execution_count": 17,
   "id": "e756055d-b1ea-47d6-915a-1757716b405b",
   "metadata": {},
   "outputs": [],
   "source": [
    "test_df = pd.DataFrame(data = np.load('/Users/jmd/Documents/BOOTCAMP/Capstone/patient_signals_4k.npy', allow_pickle=True),\n",
    "                       columns=(final_patient_info.columns))"
   ]
  },
  {
   "cell_type": "code",
   "execution_count": 18,
   "id": "164e3f53-0c0f-45ef-b446-f734b5515e8c",
   "metadata": {},
   "outputs": [
    {
     "data": {
      "text/plain": [
       "(3163, 26)"
      ]
     },
     "execution_count": 18,
     "metadata": {},
     "output_type": "execute_result"
    }
   ],
   "source": [
    "test_df.shape"
   ]
  },
  {
   "cell_type": "code",
   "execution_count": 19,
   "id": "df886283-8efe-4730-a40d-f14c7020723c",
   "metadata": {},
   "outputs": [
    {
     "data": {
      "text/plain": [
       "53478"
      ]
     },
     "execution_count": 19,
     "metadata": {},
     "output_type": "execute_result"
    }
   ],
   "source": [
    "len(test_df['signal'].to_list()[0])"
   ]
  },
  {
   "cell_type": "code",
   "execution_count": 20,
   "id": "01536ffb-87bb-4a08-b500-2fc4d5f326c0",
   "metadata": {},
   "outputs": [
    {
     "data": {
      "text/plain": [
       "(3163, 26)"
      ]
     },
     "execution_count": 20,
     "metadata": {},
     "output_type": "execute_result"
    }
   ],
   "source": [
    "final_patient_info.shape"
   ]
  },
  {
   "cell_type": "code",
   "execution_count": 21,
   "id": "761df0e0-1f3f-4308-95dd-fdbcc9d53bf0",
   "metadata": {},
   "outputs": [
    {
     "data": {
      "text/plain": [
       "53478"
      ]
     },
     "execution_count": 21,
     "metadata": {},
     "output_type": "execute_result"
    }
   ],
   "source": [
    "len(final_patient_info['signal'].to_list()[0])"
   ]
  }
 ],
 "metadata": {
  "kernelspec": {
   "display_name": "capstone",
   "language": "python",
   "name": "capstone"
  },
  "language_info": {
   "codemirror_mode": {
    "name": "ipython",
    "version": 3
   },
   "file_extension": ".py",
   "mimetype": "text/x-python",
   "name": "python",
   "nbconvert_exporter": "python",
   "pygments_lexer": "ipython3",
   "version": "3.8.12"
  }
 },
 "nbformat": 4,
 "nbformat_minor": 5
}
