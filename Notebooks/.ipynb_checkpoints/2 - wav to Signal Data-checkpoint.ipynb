{
 "cells": [
  {
   "cell_type": "markdown",
   "id": "447dcfd6-677e-4838-a4ce-89ce0072ebbd",
   "metadata": {},
   "source": [
    "# Creating Signal Data"
   ]
  },
  {
   "cell_type": "markdown",
   "id": "e1e9d9ca-1d62-4103-b17c-746cb332f967",
   "metadata": {},
   "source": [
    "Author: Jake Dumbauld <br>\n",
    "Contact: jacobmilodumbauld@gmail.com<br>\n",
    "Date: 3.15.22"
   ]
  },
  {
   "cell_type": "markdown",
   "id": "6a8da0a1-afd6-4894-93db-78b9aa1873d1",
   "metadata": {},
   "source": [
    "## Introduction"
   ]
  },
  {
   "cell_type": "markdown",
   "id": "01e813c3-1bf4-46d6-8ecd-477525976ecd",
   "metadata": {},
   "source": [
    "The purpose of this notebook was to convert all of the .wav files into signal data at varying sampling rates (sr) to be used in different types of modelling. I initially only created 4k sr data, and this data was used to train simple statistical models (logreg, SVM, KNN). However later I returned to this notebook to create 1k sr data through the same process. More details on that to come later."
   ]
  },
  {
   "cell_type": "markdown",
   "id": "bf0ce30e-f477-41d8-8341-ff1467112dfe",
   "metadata": {},
   "source": [
    "## Imports"
   ]
  },
  {
   "cell_type": "code",
   "execution_count": 1,
   "id": "03c27a3b-efaa-4734-ab79-cc13f6685ac0",
   "metadata": {},
   "outputs": [],
   "source": [
    "# importing libraries\n",
    "\n",
    "import numpy as np\n",
    "import pandas as pd\n",
    "import matplotlib.pyplot as plt\n",
    "\n",
    "import librosa\n",
    "import librosa.display\n",
    "import IPython\n",
    "\n",
    "import os\n",
    "from random import uniform\n",
    "import time\n",
    "from IPython.display import display, clear_output"
   ]
  },
  {
   "cell_type": "code",
   "execution_count": 2,
   "id": "a0ddfaf0-8ce0-4aaa-ae13-a653638272a9",
   "metadata": {},
   "outputs": [],
   "source": [
    "root_path = '/Users/jmd/Documents/BOOTCAMP/Capstone/'"
   ]
  },
  {
   "cell_type": "markdown",
   "id": "db25a727-3df5-45c3-b8eb-648151ddc91c",
   "metadata": {},
   "source": [
    "The first step in investigating my data was to import the training data csv. This file contained information on each of the patients in the sample, as well as qualitative and quantitative information about the murmurs heard if applicable. We'll dissect this further in notebook 5."
   ]
  },
  {
   "cell_type": "code",
   "execution_count": 3,
   "id": "140dd527-cf0f-4aa4-b251-0f083c767962",
   "metadata": {},
   "outputs": [],
   "source": [
    "# importing data annotations as a df\n",
    "patient_info = pd.read_csv(root_path+'the-circor-digiscope-phonocardiogram-dataset-1.0.1/training_data.csv')"
   ]
  },
  {
   "cell_type": "code",
   "execution_count": 4,
   "id": "67786dbf-8515-42cd-9c12-4a4cd8575cab",
   "metadata": {},
   "outputs": [
    {
     "data": {
      "text/plain": [
       "Index(['Patient ID', 'Locations', 'Age', 'Sex', 'Height', 'Weight',\n",
       "       'Pregnancy status', 'Murmur', 'Murmur locations',\n",
       "       'Most audible location', 'Systolic murmur timing',\n",
       "       'Systolic murmur shape', 'Systolic murmur grading',\n",
       "       'Systolic murmur pitch', 'Systolic murmur quality',\n",
       "       'Diastolic murmur timing', 'Diastolic murmur shape',\n",
       "       'Diastolic murmur grading', 'Diastolic murmur pitch',\n",
       "       'Diastolic murmur quality', 'Campaign', 'Additional ID'],\n",
       "      dtype='object')"
      ]
     },
     "execution_count": 4,
     "metadata": {},
     "output_type": "execute_result"
    }
   ],
   "source": [
    "patient_info.columns"
   ]
  },
  {
   "cell_type": "code",
   "execution_count": 5,
   "id": "5d2290a7-7e00-4793-8f48-ccd0cba5720f",
   "metadata": {},
   "outputs": [],
   "source": [
    "training_folder_path = root_path + '/the-circor-digiscope-phonocardiogram-dataset-1.0.1/training_data/'"
   ]
  },
  {
   "cell_type": "markdown",
   "id": "ef06e910-3a70-4c84-bc21-ed9e6cefcce4",
   "metadata": {},
   "source": [
    "Within this folder are all of the .wav files I will transform into amplitude data below."
   ]
  },
  {
   "cell_type": "markdown",
   "id": "f321a727-bdca-476e-8d04-3eb6ee57181e",
   "metadata": {},
   "source": [
    "## Generating 4K Signals"
   ]
  },
  {
   "cell_type": "markdown",
   "id": "68519af2-f903-4400-839e-9669c885e4cc",
   "metadata": {},
   "source": [
    "Taking into consideration the information gathered in notebook 1, I will be Choosing a Sampling Rate of 4096. The reason for this is two-fold:\n",
    "- Fundamental heart sounds that I'm interested in are between 20 and 500 hz ([source](https://www.sciencedirect.com/topics/agricultural-and-biological-sciences/heart-sounds)). However, in review of the data I did find that there are frequencies ranging up to 2k hz, so I will increase the sampling rate to fully capture this sound. To satisfy the [Nyquist-Shannon Sampling Theorem](https://en.wikipedia.org/wiki/Nyquist%E2%80%93Shannon_sampling_theorem) I need to select a sr of at least 2x the max frequency that I'm trying to capture.\n",
    "- A sampling rate of 4096 as opposed to the standard 22khz reduces the amount of data we have to process by 1/5. Given the limited computing power I have available, this is a *huge* upside."
   ]
  },
  {
   "cell_type": "code",
   "execution_count": 6,
   "id": "61ff8a4e-67b7-4908-9994-4f6340903d1d",
   "metadata": {},
   "outputs": [],
   "source": [
    "sr = 4096"
   ]
  },
  {
   "cell_type": "markdown",
   "id": "9aaed1eb-9db4-41a2-915e-074004787795",
   "metadata": {},
   "source": [
    "The below code loops through each of the .wav files in the `training_folder_path` and converts them into signal data, appending them to a list. "
   ]
  },
  {
   "cell_type": "code",
   "execution_count": 7,
   "id": "7786908b-45ee-43a4-b863-d76cb72e4409",
   "metadata": {
    "tags": []
   },
   "outputs": [
    {
     "data": {
      "text/plain": [
       "'3150 files loaded'"
      ]
     },
     "metadata": {},
     "output_type": "display_data"
    }
   ],
   "source": [
    "filenames = []\n",
    "signals = []\n",
    "\n",
    "i = 0\n",
    "\n",
    "for file in os.listdir(training_folder_path):\n",
    "    filename = os.fsdecode(file)\n",
    "    if filename.endswith(\".wav\"):\n",
    "        signal, sr = librosa.load(training_folder_path + file, sr = sr)\n",
    "        filenames.append(filename.split('.')[0])\n",
    "        signals.append(signal)\n",
    "        i += 1\n",
    "    if i % 50 == 0:\n",
    "        clear_output(wait=True)\n",
    "        display(f\"{i} files loaded\")\n",
    "    else:\n",
    "        continue"
   ]
  },
  {
   "cell_type": "markdown",
   "id": "36e6ad83-a774-4333-93ca-613e2b8d1897",
   "metadata": {},
   "source": [
    "I also captured the `patient_ids` and `location` of each signal. This will be used in the final df/array I'll feed into the models.</br>\n",
    "Quick note: `location` refers to the position on the patient's body that the sound was recorded. Think about a time where a doctor was listening to your heart - they never listen at one spot do they? That's the idea here. The reason for this is that some heart sounds are more audible at some locations than others. Thus, each patient in this sample had multiple locations recorded. For a full data dictionary on the `patient_info` visit this [link](https://moody-challenge.physionet.org/2022/)"
   ]
  },
  {
   "cell_type": "code",
   "execution_count": 8,
   "id": "17172af2-651c-4a3c-9740-a4f33e15d20b",
   "metadata": {},
   "outputs": [],
   "source": [
    "signal_locations = []\n",
    "for file in filenames:\n",
    "    signal_locations.append(file.split('_')[1])\n",
    "\n",
    "signal_patient_ids = []\n",
    "for file in filenames:\n",
    "    signal_patient_ids.append(file.split('_')[0])"
   ]
  },
  {
   "cell_type": "markdown",
   "id": "521ff9ee-57a8-4bc0-a4f5-e0f31d3a1b87",
   "metadata": {},
   "source": [
    "Code to create a df with the signals, locations, and patient IDs."
   ]
  },
  {
   "cell_type": "code",
   "execution_count": 9,
   "id": "9cf20651-8903-4a3e-bcac-15e5a2cbab46",
   "metadata": {},
   "outputs": [
    {
     "data": {
      "text/html": [
       "<div>\n",
       "<style scoped>\n",
       "    .dataframe tbody tr th:only-of-type {\n",
       "        vertical-align: middle;\n",
       "    }\n",
       "\n",
       "    .dataframe tbody tr th {\n",
       "        vertical-align: top;\n",
       "    }\n",
       "\n",
       "    .dataframe thead th {\n",
       "        text-align: right;\n",
       "    }\n",
       "</style>\n",
       "<table border=\"1\" class=\"dataframe\">\n",
       "  <thead>\n",
       "    <tr style=\"text-align: right;\">\n",
       "      <th></th>\n",
       "      <th>signal_patient_id</th>\n",
       "      <th>location</th>\n",
       "      <th>signal</th>\n",
       "    </tr>\n",
       "  </thead>\n",
       "  <tbody>\n",
       "    <tr>\n",
       "      <th>0</th>\n",
       "      <td>2530</td>\n",
       "      <td>PV</td>\n",
       "      <td>[0.07682987, 0.06061038, 0.039170958, 0.048250...</td>\n",
       "    </tr>\n",
       "    <tr>\n",
       "      <th>1</th>\n",
       "      <td>2530</td>\n",
       "      <td>AV</td>\n",
       "      <td>[-0.01187718, 0.029969877, 0.01927742, -0.0206...</td>\n",
       "    </tr>\n",
       "    <tr>\n",
       "      <th>2</th>\n",
       "      <td>2530</td>\n",
       "      <td>MV</td>\n",
       "      <td>[0.37442628, 0.32439327, 0.095518045, -0.06558...</td>\n",
       "    </tr>\n",
       "    <tr>\n",
       "      <th>3</th>\n",
       "      <td>2530</td>\n",
       "      <td>TV</td>\n",
       "      <td>[0.06770988, 0.073658854, 0.072224066, 0.08253...</td>\n",
       "    </tr>\n",
       "    <tr>\n",
       "      <th>4</th>\n",
       "      <td>9979</td>\n",
       "      <td>MV</td>\n",
       "      <td>[0.15039496, 0.18560724, 0.17212218, 0.1603406...</td>\n",
       "    </tr>\n",
       "    <tr>\n",
       "      <th>...</th>\n",
       "      <td>...</td>\n",
       "      <td>...</td>\n",
       "      <td>...</td>\n",
       "    </tr>\n",
       "    <tr>\n",
       "      <th>3158</th>\n",
       "      <td>85345</td>\n",
       "      <td>AV</td>\n",
       "      <td>[0.03814805, 0.06008572, 0.03808801, -0.008758...</td>\n",
       "    </tr>\n",
       "    <tr>\n",
       "      <th>3159</th>\n",
       "      <td>85345</td>\n",
       "      <td>PV</td>\n",
       "      <td>[-0.0061015976, 0.029588033, 0.020953469, 0.00...</td>\n",
       "    </tr>\n",
       "    <tr>\n",
       "      <th>3160</th>\n",
       "      <td>85349</td>\n",
       "      <td>AV</td>\n",
       "      <td>[0.00026825635, 0.0034792388, 0.014762115, -0....</td>\n",
       "    </tr>\n",
       "    <tr>\n",
       "      <th>3161</th>\n",
       "      <td>85349</td>\n",
       "      <td>PV</td>\n",
       "      <td>[0.1387334, 0.08302983, 0.13867667, -0.0078439...</td>\n",
       "    </tr>\n",
       "    <tr>\n",
       "      <th>3162</th>\n",
       "      <td>85349</td>\n",
       "      <td>TV</td>\n",
       "      <td>[0.20991552, 0.118048884, -0.0015913057, 0.006...</td>\n",
       "    </tr>\n",
       "  </tbody>\n",
       "</table>\n",
       "<p>3163 rows × 3 columns</p>\n",
       "</div>"
      ],
      "text/plain": [
       "      signal_patient_id location  \\\n",
       "0                  2530       PV   \n",
       "1                  2530       AV   \n",
       "2                  2530       MV   \n",
       "3                  2530       TV   \n",
       "4                  9979       MV   \n",
       "...                 ...      ...   \n",
       "3158              85345       AV   \n",
       "3159              85345       PV   \n",
       "3160              85349       AV   \n",
       "3161              85349       PV   \n",
       "3162              85349       TV   \n",
       "\n",
       "                                                 signal  \n",
       "0     [0.07682987, 0.06061038, 0.039170958, 0.048250...  \n",
       "1     [-0.01187718, 0.029969877, 0.01927742, -0.0206...  \n",
       "2     [0.37442628, 0.32439327, 0.095518045, -0.06558...  \n",
       "3     [0.06770988, 0.073658854, 0.072224066, 0.08253...  \n",
       "4     [0.15039496, 0.18560724, 0.17212218, 0.1603406...  \n",
       "...                                                 ...  \n",
       "3158  [0.03814805, 0.06008572, 0.03808801, -0.008758...  \n",
       "3159  [-0.0061015976, 0.029588033, 0.020953469, 0.00...  \n",
       "3160  [0.00026825635, 0.0034792388, 0.014762115, -0....  \n",
       "3161  [0.1387334, 0.08302983, 0.13867667, -0.0078439...  \n",
       "3162  [0.20991552, 0.118048884, -0.0015913057, 0.006...  \n",
       "\n",
       "[3163 rows x 3 columns]"
      ]
     },
     "execution_count": 9,
     "metadata": {},
     "output_type": "execute_result"
    }
   ],
   "source": [
    "signal_df = pd.DataFrame({'signal_patient_id': signal_patient_ids,\n",
    "                         'location': signal_locations,\n",
    "                         'signal': signals},\n",
    "                         columns=['signal_patient_id','location','signal'])\n",
    "\n",
    "signal_df['signal_patient_id'] = signal_df['signal_patient_id'].astype('int')\n",
    "\n",
    "signal_df.sort_values(by='signal_patient_id').reset_index(drop=True)"
   ]
  },
  {
   "cell_type": "markdown",
   "id": "c5f803ac-9709-41d8-972e-088e6189b058",
   "metadata": {},
   "source": [
    "In order to fit this signal info to the patient information dataframe I initially imported, I have to expand the dataframe to be organized not by patient, but by patient and location as this is how the signal data is organized. "
   ]
  },
  {
   "cell_type": "markdown",
   "id": "5e5a925b-4873-408d-ad54-5be5484dfb94",
   "metadata": {},
   "source": [
    "This first block of code creates a new column that tracks how many locations (and thus how many audiofiles) were generated for each patient."
   ]
  },
  {
   "cell_type": "code",
   "execution_count": 10,
   "id": "74963d95-b849-4767-b946-887773fb040e",
   "metadata": {},
   "outputs": [],
   "source": [
    "patient_info['location_count'] = 0\n",
    "for i in range(0,len(patient_info['location_count'])):\n",
    "    patient_info.at[i,'location_count'] = len(patient_info['Locations'][i].split('+'))"
   ]
  },
  {
   "cell_type": "markdown",
   "id": "8d543786-6431-40ad-870d-4ec2815e8ca5",
   "metadata": {},
   "source": [
    "Then I repeated each of those rows for the number of locations, and reset the index."
   ]
  },
  {
   "cell_type": "code",
   "execution_count": 11,
   "id": "737bacf6-11b5-48a2-b9ef-109ba3bb8c8c",
   "metadata": {},
   "outputs": [],
   "source": [
    "patient_info = patient_info.loc[patient_info.index.repeat(patient_info.location_count)]\n",
    "patient_info.reset_index(drop=True,inplace=True)"
   ]
  },
  {
   "cell_type": "markdown",
   "id": "f49c2cf8-6ec8-493b-bf61-f835a085edf4",
   "metadata": {},
   "source": [
    "Finally, I concatenated this df with the signal information generated above to create a final data frame with all of the information from the patient df as well as the signal data. Each signal has an accompanying column that indicates the location it was recorded from. "
   ]
  },
  {
   "cell_type": "code",
   "execution_count": 14,
   "id": "fff01f82-adbd-4f67-8712-2bd64faa14f4",
   "metadata": {},
   "outputs": [
    {
     "data": {
      "text/html": [
       "<div>\n",
       "<style scoped>\n",
       "    .dataframe tbody tr th:only-of-type {\n",
       "        vertical-align: middle;\n",
       "    }\n",
       "\n",
       "    .dataframe tbody tr th {\n",
       "        vertical-align: top;\n",
       "    }\n",
       "\n",
       "    .dataframe thead th {\n",
       "        text-align: right;\n",
       "    }\n",
       "</style>\n",
       "<table border=\"1\" class=\"dataframe\">\n",
       "  <thead>\n",
       "    <tr style=\"text-align: right;\">\n",
       "      <th></th>\n",
       "      <th>Patient ID</th>\n",
       "      <th>Locations</th>\n",
       "      <th>Age</th>\n",
       "      <th>Sex</th>\n",
       "      <th>Height</th>\n",
       "      <th>Weight</th>\n",
       "      <th>Pregnancy status</th>\n",
       "      <th>Murmur</th>\n",
       "      <th>Murmur locations</th>\n",
       "      <th>Most audible location</th>\n",
       "      <th>...</th>\n",
       "      <th>Diastolic murmur shape</th>\n",
       "      <th>Diastolic murmur grading</th>\n",
       "      <th>Diastolic murmur pitch</th>\n",
       "      <th>Diastolic murmur quality</th>\n",
       "      <th>Campaign</th>\n",
       "      <th>Additional ID</th>\n",
       "      <th>location_count</th>\n",
       "      <th>signal_patient_id</th>\n",
       "      <th>location</th>\n",
       "      <th>signal</th>\n",
       "    </tr>\n",
       "  </thead>\n",
       "  <tbody>\n",
       "    <tr>\n",
       "      <th>0</th>\n",
       "      <td>2530</td>\n",
       "      <td>AV+PV+TV+MV</td>\n",
       "      <td>Child</td>\n",
       "      <td>Female</td>\n",
       "      <td>98.0</td>\n",
       "      <td>15.9</td>\n",
       "      <td>False</td>\n",
       "      <td>Absent</td>\n",
       "      <td>NaN</td>\n",
       "      <td>NaN</td>\n",
       "      <td>...</td>\n",
       "      <td>NaN</td>\n",
       "      <td>NaN</td>\n",
       "      <td>NaN</td>\n",
       "      <td>NaN</td>\n",
       "      <td>CC2015</td>\n",
       "      <td>NaN</td>\n",
       "      <td>4</td>\n",
       "      <td>2530</td>\n",
       "      <td>PV</td>\n",
       "      <td>[0.07682987, 0.06061038, 0.039170958, 0.048250...</td>\n",
       "    </tr>\n",
       "    <tr>\n",
       "      <th>1</th>\n",
       "      <td>2530</td>\n",
       "      <td>AV+PV+TV+MV</td>\n",
       "      <td>Child</td>\n",
       "      <td>Female</td>\n",
       "      <td>98.0</td>\n",
       "      <td>15.9</td>\n",
       "      <td>False</td>\n",
       "      <td>Absent</td>\n",
       "      <td>NaN</td>\n",
       "      <td>NaN</td>\n",
       "      <td>...</td>\n",
       "      <td>NaN</td>\n",
       "      <td>NaN</td>\n",
       "      <td>NaN</td>\n",
       "      <td>NaN</td>\n",
       "      <td>CC2015</td>\n",
       "      <td>NaN</td>\n",
       "      <td>4</td>\n",
       "      <td>2530</td>\n",
       "      <td>AV</td>\n",
       "      <td>[-0.01187718, 0.029969877, 0.01927742, -0.0206...</td>\n",
       "    </tr>\n",
       "    <tr>\n",
       "      <th>2</th>\n",
       "      <td>2530</td>\n",
       "      <td>AV+PV+TV+MV</td>\n",
       "      <td>Child</td>\n",
       "      <td>Female</td>\n",
       "      <td>98.0</td>\n",
       "      <td>15.9</td>\n",
       "      <td>False</td>\n",
       "      <td>Absent</td>\n",
       "      <td>NaN</td>\n",
       "      <td>NaN</td>\n",
       "      <td>...</td>\n",
       "      <td>NaN</td>\n",
       "      <td>NaN</td>\n",
       "      <td>NaN</td>\n",
       "      <td>NaN</td>\n",
       "      <td>CC2015</td>\n",
       "      <td>NaN</td>\n",
       "      <td>4</td>\n",
       "      <td>2530</td>\n",
       "      <td>MV</td>\n",
       "      <td>[0.37442628, 0.32439327, 0.095518045, -0.06558...</td>\n",
       "    </tr>\n",
       "    <tr>\n",
       "      <th>3</th>\n",
       "      <td>2530</td>\n",
       "      <td>AV+PV+TV+MV</td>\n",
       "      <td>Child</td>\n",
       "      <td>Female</td>\n",
       "      <td>98.0</td>\n",
       "      <td>15.9</td>\n",
       "      <td>False</td>\n",
       "      <td>Absent</td>\n",
       "      <td>NaN</td>\n",
       "      <td>NaN</td>\n",
       "      <td>...</td>\n",
       "      <td>NaN</td>\n",
       "      <td>NaN</td>\n",
       "      <td>NaN</td>\n",
       "      <td>NaN</td>\n",
       "      <td>CC2015</td>\n",
       "      <td>NaN</td>\n",
       "      <td>4</td>\n",
       "      <td>2530</td>\n",
       "      <td>TV</td>\n",
       "      <td>[0.06770988, 0.073658854, 0.072224066, 0.08253...</td>\n",
       "    </tr>\n",
       "    <tr>\n",
       "      <th>4</th>\n",
       "      <td>9979</td>\n",
       "      <td>AV+PV+TV+MV</td>\n",
       "      <td>Child</td>\n",
       "      <td>Female</td>\n",
       "      <td>103.0</td>\n",
       "      <td>13.1</td>\n",
       "      <td>False</td>\n",
       "      <td>Present</td>\n",
       "      <td>AV+MV+PV+TV</td>\n",
       "      <td>TV</td>\n",
       "      <td>...</td>\n",
       "      <td>NaN</td>\n",
       "      <td>NaN</td>\n",
       "      <td>NaN</td>\n",
       "      <td>NaN</td>\n",
       "      <td>CC2015</td>\n",
       "      <td>NaN</td>\n",
       "      <td>4</td>\n",
       "      <td>9979</td>\n",
       "      <td>MV</td>\n",
       "      <td>[0.15039496, 0.18560724, 0.17212218, 0.1603406...</td>\n",
       "    </tr>\n",
       "    <tr>\n",
       "      <th>...</th>\n",
       "      <td>...</td>\n",
       "      <td>...</td>\n",
       "      <td>...</td>\n",
       "      <td>...</td>\n",
       "      <td>...</td>\n",
       "      <td>...</td>\n",
       "      <td>...</td>\n",
       "      <td>...</td>\n",
       "      <td>...</td>\n",
       "      <td>...</td>\n",
       "      <td>...</td>\n",
       "      <td>...</td>\n",
       "      <td>...</td>\n",
       "      <td>...</td>\n",
       "      <td>...</td>\n",
       "      <td>...</td>\n",
       "      <td>...</td>\n",
       "      <td>...</td>\n",
       "      <td>...</td>\n",
       "      <td>...</td>\n",
       "      <td>...</td>\n",
       "    </tr>\n",
       "    <tr>\n",
       "      <th>3158</th>\n",
       "      <td>85345</td>\n",
       "      <td>AV+PV</td>\n",
       "      <td>Child</td>\n",
       "      <td>Female</td>\n",
       "      <td>132.0</td>\n",
       "      <td>38.1</td>\n",
       "      <td>False</td>\n",
       "      <td>Absent</td>\n",
       "      <td>NaN</td>\n",
       "      <td>NaN</td>\n",
       "      <td>...</td>\n",
       "      <td>NaN</td>\n",
       "      <td>NaN</td>\n",
       "      <td>NaN</td>\n",
       "      <td>NaN</td>\n",
       "      <td>CC2015</td>\n",
       "      <td>NaN</td>\n",
       "      <td>2</td>\n",
       "      <td>85345</td>\n",
       "      <td>AV</td>\n",
       "      <td>[0.03814805, 0.06008572, 0.03808801, -0.008758...</td>\n",
       "    </tr>\n",
       "    <tr>\n",
       "      <th>3159</th>\n",
       "      <td>85345</td>\n",
       "      <td>AV+PV</td>\n",
       "      <td>Child</td>\n",
       "      <td>Female</td>\n",
       "      <td>132.0</td>\n",
       "      <td>38.1</td>\n",
       "      <td>False</td>\n",
       "      <td>Absent</td>\n",
       "      <td>NaN</td>\n",
       "      <td>NaN</td>\n",
       "      <td>...</td>\n",
       "      <td>NaN</td>\n",
       "      <td>NaN</td>\n",
       "      <td>NaN</td>\n",
       "      <td>NaN</td>\n",
       "      <td>CC2015</td>\n",
       "      <td>NaN</td>\n",
       "      <td>2</td>\n",
       "      <td>85345</td>\n",
       "      <td>PV</td>\n",
       "      <td>[-0.0061015976, 0.029588033, 0.020953469, 0.00...</td>\n",
       "    </tr>\n",
       "    <tr>\n",
       "      <th>3160</th>\n",
       "      <td>85349</td>\n",
       "      <td>AV+PV+TV</td>\n",
       "      <td>NaN</td>\n",
       "      <td>Female</td>\n",
       "      <td>NaN</td>\n",
       "      <td>NaN</td>\n",
       "      <td>True</td>\n",
       "      <td>Absent</td>\n",
       "      <td>NaN</td>\n",
       "      <td>NaN</td>\n",
       "      <td>...</td>\n",
       "      <td>NaN</td>\n",
       "      <td>NaN</td>\n",
       "      <td>NaN</td>\n",
       "      <td>NaN</td>\n",
       "      <td>CC2015</td>\n",
       "      <td>NaN</td>\n",
       "      <td>3</td>\n",
       "      <td>85349</td>\n",
       "      <td>AV</td>\n",
       "      <td>[0.00026825635, 0.0034792388, 0.014762115, -0....</td>\n",
       "    </tr>\n",
       "    <tr>\n",
       "      <th>3161</th>\n",
       "      <td>85349</td>\n",
       "      <td>AV+PV+TV</td>\n",
       "      <td>NaN</td>\n",
       "      <td>Female</td>\n",
       "      <td>NaN</td>\n",
       "      <td>NaN</td>\n",
       "      <td>True</td>\n",
       "      <td>Absent</td>\n",
       "      <td>NaN</td>\n",
       "      <td>NaN</td>\n",
       "      <td>...</td>\n",
       "      <td>NaN</td>\n",
       "      <td>NaN</td>\n",
       "      <td>NaN</td>\n",
       "      <td>NaN</td>\n",
       "      <td>CC2015</td>\n",
       "      <td>NaN</td>\n",
       "      <td>3</td>\n",
       "      <td>85349</td>\n",
       "      <td>PV</td>\n",
       "      <td>[0.1387334, 0.08302983, 0.13867667, -0.0078439...</td>\n",
       "    </tr>\n",
       "    <tr>\n",
       "      <th>3162</th>\n",
       "      <td>85349</td>\n",
       "      <td>AV+PV+TV</td>\n",
       "      <td>NaN</td>\n",
       "      <td>Female</td>\n",
       "      <td>NaN</td>\n",
       "      <td>NaN</td>\n",
       "      <td>True</td>\n",
       "      <td>Absent</td>\n",
       "      <td>NaN</td>\n",
       "      <td>NaN</td>\n",
       "      <td>...</td>\n",
       "      <td>NaN</td>\n",
       "      <td>NaN</td>\n",
       "      <td>NaN</td>\n",
       "      <td>NaN</td>\n",
       "      <td>CC2015</td>\n",
       "      <td>NaN</td>\n",
       "      <td>3</td>\n",
       "      <td>85349</td>\n",
       "      <td>TV</td>\n",
       "      <td>[0.20991552, 0.118048884, -0.0015913057, 0.006...</td>\n",
       "    </tr>\n",
       "  </tbody>\n",
       "</table>\n",
       "<p>3163 rows × 26 columns</p>\n",
       "</div>"
      ],
      "text/plain": [
       "      Patient ID    Locations    Age     Sex  Height  Weight  \\\n",
       "0           2530  AV+PV+TV+MV  Child  Female    98.0    15.9   \n",
       "1           2530  AV+PV+TV+MV  Child  Female    98.0    15.9   \n",
       "2           2530  AV+PV+TV+MV  Child  Female    98.0    15.9   \n",
       "3           2530  AV+PV+TV+MV  Child  Female    98.0    15.9   \n",
       "4           9979  AV+PV+TV+MV  Child  Female   103.0    13.1   \n",
       "...          ...          ...    ...     ...     ...     ...   \n",
       "3158       85345        AV+PV  Child  Female   132.0    38.1   \n",
       "3159       85345        AV+PV  Child  Female   132.0    38.1   \n",
       "3160       85349     AV+PV+TV    NaN  Female     NaN     NaN   \n",
       "3161       85349     AV+PV+TV    NaN  Female     NaN     NaN   \n",
       "3162       85349     AV+PV+TV    NaN  Female     NaN     NaN   \n",
       "\n",
       "      Pregnancy status   Murmur Murmur locations Most audible location  ...  \\\n",
       "0                False   Absent              NaN                   NaN  ...   \n",
       "1                False   Absent              NaN                   NaN  ...   \n",
       "2                False   Absent              NaN                   NaN  ...   \n",
       "3                False   Absent              NaN                   NaN  ...   \n",
       "4                False  Present      AV+MV+PV+TV                    TV  ...   \n",
       "...                ...      ...              ...                   ...  ...   \n",
       "3158             False   Absent              NaN                   NaN  ...   \n",
       "3159             False   Absent              NaN                   NaN  ...   \n",
       "3160              True   Absent              NaN                   NaN  ...   \n",
       "3161              True   Absent              NaN                   NaN  ...   \n",
       "3162              True   Absent              NaN                   NaN  ...   \n",
       "\n",
       "     Diastolic murmur shape Diastolic murmur grading Diastolic murmur pitch  \\\n",
       "0                       NaN                      NaN                    NaN   \n",
       "1                       NaN                      NaN                    NaN   \n",
       "2                       NaN                      NaN                    NaN   \n",
       "3                       NaN                      NaN                    NaN   \n",
       "4                       NaN                      NaN                    NaN   \n",
       "...                     ...                      ...                    ...   \n",
       "3158                    NaN                      NaN                    NaN   \n",
       "3159                    NaN                      NaN                    NaN   \n",
       "3160                    NaN                      NaN                    NaN   \n",
       "3161                    NaN                      NaN                    NaN   \n",
       "3162                    NaN                      NaN                    NaN   \n",
       "\n",
       "     Diastolic murmur quality Campaign Additional ID location_count  \\\n",
       "0                         NaN   CC2015           NaN              4   \n",
       "1                         NaN   CC2015           NaN              4   \n",
       "2                         NaN   CC2015           NaN              4   \n",
       "3                         NaN   CC2015           NaN              4   \n",
       "4                         NaN   CC2015           NaN              4   \n",
       "...                       ...      ...           ...            ...   \n",
       "3158                      NaN   CC2015           NaN              2   \n",
       "3159                      NaN   CC2015           NaN              2   \n",
       "3160                      NaN   CC2015           NaN              3   \n",
       "3161                      NaN   CC2015           NaN              3   \n",
       "3162                      NaN   CC2015           NaN              3   \n",
       "\n",
       "     signal_patient_id location  \\\n",
       "0                 2530       PV   \n",
       "1                 2530       AV   \n",
       "2                 2530       MV   \n",
       "3                 2530       TV   \n",
       "4                 9979       MV   \n",
       "...                ...      ...   \n",
       "3158             85345       AV   \n",
       "3159             85345       PV   \n",
       "3160             85349       AV   \n",
       "3161             85349       PV   \n",
       "3162             85349       TV   \n",
       "\n",
       "                                                 signal  \n",
       "0     [0.07682987, 0.06061038, 0.039170958, 0.048250...  \n",
       "1     [-0.01187718, 0.029969877, 0.01927742, -0.0206...  \n",
       "2     [0.37442628, 0.32439327, 0.095518045, -0.06558...  \n",
       "3     [0.06770988, 0.073658854, 0.072224066, 0.08253...  \n",
       "4     [0.15039496, 0.18560724, 0.17212218, 0.1603406...  \n",
       "...                                                 ...  \n",
       "3158  [0.03814805, 0.06008572, 0.03808801, -0.008758...  \n",
       "3159  [-0.0061015976, 0.029588033, 0.020953469, 0.00...  \n",
       "3160  [0.00026825635, 0.0034792388, 0.014762115, -0....  \n",
       "3161  [0.1387334, 0.08302983, 0.13867667, -0.0078439...  \n",
       "3162  [0.20991552, 0.118048884, -0.0015913057, 0.006...  \n",
       "\n",
       "[3163 rows x 26 columns]"
      ]
     },
     "execution_count": 14,
     "metadata": {},
     "output_type": "execute_result"
    }
   ],
   "source": [
    "final_patient_info = pd.concat([patient_info.reset_index(drop=True),\n",
    "                                signal_df.sort_values(by='signal_patient_id').reset_index(drop=True)], axis=1)\n",
    "final_patient_info"
   ]
  },
  {
   "cell_type": "code",
   "execution_count": 13,
   "id": "0013eb7f-7380-40d1-86dc-1caf13b4296b",
   "metadata": {},
   "outputs": [
    {
     "data": {
      "text/plain": [
       "Index(['Patient ID', 'Locations', 'Age', 'Sex', 'Height', 'Weight',\n",
       "       'Pregnancy status', 'Murmur', 'Murmur locations',\n",
       "       'Most audible location', 'Systolic murmur timing',\n",
       "       'Systolic murmur shape', 'Systolic murmur grading',\n",
       "       'Systolic murmur pitch', 'Systolic murmur quality',\n",
       "       'Diastolic murmur timing', 'Diastolic murmur shape',\n",
       "       'Diastolic murmur grading', 'Diastolic murmur pitch',\n",
       "       'Diastolic murmur quality', 'Campaign', 'Additional ID',\n",
       "       'location_count', 'signal_patient_id', 'location', 'signal'],\n",
       "      dtype='object')"
      ]
     },
     "execution_count": 13,
     "metadata": {},
     "output_type": "execute_result"
    }
   ],
   "source": [
    "final_patient_info.columns"
   ]
  },
  {
   "cell_type": "markdown",
   "id": "840bc3c8-4dc6-49fd-acdd-1ad9177571b4",
   "metadata": {},
   "source": [
    "There are some unneeded columns here, but these will be cleaned up at a later stage when neural networks are employed."
   ]
  },
  {
   "cell_type": "code",
   "execution_count": 16,
   "id": "9397a94c-ed1a-44d8-9a94-0d4b44fc8026",
   "metadata": {},
   "outputs": [],
   "source": [
    "np.save(root_path + '/arrays/patient_signals_4k.npy', final_patient_info.to_numpy())"
   ]
  },
  {
   "cell_type": "markdown",
   "id": "130ccab6-eed9-4f33-ad3c-843e993dcf02",
   "metadata": {},
   "source": [
    "Finally I saved the df as a numpy array, because when it was exported as a CSV the signal data was truncated due to ?constraints on the amount of information in a cell, as far as I could tell."
   ]
  },
  {
   "cell_type": "markdown",
   "id": "b01d4592-fe13-4909-aa5b-a3b53a2a05e8",
   "metadata": {},
   "source": [
    "## Generating 1K SR Signals"
   ]
  },
  {
   "cell_type": "markdown",
   "id": "5a7ac292-9b45-41e0-8dee-2c8f9e79d435",
   "metadata": {},
   "source": [
    "The below code is identical to the above, but with the modification of a 1k sampling rate. The reasoning for this is explained later in the model search notebooks."
   ]
  },
  {
   "cell_type": "code",
   "execution_count": 5,
   "id": "41e1deff-6c5e-45a5-86c7-83f3537d4904",
   "metadata": {
    "tags": []
   },
   "outputs": [
    {
     "data": {
      "text/plain": [
       "'3150 files loaded'"
      ]
     },
     "metadata": {},
     "output_type": "display_data"
    }
   ],
   "source": [
    "sr = 1024\n",
    "\n",
    "filenames = []\n",
    "signals = []\n",
    "\n",
    "i = 0\n",
    "\n",
    "for file in os.listdir(training_folder_path):\n",
    "    filename = os.fsdecode(file)\n",
    "    if filename.endswith(\".wav\"):\n",
    "        signal, sr = librosa.load(training_folder_path + file, sr = sr)\n",
    "        filenames.append(filename.split('.')[0])\n",
    "        signals.append(signal)\n",
    "        i += 1\n",
    "    if i % 50 == 0:\n",
    "        clear_output(wait=True)\n",
    "        display(f\"{i} files loaded\")\n",
    "    else:\n",
    "        continue"
   ]
  },
  {
   "cell_type": "code",
   "execution_count": 6,
   "id": "a60c5ce5-bee8-495c-afda-267df2519be8",
   "metadata": {},
   "outputs": [],
   "source": [
    "signal_locations = []\n",
    "for file in filenames:\n",
    "    signal_locations.append(file.split('_')[1])\n",
    "\n",
    "signal_patient_ids = []\n",
    "for file in filenames:\n",
    "    signal_patient_ids.append(file.split('_')[0])"
   ]
  },
  {
   "cell_type": "code",
   "execution_count": 7,
   "id": "8516550d-f838-495a-882a-c2f6bd1aab6e",
   "metadata": {},
   "outputs": [
    {
     "data": {
      "text/html": [
       "<div>\n",
       "<style scoped>\n",
       "    .dataframe tbody tr th:only-of-type {\n",
       "        vertical-align: middle;\n",
       "    }\n",
       "\n",
       "    .dataframe tbody tr th {\n",
       "        vertical-align: top;\n",
       "    }\n",
       "\n",
       "    .dataframe thead th {\n",
       "        text-align: right;\n",
       "    }\n",
       "</style>\n",
       "<table border=\"1\" class=\"dataframe\">\n",
       "  <thead>\n",
       "    <tr style=\"text-align: right;\">\n",
       "      <th></th>\n",
       "      <th>signal_patient_id</th>\n",
       "      <th>location</th>\n",
       "      <th>signal</th>\n",
       "    </tr>\n",
       "  </thead>\n",
       "  <tbody>\n",
       "    <tr>\n",
       "      <th>0</th>\n",
       "      <td>2530</td>\n",
       "      <td>PV</td>\n",
       "      <td>[0.037114453, 0.061636038, 0.055389933, 0.0675...</td>\n",
       "    </tr>\n",
       "    <tr>\n",
       "      <th>1</th>\n",
       "      <td>2530</td>\n",
       "      <td>AV</td>\n",
       "      <td>[0.006357202, -0.010564456, -0.008372305, 0.00...</td>\n",
       "    </tr>\n",
       "    <tr>\n",
       "      <th>2</th>\n",
       "      <td>2530</td>\n",
       "      <td>MV</td>\n",
       "      <td>[0.16865823, 0.035755683, -0.01783402, 0.00613...</td>\n",
       "    </tr>\n",
       "    <tr>\n",
       "      <th>3</th>\n",
       "      <td>2530</td>\n",
       "      <td>TV</td>\n",
       "      <td>[0.042926352, 0.08795212, 0.081163116, 0.07926...</td>\n",
       "    </tr>\n",
       "    <tr>\n",
       "      <th>4</th>\n",
       "      <td>9979</td>\n",
       "      <td>MV</td>\n",
       "      <td>[0.11233253, 0.16617733, 0.22739325, 0.3153002...</td>\n",
       "    </tr>\n",
       "    <tr>\n",
       "      <th>...</th>\n",
       "      <td>...</td>\n",
       "      <td>...</td>\n",
       "      <td>...</td>\n",
       "    </tr>\n",
       "    <tr>\n",
       "      <th>3158</th>\n",
       "      <td>85345</td>\n",
       "      <td>AV</td>\n",
       "      <td>[0.02705935, 0.0051991576, -0.028789269, -0.00...</td>\n",
       "    </tr>\n",
       "    <tr>\n",
       "      <th>3159</th>\n",
       "      <td>85345</td>\n",
       "      <td>PV</td>\n",
       "      <td>[0.011014578, 0.009928619, 0.014445103, 0.0160...</td>\n",
       "    </tr>\n",
       "    <tr>\n",
       "      <th>3160</th>\n",
       "      <td>85349</td>\n",
       "      <td>AV</td>\n",
       "      <td>[0.0010312841, -0.0074770185, 0.0053564664, 0....</td>\n",
       "    </tr>\n",
       "    <tr>\n",
       "      <th>3161</th>\n",
       "      <td>85349</td>\n",
       "      <td>PV</td>\n",
       "      <td>[0.070928715, 0.053460453, -0.012949261, -0.09...</td>\n",
       "    </tr>\n",
       "    <tr>\n",
       "      <th>3162</th>\n",
       "      <td>85349</td>\n",
       "      <td>TV</td>\n",
       "      <td>[0.07846564, 0.006256001, -0.02002155, 0.00305...</td>\n",
       "    </tr>\n",
       "  </tbody>\n",
       "</table>\n",
       "<p>3163 rows × 3 columns</p>\n",
       "</div>"
      ],
      "text/plain": [
       "      signal_patient_id location  \\\n",
       "0                  2530       PV   \n",
       "1                  2530       AV   \n",
       "2                  2530       MV   \n",
       "3                  2530       TV   \n",
       "4                  9979       MV   \n",
       "...                 ...      ...   \n",
       "3158              85345       AV   \n",
       "3159              85345       PV   \n",
       "3160              85349       AV   \n",
       "3161              85349       PV   \n",
       "3162              85349       TV   \n",
       "\n",
       "                                                 signal  \n",
       "0     [0.037114453, 0.061636038, 0.055389933, 0.0675...  \n",
       "1     [0.006357202, -0.010564456, -0.008372305, 0.00...  \n",
       "2     [0.16865823, 0.035755683, -0.01783402, 0.00613...  \n",
       "3     [0.042926352, 0.08795212, 0.081163116, 0.07926...  \n",
       "4     [0.11233253, 0.16617733, 0.22739325, 0.3153002...  \n",
       "...                                                 ...  \n",
       "3158  [0.02705935, 0.0051991576, -0.028789269, -0.00...  \n",
       "3159  [0.011014578, 0.009928619, 0.014445103, 0.0160...  \n",
       "3160  [0.0010312841, -0.0074770185, 0.0053564664, 0....  \n",
       "3161  [0.070928715, 0.053460453, -0.012949261, -0.09...  \n",
       "3162  [0.07846564, 0.006256001, -0.02002155, 0.00305...  \n",
       "\n",
       "[3163 rows x 3 columns]"
      ]
     },
     "execution_count": 7,
     "metadata": {},
     "output_type": "execute_result"
    }
   ],
   "source": [
    "signal_df = pd.DataFrame({'signal_patient_id': signal_patient_ids,\n",
    "                         'location': signal_locations,\n",
    "                         'signal': signals},\n",
    "                         columns=['signal_patient_id','location','signal'])\n",
    "\n",
    "signal_df['signal_patient_id'] = signal_df['signal_patient_id'].astype('int')\n",
    "\n",
    "signal_df.sort_values(by='signal_patient_id').reset_index(drop=True)"
   ]
  },
  {
   "cell_type": "code",
   "execution_count": 8,
   "id": "71d03f4f-7378-4344-9f5f-a56664b45d8e",
   "metadata": {},
   "outputs": [],
   "source": [
    "patient_info['location_count'] = 0\n",
    "for i in range(0,len(patient_info['location_count'])):\n",
    "    patient_info.at[i,'location_count'] = len(patient_info['Locations'][i].split('+'))"
   ]
  },
  {
   "cell_type": "code",
   "execution_count": 9,
   "id": "c5344787-da2d-4d7b-a4bc-58d4934caee7",
   "metadata": {},
   "outputs": [],
   "source": [
    "patient_info = patient_info.loc[patient_info.index.repeat(patient_info.location_count)]"
   ]
  },
  {
   "cell_type": "code",
   "execution_count": 10,
   "id": "0a412c11-35b2-41df-87a3-4f3e9a70fe3d",
   "metadata": {},
   "outputs": [],
   "source": [
    "patient_info.reset_index(drop=True,inplace=True)"
   ]
  },
  {
   "cell_type": "code",
   "execution_count": 11,
   "id": "559e5b8f-242c-4983-9a78-65b8056bf5eb",
   "metadata": {},
   "outputs": [],
   "source": [
    "final_patient_info = pd.concat([patient_info.reset_index(drop=True),\n",
    "                                signal_df.sort_values(by='signal_patient_id').reset_index(drop=True)], axis=1)"
   ]
  },
  {
   "cell_type": "code",
   "execution_count": 12,
   "id": "061209a3-4646-48ac-be21-f7691b74f9a9",
   "metadata": {},
   "outputs": [
    {
     "data": {
      "text/plain": [
       "Index(['Patient ID', 'Locations', 'Age', 'Sex', 'Height', 'Weight',\n",
       "       'Pregnancy status', 'Murmur', 'Murmur locations',\n",
       "       'Most audible location', 'Systolic murmur timing',\n",
       "       'Systolic murmur shape', 'Systolic murmur grading',\n",
       "       'Systolic murmur pitch', 'Systolic murmur quality',\n",
       "       'Diastolic murmur timing', 'Diastolic murmur shape',\n",
       "       'Diastolic murmur grading', 'Diastolic murmur pitch',\n",
       "       'Diastolic murmur quality', 'Campaign', 'Additional ID',\n",
       "       'location_count', 'signal_patient_id', 'location', 'signal'],\n",
       "      dtype='object')"
      ]
     },
     "execution_count": 12,
     "metadata": {},
     "output_type": "execute_result"
    }
   ],
   "source": [
    "final_patient_info.columns"
   ]
  },
  {
   "cell_type": "code",
   "execution_count": 13,
   "id": "8e8e4fb0-108d-48ef-9fa8-40e422bc399f",
   "metadata": {},
   "outputs": [],
   "source": [
    "np.save(root_path + 'arrays/patient_signals_1k.npy', final_patient_info.to_numpy())"
   ]
  }
 ],
 "metadata": {
  "kernelspec": {
   "display_name": "capstone",
   "language": "python",
   "name": "capstone"
  },
  "language_info": {
   "codemirror_mode": {
    "name": "ipython",
    "version": 3
   },
   "file_extension": ".py",
   "mimetype": "text/x-python",
   "name": "python",
   "nbconvert_exporter": "python",
   "pygments_lexer": "ipython3",
   "version": "3.8.12"
  }
 },
 "nbformat": 4,
 "nbformat_minor": 5
}
