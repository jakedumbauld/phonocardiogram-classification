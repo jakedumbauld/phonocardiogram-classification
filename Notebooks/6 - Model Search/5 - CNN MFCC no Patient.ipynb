{
 "cells": [
  {
   "cell_type": "markdown",
   "id": "3b465530-bc7a-415c-befb-e929ee73dc9c",
   "metadata": {},
   "source": [
    "# CNN MFCC - No Patient"
   ]
  },
  {
   "cell_type": "markdown",
   "id": "d775911d-1c0d-4112-aad8-ac92e768476b",
   "metadata": {},
   "source": [
    "Author: Jake Dumbauld <br>\n",
    "Contact: jacobmilodumbauld@gmail.com<br>\n",
    "Date: 3.15.22"
   ]
  },
  {
   "cell_type": "code",
   "execution_count": 1,
   "id": "ea0a1a57-94e1-4b94-982c-f28973f20356",
   "metadata": {},
   "outputs": [],
   "source": [
    "#imports\n",
    "\n",
    "import numpy as np\n",
    "import pandas as pd\n",
    "import matplotlib.pyplot as plt\n",
    "\n",
    "import time\n",
    "import re\n",
    "\n",
    "from sklearn.model_selection import train_test_split\n",
    "\n",
    "import tensorflow as tf\n",
    "from tensorflow import keras\n",
    "from tensorflow.keras.models import Sequential\n",
    "from tensorflow.keras.layers import Conv2D, MaxPooling2D, AveragePooling2D, Flatten, Dense, Dropout, BatchNormalization\n",
    "from tensorflow.keras import regularizers\n",
    "import keras_tuner as kt"
   ]
  },
  {
   "cell_type": "code",
   "execution_count": 2,
   "id": "aed98a38-178f-4d13-9abd-e0f299749bfd",
   "metadata": {},
   "outputs": [
    {
     "name": "stdout",
     "output_type": "stream",
     "text": [
      "env: PYTHONHASHSEED=0\n",
      "env: CUDA_VISIBLE_DEVICES=\"\"\n"
     ]
    }
   ],
   "source": [
    "import random as python_random\n",
    "\n",
    "np.random.seed(42)\n",
    "\n",
    "# The below is necessary for starting core Python generated random numbers in a well-defined state.\n",
    "python_random.seed(42)\n",
    "\n",
    "# The below set_seed() will make random number generation\n",
    "# in the TensorFlow backend have a well-defined initial state.\n",
    "# For further details, see:\n",
    "# https://www.tensorflow.org/api_docs/python/tf/random/set_seed\n",
    "tf.random.set_seed(42)\n",
    "\n",
    "#not sure if the below are necessary - leaving in to perhaps un-comment later.\n",
    "%env PYTHONHASHSEED=0\n",
    "%env CUDA_VISIBLE_DEVICES=\"\""
   ]
  },
  {
   "cell_type": "markdown",
   "id": "21aecc89-7285-42a7-b55f-94b0a1295ea5",
   "metadata": {},
   "source": [
    "## Helper Functions"
   ]
  },
  {
   "cell_type": "markdown",
   "id": "772577ba-044f-4314-9b08-8f6a3e8dc14d",
   "metadata": {},
   "source": [
    "### Model Loss"
   ]
  },
  {
   "cell_type": "code",
   "execution_count": 3,
   "id": "b49e02a5-df82-4162-81cf-0eaf673eefcd",
   "metadata": {
    "tags": []
   },
   "outputs": [],
   "source": [
    "def graph_model_loss(title, history):\n",
    "    \"\"\"\n",
    "    Description:\n",
    "    Graphs training vs validation loss over epochs for a given model. \n",
    "    \n",
    "    History: tensorflow.python.keras.callbacks.History object\n",
    "    Title: str\n",
    "    \"\"\" \n",
    "    plt.figure(figsize=(12,8))\n",
    "    plt.plot(history.history['loss'])\n",
    "    plt.plot(history.history['val_loss'])\n",
    "    plt.title(title,size=24)\n",
    "    plt.ylabel('Loss',size=16)\n",
    "    plt.xlabel('Epoch',size=16)\n",
    "    plt.legend(['Train', 'Validation'])\n",
    "    plt.show()"
   ]
  },
  {
   "cell_type": "markdown",
   "id": "040cfd7b-3289-45ab-b0cf-6129cd450fcb",
   "metadata": {},
   "source": [
    "### Train/Test Acc Printout"
   ]
  },
  {
   "cell_type": "code",
   "execution_count": 4,
   "id": "61be8787-1ee0-4bdc-98b5-4309a434df97",
   "metadata": {},
   "outputs": [],
   "source": [
    "def evaluate_model(model, history):\n",
    "    \"\"\"\n",
    "    Description:\n",
    "    Outputs model train & test accuracies for currently defined train and test set variables.\n",
    "    \n",
    "    model: tensorflow model,\n",
    "    history: tensorflow.python.keras.callbacks.History object\n",
    "    \"\"\"\n",
    "    # Evaluate the network\n",
    "    train_accuracy = history.history[\"binary_accuracy\"][-1]\n",
    "    result = model.evaluate(X_test,y_test, verbose=1)\n",
    "\n",
    "    print(f\"Train Accuracy: {np.round(train_accuracy, 6)*100}%\")\n",
    "    print(f\"Test Accuracy: {np.round(result[1], 6)*100}%\")"
   ]
  },
  {
   "cell_type": "markdown",
   "id": "7a11ae7b-2364-44ec-adc9-c5f0a38cec03",
   "metadata": {},
   "source": [
    "### Defining Hyperparameter Search Space"
   ]
  },
  {
   "cell_type": "code",
   "execution_count": 5,
   "id": "df13bde4-da87-4cbc-80d5-4b8ab5b163fd",
   "metadata": {},
   "outputs": [
    {
     "name": "stderr",
     "output_type": "stream",
     "text": [
      "2022-04-01 12:31:02.658925: I tensorflow/core/platform/cpu_feature_guard.cc:142] This TensorFlow binary is optimized with oneAPI Deep Neural Network Library (oneDNN) to use the following CPU instructions in performance-critical operations:  SSE4.1 SSE4.2\n",
      "To enable them in other operations, rebuild TensorFlow with the appropriate compiler flags.\n"
     ]
    },
    {
     "data": {
      "text/plain": [
       "<tensorflow.python.keras.engine.sequential.Sequential at 0x7fcaf8477b20>"
      ]
     },
     "execution_count": 5,
     "metadata": {},
     "output_type": "execute_result"
    }
   ],
   "source": [
    "def build_CNN_model(hp):\n",
    "    model = keras.Sequential()\n",
    "    \n",
    "#     model.add(\n",
    "#         Conv2D(\n",
    "#         filters=hp.Int(\"input_filters\", min_value=16, max_value=64, step=16),\n",
    "#         kernel_size=(3,3),\n",
    "#         activation=\"relu\",\n",
    "#         input_shape=(20,97,1)\n",
    "#         )\n",
    "#     )\n",
    "    \n",
    "    for i in range(hp.Int('conv_layers', 1, 2)):\n",
    "        model.add(\n",
    "            Conv2D(\n",
    "            #Tuning the number of units in my input layer.\n",
    "            filters=hp.Int(\"filters\" + str(i), min_value=32, max_value=128, step=16),\n",
    "            kernel_size=(3,3),\n",
    "            activation=\"relu\",\n",
    "            )\n",
    "        )\n",
    "        if hp.Choice('pooling' + str(i), ['avg', 'max']) == 'max':\n",
    "                model.add(MaxPooling2D(pool_size=(2,2)))\n",
    "        else:\n",
    "            model.add(AveragePooling2D(pool_size=(2,2)))        \n",
    "\n",
    "        #Tuning whether or not to use dropout.\n",
    "        if hp.Boolean(\"conv_dropout\" + str(i)):\n",
    "            model.add(Dropout(rate=0.25))\n",
    "\n",
    "    model.add(Flatten())\n",
    "    \n",
    "    for i in range(hp.Int('dense_layers', 1, 3)):\n",
    "        model.add(\n",
    "            Dense(\n",
    "            #Tuning the number of units in my input layer.\n",
    "            units=hp.Int(\"units\" + str(i), min_value=32, max_value=256, step=32),\n",
    "            activation=\"relu\"\n",
    "            )\n",
    "        )\n",
    "        #Tuning whether or not to use dropout.\n",
    "        if hp.Boolean(\"dropout\" + str(i)):\n",
    "            model.add(Dropout(rate=0.25))\n",
    "\n",
    "        #Adding batch normalization\n",
    "        if hp.Boolean(\"normalization\" + str(i)):\n",
    "            model.add(BatchNormalization())\n",
    "\n",
    "    #output layer\n",
    "    model.add(Dense(1, activation=\"sigmoid\"))\n",
    "    \n",
    "    #defining learning rate\n",
    "    lr_schedule = keras.optimizers.schedules.InverseTimeDecay(\n",
    "                      #tuning initial learning rate\n",
    "                      initial_learning_rate=hp.Float(\"starting_learning_rate\", min_value=1e-4, max_value=1e-2, sampling=\"log\"),\n",
    "                      decay_steps=1.0,\n",
    "                      decay_rate=0.1\n",
    "                  )\n",
    "    model.compile(\n",
    "        #Optimizer\n",
    "        optimizer = keras.optimizers.Adam(learning_rate=lr_schedule),\n",
    "        #Loss\n",
    "        loss=keras.losses.BinaryCrossentropy(),\n",
    "        #Metrics\n",
    "        metrics=[keras.metrics.BinaryAccuracy()]\n",
    "    )\n",
    "    return model\n",
    "\n",
    "build_CNN_model(kt.HyperParameters())"
   ]
  },
  {
   "cell_type": "code",
   "execution_count": 6,
   "id": "35e921e7-ff63-4503-83a0-cf2b86a5e63a",
   "metadata": {},
   "outputs": [],
   "source": [
    "X = np.load('/Users/jmd/Documents/BOOTCAMP/Capstone/arrays/MFCCs_noPatient.npy', allow_pickle=True)\n",
    "y = np.load('/Users/jmd/Documents/BOOTCAMP/Capstone/arrays/target_array.npy', allow_pickle=True)"
   ]
  },
  {
   "cell_type": "code",
   "execution_count": 7,
   "id": "82732209-11f4-4dab-8162-3cada4808496",
   "metadata": {},
   "outputs": [],
   "source": [
    "X = X.reshape(X.shape[0], X.shape[1], X.shape[2], 1)"
   ]
  },
  {
   "cell_type": "code",
   "execution_count": 8,
   "id": "0971adbf-acf7-4d78-8243-2dc532d74fca",
   "metadata": {},
   "outputs": [],
   "source": [
    "#train test split\n",
    "X_train, X_test, y_train, y_test = train_test_split(X, y, stratify=y, test_size = 0.3)"
   ]
  },
  {
   "cell_type": "code",
   "execution_count": 9,
   "id": "8a0667f5-d87f-4eb2-9d91-03416e77a7f0",
   "metadata": {},
   "outputs": [],
   "source": [
    "X_train, X_val, y_train, y_val = train_test_split(X_train, y_train, stratify=y_train, test_size=0.3)"
   ]
  },
  {
   "cell_type": "code",
   "execution_count": 10,
   "id": "eb83e631-0e06-436d-940b-997d1c629a4b",
   "metadata": {},
   "outputs": [
    {
     "data": {
      "text/plain": [
       "(1472, 20, 97, 1)"
      ]
     },
     "execution_count": 10,
     "metadata": {},
     "output_type": "execute_result"
    }
   ],
   "source": [
    "X_train.shape"
   ]
  },
  {
   "cell_type": "code",
   "execution_count": 11,
   "id": "2119b164-7c68-47b4-a9a9-ff2a8d50ad8c",
   "metadata": {},
   "outputs": [],
   "source": [
    "es_callback = keras.callbacks.EarlyStopping(monitor='val_loss', patience=5)"
   ]
  },
  {
   "cell_type": "code",
   "execution_count": 12,
   "id": "62665b93-4483-4bff-b552-db7f43633819",
   "metadata": {
    "tags": []
   },
   "outputs": [
    {
     "name": "stdout",
     "output_type": "stream",
     "text": [
      "Trial 50 Complete [00h 00m 23s]\n",
      "val_loss: 0.44234538078308105\n",
      "\n",
      "Best val_loss So Far: 0.43237149715423584\n",
      "Total elapsed time: 00h 39m 04s\n",
      "INFO:tensorflow:Oracle triggered exit\n"
     ]
    }
   ],
   "source": [
    "tuner = kt.BayesianOptimization(\n",
    "    hypermodel=build_CNN_model,\n",
    "    objective=\"val_loss\",\n",
    "    max_trials=50,\n",
    "    seed=42,\n",
    "    overwrite=True,\n",
    "    directory='/Users/jmd/Documents/BOOTCAMP/Capstone/kerastune_searches',\n",
    "    project_name='CNN_MFCC_no_patient'\n",
    ")\n",
    "\n",
    "tuner.search(X_train, y_train, epochs=100, validation_data=(X_val,y_val), callbacks=[es_callback])"
   ]
  },
  {
   "cell_type": "code",
   "execution_count": 13,
   "id": "37c61d6d-9168-4492-80f3-981987faac99",
   "metadata": {
    "scrolled": true,
    "tags": []
   },
   "outputs": [
    {
     "name": "stdout",
     "output_type": "stream",
     "text": [
      "Results summary\n",
      "Results in /Users/jmd/Documents/BOOTCAMP/Capstone/kerastune_searches/CNN_MFCC_no_patient\n",
      "Showing 1 best trials\n",
      "Objective(name='val_loss', direction='min')\n",
      "Trial summary\n",
      "Hyperparameters:\n",
      "conv_layers: 2\n",
      "filters0: 128\n",
      "pooling0: avg\n",
      "conv_dropout0: False\n",
      "dense_layers: 1\n",
      "units0: 256\n",
      "dropout0: True\n",
      "normalization0: True\n",
      "starting_learning_rate: 0.01\n",
      "filters1: 32\n",
      "pooling1: max\n",
      "conv_dropout1: True\n",
      "units1: 32\n",
      "dropout1: False\n",
      "normalization1: False\n",
      "units2: 32\n",
      "dropout2: True\n",
      "normalization2: True\n",
      "Score: 0.43237149715423584\n"
     ]
    }
   ],
   "source": [
    "tuner.results_summary(num_trials=1)"
   ]
  },
  {
   "cell_type": "code",
   "execution_count": 14,
   "id": "ed0deb63-c429-4028-b5b2-9a5faf1ac25a",
   "metadata": {},
   "outputs": [],
   "source": [
    "es_callback = keras.callbacks.EarlyStopping(monitor='val_loss', patience=10)"
   ]
  },
  {
   "cell_type": "code",
   "execution_count": 16,
   "id": "99dd3cbc-5200-443f-b1de-e8076ec7d459",
   "metadata": {
    "scrolled": true,
    "tags": []
   },
   "outputs": [
    {
     "name": "stdout",
     "output_type": "stream",
     "text": [
      "Epoch 1/100\n",
      "46/46 [==============================] - 3s 62ms/step - loss: 0.6330 - binary_accuracy: 0.6865 - val_loss: 1.4306 - val_binary_accuracy: 0.7959\n",
      "Epoch 2/100\n",
      "46/46 [==============================] - 3s 57ms/step - loss: 0.4991 - binary_accuracy: 0.8018 - val_loss: 0.6455 - val_binary_accuracy: 0.7959\n",
      "Epoch 3/100\n",
      "46/46 [==============================] - 3s 56ms/step - loss: 0.4860 - binary_accuracy: 0.8040 - val_loss: 0.4799 - val_binary_accuracy: 0.8022\n",
      "Epoch 4/100\n",
      "46/46 [==============================] - 3s 57ms/step - loss: 0.4663 - binary_accuracy: 0.8050 - val_loss: 0.4530 - val_binary_accuracy: 0.8196\n",
      "Epoch 5/100\n",
      "46/46 [==============================] - 3s 56ms/step - loss: 0.4623 - binary_accuracy: 0.8137 - val_loss: 0.4525 - val_binary_accuracy: 0.8101\n",
      "Epoch 6/100\n",
      "46/46 [==============================] - 3s 55ms/step - loss: 0.4902 - binary_accuracy: 0.8087 - val_loss: 0.4478 - val_binary_accuracy: 0.8101\n",
      "Epoch 7/100\n",
      "46/46 [==============================] - 3s 57ms/step - loss: 0.4310 - binary_accuracy: 0.8299 - val_loss: 0.4439 - val_binary_accuracy: 0.8212\n",
      "Epoch 8/100\n",
      "46/46 [==============================] - 3s 56ms/step - loss: 0.4347 - binary_accuracy: 0.8356 - val_loss: 0.4425 - val_binary_accuracy: 0.8212\n",
      "Epoch 9/100\n",
      "46/46 [==============================] - 3s 55ms/step - loss: 0.4471 - binary_accuracy: 0.8171 - val_loss: 0.4411 - val_binary_accuracy: 0.8133\n",
      "Epoch 10/100\n",
      "46/46 [==============================] - 2s 54ms/step - loss: 0.4328 - binary_accuracy: 0.8243 - val_loss: 0.4423 - val_binary_accuracy: 0.8165\n",
      "Epoch 11/100\n",
      "46/46 [==============================] - 2s 54ms/step - loss: 0.4592 - binary_accuracy: 0.8111 - val_loss: 0.4409 - val_binary_accuracy: 0.8196\n",
      "Epoch 12/100\n",
      "46/46 [==============================] - 3s 56ms/step - loss: 0.4096 - binary_accuracy: 0.8296 - val_loss: 0.4451 - val_binary_accuracy: 0.8133\n",
      "Epoch 13/100\n",
      "46/46 [==============================] - 3s 57ms/step - loss: 0.4219 - binary_accuracy: 0.8329 - val_loss: 0.4422 - val_binary_accuracy: 0.8133\n",
      "Epoch 14/100\n",
      "46/46 [==============================] - 3s 56ms/step - loss: 0.4276 - binary_accuracy: 0.8313 - val_loss: 0.4388 - val_binary_accuracy: 0.8180\n",
      "Epoch 15/100\n",
      "46/46 [==============================] - 3s 58ms/step - loss: 0.4273 - binary_accuracy: 0.8282 - val_loss: 0.4367 - val_binary_accuracy: 0.8196\n",
      "Epoch 16/100\n",
      "46/46 [==============================] - 3s 57ms/step - loss: 0.4192 - binary_accuracy: 0.8413 - val_loss: 0.4362 - val_binary_accuracy: 0.8212\n",
      "Epoch 17/100\n",
      "46/46 [==============================] - 3s 56ms/step - loss: 0.4419 - binary_accuracy: 0.8186 - val_loss: 0.4373 - val_binary_accuracy: 0.8212\n",
      "Epoch 18/100\n",
      "46/46 [==============================] - 3s 57ms/step - loss: 0.4173 - binary_accuracy: 0.8404 - val_loss: 0.4356 - val_binary_accuracy: 0.8180\n",
      "Epoch 19/100\n",
      "46/46 [==============================] - 3s 58ms/step - loss: 0.4006 - binary_accuracy: 0.8408 - val_loss: 0.4349 - val_binary_accuracy: 0.8244\n",
      "Epoch 20/100\n",
      "46/46 [==============================] - 3s 56ms/step - loss: 0.4369 - binary_accuracy: 0.8224 - val_loss: 0.4364 - val_binary_accuracy: 0.8259\n",
      "Epoch 21/100\n",
      "46/46 [==============================] - 3s 57ms/step - loss: 0.3998 - binary_accuracy: 0.8308 - val_loss: 0.4362 - val_binary_accuracy: 0.8275\n",
      "Epoch 22/100\n",
      "46/46 [==============================] - 3s 56ms/step - loss: 0.4456 - binary_accuracy: 0.8228 - val_loss: 0.4389 - val_binary_accuracy: 0.8180\n",
      "Epoch 23/100\n",
      "46/46 [==============================] - 3s 55ms/step - loss: 0.3962 - binary_accuracy: 0.8505 - val_loss: 0.4360 - val_binary_accuracy: 0.8291\n",
      "Epoch 24/100\n",
      "46/46 [==============================] - 3s 57ms/step - loss: 0.4209 - binary_accuracy: 0.8392 - val_loss: 0.4410 - val_binary_accuracy: 0.8180\n",
      "Epoch 25/100\n",
      "46/46 [==============================] - 3s 58ms/step - loss: 0.4464 - binary_accuracy: 0.8102 - val_loss: 0.4357 - val_binary_accuracy: 0.8291\n",
      "Epoch 26/100\n",
      "46/46 [==============================] - 3s 56ms/step - loss: 0.4072 - binary_accuracy: 0.8434 - val_loss: 0.4361 - val_binary_accuracy: 0.8275\n",
      "Epoch 27/100\n",
      "46/46 [==============================] - 3s 56ms/step - loss: 0.4169 - binary_accuracy: 0.8244 - val_loss: 0.4364 - val_binary_accuracy: 0.8307\n",
      "Epoch 28/100\n",
      "46/46 [==============================] - 3s 56ms/step - loss: 0.3932 - binary_accuracy: 0.8455 - val_loss: 0.4349 - val_binary_accuracy: 0.8275\n",
      "Epoch 29/100\n",
      "46/46 [==============================] - 3s 56ms/step - loss: 0.3679 - binary_accuracy: 0.8655 - val_loss: 0.4339 - val_binary_accuracy: 0.8323\n",
      "Epoch 30/100\n",
      "46/46 [==============================] - 3s 56ms/step - loss: 0.4130 - binary_accuracy: 0.8259 - val_loss: 0.4332 - val_binary_accuracy: 0.8323\n",
      "Epoch 31/100\n",
      "46/46 [==============================] - 3s 57ms/step - loss: 0.4226 - binary_accuracy: 0.8312 - val_loss: 0.4325 - val_binary_accuracy: 0.8291\n",
      "Epoch 32/100\n",
      "46/46 [==============================] - 3s 57ms/step - loss: 0.4178 - binary_accuracy: 0.8318 - val_loss: 0.4321 - val_binary_accuracy: 0.8323\n",
      "Epoch 33/100\n",
      "46/46 [==============================] - 3s 55ms/step - loss: 0.3797 - binary_accuracy: 0.8478 - val_loss: 0.4331 - val_binary_accuracy: 0.8291\n",
      "Epoch 34/100\n",
      "46/46 [==============================] - 3s 55ms/step - loss: 0.3808 - binary_accuracy: 0.8482 - val_loss: 0.4318 - val_binary_accuracy: 0.8307\n",
      "Epoch 35/100\n",
      "46/46 [==============================] - 3s 55ms/step - loss: 0.4167 - binary_accuracy: 0.8262 - val_loss: 0.4326 - val_binary_accuracy: 0.8259\n",
      "Epoch 36/100\n",
      "46/46 [==============================] - 3s 55ms/step - loss: 0.4225 - binary_accuracy: 0.8305 - val_loss: 0.4323 - val_binary_accuracy: 0.8291\n",
      "Epoch 37/100\n",
      "46/46 [==============================] - 3s 56ms/step - loss: 0.3824 - binary_accuracy: 0.8444 - val_loss: 0.4313 - val_binary_accuracy: 0.8307\n",
      "Epoch 38/100\n",
      "46/46 [==============================] - 3s 57ms/step - loss: 0.4016 - binary_accuracy: 0.8526 - val_loss: 0.4313 - val_binary_accuracy: 0.8291\n",
      "Epoch 39/100\n",
      "46/46 [==============================] - 3s 57ms/step - loss: 0.3941 - binary_accuracy: 0.8405 - val_loss: 0.4314 - val_binary_accuracy: 0.8323\n",
      "Epoch 40/100\n",
      "46/46 [==============================] - 3s 55ms/step - loss: 0.3913 - binary_accuracy: 0.8427 - val_loss: 0.4315 - val_binary_accuracy: 0.8323\n",
      "Epoch 41/100\n",
      "46/46 [==============================] - 3s 55ms/step - loss: 0.3906 - binary_accuracy: 0.8522 - val_loss: 0.4305 - val_binary_accuracy: 0.8307\n",
      "Epoch 42/100\n",
      "46/46 [==============================] - 2s 54ms/step - loss: 0.4337 - binary_accuracy: 0.8264 - val_loss: 0.4298 - val_binary_accuracy: 0.8307\n",
      "Epoch 43/100\n",
      "46/46 [==============================] - 3s 55ms/step - loss: 0.3937 - binary_accuracy: 0.8483 - val_loss: 0.4297 - val_binary_accuracy: 0.8323\n",
      "Epoch 44/100\n",
      "46/46 [==============================] - 3s 57ms/step - loss: 0.3836 - binary_accuracy: 0.8556 - val_loss: 0.4310 - val_binary_accuracy: 0.8307\n",
      "Epoch 45/100\n",
      "46/46 [==============================] - 3s 55ms/step - loss: 0.3905 - binary_accuracy: 0.8473 - val_loss: 0.4320 - val_binary_accuracy: 0.8323\n",
      "Epoch 46/100\n",
      "46/46 [==============================] - 2s 54ms/step - loss: 0.3730 - binary_accuracy: 0.8600 - val_loss: 0.4319 - val_binary_accuracy: 0.8307\n",
      "Epoch 47/100\n",
      "46/46 [==============================] - 2s 54ms/step - loss: 0.3885 - binary_accuracy: 0.8558 - val_loss: 0.4317 - val_binary_accuracy: 0.8323\n",
      "Epoch 48/100\n",
      "46/46 [==============================] - 3s 55ms/step - loss: 0.4062 - binary_accuracy: 0.8393 - val_loss: 0.4313 - val_binary_accuracy: 0.8339\n",
      "Epoch 49/100\n",
      "46/46 [==============================] - 3s 55ms/step - loss: 0.3744 - binary_accuracy: 0.8588 - val_loss: 0.4328 - val_binary_accuracy: 0.8307\n",
      "Epoch 50/100\n",
      "46/46 [==============================] - 3s 57ms/step - loss: 0.3917 - binary_accuracy: 0.8432 - val_loss: 0.4333 - val_binary_accuracy: 0.8307\n",
      "Epoch 51/100\n",
      "46/46 [==============================] - 2s 54ms/step - loss: 0.3794 - binary_accuracy: 0.8496 - val_loss: 0.4326 - val_binary_accuracy: 0.8323\n",
      "Epoch 52/100\n",
      "46/46 [==============================] - 2s 54ms/step - loss: 0.4114 - binary_accuracy: 0.8408 - val_loss: 0.4327 - val_binary_accuracy: 0.8339\n",
      "Epoch 53/100\n",
      "46/46 [==============================] - 3s 55ms/step - loss: 0.3866 - binary_accuracy: 0.8485 - val_loss: 0.4330 - val_binary_accuracy: 0.8323\n"
     ]
    }
   ],
   "source": [
    "# Get the best hyperparameters.\n",
    "best_hps = tuner.get_best_hyperparameters()\n",
    "# Build the model with the best hp.\n",
    "model = build_CNN_model(best_hps[0])\n",
    "\n",
    "history = model.fit(X_train, y_train, epochs=100, validation_data=(X_val,y_val), callbacks=[es_callback])"
   ]
  },
  {
   "cell_type": "code",
   "execution_count": 17,
   "id": "5436cd18-1421-4d1c-8bcb-4320d6797dad",
   "metadata": {},
   "outputs": [
    {
     "name": "stdout",
     "output_type": "stream",
     "text": [
      "Model: \"sequential_1\"\n",
      "_________________________________________________________________\n",
      "Layer (type)                 Output Shape              Param #   \n",
      "=================================================================\n",
      "conv2d_1 (Conv2D)            (None, 18, 95, 128)       1280      \n",
      "_________________________________________________________________\n",
      "average_pooling2d_1 (Average (None, 9, 47, 128)        0         \n",
      "_________________________________________________________________\n",
      "conv2d_2 (Conv2D)            (None, 7, 45, 32)         36896     \n",
      "_________________________________________________________________\n",
      "max_pooling2d (MaxPooling2D) (None, 3, 22, 32)         0         \n",
      "_________________________________________________________________\n",
      "dropout_2 (Dropout)          (None, 3, 22, 32)         0         \n",
      "_________________________________________________________________\n",
      "flatten_1 (Flatten)          (None, 2112)              0         \n",
      "_________________________________________________________________\n",
      "dense_2 (Dense)              (None, 256)               540928    \n",
      "_________________________________________________________________\n",
      "dropout_3 (Dropout)          (None, 256)               0         \n",
      "_________________________________________________________________\n",
      "batch_normalization_1 (Batch (None, 256)               1024      \n",
      "_________________________________________________________________\n",
      "dense_3 (Dense)              (None, 1)                 257       \n",
      "=================================================================\n",
      "Total params: 580,385\n",
      "Trainable params: 579,873\n",
      "Non-trainable params: 512\n",
      "_________________________________________________________________\n"
     ]
    }
   ],
   "source": [
    "model.summary()"
   ]
  },
  {
   "cell_type": "code",
   "execution_count": 18,
   "id": "cb4768f7-e700-499c-86c8-2c60cf806f7a",
   "metadata": {},
   "outputs": [
    {
     "name": "stdout",
     "output_type": "stream",
     "text": [
      "29/29 [==============================] - 0s 15ms/step - loss: 0.4290 - binary_accuracy: 0.8328\n",
      "Train Accuracy: 85.32610000000001%\n",
      "Test Accuracy: 83.27799999999999%\n"
     ]
    }
   ],
   "source": [
    "evaluate_model(model, history)"
   ]
  },
  {
   "cell_type": "code",
   "execution_count": 19,
   "id": "897a864c-565e-486b-ae2a-40ff57f22141",
   "metadata": {},
   "outputs": [
    {
     "data": {
      "image/png": "[encoded data removed]",
      "text/plain": [
       "<Figure size 864x576 with 1 Axes>"
      ]
     },
     "metadata": {
      "needs_background": "light"
     },
     "output_type": "display_data"
    }
   ],
   "source": [
    "graph_model_loss('CNN MFCC, No Patient Information', history)"
   ]
  },
  {
   "cell_type": "code",
   "execution_count": 20,
   "id": "c4764e32-cee0-4f1a-bb02-07b521d362c0",
   "metadata": {},
   "outputs": [
    {
     "name": "stderr",
     "output_type": "stream",
     "text": [
      "2022-04-01 13:13:35.199319: W tensorflow/python/util/util.cc:348] Sets are not currently considered sequences, but this may change in the future, so consider avoiding using them.\n"
     ]
    },
    {
     "name": "stdout",
     "output_type": "stream",
     "text": [
      "INFO:tensorflow:Assets written to: /Users/jmd/Documents/BOOTCAMP/Capstone/neural_nets/CNN_MFCCs_no_patient/assets\n"
     ]
    }
   ],
   "source": [
    "#saving model\n",
    "model.save('/Users/jmd/Documents/BOOTCAMP/Capstone/neural_nets/CNN_MFCCs_no_patient', overwrite=True)"
   ]
  }
 ],
 "metadata": {
  "kernelspec": {
   "display_name": "capstone",
   "language": "python",
   "name": "capstone"
  },
  "language_info": {
   "codemirror_mode": {
    "name": "ipython",
    "version": 3
   },
   "file_extension": ".py",
   "mimetype": "text/x-python",
   "name": "python",
   "nbconvert_exporter": "python",
   "pygments_lexer": "ipython3",
   "version": "3.8.12"
  }
 },
 "nbformat": 4,
 "nbformat_minor": 5
}
