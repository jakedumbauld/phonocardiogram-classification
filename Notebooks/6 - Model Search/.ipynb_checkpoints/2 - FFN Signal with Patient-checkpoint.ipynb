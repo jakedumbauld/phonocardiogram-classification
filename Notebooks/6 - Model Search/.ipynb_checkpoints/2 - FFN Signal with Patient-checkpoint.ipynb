{
 "cells": [
  {
   "cell_type": "markdown",
   "id": "5ea36f41-9020-462d-ad12-d40f3cb6c4b5",
   "metadata": {},
   "source": [
    "# FFN Signal - With Patient"
   ]
  },
  {
   "cell_type": "markdown",
   "id": "50c2f0e9-44dc-4847-bb04-bc704d34b4e3",
   "metadata": {},
   "source": [
    "Author: Jake Dumbauld <br>\n",
    "Contact: jacobmilodumbauld@gmail.com<br>\n",
    "Date: 3.15.22"
   ]
  },
  {
   "cell_type": "code",
   "execution_count": 1,
   "id": "5aa8364f-9d07-4daa-b460-4aee281e60b6",
   "metadata": {},
   "outputs": [],
   "source": [
    "#imports\n",
    "\n",
    "import numpy as np\n",
    "import pandas as pd\n",
    "import matplotlib.pyplot as plt\n",
    "\n",
    "import time\n",
    "import re\n",
    "\n",
    "from sklearn.model_selection import train_test_split\n",
    "\n",
    "import tensorflow as tf\n",
    "from tensorflow import keras\n",
    "from tensorflow.keras.models import Sequential\n",
    "from tensorflow.keras.layers import Conv2D\n",
    "from tensorflow.keras.layers import MaxPooling2D\n",
    "from tensorflow.keras.layers import Flatten\n",
    "from tensorflow.keras.layers import Dense\n",
    "from tensorflow.keras.layers import Dropout\n",
    "from tensorflow.keras.layers import BatchNormalization\n",
    "from tensorflow.keras import regularizers\n",
    "import keras_tuner as kt"
   ]
  },
  {
   "cell_type": "code",
   "execution_count": 2,
   "id": "429d0342-bcbd-4096-a36e-576a21532b03",
   "metadata": {},
   "outputs": [
    {
     "name": "stdout",
     "output_type": "stream",
     "text": [
      "env: PYTHONHASHSEED=0\n",
      "env: CUDA_VISIBLE_DEVICES=\"\"\n"
     ]
    }
   ],
   "source": [
    "import random as python_random\n",
    "\n",
    "np.random.seed(42)\n",
    "\n",
    "# The below is necessary for starting core Python generated random numbers in a well-defined state.\n",
    "python_random.seed(42)\n",
    "\n",
    "# The below set_seed() will make random number generation\n",
    "# in the TensorFlow backend have a well-defined initial state.\n",
    "# For further details, see:\n",
    "# https://www.tensorflow.org/api_docs/python/tf/random/set_seed\n",
    "tf.random.set_seed(42)\n",
    "\n",
    "#not sure if the below are necessary - leaving in to perhaps un-comment later.\n",
    "%env PYTHONHASHSEED=0\n",
    "%env CUDA_VISIBLE_DEVICES=\"\""
   ]
  },
  {
   "cell_type": "markdown",
   "id": "d85fe2f0-ddc5-4849-ac56-15ae201882c4",
   "metadata": {},
   "source": [
    "## Helper Functions"
   ]
  },
  {
   "cell_type": "markdown",
   "id": "495d60ca-436d-414f-b60d-8d498be096d7",
   "metadata": {},
   "source": [
    "### Model Loss"
   ]
  },
  {
   "cell_type": "code",
   "execution_count": 3,
   "id": "03e90af6-fc3b-46d3-8528-9b7b28036ac6",
   "metadata": {
    "tags": []
   },
   "outputs": [],
   "source": [
    "def graph_model_loss(title, history):\n",
    "    \"\"\"\n",
    "    Description:\n",
    "    Graphs training vs validation loss over epochs for a given model. \n",
    "    \n",
    "    History: tensorflow.python.keras.callbacks.History object\n",
    "    Title: str\n",
    "    \"\"\" \n",
    "    plt.figure(figsize=(12,8))\n",
    "    plt.plot(history.history['loss'])\n",
    "    plt.plot(history.history['val_loss'])\n",
    "    plt.title(title,size=24)\n",
    "    plt.ylabel('Loss',size=16)\n",
    "    plt.xlabel('Epoch',size=16)\n",
    "    plt.legend(['Train', 'Validation'])\n",
    "    plt.show()"
   ]
  },
  {
   "cell_type": "markdown",
   "id": "46ce73b3-9069-4f5e-9fb8-60f62922a3b1",
   "metadata": {},
   "source": [
    "### Train/Test Acc Printout"
   ]
  },
  {
   "cell_type": "code",
   "execution_count": 4,
   "id": "633bce70-5fb2-4d11-948d-8c8e8963d9c3",
   "metadata": {},
   "outputs": [],
   "source": [
    "def evaluate_model(model, history):\n",
    "    \"\"\"\n",
    "    Description:\n",
    "    Outputs model train & test accuracies for currently defined train and test set variables.\n",
    "    \n",
    "    model: tensorflow model,\n",
    "    history: tensorflow.python.keras.callbacks.History object\n",
    "    \"\"\"\n",
    "    # Evaluate the network\n",
    "    train_accuracy = history.history[\"binary_accuracy\"][-1]\n",
    "    result = model.evaluate(X_test,y_test, verbose=1)\n",
    "\n",
    "    print(f\"Train Accuracy: {np.round(train_accuracy, 6)*100}%\")\n",
    "    print(f\"Test Accuracy: {np.round(result[1], 6)*100}%\")"
   ]
  },
  {
   "cell_type": "markdown",
   "id": "e05ebbf1-9396-490b-8ae8-2d7e70eeb331",
   "metadata": {},
   "source": [
    "### Defining Hyperparameter Search Space"
   ]
  },
  {
   "cell_type": "code",
   "execution_count": 5,
   "id": "29bc71b3-6b8f-41b6-9dd3-362c5c8db7f8",
   "metadata": {},
   "outputs": [
    {
     "name": "stderr",
     "output_type": "stream",
     "text": [
      "2022-03-31 23:33:39.836290: I tensorflow/core/platform/cpu_feature_guard.cc:142] This TensorFlow binary is optimized with oneAPI Deep Neural Network Library (oneDNN) to use the following CPU instructions in performance-critical operations:  SSE4.1 SSE4.2\n",
      "To enable them in other operations, rebuild TensorFlow with the appropriate compiler flags.\n"
     ]
    },
    {
     "data": {
      "text/plain": [
       "<tensorflow.python.keras.engine.sequential.Sequential at 0x7fb459b9ec10>"
      ]
     },
     "execution_count": 5,
     "metadata": {},
     "output_type": "execute_result"
    }
   ],
   "source": [
    "def build_model(hp):\n",
    "    model = keras.Sequential()\n",
    "    #flattening input\n",
    "    model.add(Flatten())\n",
    "    \n",
    "    for i in range(hp.Int('layers', 2, 4)):\n",
    "        model.add(\n",
    "            Dense(\n",
    "            #Tuning the number of units in my input layer.\n",
    "            units=hp.Int(\"units\" + str(i), min_value=32, max_value=1024, step=64),\n",
    "            kernel_regularizer=regularizers.l2(0.001),\n",
    "            activation=\"relu\"\n",
    "            )\n",
    "        )\n",
    "        #Tuning whether or not to use dropout.\n",
    "        if hp.Boolean(\"dropout\" + str(i)):\n",
    "            model.add(Dropout(rate=0.25))\n",
    "\n",
    "        #Adding batch normalization\n",
    "        if hp.Boolean(\"normalization\" + str(i)):\n",
    "            model.add(BatchNormalization())\n",
    "\n",
    "    #output layer\n",
    "    model.add(Dense(1, activation=\"sigmoid\"))\n",
    "    \n",
    "    #defining learning rate\n",
    "    lr_schedule = keras.optimizers.schedules.InverseTimeDecay(\n",
    "                      #tuning initial learning rate\n",
    "                      initial_learning_rate=hp.Float(\"starting_learning_rate\", min_value=1e-4, max_value=1e-2, sampling=\"log\"),\n",
    "                      decay_steps=1.0,\n",
    "                      decay_rate=0.1\n",
    "                  )\n",
    "    model.compile(\n",
    "        #Optimizer\n",
    "        optimizer = keras.optimizers.Adam(learning_rate=lr_schedule),\n",
    "        #Loss\n",
    "        loss=keras.losses.BinaryCrossentropy(),\n",
    "        #Metrics\n",
    "        metrics=[keras.metrics.BinaryAccuracy()]\n",
    "    )\n",
    "    return model\n",
    "\n",
    "build_model(kt.HyperParameters())"
   ]
  },
  {
   "cell_type": "code",
   "execution_count": 6,
   "id": "9af6c1f6-5a1f-45c2-8cbd-a2863c881951",
   "metadata": {},
   "outputs": [],
   "source": [
    "X = np.load('/Users/jmd/Documents/BOOTCAMP/Capstone/arrays/signal_withPatient.npy', allow_pickle=True)\n",
    "y = np.load('/Users/jmd/Documents/BOOTCAMP/Capstone/arrays/target_array.npy', allow_pickle=True)"
   ]
  },
  {
   "cell_type": "code",
   "execution_count": 7,
   "id": "d7d2fdca-e21e-4d50-95ce-e7559b1533e3",
   "metadata": {},
   "outputs": [],
   "source": [
    "#train test split\n",
    "X_train, X_test, y_train, y_test = train_test_split(X, y, stratify=y, test_size = 0.3)"
   ]
  },
  {
   "cell_type": "code",
   "execution_count": 8,
   "id": "e2ca7443-1490-4d4c-9c26-ed3b5768a3c3",
   "metadata": {},
   "outputs": [],
   "source": [
    "X_train, X_val, y_train, y_val = train_test_split(X_train, y_train, stratify=y_train, test_size=0.3)"
   ]
  },
  {
   "cell_type": "code",
   "execution_count": 9,
   "id": "58a6a1e9-4a6e-4992-9e2f-84b01dbc8e01",
   "metadata": {},
   "outputs": [],
   "source": [
    "es_callback = keras.callbacks.EarlyStopping(monitor='val_loss', patience=5)"
   ]
  },
  {
   "cell_type": "code",
   "execution_count": 10,
   "id": "bb65f21a-1759-4f9e-bb23-8bbfd4e7ef73",
   "metadata": {
    "scrolled": true,
    "tags": []
   },
   "outputs": [
    {
     "name": "stdout",
     "output_type": "stream",
     "text": [
      "Trial 50 Complete [00h 00m 05s]\n",
      "val_loss: 0.5907904505729675\n",
      "\n",
      "Best val_loss So Far: 0.5410981178283691\n",
      "Total elapsed time: 00h 59m 41s\n",
      "INFO:tensorflow:Oracle triggered exit\n"
     ]
    }
   ],
   "source": [
    "tuner = kt.BayesianOptimization(\n",
    "    hypermodel=build_model,\n",
    "    objective=\"val_loss\",\n",
    "    max_trials=50,\n",
    "    seed=42,\n",
    "    overwrite=True,\n",
    "    directory='/Users/jmd/Documents/BOOTCAMP/Capstone/kerastune_searches',\n",
    "    project_name='sequential_signal_with_patient'\n",
    ")\n",
    "\n",
    "tuner.search(X_train, y_train, epochs=100, validation_data=(X_val,y_val), callbacks=[es_callback])"
   ]
  },
  {
   "cell_type": "code",
   "execution_count": 18,
   "id": "a912ccef-3750-414d-b1e6-7bfdab89a579",
   "metadata": {
    "scrolled": true,
    "tags": []
   },
   "outputs": [
    {
     "name": "stdout",
     "output_type": "stream",
     "text": [
      "Results summary\n",
      "Results in /Users/jmd/Documents/BOOTCAMP/Capstone/kerastune_searches/sequential_signal_with_patient\n",
      "Showing 5 best trials\n",
      "Objective(name='val_loss', direction='min')\n",
      "Trial summary\n",
      "Hyperparameters:\n",
      "layers: 2\n",
      "units0: 32\n",
      "dropout0: False\n",
      "normalization0: False\n",
      "units1: 992\n",
      "dropout1: False\n",
      "normalization1: False\n",
      "starting_learning_rate: 0.001230336587363103\n",
      "units2: 32\n",
      "dropout2: False\n",
      "normalization2: True\n",
      "units3: 32\n",
      "dropout3: False\n",
      "normalization3: False\n",
      "Score: 0.5410981178283691\n",
      "Trial summary\n",
      "Hyperparameters:\n",
      "layers: 2\n",
      "units0: 32\n",
      "dropout0: False\n",
      "normalization0: False\n",
      "units1: 32\n",
      "dropout1: False\n",
      "normalization1: False\n",
      "starting_learning_rate: 0.0001\n",
      "units2: 32\n",
      "dropout2: False\n",
      "normalization2: True\n",
      "units3: 416\n",
      "dropout3: False\n",
      "normalization3: True\n",
      "Score: 0.5427098274230957\n",
      "Trial summary\n",
      "Hyperparameters:\n",
      "layers: 2\n",
      "units0: 32\n",
      "dropout0: False\n",
      "normalization0: False\n",
      "units1: 32\n",
      "dropout1: False\n",
      "normalization1: False\n",
      "starting_learning_rate: 0.0001\n",
      "units2: 544\n",
      "dropout2: False\n",
      "normalization2: True\n",
      "units3: 32\n",
      "dropout3: True\n",
      "normalization3: True\n",
      "Score: 0.5476659536361694\n",
      "Trial summary\n",
      "Hyperparameters:\n",
      "layers: 2\n",
      "units0: 32\n",
      "dropout0: False\n",
      "normalization0: False\n",
      "units1: 992\n",
      "dropout1: False\n",
      "normalization1: False\n",
      "starting_learning_rate: 0.0007583307907782073\n",
      "units2: 32\n",
      "dropout2: False\n",
      "normalization2: True\n",
      "units3: 32\n",
      "dropout3: False\n",
      "normalization3: False\n",
      "Score: 0.5502502918243408\n",
      "Trial summary\n",
      "Hyperparameters:\n",
      "layers: 2\n",
      "units0: 32\n",
      "dropout0: False\n",
      "normalization0: False\n",
      "units1: 992\n",
      "dropout1: False\n",
      "normalization1: False\n",
      "starting_learning_rate: 0.0003754941684989656\n",
      "units2: 32\n",
      "dropout2: False\n",
      "normalization2: True\n",
      "units3: 352\n",
      "dropout3: False\n",
      "normalization3: False\n",
      "Score: 0.5525181293487549\n"
     ]
    }
   ],
   "source": [
    "tuner.results_summary(num_trials=5)"
   ]
  },
  {
   "cell_type": "code",
   "execution_count": 12,
   "id": "308a28a1-a024-41c6-aeaa-8a6ebe4e8989",
   "metadata": {},
   "outputs": [],
   "source": [
    "es_callback = keras.callbacks.EarlyStopping(monitor='val_loss', patience=10)"
   ]
  },
  {
   "cell_type": "code",
   "execution_count": 13,
   "id": "4788fd09-0d00-43b1-990d-9e1b3e4ae8c7",
   "metadata": {
    "scrolled": true,
    "tags": []
   },
   "outputs": [
    {
     "name": "stdout",
     "output_type": "stream",
     "text": [
      "Epoch 1/100\n",
      "46/46 [==============================] - 1s 13ms/step - loss: 24.1381 - binary_accuracy: 0.6370 - val_loss: 2.3099 - val_binary_accuracy: 0.7959\n",
      "Epoch 2/100\n",
      "46/46 [==============================] - 1s 11ms/step - loss: 1.4648 - binary_accuracy: 0.7038 - val_loss: 0.6421 - val_binary_accuracy: 0.7959\n",
      "Epoch 3/100\n",
      "46/46 [==============================] - 1s 11ms/step - loss: 0.6715 - binary_accuracy: 0.7169 - val_loss: 0.6099 - val_binary_accuracy: 0.7959\n",
      "Epoch 4/100\n",
      "46/46 [==============================] - 0s 10ms/step - loss: 0.6476 - binary_accuracy: 0.7849 - val_loss: 0.5769 - val_binary_accuracy: 0.7959\n",
      "Epoch 5/100\n",
      "46/46 [==============================] - 0s 10ms/step - loss: 0.6827 - binary_accuracy: 0.7681 - val_loss: 0.6994 - val_binary_accuracy: 0.7215\n",
      "Epoch 6/100\n",
      "46/46 [==============================] - 0s 10ms/step - loss: 0.7709 - binary_accuracy: 0.6744 - val_loss: 0.5766 - val_binary_accuracy: 0.7943\n",
      "Epoch 7/100\n",
      "46/46 [==============================] - 0s 11ms/step - loss: 0.6032 - binary_accuracy: 0.7866 - val_loss: 0.5806 - val_binary_accuracy: 0.7959\n",
      "Epoch 8/100\n",
      "46/46 [==============================] - 0s 11ms/step - loss: 0.5878 - binary_accuracy: 0.8059 - val_loss: 0.5654 - val_binary_accuracy: 0.7959\n",
      "Epoch 9/100\n",
      "46/46 [==============================] - 0s 10ms/step - loss: 0.6007 - binary_accuracy: 0.7837 - val_loss: 0.5636 - val_binary_accuracy: 0.7943\n",
      "Epoch 10/100\n",
      "46/46 [==============================] - 0s 11ms/step - loss: 0.5774 - binary_accuracy: 0.7913 - val_loss: 0.5605 - val_binary_accuracy: 0.7943\n",
      "Epoch 11/100\n",
      "46/46 [==============================] - 0s 10ms/step - loss: 0.5999 - binary_accuracy: 0.7816 - val_loss: 0.5568 - val_binary_accuracy: 0.7943\n",
      "Epoch 12/100\n",
      "46/46 [==============================] - 0s 11ms/step - loss: 0.5886 - binary_accuracy: 0.8013 - val_loss: 0.5581 - val_binary_accuracy: 0.7959\n",
      "Epoch 13/100\n",
      "46/46 [==============================] - 0s 11ms/step - loss: 0.6130 - binary_accuracy: 0.7758 - val_loss: 0.5653 - val_binary_accuracy: 0.7959\n",
      "Epoch 14/100\n",
      "46/46 [==============================] - 0s 11ms/step - loss: 0.5977 - binary_accuracy: 0.7892 - val_loss: 0.5663 - val_binary_accuracy: 0.7959\n",
      "Epoch 15/100\n",
      "46/46 [==============================] - 0s 11ms/step - loss: 0.5989 - binary_accuracy: 0.7847 - val_loss: 0.5544 - val_binary_accuracy: 0.7959\n",
      "Epoch 16/100\n",
      "46/46 [==============================] - 0s 10ms/step - loss: 0.6110 - binary_accuracy: 0.7887 - val_loss: 0.5501 - val_binary_accuracy: 0.7959\n",
      "Epoch 17/100\n",
      "46/46 [==============================] - 0s 11ms/step - loss: 0.5889 - binary_accuracy: 0.7803 - val_loss: 0.5553 - val_binary_accuracy: 0.7959\n",
      "Epoch 18/100\n",
      "46/46 [==============================] - 0s 11ms/step - loss: 0.5683 - binary_accuracy: 0.8094 - val_loss: 0.5631 - val_binary_accuracy: 0.7959\n",
      "Epoch 19/100\n",
      "46/46 [==============================] - 0s 11ms/step - loss: 0.5740 - binary_accuracy: 0.7985 - val_loss: 0.5707 - val_binary_accuracy: 0.7959\n",
      "Epoch 20/100\n",
      "46/46 [==============================] - 0s 11ms/step - loss: 0.6041 - binary_accuracy: 0.7882 - val_loss: 0.5477 - val_binary_accuracy: 0.7943\n",
      "Epoch 21/100\n",
      "46/46 [==============================] - 0s 11ms/step - loss: 0.5616 - binary_accuracy: 0.7972 - val_loss: 0.5475 - val_binary_accuracy: 0.7943\n",
      "Epoch 22/100\n",
      "46/46 [==============================] - 0s 11ms/step - loss: 0.5911 - binary_accuracy: 0.7830 - val_loss: 0.5467 - val_binary_accuracy: 0.7943\n",
      "Epoch 23/100\n",
      "46/46 [==============================] - 0s 11ms/step - loss: 0.5612 - binary_accuracy: 0.8003 - val_loss: 0.5883 - val_binary_accuracy: 0.7959\n",
      "Epoch 24/100\n",
      "46/46 [==============================] - 0s 10ms/step - loss: 0.5980 - binary_accuracy: 0.7893 - val_loss: 0.5633 - val_binary_accuracy: 0.7959\n",
      "Epoch 25/100\n",
      "46/46 [==============================] - 0s 11ms/step - loss: 0.6138 - binary_accuracy: 0.7818 - val_loss: 0.5946 - val_binary_accuracy: 0.7959\n",
      "Epoch 26/100\n",
      "46/46 [==============================] - 0s 10ms/step - loss: 0.5607 - binary_accuracy: 0.8082 - val_loss: 0.5921 - val_binary_accuracy: 0.7943\n",
      "Epoch 27/100\n",
      "46/46 [==============================] - 0s 10ms/step - loss: 0.5739 - binary_accuracy: 0.7975 - val_loss: 0.5893 - val_binary_accuracy: 0.7943\n",
      "Epoch 28/100\n",
      "46/46 [==============================] - 0s 11ms/step - loss: 0.5895 - binary_accuracy: 0.7899 - val_loss: 0.5500 - val_binary_accuracy: 0.7943\n",
      "Epoch 29/100\n",
      "46/46 [==============================] - 0s 11ms/step - loss: 0.5536 - binary_accuracy: 0.8012 - val_loss: 0.5722 - val_binary_accuracy: 0.7959\n",
      "Epoch 30/100\n",
      "46/46 [==============================] - 0s 11ms/step - loss: 0.5955 - binary_accuracy: 0.7914 - val_loss: 0.5487 - val_binary_accuracy: 0.7943\n",
      "Epoch 31/100\n",
      "46/46 [==============================] - 0s 11ms/step - loss: 0.6008 - binary_accuracy: 0.7768 - val_loss: 0.5457 - val_binary_accuracy: 0.7943\n",
      "Epoch 32/100\n",
      "46/46 [==============================] - 0s 11ms/step - loss: 0.5820 - binary_accuracy: 0.7922 - val_loss: 0.5536 - val_binary_accuracy: 0.7943\n",
      "Epoch 33/100\n",
      "46/46 [==============================] - 0s 11ms/step - loss: 0.5654 - binary_accuracy: 0.8125 - val_loss: 0.5572 - val_binary_accuracy: 0.7943\n",
      "Epoch 34/100\n",
      "46/46 [==============================] - 0s 10ms/step - loss: 0.5694 - binary_accuracy: 0.7910 - val_loss: 0.5453 - val_binary_accuracy: 0.7943\n",
      "Epoch 35/100\n",
      "46/46 [==============================] - 1s 11ms/step - loss: 0.5956 - binary_accuracy: 0.7749 - val_loss: 0.5460 - val_binary_accuracy: 0.7943\n",
      "Epoch 36/100\n",
      "46/46 [==============================] - 1s 12ms/step - loss: 0.5742 - binary_accuracy: 0.7923 - val_loss: 0.5717 - val_binary_accuracy: 0.7959\n",
      "Epoch 37/100\n",
      "46/46 [==============================] - 0s 10ms/step - loss: 0.5442 - binary_accuracy: 0.8063 - val_loss: 0.5476 - val_binary_accuracy: 0.7943\n",
      "Epoch 38/100\n",
      "46/46 [==============================] - 0s 11ms/step - loss: 0.5682 - binary_accuracy: 0.7872 - val_loss: 0.5851 - val_binary_accuracy: 0.7959\n",
      "Epoch 39/100\n",
      "46/46 [==============================] - 0s 11ms/step - loss: 0.5956 - binary_accuracy: 0.7853 - val_loss: 0.5446 - val_binary_accuracy: 0.7943\n",
      "Epoch 40/100\n",
      "46/46 [==============================] - 0s 11ms/step - loss: 0.5623 - binary_accuracy: 0.7935 - val_loss: 0.5427 - val_binary_accuracy: 0.7943\n",
      "Epoch 41/100\n",
      "46/46 [==============================] - 0s 11ms/step - loss: 0.5616 - binary_accuracy: 0.7975 - val_loss: 0.5583 - val_binary_accuracy: 0.7943\n",
      "Epoch 42/100\n",
      "46/46 [==============================] - 0s 11ms/step - loss: 0.5640 - binary_accuracy: 0.7910 - val_loss: 0.5439 - val_binary_accuracy: 0.7943\n",
      "Epoch 43/100\n",
      "46/46 [==============================] - 0s 11ms/step - loss: 0.5562 - binary_accuracy: 0.7966 - val_loss: 0.5478 - val_binary_accuracy: 0.7943\n",
      "Epoch 44/100\n",
      "46/46 [==============================] - 0s 11ms/step - loss: 0.5562 - binary_accuracy: 0.8045 - val_loss: 0.5437 - val_binary_accuracy: 0.7943\n",
      "Epoch 45/100\n",
      "46/46 [==============================] - 0s 11ms/step - loss: 0.5525 - binary_accuracy: 0.7992 - val_loss: 0.5432 - val_binary_accuracy: 0.7943\n",
      "Epoch 46/100\n",
      "46/46 [==============================] - 0s 11ms/step - loss: 0.5502 - binary_accuracy: 0.8000 - val_loss: 0.5459 - val_binary_accuracy: 0.7943\n",
      "Epoch 47/100\n",
      "46/46 [==============================] - 0s 11ms/step - loss: 0.5591 - binary_accuracy: 0.7994 - val_loss: 0.5445 - val_binary_accuracy: 0.7943\n",
      "Epoch 48/100\n",
      "46/46 [==============================] - 0s 11ms/step - loss: 0.5633 - binary_accuracy: 0.7912 - val_loss: 0.5468 - val_binary_accuracy: 0.7943\n",
      "Epoch 49/100\n",
      "46/46 [==============================] - 0s 11ms/step - loss: 0.5400 - binary_accuracy: 0.8133 - val_loss: 0.5474 - val_binary_accuracy: 0.7959\n",
      "Epoch 50/100\n",
      "46/46 [==============================] - 0s 11ms/step - loss: 0.5596 - binary_accuracy: 0.7951 - val_loss: 0.5423 - val_binary_accuracy: 0.7943\n",
      "Epoch 51/100\n",
      "46/46 [==============================] - 0s 11ms/step - loss: 0.5562 - binary_accuracy: 0.7957 - val_loss: 0.5524 - val_binary_accuracy: 0.7959\n",
      "Epoch 52/100\n",
      "46/46 [==============================] - 0s 11ms/step - loss: 0.5847 - binary_accuracy: 0.7869 - val_loss: 0.5453 - val_binary_accuracy: 0.7943\n",
      "Epoch 53/100\n",
      "46/46 [==============================] - 0s 11ms/step - loss: 0.5711 - binary_accuracy: 0.7894 - val_loss: 0.5457 - val_binary_accuracy: 0.7943\n",
      "Epoch 54/100\n",
      "46/46 [==============================] - 0s 11ms/step - loss: 0.5612 - binary_accuracy: 0.7876 - val_loss: 0.5685 - val_binary_accuracy: 0.7943\n",
      "Epoch 55/100\n",
      "46/46 [==============================] - 0s 11ms/step - loss: 0.5793 - binary_accuracy: 0.7934 - val_loss: 0.5433 - val_binary_accuracy: 0.7943\n",
      "Epoch 56/100\n",
      "46/46 [==============================] - 0s 11ms/step - loss: 0.5597 - binary_accuracy: 0.7964 - val_loss: 0.5453 - val_binary_accuracy: 0.7943\n",
      "Epoch 57/100\n",
      "46/46 [==============================] - 0s 11ms/step - loss: 0.5758 - binary_accuracy: 0.7896 - val_loss: 0.5452 - val_binary_accuracy: 0.7943\n",
      "Epoch 58/100\n",
      "46/46 [==============================] - 0s 11ms/step - loss: 0.5446 - binary_accuracy: 0.8027 - val_loss: 0.5669 - val_binary_accuracy: 0.7943\n",
      "Epoch 59/100\n",
      "46/46 [==============================] - 0s 11ms/step - loss: 0.5515 - binary_accuracy: 0.8079 - val_loss: 0.5469 - val_binary_accuracy: 0.7943\n",
      "Epoch 60/100\n",
      "46/46 [==============================] - 0s 11ms/step - loss: 0.5552 - binary_accuracy: 0.7963 - val_loss: 0.5447 - val_binary_accuracy: 0.7943\n"
     ]
    }
   ],
   "source": [
    "# Get the best hyperparameters.\n",
    "best_hps = tuner.get_best_hyperparameters()\n",
    "# Build the model with the best hp.\n",
    "model = build_model(best_hps[0])\n",
    "\n",
    "history = model.fit(X_train, y_train, epochs=100, validation_data=(X_val,y_val), callbacks=[es_callback])"
   ]
  },
  {
   "cell_type": "code",
   "execution_count": 14,
   "id": "8e3ff58c-a4a8-4e1d-93e6-0709501aca9d",
   "metadata": {},
   "outputs": [
    {
     "name": "stdout",
     "output_type": "stream",
     "text": [
      "Model: \"sequential_1\"\n",
      "_________________________________________________________________\n",
      "Layer (type)                 Output Shape              Param #   \n",
      "=================================================================\n",
      "flatten_1 (Flatten)          (None, 67584)             0         \n",
      "_________________________________________________________________\n",
      "dense_3 (Dense)              (None, 32)                2162720   \n",
      "_________________________________________________________________\n",
      "dense_4 (Dense)              (None, 992)               32736     \n",
      "_________________________________________________________________\n",
      "dense_5 (Dense)              (None, 1)                 993       \n",
      "=================================================================\n",
      "Total params: 2,196,449\n",
      "Trainable params: 2,196,449\n",
      "Non-trainable params: 0\n",
      "_________________________________________________________________\n"
     ]
    }
   ],
   "source": [
    "model.summary()"
   ]
  },
  {
   "cell_type": "code",
   "execution_count": 15,
   "id": "596eb9ee-e94e-4009-9979-1c937e3a31fd",
   "metadata": {},
   "outputs": [
    {
     "name": "stdout",
     "output_type": "stream",
     "text": [
      "29/29 [==============================] - 0s 3ms/step - loss: 0.5522 - binary_accuracy: 0.7940\n",
      "Train Accuracy: 79.5516%\n",
      "Test Accuracy: 79.402%\n"
     ]
    }
   ],
   "source": [
    "evaluate_model(model, history)"
   ]
  },
  {
   "cell_type": "code",
   "execution_count": 16,
   "id": "3a8310c2-65b3-4dee-9140-aee6737539c8",
   "metadata": {},
   "outputs": [
    {
     "data": {
      "image/png": "[encoded data removed]",
      "text/plain": [
       "<Figure size 864x576 with 1 Axes>"
      ]
     },
     "metadata": {
      "needs_background": "light"
     },
     "output_type": "display_data"
    }
   ],
   "source": [
    "graph_model_loss('Raw Signal Data, No Patient Information', history)"
   ]
  },
  {
   "cell_type": "code",
   "execution_count": 28,
   "id": "3ca1dbc1-43f1-4e66-8554-b18bd39c2848",
   "metadata": {},
   "outputs": [
    {
     "name": "stdout",
     "output_type": "stream",
     "text": [
      "INFO:tensorflow:Assets written to: /Users/jmd/Documents/BOOTCAMP/Capstone/neural_nets/sequential_signal_with_patient/assets\n"
     ]
    }
   ],
   "source": [
    "#saving model\n",
    "model.save('/Users/jmd/Documents/BOOTCAMP/Capstone/neural_nets/sequential_signal_with_patient', overwrite=True)"
   ]
  }
 ],
 "metadata": {
  "kernelspec": {
   "display_name": "capstone",
   "language": "python",
   "name": "capstone"
  },
  "language_info": {
   "codemirror_mode": {
    "name": "ipython",
    "version": 3
   },
   "file_extension": ".py",
   "mimetype": "text/x-python",
   "name": "python",
   "nbconvert_exporter": "python",
   "pygments_lexer": "ipython3",
   "version": "3.8.12"
  }
 },
 "nbformat": 4,
 "nbformat_minor": 5
}
