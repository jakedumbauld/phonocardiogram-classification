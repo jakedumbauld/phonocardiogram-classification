{
 "cells": [
  {
   "cell_type": "markdown",
   "id": "ea99dc4b-adb2-41df-850e-98f3e45c1a48",
   "metadata": {},
   "source": [
    "# CNN MFCC - With Patient"
   ]
  },
  {
   "cell_type": "markdown",
   "id": "2a0e7641-3067-4739-90f3-41c4da54bac3",
   "metadata": {},
   "source": [
    "Author: Jake Dumbauld <br>\n",
    "Contact: jacobmilodumbauld@gmail.com<br>\n",
    "Date: 3.15.22"
   ]
  },
  {
   "cell_type": "code",
   "execution_count": 1,
   "id": "268a438d-7477-40f7-948e-f740355d3c36",
   "metadata": {},
   "outputs": [],
   "source": [
    "#imports\n",
    "\n",
    "import numpy as np\n",
    "import pandas as pd\n",
    "import matplotlib.pyplot as plt\n",
    "\n",
    "import time\n",
    "import re\n",
    "\n",
    "from sklearn.model_selection import train_test_split\n",
    "\n",
    "import tensorflow as tf\n",
    "from tensorflow import keras\n",
    "from tensorflow.keras.models import Sequential\n",
    "from tensorflow.keras.layers import Conv2D, MaxPooling2D, AveragePooling2D, Flatten, Dense, Dropout, BatchNormalization\n",
    "from tensorflow.keras import regularizers\n",
    "import keras_tuner as kt"
   ]
  },
  {
   "cell_type": "code",
   "execution_count": 2,
   "id": "9445cf20-baeb-43af-87bb-be700f83f7d2",
   "metadata": {},
   "outputs": [
    {
     "name": "stdout",
     "output_type": "stream",
     "text": [
      "env: PYTHONHASHSEED=0\n",
      "env: CUDA_VISIBLE_DEVICES=\"\"\n"
     ]
    }
   ],
   "source": [
    "import random as python_random\n",
    "\n",
    "np.random.seed(42)\n",
    "\n",
    "# The below is necessary for starting core Python generated random numbers in a well-defined state.\n",
    "python_random.seed(42)\n",
    "\n",
    "# The below set_seed() will make random number generation\n",
    "# in the TensorFlow backend have a well-defined initial state.\n",
    "# For further details, see:\n",
    "# https://www.tensorflow.org/api_docs/python/tf/random/set_seed\n",
    "tf.random.set_seed(42)\n",
    "\n",
    "#not sure if the below are necessary - leaving in to perhaps un-comment later.\n",
    "%env PYTHONHASHSEED=0\n",
    "%env CUDA_VISIBLE_DEVICES=\"\""
   ]
  },
  {
   "cell_type": "markdown",
   "id": "03f0c37e-1d2b-4500-95b3-738b93fdd3ea",
   "metadata": {},
   "source": [
    "## Helper Functions"
   ]
  },
  {
   "cell_type": "markdown",
   "id": "15e0ebbc-aa72-4b34-8318-29b1338bebfd",
   "metadata": {},
   "source": [
    "### Model Loss"
   ]
  },
  {
   "cell_type": "code",
   "execution_count": 3,
   "id": "9b44b715-2052-4596-854b-9fb17ce16d44",
   "metadata": {
    "tags": []
   },
   "outputs": [],
   "source": [
    "def graph_model_loss(title, history):\n",
    "    \"\"\"\n",
    "    Description:\n",
    "    Graphs training vs validation loss over epochs for a given model. \n",
    "    \n",
    "    History: tensorflow.python.keras.callbacks.History object\n",
    "    Title: str\n",
    "    \"\"\" \n",
    "    plt.figure(figsize=(12,8))\n",
    "    plt.plot(history.history['loss'])\n",
    "    plt.plot(history.history['val_loss'])\n",
    "    plt.title(title,size=24)\n",
    "    plt.ylabel('Loss',size=16)\n",
    "    plt.xlabel('Epoch',size=16)\n",
    "    plt.legend(['Train', 'Validation'])\n",
    "    plt.show()"
   ]
  },
  {
   "cell_type": "markdown",
   "id": "6c4959f1-604d-48b9-ac51-07c76fdfe86d",
   "metadata": {},
   "source": [
    "### Train/Test Acc Printout"
   ]
  },
  {
   "cell_type": "code",
   "execution_count": 4,
   "id": "845a6078-3c09-4c44-9087-352f717263de",
   "metadata": {},
   "outputs": [],
   "source": [
    "def evaluate_model(model, history):\n",
    "    \"\"\"\n",
    "    Description:\n",
    "    Outputs model train & test accuracies for currently defined train and test set variables.\n",
    "    \n",
    "    model: tensorflow model,\n",
    "    history: tensorflow.python.keras.callbacks.History object\n",
    "    \"\"\"\n",
    "    # Evaluate the network\n",
    "    train_accuracy = history.history[\"binary_accuracy\"][-1]\n",
    "    result = model.evaluate(X_test,y_test, verbose=1)\n",
    "\n",
    "    print(f\"Train Accuracy: {np.round(train_accuracy, 6)*100}%\")\n",
    "    print(f\"Test Accuracy: {np.round(result[1], 6)*100}%\")"
   ]
  },
  {
   "cell_type": "markdown",
   "id": "7f978ca7-1eb9-4a4e-bcdb-de22f29cc3f5",
   "metadata": {},
   "source": [
    "### Defining Hyperparameter Search Space"
   ]
  },
  {
   "cell_type": "code",
   "execution_count": 5,
   "id": "ecfd5639-2b52-404e-b727-46912e1d0fb8",
   "metadata": {},
   "outputs": [
    {
     "name": "stderr",
     "output_type": "stream",
     "text": [
      "2022-04-01 15:29:47.228808: I tensorflow/core/platform/cpu_feature_guard.cc:142] This TensorFlow binary is optimized with oneAPI Deep Neural Network Library (oneDNN) to use the following CPU instructions in performance-critical operations:  SSE4.1 SSE4.2\n",
      "To enable them in other operations, rebuild TensorFlow with the appropriate compiler flags.\n"
     ]
    },
    {
     "data": {
      "text/plain": [
       "<tensorflow.python.keras.engine.sequential.Sequential at 0x7fa9482f7eb0>"
      ]
     },
     "execution_count": 5,
     "metadata": {},
     "output_type": "execute_result"
    }
   ],
   "source": [
    "def build_CNN_model(hp):\n",
    "    model = keras.Sequential()\n",
    "    \n",
    "#     model.add(\n",
    "#         Conv2D(\n",
    "#         filters=hp.Int(\"input_filters\", min_value=16, max_value=64, step=16),\n",
    "#         kernel_size=(3,3),\n",
    "#         activation=\"relu\",\n",
    "#         input_shape=(20,97,1)\n",
    "#         )\n",
    "#     )\n",
    "    \n",
    "    for i in range(hp.Int('conv_layers', 1, 2)):\n",
    "        model.add(\n",
    "            Conv2D(\n",
    "            #Tuning the number of units in my input layer.\n",
    "            filters=hp.Int(\"filters\" + str(i), min_value=32, max_value=128, step=16),\n",
    "            kernel_size=(3,3),\n",
    "            activation=\"relu\",\n",
    "            )\n",
    "        )\n",
    "        if hp.Choice('pooling' + str(i), ['avg', 'max']) == 'max':\n",
    "                model.add(MaxPooling2D(pool_size=(2,2)))\n",
    "        else:\n",
    "            model.add(AveragePooling2D(pool_size=(2,2)))        \n",
    "\n",
    "        #Tuning whether or not to use dropout.\n",
    "        if hp.Boolean(\"conv_dropout\" + str(i)):\n",
    "            model.add(Dropout(rate=0.25))\n",
    "\n",
    "    model.add(Flatten())\n",
    "    \n",
    "    for i in range(hp.Int('dense_layers', 2, 3)):\n",
    "        model.add(\n",
    "            Dense(\n",
    "            #Tuning the number of units in my input layer.\n",
    "            units=hp.Int(\"units\" + str(i), min_value=32, max_value=256, step=32),\n",
    "            activation=\"relu\"\n",
    "            )\n",
    "        )\n",
    "        #Tuning whether or not to use dropout.\n",
    "        if hp.Boolean(\"dropout\" + str(i)):\n",
    "            model.add(Dropout(rate=0.25))\n",
    "\n",
    "        #Adding batch normalization\n",
    "        if hp.Boolean(\"normalization\" + str(i)):\n",
    "            model.add(BatchNormalization())\n",
    "\n",
    "    #output layer\n",
    "    model.add(Dense(1, activation=\"sigmoid\"))\n",
    "    \n",
    "    #defining learning rate\n",
    "    lr_schedule = keras.optimizers.schedules.InverseTimeDecay(\n",
    "                      #tuning initial learning rate\n",
    "                      initial_learning_rate=hp.Float(\"starting_learning_rate\", min_value=1e-4, max_value=1e-2, sampling=\"log\"),\n",
    "                      decay_steps=1.0,\n",
    "                      decay_rate=0.1\n",
    "                  )\n",
    "    model.compile(\n",
    "        #Optimizer\n",
    "        optimizer = keras.optimizers.Adam(learning_rate=lr_schedule),\n",
    "        #Loss\n",
    "        loss=keras.losses.BinaryCrossentropy(),\n",
    "        #Metrics\n",
    "        metrics=[keras.metrics.BinaryAccuracy()]\n",
    "    )\n",
    "    return model\n",
    "\n",
    "build_CNN_model(kt.HyperParameters())"
   ]
  },
  {
   "cell_type": "code",
   "execution_count": 6,
   "id": "a476604b-a559-49a9-acd0-763c9617c0d7",
   "metadata": {},
   "outputs": [],
   "source": [
    "X = np.load('/Users/jmd/Documents/BOOTCAMP/Capstone/arrays/MFCCs_withPatient.npy', allow_pickle=True)\n",
    "y = np.load('/Users/jmd/Documents/BOOTCAMP/Capstone/arrays/target_array.npy', allow_pickle=True)"
   ]
  },
  {
   "cell_type": "code",
   "execution_count": 7,
   "id": "30a023d0-4041-40c7-97bf-99fbaa1aa650",
   "metadata": {},
   "outputs": [],
   "source": [
    "X = X.reshape(X.shape[0], X.shape[1], X.shape[2], 1)"
   ]
  },
  {
   "cell_type": "code",
   "execution_count": 8,
   "id": "7138842a-06a3-4130-b0d1-6fc9e4bb666f",
   "metadata": {},
   "outputs": [],
   "source": [
    "#train test split\n",
    "X_train, X_test, y_train, y_test = train_test_split(X, y, stratify=y, test_size = 0.3)"
   ]
  },
  {
   "cell_type": "code",
   "execution_count": 9,
   "id": "38969b64-519f-4e39-a45b-380400599405",
   "metadata": {},
   "outputs": [],
   "source": [
    "X_train, X_val, y_train, y_val = train_test_split(X_train, y_train, stratify=y_train, test_size=0.3)"
   ]
  },
  {
   "cell_type": "code",
   "execution_count": 10,
   "id": "fc83d4d0-43fa-48b1-81ff-298844ab3818",
   "metadata": {},
   "outputs": [
    {
     "data": {
      "text/plain": [
       "(1472, 30, 97, 1)"
      ]
     },
     "execution_count": 10,
     "metadata": {},
     "output_type": "execute_result"
    }
   ],
   "source": [
    "X_train.shape"
   ]
  },
  {
   "cell_type": "code",
   "execution_count": 11,
   "id": "72a011b6-876a-4407-8319-030c7cd3c97d",
   "metadata": {},
   "outputs": [],
   "source": [
    "es_callback = keras.callbacks.EarlyStopping(monitor='val_loss', patience=5)"
   ]
  },
  {
   "cell_type": "code",
   "execution_count": 12,
   "id": "a2e3bfa8-8110-49ee-93de-79be0ece2ad4",
   "metadata": {
    "scrolled": true,
    "tags": []
   },
   "outputs": [
    {
     "name": "stdout",
     "output_type": "stream",
     "text": [
      "Trial 50 Complete [00h 05m 19s]\n",
      "val_loss: 0.4402541518211365\n",
      "\n",
      "Best val_loss So Far: 0.43720173835754395\n",
      "Total elapsed time: 01h 38m 05s\n",
      "INFO:tensorflow:Oracle triggered exit\n"
     ]
    }
   ],
   "source": [
    "tuner = kt.BayesianOptimization(\n",
    "    hypermodel=build_CNN_model,\n",
    "    objective=\"val_loss\",\n",
    "    max_trials=50,\n",
    "    seed=42,\n",
    "    overwrite=True,\n",
    "    directory='/Users/jmd/Documents/BOOTCAMP/Capstone/kerastune_searches',\n",
    "    project_name='CNN_MFCC_with_patient'\n",
    ")\n",
    "\n",
    "tuner.search(X_train, y_train, epochs=100, validation_data=(X_val,y_val), callbacks=[es_callback])"
   ]
  },
  {
   "cell_type": "code",
   "execution_count": 13,
   "id": "00718339-8529-4578-a088-83b1295d787d",
   "metadata": {
    "tags": []
   },
   "outputs": [
    {
     "name": "stdout",
     "output_type": "stream",
     "text": [
      "Results summary\n",
      "Results in /Users/jmd/Documents/BOOTCAMP/Capstone/kerastune_searches/CNN_MFCC_with_patient\n",
      "Showing 2 best trials\n",
      "Objective(name='val_loss', direction='min')\n",
      "Trial summary\n",
      "Hyperparameters:\n",
      "conv_layers: 2\n",
      "filters0: 80\n",
      "pooling0: avg\n",
      "conv_dropout0: False\n",
      "dense_layers: 3\n",
      "units0: 224\n",
      "dropout0: False\n",
      "normalization0: False\n",
      "units1: 256\n",
      "dropout1: False\n",
      "normalization1: False\n",
      "starting_learning_rate: 0.00020681360209481224\n",
      "filters1: 128\n",
      "pooling1: avg\n",
      "conv_dropout1: False\n",
      "units2: 128\n",
      "dropout2: False\n",
      "normalization2: False\n",
      "Score: 0.43720173835754395\n",
      "Trial summary\n",
      "Hyperparameters:\n",
      "conv_layers: 2\n",
      "filters0: 80\n",
      "pooling0: avg\n",
      "conv_dropout0: False\n",
      "dense_layers: 3\n",
      "units0: 224\n",
      "dropout0: False\n",
      "normalization0: False\n",
      "units1: 256\n",
      "dropout1: False\n",
      "normalization1: False\n",
      "starting_learning_rate: 0.0002168855087849809\n",
      "filters1: 128\n",
      "pooling1: avg\n",
      "conv_dropout1: False\n",
      "units2: 128\n",
      "dropout2: False\n",
      "normalization2: False\n",
      "Score: 0.43891704082489014\n"
     ]
    }
   ],
   "source": [
    "tuner.results_summary(num_trials=2)"
   ]
  },
  {
   "cell_type": "code",
   "execution_count": 14,
   "id": "48f21c21-54eb-4ce2-9ed9-07275b6f9571",
   "metadata": {},
   "outputs": [],
   "source": [
    "es_callback = keras.callbacks.EarlyStopping(monitor='val_loss', patience=10)"
   ]
  },
  {
   "cell_type": "code",
   "execution_count": 15,
   "id": "ab55134a-e2b5-48ff-8134-720d0ed8fd4a",
   "metadata": {
    "scrolled": true,
    "tags": []
   },
   "outputs": [
    {
     "name": "stdout",
     "output_type": "stream",
     "text": [
      "Epoch 1/100\n",
      "46/46 [==============================] - 7s 145ms/step - loss: 0.6691 - binary_accuracy: 0.7514 - val_loss: 0.4787 - val_binary_accuracy: 0.8022\n",
      "Epoch 2/100\n",
      "46/46 [==============================] - 7s 144ms/step - loss: 0.4571 - binary_accuracy: 0.8096 - val_loss: 0.4596 - val_binary_accuracy: 0.8038\n",
      "Epoch 3/100\n",
      "46/46 [==============================] - 7s 145ms/step - loss: 0.4502 - binary_accuracy: 0.8135 - val_loss: 0.4752 - val_binary_accuracy: 0.8070\n",
      "Epoch 4/100\n",
      "46/46 [==============================] - 7s 145ms/step - loss: 0.4340 - binary_accuracy: 0.8243 - val_loss: 0.4483 - val_binary_accuracy: 0.8259\n",
      "Epoch 5/100\n",
      "46/46 [==============================] - 7s 146ms/step - loss: 0.4350 - binary_accuracy: 0.8237 - val_loss: 0.4596 - val_binary_accuracy: 0.8165\n",
      "Epoch 6/100\n",
      "46/46 [==============================] - 7s 143ms/step - loss: 0.4508 - binary_accuracy: 0.8198 - val_loss: 0.4493 - val_binary_accuracy: 0.8275\n",
      "Epoch 7/100\n",
      "46/46 [==============================] - 7s 145ms/step - loss: 0.4225 - binary_accuracy: 0.8242 - val_loss: 0.4457 - val_binary_accuracy: 0.8244\n",
      "Epoch 8/100\n",
      "46/46 [==============================] - 7s 143ms/step - loss: 0.4015 - binary_accuracy: 0.8348 - val_loss: 0.4486 - val_binary_accuracy: 0.8196\n",
      "Epoch 9/100\n",
      "46/46 [==============================] - 7s 144ms/step - loss: 0.4290 - binary_accuracy: 0.8233 - val_loss: 0.4446 - val_binary_accuracy: 0.8244\n",
      "Epoch 10/100\n",
      "46/46 [==============================] - 7s 145ms/step - loss: 0.4161 - binary_accuracy: 0.8295 - val_loss: 0.4516 - val_binary_accuracy: 0.8212\n",
      "Epoch 11/100\n",
      "46/46 [==============================] - 7s 144ms/step - loss: 0.4417 - binary_accuracy: 0.8236 - val_loss: 0.4453 - val_binary_accuracy: 0.8196\n",
      "Epoch 12/100\n",
      "46/46 [==============================] - 7s 146ms/step - loss: 0.4074 - binary_accuracy: 0.8416 - val_loss: 0.4459 - val_binary_accuracy: 0.8244\n",
      "Epoch 13/100\n",
      "46/46 [==============================] - 7s 144ms/step - loss: 0.4154 - binary_accuracy: 0.8364 - val_loss: 0.4441 - val_binary_accuracy: 0.8275\n",
      "Epoch 14/100\n",
      "46/46 [==============================] - 7s 144ms/step - loss: 0.4205 - binary_accuracy: 0.8301 - val_loss: 0.4480 - val_binary_accuracy: 0.8275\n",
      "Epoch 15/100\n",
      "46/46 [==============================] - 7s 145ms/step - loss: 0.4168 - binary_accuracy: 0.8203 - val_loss: 0.4450 - val_binary_accuracy: 0.8244\n",
      "Epoch 16/100\n",
      "46/46 [==============================] - 7s 143ms/step - loss: 0.3984 - binary_accuracy: 0.8483 - val_loss: 0.4484 - val_binary_accuracy: 0.8259\n",
      "Epoch 17/100\n",
      "46/46 [==============================] - 7s 145ms/step - loss: 0.4232 - binary_accuracy: 0.8314 - val_loss: 0.4441 - val_binary_accuracy: 0.8291\n",
      "Epoch 18/100\n",
      "46/46 [==============================] - 7s 144ms/step - loss: 0.3873 - binary_accuracy: 0.8437 - val_loss: 0.4482 - val_binary_accuracy: 0.8259\n",
      "Epoch 19/100\n",
      "46/46 [==============================] - 7s 146ms/step - loss: 0.3942 - binary_accuracy: 0.8461 - val_loss: 0.4491 - val_binary_accuracy: 0.8275\n",
      "Epoch 20/100\n",
      "46/46 [==============================] - 7s 144ms/step - loss: 0.4163 - binary_accuracy: 0.8357 - val_loss: 0.4428 - val_binary_accuracy: 0.8244\n",
      "Epoch 21/100\n",
      "46/46 [==============================] - 7s 146ms/step - loss: 0.3998 - binary_accuracy: 0.8389 - val_loss: 0.4470 - val_binary_accuracy: 0.8228\n",
      "Epoch 22/100\n",
      "46/46 [==============================] - 7s 147ms/step - loss: 0.4231 - binary_accuracy: 0.8345 - val_loss: 0.4421 - val_binary_accuracy: 0.8196\n",
      "Epoch 23/100\n",
      "46/46 [==============================] - 7s 144ms/step - loss: 0.3814 - binary_accuracy: 0.8490 - val_loss: 0.4433 - val_binary_accuracy: 0.8259\n",
      "Epoch 24/100\n",
      "46/46 [==============================] - 7s 145ms/step - loss: 0.3983 - binary_accuracy: 0.8410 - val_loss: 0.4418 - val_binary_accuracy: 0.8212\n",
      "Epoch 25/100\n",
      "46/46 [==============================] - 7s 144ms/step - loss: 0.4230 - binary_accuracy: 0.8268 - val_loss: 0.4418 - val_binary_accuracy: 0.8212\n",
      "Epoch 26/100\n",
      "46/46 [==============================] - 7s 144ms/step - loss: 0.3916 - binary_accuracy: 0.8478 - val_loss: 0.4429 - val_binary_accuracy: 0.8259\n",
      "Epoch 27/100\n",
      "46/46 [==============================] - 7s 146ms/step - loss: 0.3988 - binary_accuracy: 0.8404 - val_loss: 0.4419 - val_binary_accuracy: 0.8212\n",
      "Epoch 28/100\n",
      "46/46 [==============================] - 7s 145ms/step - loss: 0.3895 - binary_accuracy: 0.8580 - val_loss: 0.4419 - val_binary_accuracy: 0.8259\n",
      "Epoch 29/100\n",
      "46/46 [==============================] - 7s 146ms/step - loss: 0.3652 - binary_accuracy: 0.8564 - val_loss: 0.4515 - val_binary_accuracy: 0.8259\n",
      "Epoch 30/100\n",
      "46/46 [==============================] - 7s 144ms/step - loss: 0.4032 - binary_accuracy: 0.8332 - val_loss: 0.4421 - val_binary_accuracy: 0.8244\n",
      "Epoch 31/100\n",
      "46/46 [==============================] - 7s 145ms/step - loss: 0.4107 - binary_accuracy: 0.8344 - val_loss: 0.4439 - val_binary_accuracy: 0.8259\n",
      "Epoch 32/100\n",
      "46/46 [==============================] - 7s 145ms/step - loss: 0.3963 - binary_accuracy: 0.8387 - val_loss: 0.4427 - val_binary_accuracy: 0.8259\n",
      "Epoch 33/100\n",
      "46/46 [==============================] - 7s 144ms/step - loss: 0.3741 - binary_accuracy: 0.8584 - val_loss: 0.4426 - val_binary_accuracy: 0.8259\n",
      "Epoch 34/100\n",
      "46/46 [==============================] - 7s 146ms/step - loss: 0.3730 - binary_accuracy: 0.8547 - val_loss: 0.4422 - val_binary_accuracy: 0.8228\n"
     ]
    }
   ],
   "source": [
    "# Get the best hyperparameters.\n",
    "best_hps = tuner.get_best_hyperparameters()\n",
    "# Build the model with the best hp.\n",
    "model = build_CNN_model(best_hps[0])\n",
    "\n",
    "history = model.fit(X_train, y_train, epochs=100, validation_data=(X_val,y_val), callbacks=[es_callback])"
   ]
  },
  {
   "cell_type": "code",
   "execution_count": 16,
   "id": "50bbd1f9-65b2-4686-b3ed-bcdfa98c07be",
   "metadata": {},
   "outputs": [
    {
     "name": "stdout",
     "output_type": "stream",
     "text": [
      "Model: \"sequential_1\"\n",
      "_________________________________________________________________\n",
      "Layer (type)                 Output Shape              Param #   \n",
      "=================================================================\n",
      "conv2d_2 (Conv2D)            (None, 28, 95, 80)        800       \n",
      "_________________________________________________________________\n",
      "average_pooling2d_2 (Average (None, 14, 47, 80)        0         \n",
      "_________________________________________________________________\n",
      "conv2d_3 (Conv2D)            (None, 12, 45, 128)       92288     \n",
      "_________________________________________________________________\n",
      "average_pooling2d_3 (Average (None, 6, 22, 128)        0         \n",
      "_________________________________________________________________\n",
      "flatten_1 (Flatten)          (None, 16896)             0         \n",
      "_________________________________________________________________\n",
      "dense_3 (Dense)              (None, 224)               3784928   \n",
      "_________________________________________________________________\n",
      "dense_4 (Dense)              (None, 256)               57600     \n",
      "_________________________________________________________________\n",
      "dense_5 (Dense)              (None, 128)               32896     \n",
      "_________________________________________________________________\n",
      "dense_6 (Dense)              (None, 1)                 129       \n",
      "=================================================================\n",
      "Total params: 3,968,641\n",
      "Trainable params: 3,968,641\n",
      "Non-trainable params: 0\n",
      "_________________________________________________________________\n"
     ]
    }
   ],
   "source": [
    "model.summary()"
   ]
  },
  {
   "cell_type": "code",
   "execution_count": 17,
   "id": "8fde9b9c-8fed-47ed-af7a-f15f71168fc3",
   "metadata": {},
   "outputs": [
    {
     "name": "stdout",
     "output_type": "stream",
     "text": [
      "29/29 [==============================] - 1s 40ms/step - loss: 0.4249 - binary_accuracy: 0.8306\n",
      "Train Accuracy: 84.6467%\n",
      "Test Accuracy: 83.0565%\n"
     ]
    }
   ],
   "source": [
    "evaluate_model(model, history)"
   ]
  },
  {
   "cell_type": "markdown",
   "id": "02bf5ffa-5353-487c-a1be-566e9efb42a4",
   "metadata": {},
   "source": [
    "Another good result! The breakdown between this and the CNN without patient information will be very interesting. "
   ]
  },
  {
   "cell_type": "code",
   "execution_count": 18,
   "id": "3d7f36c6-39b5-4eba-81e9-b8992d91076b",
   "metadata": {},
   "outputs": [
    {
     "data": {
      "image/png": "[encoded data removed]",
      "text/plain": [
       "<Figure size 864x576 with 1 Axes>"
      ]
     },
     "metadata": {
      "needs_background": "light"
     },
     "output_type": "display_data"
    }
   ],
   "source": [
    "graph_model_loss('CNN MFCC, With Patient Information', history)"
   ]
  },
  {
   "cell_type": "code",
   "execution_count": 19,
   "id": "224e714d-d4cb-44d0-99b0-6c149bf0988d",
   "metadata": {},
   "outputs": [
    {
     "name": "stderr",
     "output_type": "stream",
     "text": [
      "2022-04-01 17:11:40.716540: W tensorflow/python/util/util.cc:348] Sets are not currently considered sequences, but this may change in the future, so consider avoiding using them.\n"
     ]
    },
    {
     "name": "stdout",
     "output_type": "stream",
     "text": [
      "INFO:tensorflow:Assets written to: /Users/jmd/Documents/BOOTCAMP/Capstone/neural_nets/CNN_MFCCs_with_patient/assets\n"
     ]
    }
   ],
   "source": [
    "#saving model\n",
    "model.save('/Users/jmd/Documents/BOOTCAMP/Capstone/neural_nets/CNN_MFCCs_with_patient', overwrite=True)"
   ]
  }
 ],
 "metadata": {
  "kernelspec": {
   "display_name": "capstone",
   "language": "python",
   "name": "capstone"
  },
  "language_info": {
   "codemirror_mode": {
    "name": "ipython",
    "version": 3
   },
   "file_extension": ".py",
   "mimetype": "text/x-python",
   "name": "python",
   "nbconvert_exporter": "python",
   "pygments_lexer": "ipython3",
   "version": "3.8.12"
  }
 },
 "nbformat": 4,
 "nbformat_minor": 5
}
