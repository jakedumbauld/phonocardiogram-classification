{
 "cells": [
  {
   "cell_type": "markdown",
   "id": "490a64b3-ef71-4463-bb99-3903b5782fd0",
   "metadata": {},
   "source": [
    "# Basic ML: Phonocardiograms"
   ]
  },
  {
   "cell_type": "markdown",
   "id": "fa1bcf3d-b7a4-46e4-89b0-c3073d6a5e10",
   "metadata": {},
   "source": [
    "Author: Jake Dumbauld <br>\n",
    "Contact: jacobmilodumbauld@gmail.com<br>\n",
    "Date: 3.15.22"
   ]
  },
  {
   "cell_type": "markdown",
   "id": "732046ce-784f-4bba-a5cb-86d8061788b4",
   "metadata": {},
   "source": [
    "## Intro"
   ]
  },
  {
   "cell_type": "markdown",
   "id": "d89607f6-34a3-4ae5-a3f0-26bfb7ff67a4",
   "metadata": {},
   "source": [
    "Initial modelling here - copied same model from above </br>\n",
    "Found that it was not overfitting at all, began to trim some regularization and removed the callbacks. </br>\n",
    "Also removed the topmost input layer of 1024 </br>\n",
    "Quickly fell into overfitting, with val loss increasing after only a 2 epochs. Increased regularization adding dropout of 0.4 back to each layer </br>\n",
    "Began underfitting here, so I trimmed dropout to 0.2 and removed the learning rate schedule </br> \n",
    "Quickly fell into an overfitting regime again here. </br>\n",
    "\n",
    "\n",
    "Out of curiousity, I wanted to try SGD to see if I could get more robust performance on my validation & test sets.\n"
   ]
  },
  {
   "cell_type": "markdown",
   "id": "23904468-e516-424e-97a9-a853440dfa8d",
   "metadata": {},
   "source": [
    "It was around this point that I felt that I needed a more scientific approach to model evaluation and tuning. Starting from a fresh notebook."
   ]
  },
  {
   "cell_type": "markdown",
   "id": "8632aee3-b257-4d30-9be6-13034a9a4c96",
   "metadata": {},
   "source": [
    "## Imports"
   ]
  },
  {
   "cell_type": "code",
   "execution_count": 1,
   "id": "8a727db3-572e-4988-abac-7e33c5d7dec7",
   "metadata": {},
   "outputs": [],
   "source": [
    "#imports\n",
    "\n",
    "import numpy as np\n",
    "import pandas as pd\n",
    "import matplotlib.pyplot as plt\n",
    "\n",
    "import time\n",
    "import re\n",
    "\n",
    "from sklearn.model_selection import train_test_split\n",
    "\n",
    "import tensorflow as tf\n",
    "from tensorflow import keras\n",
    "from tensorflow.keras.models import Sequential\n",
    "from tensorflow.keras.layers import Conv2D\n",
    "from tensorflow.keras.layers import MaxPooling2D\n",
    "from tensorflow.keras.layers import Flatten\n",
    "from tensorflow.keras.layers import Dense\n",
    "from tensorflow.keras.layers import Dropout\n",
    "from tensorflow.keras.layers import BatchNormalization\n",
    "from tensorflow.keras import regularizers\n",
    "import keras_tuner as kt"
   ]
  },
  {
   "cell_type": "markdown",
   "id": "2998aa87-b46d-462e-a21c-8b504d8a5475",
   "metadata": {},
   "source": [
    "From the Keras FAQ: https://keras.io/getting_started/faq/#how-can-i-obtain-reproducible-results-using-keras-during-development\n",
    "- Trying to obtain reproducible results. Best I can tell scikitlearn also uses np.random() seed"
   ]
  },
  {
   "cell_type": "code",
   "execution_count": 2,
   "id": "a45eb872-5513-4fa6-8b3e-0865547a7576",
   "metadata": {},
   "outputs": [
    {
     "name": "stdout",
     "output_type": "stream",
     "text": [
      "env: PYTHONHASHSEED=0\n",
      "env: CUDA_VISIBLE_DEVICES=\"\"\n"
     ]
    }
   ],
   "source": [
    "import random as python_random\n",
    "\n",
    "np.random.seed(42)\n",
    "\n",
    "# The below is necessary for starting core Python generated random numbers in a well-defined state.\n",
    "python_random.seed(42)\n",
    "\n",
    "# The below set_seed() will make random number generation\n",
    "# in the TensorFlow backend have a well-defined initial state.\n",
    "# For further details, see:\n",
    "# https://www.tensorflow.org/api_docs/python/tf/random/set_seed\n",
    "tf.random.set_seed(42)\n",
    "\n",
    "#not sure if the below are necessary - leaving in to perhaps un-comment later.\n",
    "%env PYTHONHASHSEED=0\n",
    "%env CUDA_VISIBLE_DEVICES=\"\""
   ]
  },
  {
   "cell_type": "markdown",
   "id": "bf5d8060-d35b-4417-8f60-5b2ddc2ad5ed",
   "metadata": {},
   "source": [
    "## Helper Functions"
   ]
  },
  {
   "cell_type": "markdown",
   "id": "b86a6cd7-6e72-477b-9a3b-973e0b4dd3de",
   "metadata": {},
   "source": [
    "Defining a Helper Function for Plotting Model Loss"
   ]
  },
  {
   "cell_type": "code",
   "execution_count": 3,
   "id": "1afc21c1-5768-44c9-b66c-f790ad9b75a1",
   "metadata": {
    "tags": []
   },
   "outputs": [],
   "source": [
    "def graph_model_loss(title, history):\n",
    "    \"\"\"\n",
    "    Description:\n",
    "    Graphs training vs validation loss over epochs for a given model. \n",
    "    \n",
    "    History: tensorflow.python.keras.callbacks.History object\n",
    "    Title: str\n",
    "    \"\"\" \n",
    "    plt.figure(figsize=(12,8))\n",
    "    plt.plot(history.history['loss'])\n",
    "    plt.plot(history.history['val_loss'])\n",
    "    plt.title(title,size=24)\n",
    "    plt.ylabel('Loss',size=16)\n",
    "    plt.xlabel('Epoch',size=16)\n",
    "    plt.legend(['Train', 'Validation'])\n",
    "    plt.show()"
   ]
  },
  {
   "cell_type": "markdown",
   "id": "a770d168-3410-496a-a700-1f6c1fdf63ec",
   "metadata": {},
   "source": [
    "Defining a helper function to evaluate train & test accuracies"
   ]
  },
  {
   "cell_type": "code",
   "execution_count": 4,
   "id": "73bfce1c-1dd5-4fb7-8651-a493eb647fc8",
   "metadata": {},
   "outputs": [],
   "source": [
    "def evaluate_model(model, history):\n",
    "    \"\"\"\n",
    "    Description:\n",
    "    Outputs model train & test accuracies for currently defined train and test set variables.\n",
    "    \n",
    "    model: tensorflow model,\n",
    "    history: tensorflow.python.keras.callbacks.History object\n",
    "    \"\"\"\n",
    "    # Evaluate the network\n",
    "    train_accuracy = history.history[\"binary_accuracy\"][-1]\n",
    "    result = model.evaluate(X_test,y_test, verbose=1)\n",
    "\n",
    "    print(f\"Train Accuracy: {np.round(train_accuracy, 6)*100}%\")\n",
    "    print(f\"Test Accuracy: {np.round(result[1], 6)*100}%\")"
   ]
  },
  {
   "cell_type": "markdown",
   "id": "94f511b1-910f-43db-8f35-e79ceb4e5a65",
   "metadata": {},
   "source": [
    "Model structure to be used for simple sequentials the notebook - FULL WRITE-UP TO COME"
   ]
  },
  {
   "cell_type": "code",
   "execution_count": 5,
   "id": "f03fbaa0-df53-490f-aa5e-1c372242bdc0",
   "metadata": {},
   "outputs": [
    {
     "name": "stderr",
     "output_type": "stream",
     "text": [
      "2022-03-30 22:24:40.960732: I tensorflow/core/platform/cpu_feature_guard.cc:142] This TensorFlow binary is optimized with oneAPI Deep Neural Network Library (oneDNN) to use the following CPU instructions in performance-critical operations:  SSE4.1 SSE4.2\n",
      "To enable them in other operations, rebuild TensorFlow with the appropriate compiler flags.\n"
     ]
    },
    {
     "data": {
      "text/plain": [
       "<tensorflow.python.keras.engine.sequential.Sequential at 0x7fc5f853cc70>"
      ]
     },
     "execution_count": 5,
     "metadata": {},
     "output_type": "execute_result"
    }
   ],
   "source": [
    "def build_model(hp):\n",
    "    model = keras.Sequential()\n",
    "    #flattening input\n",
    "    model.add(Flatten())\n",
    "    \n",
    "    for i in range(hp.Int('layers', 2, 4)):\n",
    "        model.add(\n",
    "            Dense(\n",
    "            #Tuning the number of units in my input layer.\n",
    "            units=hp.Int(\"units\" + str(i), min_value=32, max_value=1024, step=64),\n",
    "            kernel_regularizer=regularizers.l2(0.001),\n",
    "            activation=\"relu\"\n",
    "            )\n",
    "        )\n",
    "        #Tuning whether or not to use dropout.\n",
    "        if hp.Boolean(\"dropout\" + str(i)):\n",
    "            model.add(Dropout(rate=0.25))\n",
    "\n",
    "        #Adding batch normalization\n",
    "        if hp.Boolean(\"normalization\" + str(i)):\n",
    "            model.add(BatchNormalization())\n",
    "\n",
    "    #output layer\n",
    "    model.add(Dense(1, activation=\"sigmoid\"))\n",
    "    \n",
    "    #defining learning rate\n",
    "    lr_schedule = keras.optimizers.schedules.InverseTimeDecay(\n",
    "                      #tuning initial learning rate\n",
    "                      initial_learning_rate=hp.Float(\"starting_learning_rate\", min_value=1e-4, max_value=1e-2, sampling=\"log\"),\n",
    "                      decay_steps=1.0,\n",
    "                      decay_rate=0.1\n",
    "                  )\n",
    "    model.compile(\n",
    "        #Optimizer\n",
    "        optimizer = keras.optimizers.Adam(learning_rate=lr_schedule),\n",
    "        #Loss\n",
    "        loss=keras.losses.BinaryCrossentropy(),\n",
    "        #Metrics\n",
    "        metrics=[keras.metrics.BinaryAccuracy()]\n",
    "    )\n",
    "    return model\n",
    "\n",
    "build_model(kt.HyperParameters())"
   ]
  },
  {
   "cell_type": "markdown",
   "id": "5a4ded47-3abf-48b1-b59d-0d49ebbf5510",
   "metadata": {},
   "source": [
    "## Setting up for CNN w/ and w/o MFCC"
   ]
  },
  {
   "cell_type": "code",
   "execution_count": 6,
   "id": "5ff9137c-9601-47a9-818f-6072e54ae551",
   "metadata": {},
   "outputs": [
    {
     "data": {
      "text/plain": [
       "<tensorflow.python.keras.engine.sequential.Sequential at 0x7fc60886a1f0>"
      ]
     },
     "execution_count": 6,
     "metadata": {},
     "output_type": "execute_result"
    }
   ],
   "source": [
    "def build_CNN_model(hp):\n",
    "    model = keras.Sequential()\n",
    "    \n",
    "#     model.add(\n",
    "#         Conv2D(\n",
    "#         filters=hp.Int(\"input_filters\", min_value=16, max_value=64, step=16),\n",
    "#         kernel_size=(3,3),\n",
    "#         activation=\"relu\",\n",
    "#         input_shape=(20,97,1)\n",
    "#         )\n",
    "#     )\n",
    "    \n",
    "    for i in range(hp.Int('conv_layers', 1, 3)):\n",
    "        model.add(\n",
    "            Conv2D(\n",
    "            #Tuning the number of units in my input layer.\n",
    "            filters=hp.Int(\"filters\" + str(i), min_value=32, max_value=128, step=16),\n",
    "            kernel_size=(3,3),\n",
    "            activation=\"relu\"\n",
    "            )\n",
    "        )\n",
    "        #Tuning whether or not to use dropout.\n",
    "        if hp.Boolean(\"conv_dropout\" + str(i)):\n",
    "            model.add(Dropout(rate=0.25))\n",
    "\n",
    "    model.add(Flatten())\n",
    "    \n",
    "    for i in range(hp.Int('dense_layers', 1, 3)):\n",
    "        model.add(\n",
    "            Dense(\n",
    "            #Tuning the number of units in my input layer.\n",
    "            units=hp.Int(\"units\" + str(i), min_value=32, max_value=256, step=32),\n",
    "            activation=\"relu\"\n",
    "            )\n",
    "        )\n",
    "        #Tuning whether or not to use dropout.\n",
    "        if hp.Boolean(\"dropout\" + str(i)):\n",
    "            model.add(Dropout(rate=0.25))\n",
    "\n",
    "        #Adding batch normalization\n",
    "        if hp.Boolean(\"normalization\" + str(i)):\n",
    "            model.add(BatchNormalization())\n",
    "\n",
    "    #output layer\n",
    "    model.add(Dense(1, activation=\"sigmoid\"))\n",
    "    \n",
    "    #defining learning rate\n",
    "    lr_schedule = keras.optimizers.schedules.InverseTimeDecay(\n",
    "                      #tuning initial learning rate\n",
    "                      initial_learning_rate=hp.Float(\"starting_learning_rate\", min_value=1e-4, max_value=1e-2, sampling=\"log\"),\n",
    "                      decay_steps=1.0,\n",
    "                      decay_rate=0.1\n",
    "                  )\n",
    "    model.compile(\n",
    "        #Optimizer\n",
    "        optimizer = keras.optimizers.Adam(learning_rate=lr_schedule),\n",
    "        #Loss\n",
    "        loss=keras.losses.BinaryCrossentropy(),\n",
    "        #Metrics\n",
    "        metrics=[keras.metrics.BinaryAccuracy()]\n",
    "    )\n",
    "    return model\n",
    "\n",
    "build_CNN_model(kt.HyperParameters())"
   ]
  },
  {
   "cell_type": "markdown",
   "id": "4749f7ef-db62-4377-bf1e-b71aa11e1910",
   "metadata": {},
   "source": [
    "## Setting up for CNN w/ and w/o MFCC"
   ]
  },
  {
   "cell_type": "code",
   "execution_count": 7,
   "id": "f744a757-b911-40b5-895d-54df1c3ea0b7",
   "metadata": {},
   "outputs": [
    {
     "data": {
      "text/plain": [
       "<tensorflow.python.keras.engine.sequential.Sequential at 0x7fc60883b3a0>"
      ]
     },
     "execution_count": 7,
     "metadata": {},
     "output_type": "execute_result"
    }
   ],
   "source": [
    "def build_CNN_model(hp):\n",
    "    model = keras.Sequential()\n",
    "    \n",
    "#     model.add(\n",
    "#         Conv2D(\n",
    "#         filters=hp.Int(\"input_filters\", min_value=16, max_value=64, step=16),\n",
    "#         kernel_size=(3,3),\n",
    "#         activation=\"relu\",\n",
    "#         input_shape=(20,97,1)\n",
    "#         )\n",
    "#     )\n",
    "    \n",
    "    for i in range(hp.Int('conv_layers', 1, 3)):\n",
    "        model.add(\n",
    "            Conv2D(\n",
    "            #Tuning the number of units in my input layer.\n",
    "            filters=hp.Int(\"filters\" + str(i), min_value=32, max_value=128, step=16),\n",
    "            kernel_size=(3,3),\n",
    "            activation=\"relu\"\n",
    "            )\n",
    "        )\n",
    "        #Tuning whether or not to use dropout.\n",
    "        if hp.Boolean(\"conv_dropout\" + str(i)):\n",
    "            model.add(Dropout(rate=0.25))\n",
    "\n",
    "    model.add(Flatten())\n",
    "    \n",
    "    for i in range(hp.Int('dense_layers', 1, 3)):\n",
    "        model.add(\n",
    "            Dense(\n",
    "            #Tuning the number of units in my input layer.\n",
    "            units=hp.Int(\"units\" + str(i), min_value=32, max_value=256, step=32),\n",
    "            activation=\"relu\"\n",
    "            )\n",
    "        )\n",
    "        #Tuning whether or not to use dropout.\n",
    "        if hp.Boolean(\"dropout\" + str(i)):\n",
    "            model.add(Dropout(rate=0.25))\n",
    "\n",
    "        #Adding batch normalization\n",
    "        if hp.Boolean(\"normalization\" + str(i)):\n",
    "            model.add(BatchNormalization())\n",
    "\n",
    "    #output layer\n",
    "    model.add(Dense(1, activation=\"sigmoid\"))\n",
    "    \n",
    "    #defining learning rate\n",
    "    lr_schedule = keras.optimizers.schedules.InverseTimeDecay(\n",
    "                      #tuning initial learning rate\n",
    "                      initial_learning_rate=hp.Float(\"starting_learning_rate\", min_value=1e-4, max_value=1e-2, sampling=\"log\"),\n",
    "                      decay_steps=1.0,\n",
    "                      decay_rate=0.1\n",
    "                  )\n",
    "    model.compile(\n",
    "        #Optimizer\n",
    "        optimizer = keras.optimizers.Adam(learning_rate=lr_schedule),\n",
    "        #Loss\n",
    "        loss=keras.losses.BinaryCrossentropy(),\n",
    "        #Metrics\n",
    "        metrics=[keras.metrics.BinaryAccuracy()]\n",
    "    )\n",
    "    return model\n",
    "\n",
    "build_CNN_model(kt.HyperParameters())"
   ]
  },
  {
   "cell_type": "markdown",
   "id": "3ca4e45f-7c17-4d89-b52b-45b798ac31e4",
   "metadata": {},
   "source": [
    "## Building a Simple Feed Forward Network"
   ]
  },
  {
   "cell_type": "markdown",
   "id": "42ba3608-a70b-4491-a3cc-1268e387bedd",
   "metadata": {},
   "source": [
    "### Raw Signal Data"
   ]
  },
  {
   "cell_type": "code",
   "execution_count": 8,
   "id": "37ad96ac-603a-4973-9643-310efa70af1d",
   "metadata": {},
   "outputs": [],
   "source": [
    "raw = np.load('/Users/jmd/Documents/BOOTCAMP/Capstone/arrays/signal_murmur_presimple_4k.npy', allow_pickle=True)"
   ]
  },
  {
   "cell_type": "code",
   "execution_count": 9,
   "id": "3e774fae-a8e5-4f4a-866b-5ac310c22a7c",
   "metadata": {},
   "outputs": [],
   "source": [
    "y = raw[:,0] #murmurs are just the first column\n",
    "X = raw[:,1:]"
   ]
  },
  {
   "cell_type": "code",
   "execution_count": 10,
   "id": "8700e168-ed96-4c3b-bce5-ad781e8bed79",
   "metadata": {},
   "outputs": [],
   "source": [
    "#train test split\n",
    "X_train, X_test, y_train, y_test = train_test_split(X, y, stratify=y, test_size = 0.3)"
   ]
  },
  {
   "cell_type": "code",
   "execution_count": 11,
   "id": "1697a7ed-74dd-4d27-8403-5f461b1146b5",
   "metadata": {},
   "outputs": [],
   "source": [
    "X_train, X_val, y_train, y_val = train_test_split(X_train, y_train, stratify=y_train, test_size=0.3)"
   ]
  },
  {
   "cell_type": "code",
   "execution_count": 12,
   "id": "7602ac8b-cd2d-4d11-969b-46916e737aab",
   "metadata": {},
   "outputs": [],
   "source": [
    "es_callback = keras.callbacks.EarlyStopping(monitor='val_loss', patience=5)"
   ]
  },
  {
   "cell_type": "code",
   "execution_count": 13,
   "id": "17dd3178-8891-4061-b60c-e0125b8cbd29",
   "metadata": {
    "scrolled": true,
    "tags": []
   },
   "outputs": [
    {
     "name": "stdout",
     "output_type": "stream",
     "text": [
      "Trial 10 Complete [00h 00m 03s]\n",
      "val_loss: 0.7006989121437073\n",
      "\n",
      "Best val_loss So Far: 0.6558860540390015\n",
      "Total elapsed time: 00h 37m 07s\n",
      "INFO:tensorflow:Oracle triggered exit\n"
     ]
    }
   ],
   "source": [
    "sequential_raw_signal_data_tuner = kt.BayesianOptimization(\n",
    "    hypermodel=build_model,\n",
    "    objective=\"val_loss\",\n",
    "    max_trials=10,\n",
    "    seed=42,\n",
    "    overwrite=True,\n",
    "    directory='/Users/jmd/Documents/BOOTCAMP/Capstone/kerastune_searches',\n",
    "    project_name='sequential_raw_signal_data'\n",
    ")\n",
    "\n",
    "sequential_raw_signal_data_tuner.search(X_train, y_train, epochs=100, validation_data=(X_val,y_val), callbacks=[es_callback])"
   ]
  },
  {
   "cell_type": "code",
   "execution_count": 14,
   "id": "bb41a387-5e4e-4817-a99e-bb6fc2c10b80",
   "metadata": {
    "scrolled": true,
    "tags": []
   },
   "outputs": [
    {
     "name": "stdout",
     "output_type": "stream",
     "text": [
      "Results summary\n",
      "Results in /Users/jmd/Documents/BOOTCAMP/Capstone/kerastune_searches/sequential_raw_signal_data\n",
      "Showing 1 best trials\n",
      "Objective(name='val_loss', direction='min')\n",
      "Trial summary\n",
      "Hyperparameters:\n",
      "layers: 2\n",
      "units0: 32\n",
      "dropout0: True\n",
      "normalization0: False\n",
      "units1: 992\n",
      "dropout1: False\n",
      "normalization1: False\n",
      "starting_learning_rate: 0.0008252340705681429\n",
      "units2: 32\n",
      "dropout2: False\n",
      "normalization2: True\n",
      "Score: 0.6558860540390015\n"
     ]
    }
   ],
   "source": [
    "sequential_raw_signal_data_tuner.results_summary(num_trials=1)"
   ]
  },
  {
   "cell_type": "code",
   "execution_count": 15,
   "id": "49d62546-45b2-4191-9d17-119aac952979",
   "metadata": {},
   "outputs": [],
   "source": [
    "es_callback = keras.callbacks.EarlyStopping(monitor='val_loss', patience=10)"
   ]
  },
  {
   "cell_type": "code",
   "execution_count": 16,
   "id": "3512ba1c-d65d-4148-99d2-80bbc0320d45",
   "metadata": {
    "scrolled": true,
    "tags": []
   },
   "outputs": [
    {
     "name": "stdout",
     "output_type": "stream",
     "text": [
      "Epoch 1/100\n",
      "46/46 [==============================] - 1s 12ms/step - loss: 0.7592 - binary_accuracy: 0.7716 - val_loss: 0.6798 - val_binary_accuracy: 0.7959\n",
      "Epoch 2/100\n",
      "46/46 [==============================] - 0s 10ms/step - loss: 0.5783 - binary_accuracy: 0.8044 - val_loss: 0.6583 - val_binary_accuracy: 0.7959\n",
      "Epoch 3/100\n",
      "46/46 [==============================] - 0s 10ms/step - loss: 0.5089 - binary_accuracy: 0.7935 - val_loss: 0.6558 - val_binary_accuracy: 0.7959\n",
      "Epoch 4/100\n",
      "46/46 [==============================] - 0s 10ms/step - loss: 0.4649 - binary_accuracy: 0.7952 - val_loss: 0.6577 - val_binary_accuracy: 0.7959\n",
      "Epoch 5/100\n",
      "46/46 [==============================] - 0s 10ms/step - loss: 0.4396 - binary_accuracy: 0.7961 - val_loss: 0.6612 - val_binary_accuracy: 0.7959\n",
      "Epoch 6/100\n",
      "46/46 [==============================] - 0s 10ms/step - loss: 0.4301 - binary_accuracy: 0.7837 - val_loss: 0.6644 - val_binary_accuracy: 0.7959\n",
      "Epoch 7/100\n",
      "46/46 [==============================] - 0s 10ms/step - loss: 0.4028 - binary_accuracy: 0.7991 - val_loss: 0.6683 - val_binary_accuracy: 0.7959\n",
      "Epoch 8/100\n",
      "46/46 [==============================] - 0s 10ms/step - loss: 0.3893 - binary_accuracy: 0.8059 - val_loss: 0.6716 - val_binary_accuracy: 0.7959\n",
      "Epoch 9/100\n",
      "46/46 [==============================] - 0s 10ms/step - loss: 0.3926 - binary_accuracy: 0.7831 - val_loss: 0.6747 - val_binary_accuracy: 0.7959\n",
      "Epoch 10/100\n",
      "46/46 [==============================] - 0s 10ms/step - loss: 0.3822 - binary_accuracy: 0.7911 - val_loss: 0.6775 - val_binary_accuracy: 0.7959\n",
      "Epoch 11/100\n",
      "46/46 [==============================] - 0s 10ms/step - loss: 0.3789 - binary_accuracy: 0.7815 - val_loss: 0.6804 - val_binary_accuracy: 0.7959\n",
      "Epoch 12/100\n",
      "46/46 [==============================] - 0s 10ms/step - loss: 0.3609 - binary_accuracy: 0.8005 - val_loss: 0.6832 - val_binary_accuracy: 0.7959\n",
      "Epoch 13/100\n",
      "46/46 [==============================] - 0s 10ms/step - loss: 0.3752 - binary_accuracy: 0.7753 - val_loss: 0.6857 - val_binary_accuracy: 0.7959\n"
     ]
    }
   ],
   "source": [
    "# Get the best hyperparameters.\n",
    "best_hps = sequential_raw_signal_data_tuner.get_best_hyperparameters()\n",
    "# Build the model with the best hp.\n",
    "sequential_raw_signal_data = build_model(best_hps[0])\n",
    "\n",
    "sequential_raw_signal_data_history = sequential_raw_signal_data.fit(X_train, y_train, epochs=100, validation_data=(X_val,y_val), callbacks=[es_callback])"
   ]
  },
  {
   "cell_type": "code",
   "execution_count": 17,
   "id": "e47ad94d-bd36-4656-b5af-276d378f7572",
   "metadata": {},
   "outputs": [
    {
     "name": "stdout",
     "output_type": "stream",
     "text": [
      "Model: \"sequential_1\"\n",
      "_________________________________________________________________\n",
      "Layer (type)                 Output Shape              Param #   \n",
      "=================================================================\n",
      "flatten_1 (Flatten)          (None, 49152)             0         \n",
      "_________________________________________________________________\n",
      "dense_3 (Dense)              (None, 32)                1572896   \n",
      "_________________________________________________________________\n",
      "dropout_1 (Dropout)          (None, 32)                0         \n",
      "_________________________________________________________________\n",
      "dense_4 (Dense)              (None, 992)               32736     \n",
      "_________________________________________________________________\n",
      "dense_5 (Dense)              (None, 1)                 993       \n",
      "=================================================================\n",
      "Total params: 1,606,625\n",
      "Trainable params: 1,606,625\n",
      "Non-trainable params: 0\n",
      "_________________________________________________________________\n"
     ]
    }
   ],
   "source": [
    "sequential_raw_signal_data.summary()"
   ]
  },
  {
   "cell_type": "code",
   "execution_count": 18,
   "id": "2b36bf38-8ae8-4d68-8f78-59a55fb81369",
   "metadata": {},
   "outputs": [
    {
     "name": "stdout",
     "output_type": "stream",
     "text": [
      "29/29 [==============================] - 0s 3ms/step - loss: 0.6650 - binary_accuracy: 0.7951\n",
      "Train Accuracy: 79.4837%\n",
      "Test Accuracy: 79.51270000000001%\n"
     ]
    }
   ],
   "source": [
    "evaluate_model(sequential_raw_signal_data, sequential_raw_signal_data_history)"
   ]
  },
  {
   "cell_type": "code",
   "execution_count": 19,
   "id": "7d874729-70e1-4f0c-9498-5082ea4a6df6",
   "metadata": {},
   "outputs": [
    {
     "data": {
      "image/png": "[encoded data removed]",
      "text/plain": [
       "<Figure size 864x576 with 1 Axes>"
      ]
     },
     "metadata": {
      "needs_background": "light"
     },
     "output_type": "display_data"
    }
   ],
   "source": [
    "graph_model_loss('Raw Signal Data, No Patient Information', sequential_raw_signal_data_history)"
   ]
  },
  {
   "cell_type": "code",
   "execution_count": 20,
   "id": "7e5c40dd-05cb-4955-8693-224896850f4b",
   "metadata": {},
   "outputs": [
    {
     "name": "stderr",
     "output_type": "stream",
     "text": [
      "2022-03-30 23:01:56.643670: W tensorflow/python/util/util.cc:348] Sets are not currently considered sequences, but this may change in the future, so consider avoiding using them.\n"
     ]
    },
    {
     "name": "stdout",
     "output_type": "stream",
     "text": [
      "INFO:tensorflow:Assets written to: /Users/jmd/Documents/BOOTCAMP/Capstone/neural_nets/sequential_raw_signal_no_patient/assets\n"
     ]
    }
   ],
   "source": [
    "#saving model\n",
    "sequential_raw_signal_data.save('/Users/jmd/Documents/BOOTCAMP/Capstone/neural_nets/sequential_raw_signal_no_patient', overwrite=True)"
   ]
  },
  {
   "cell_type": "markdown",
   "id": "26aeefa3-bcaf-41f3-bf1d-f5992fc146ae",
   "metadata": {},
   "source": [
    "### MFCC w/o Patient Info: FFN"
   ]
  },
  {
   "cell_type": "code",
   "execution_count": 21,
   "id": "0469d9a6-6eee-40b9-897f-652af987c20b",
   "metadata": {},
   "outputs": [],
   "source": [
    "X = np.load('/Users/jmd/Documents/BOOTCAMP/Capstone/arrays/MFCCs_noPatient.npy', allow_pickle=True)\n",
    "y = np.load('/Users/jmd/Documents/BOOTCAMP/Capstone/arrays/target_array.npy', allow_pickle=True)"
   ]
  },
  {
   "cell_type": "code",
   "execution_count": 22,
   "id": "1e7548a1-d54a-46cc-9aa9-d7c5d4c34643",
   "metadata": {},
   "outputs": [],
   "source": [
    "X_train, X_test, y_train, y_test = train_test_split(X, y, stratify=y, test_size = 0.3)"
   ]
  },
  {
   "cell_type": "code",
   "execution_count": 23,
   "id": "934755c0-3bd2-4b36-914c-3684637db07f",
   "metadata": {},
   "outputs": [],
   "source": [
    "X_train, X_val, y_train, y_val = train_test_split(X_train, y_train, stratify=y_train, test_size=0.3)"
   ]
  },
  {
   "cell_type": "code",
   "execution_count": 24,
   "id": "52801e5a-0b84-4a9f-89e7-583a874d6504",
   "metadata": {},
   "outputs": [],
   "source": [
    "es_callback = keras.callbacks.EarlyStopping(monitor='val_loss', patience=5)"
   ]
  },
  {
   "cell_type": "code",
   "execution_count": 25,
   "id": "4ffb4978-acb0-4ff8-bbe0-a54a805e1124",
   "metadata": {
    "scrolled": true,
    "tags": []
   },
   "outputs": [
    {
     "name": "stdout",
     "output_type": "stream",
     "text": [
      "Trial 100 Complete [00h 00m 01s]\n",
      "val_loss: 0.5285933613777161\n",
      "\n",
      "Best val_loss So Far: 0.4530998468399048\n",
      "Total elapsed time: 00h 09m 34s\n",
      "INFO:tensorflow:Oracle triggered exit\n"
     ]
    }
   ],
   "source": [
    "sequential_MFCC_no_patient_tuner = kt.BayesianOptimization(\n",
    "    hypermodel=build_model,\n",
    "    objective=\"val_loss\",\n",
    "    max_trials=100,\n",
    "    seed=42,\n",
    "    overwrite=True,\n",
    "    directory='/Users/jmd/Documents/BOOTCAMP/Capstone/kerastune_searches',\n",
    "    project_name='sequential_MFCC_no_patient'\n",
    ")\n",
    "\n",
    "sequential_MFCC_no_patient_tuner.search(X_train, y_train, epochs=100, validation_data=(X_val,y_val), callbacks=[es_callback])"
   ]
  },
  {
   "cell_type": "code",
   "execution_count": 26,
   "id": "f97fae3f-dfc7-4e9a-9b97-c9344aabb410",
   "metadata": {
    "scrolled": true,
    "tags": []
   },
   "outputs": [
    {
     "name": "stdout",
     "output_type": "stream",
     "text": [
      "Results summary\n",
      "Results in /Users/jmd/Documents/BOOTCAMP/Capstone/kerastune_searches/sequential_MFCC_no_patient\n",
      "Showing 1 best trials\n",
      "Objective(name='val_loss', direction='min')\n",
      "Trial summary\n",
      "Hyperparameters:\n",
      "layers: 2\n",
      "units0: 32\n",
      "dropout0: True\n",
      "normalization0: True\n",
      "units1: 32\n",
      "dropout1: False\n",
      "normalization1: False\n",
      "starting_learning_rate: 0.01\n",
      "units2: 32\n",
      "dropout2: True\n",
      "normalization2: True\n",
      "units3: 32\n",
      "dropout3: False\n",
      "normalization3: True\n",
      "Score: 0.4530998468399048\n"
     ]
    }
   ],
   "source": [
    "sequential_MFCC_no_patient_tuner.results_summary(num_trials=1)"
   ]
  },
  {
   "cell_type": "code",
   "execution_count": 27,
   "id": "35b6c4e4-6c2c-4b7b-bd39-29c62da3cfbd",
   "metadata": {},
   "outputs": [],
   "source": [
    "es_callback = keras.callbacks.EarlyStopping(monitor='val_loss', patience=10)"
   ]
  },
  {
   "cell_type": "code",
   "execution_count": 28,
   "id": "ec1a2ca7-99b6-481b-a04e-35e4144c15dd",
   "metadata": {
    "scrolled": true,
    "tags": []
   },
   "outputs": [
    {
     "name": "stdout",
     "output_type": "stream",
     "text": [
      "Epoch 1/1000\n",
      "46/46 [==============================] - 0s 3ms/step - loss: 0.6403 - binary_accuracy: 0.7501 - val_loss: 0.7634 - val_binary_accuracy: 0.7959\n",
      "Epoch 2/1000\n",
      "46/46 [==============================] - 0s 2ms/step - loss: 0.5450 - binary_accuracy: 0.7983 - val_loss: 0.5256 - val_binary_accuracy: 0.7959\n",
      "Epoch 3/1000\n",
      "46/46 [==============================] - 0s 1ms/step - loss: 0.5261 - binary_accuracy: 0.7853 - val_loss: 0.5722 - val_binary_accuracy: 0.7959\n",
      "Epoch 4/1000\n",
      "46/46 [==============================] - 0s 1ms/step - loss: 0.5179 - binary_accuracy: 0.7864 - val_loss: 0.5324 - val_binary_accuracy: 0.7959\n",
      "Epoch 5/1000\n",
      "46/46 [==============================] - 0s 1ms/step - loss: 0.4765 - binary_accuracy: 0.7885 - val_loss: 0.5386 - val_binary_accuracy: 0.8149\n",
      "Epoch 6/1000\n",
      "46/46 [==============================] - 0s 1ms/step - loss: 0.4391 - binary_accuracy: 0.8299 - val_loss: 0.5890 - val_binary_accuracy: 0.8259\n",
      "Epoch 7/1000\n",
      "46/46 [==============================] - 0s 2ms/step - loss: 0.4549 - binary_accuracy: 0.7971 - val_loss: 0.5607 - val_binary_accuracy: 0.8196\n",
      "Epoch 8/1000\n",
      "46/46 [==============================] - 0s 2ms/step - loss: 0.4305 - binary_accuracy: 0.8357 - val_loss: 0.5382 - val_binary_accuracy: 0.8180\n",
      "Epoch 9/1000\n",
      "46/46 [==============================] - 0s 2ms/step - loss: 0.4097 - binary_accuracy: 0.8269 - val_loss: 0.5891 - val_binary_accuracy: 0.7595\n",
      "Epoch 10/1000\n",
      "46/46 [==============================] - 0s 2ms/step - loss: 0.4175 - binary_accuracy: 0.8196 - val_loss: 0.5378 - val_binary_accuracy: 0.7753\n",
      "Epoch 11/1000\n",
      "46/46 [==============================] - 0s 2ms/step - loss: 0.3777 - binary_accuracy: 0.8552 - val_loss: 0.5408 - val_binary_accuracy: 0.7753\n",
      "Epoch 12/1000\n",
      "46/46 [==============================] - 0s 2ms/step - loss: 0.3879 - binary_accuracy: 0.8384 - val_loss: 0.5052 - val_binary_accuracy: 0.8085\n",
      "Epoch 13/1000\n",
      "46/46 [==============================] - 0s 1ms/step - loss: 0.3860 - binary_accuracy: 0.8653 - val_loss: 0.5291 - val_binary_accuracy: 0.7516\n",
      "Epoch 14/1000\n",
      "46/46 [==============================] - 0s 1ms/step - loss: 0.3776 - binary_accuracy: 0.8554 - val_loss: 0.4839 - val_binary_accuracy: 0.8275\n",
      "Epoch 15/1000\n",
      "46/46 [==============================] - 0s 1ms/step - loss: 0.3681 - binary_accuracy: 0.8559 - val_loss: 0.4881 - val_binary_accuracy: 0.8180\n",
      "Epoch 16/1000\n",
      "46/46 [==============================] - 0s 1ms/step - loss: 0.3418 - binary_accuracy: 0.8755 - val_loss: 0.5137 - val_binary_accuracy: 0.7737\n",
      "Epoch 17/1000\n",
      "46/46 [==============================] - 0s 1ms/step - loss: 0.3379 - binary_accuracy: 0.8870 - val_loss: 0.5379 - val_binary_accuracy: 0.7437\n",
      "Epoch 18/1000\n",
      "46/46 [==============================] - 0s 1ms/step - loss: 0.3402 - binary_accuracy: 0.8795 - val_loss: 0.4950 - val_binary_accuracy: 0.8054\n",
      "Epoch 19/1000\n",
      "46/46 [==============================] - 0s 1ms/step - loss: 0.3244 - binary_accuracy: 0.8937 - val_loss: 0.5343 - val_binary_accuracy: 0.7563\n",
      "Epoch 20/1000\n",
      "46/46 [==============================] - 0s 1ms/step - loss: 0.3248 - binary_accuracy: 0.8967 - val_loss: 0.5225 - val_binary_accuracy: 0.7563\n",
      "Epoch 21/1000\n",
      "46/46 [==============================] - 0s 1ms/step - loss: 0.3203 - binary_accuracy: 0.8914 - val_loss: 0.5217 - val_binary_accuracy: 0.7737\n",
      "Epoch 22/1000\n",
      "46/46 [==============================] - 0s 1ms/step - loss: 0.3136 - binary_accuracy: 0.8918 - val_loss: 0.5174 - val_binary_accuracy: 0.7975\n",
      "Epoch 23/1000\n",
      "46/46 [==============================] - 0s 1ms/step - loss: 0.3100 - binary_accuracy: 0.8806 - val_loss: 0.5174 - val_binary_accuracy: 0.8085\n",
      "Epoch 24/1000\n",
      "46/46 [==============================] - 0s 1ms/step - loss: 0.2838 - binary_accuracy: 0.9202 - val_loss: 0.5230 - val_binary_accuracy: 0.8149\n"
     ]
    }
   ],
   "source": [
    "# Get the best hyperparameters.\n",
    "best_hps = sequential_MFCC_no_patient_tuner.get_best_hyperparameters()\n",
    "# Build the model with the best hp.\n",
    "sequential_MFCC_no_patient = build_model(best_hps[0])\n",
    "\n",
    "sequential_MFCC_no_patient_history = sequential_MFCC_no_patient.fit(X_train, y_train, epochs=1000, validation_data=(X_val,y_val), callbacks=[es_callback])"
   ]
  },
  {
   "cell_type": "code",
   "execution_count": 29,
   "id": "bfc96a13-6f23-418d-a218-879247ba0491",
   "metadata": {},
   "outputs": [
    {
     "name": "stdout",
     "output_type": "stream",
     "text": [
      "Model: \"sequential_1\"\n",
      "_________________________________________________________________\n",
      "Layer (type)                 Output Shape              Param #   \n",
      "=================================================================\n",
      "flatten_1 (Flatten)          (None, 1940)              0         \n",
      "_________________________________________________________________\n",
      "dense_3 (Dense)              (None, 32)                62112     \n",
      "_________________________________________________________________\n",
      "dropout_1 (Dropout)          (None, 32)                0         \n",
      "_________________________________________________________________\n",
      "batch_normalization_1 (Batch (None, 32)                128       \n",
      "_________________________________________________________________\n",
      "dense_4 (Dense)              (None, 32)                1056      \n",
      "_________________________________________________________________\n",
      "dense_5 (Dense)              (None, 1)                 33        \n",
      "=================================================================\n",
      "Total params: 63,329\n",
      "Trainable params: 63,265\n",
      "Non-trainable params: 64\n",
      "_________________________________________________________________\n"
     ]
    }
   ],
   "source": [
    "sequential_MFCC_no_patient.summary()"
   ]
  },
  {
   "cell_type": "code",
   "execution_count": 30,
   "id": "ae8d6aec-0750-42f7-8c6a-1d9d462a0949",
   "metadata": {},
   "outputs": [
    {
     "name": "stdout",
     "output_type": "stream",
     "text": [
      "29/29 [==============================] - 0s 554us/step - loss: 0.5657 - binary_accuracy: 0.7896\n",
      "Train Accuracy: 92.1196%\n",
      "Test Accuracy: 78.959%\n"
     ]
    }
   ],
   "source": [
    "evaluate_model(sequential_MFCC_no_patient, sequential_MFCC_no_patient_history)"
   ]
  },
  {
   "cell_type": "code",
   "execution_count": 31,
   "id": "1675d65a-3e12-46f6-acf7-17aefd35b058",
   "metadata": {},
   "outputs": [
    {
     "data": {
      "image/png": "[encoded data removed]",
      "text/plain": [
       "<Figure size 864x576 with 1 Axes>"
      ]
     },
     "metadata": {
      "needs_background": "light"
     },
     "output_type": "display_data"
    }
   ],
   "source": [
    "graph_model_loss('MFCC w/o Patient Information', sequential_MFCC_no_patient_history)"
   ]
  },
  {
   "cell_type": "code",
   "execution_count": 32,
   "id": "09cc02b7-d6da-4ae6-9265-e084d7d20083",
   "metadata": {},
   "outputs": [
    {
     "name": "stdout",
     "output_type": "stream",
     "text": [
      "INFO:tensorflow:Assets written to: /Users/jmd/Documents/BOOTCAMP/Capstone/neural_nets/sequential_MFCC_no_patient/assets\n"
     ]
    }
   ],
   "source": [
    "#saving\n",
    "sequential_MFCC_no_patient.save('/Users/jmd/Documents/BOOTCAMP/Capstone/neural_nets/sequential_MFCC_no_patient', overwrite=True)"
   ]
  },
  {
   "cell_type": "markdown",
   "id": "70bd07e6-cec8-4543-bd91-90048c5efa2b",
   "metadata": {},
   "source": [
    "below approach was BS and didn't work. commenting out for later."
   ]
  },
  {
   "cell_type": "code",
   "execution_count": 33,
   "id": "14c92cd1-01ba-4a84-9523-5021c9ccdfed",
   "metadata": {},
   "outputs": [],
   "source": [
    "# # Create a new sequential model\n",
    "# FNN_MFCC_n_pt = keras.Sequential()\n",
    "\n",
    "# # Declare the hidden layers\n",
    "# FNN_MFCC_n_pt.add(layers.Dense(512, kernel_regularizer=regularizers.l2(0.001), activation=\"relu\"))\n",
    "# #model.add(layers.Dropout(0.4))\n",
    "# FNN_MFCC_n_pt.add(layers.BatchNormalization())  \n",
    "\n",
    "# FNN_MFCC_n_pt.add(layers.Dense(128, kernel_regularizer=regularizers.l2(0.001), activation=\"relu\"))\n",
    "# #model.add(layers.Dropout(0.4))\n",
    "# FNN_MFCC_n_pt.add(layers.BatchNormalization())  \n",
    "\n",
    "# FNN_MFCC_n_pt.add(layers.Dense(32, kernel_regularizer=regularizers.l2(0.001), activation=\"relu\"))\n",
    "# #model.add(layers.Dropout(0.4))\n",
    "\n",
    "# # Declare the output layer\n",
    "# FNN_MFCC_n_pt.add(layers.Dense(1, kernel_regularizer=regularizers.l2(0.001), activation=\"sigmoid\"))\n",
    "\n",
    "# #declaring learning rate schedule\n",
    "# lr_schedule = keras.optimizers.schedules.InverseTimeDecay(0.01, decay_steps=1.0, decay_rate=0.1)\n",
    "\n",
    "\n",
    "# FNN_MFCC_n_pt.compile(\n",
    "#     # Optimizer\n",
    "#     optimizer=keras.optimizers.Adam(lr_schedule),  \n",
    "#     # Loss function to minimize\n",
    "#     loss=keras.losses.BinaryCrossentropy(),\n",
    "#     # Metric used to evaluate model\n",
    "#     metrics=[keras.metrics.BinaryAccuracy()]\n",
    "# )\n",
    "\n",
    "# es_callback = keras.callbacks.EarlyStopping(monitor='val_loss', patience=10)\n",
    "\n",
    "# history2 = FNN_MFCC_n_pt.fit(X_train, y_train, epochs=1000, verbose=1, validation_split=0.3, callbacks=[es_callback])\n",
    "\n",
    "# plt.plot(history2.history['loss'])\n",
    "# plt.plot(history2.history['val_loss'])\n",
    "# plt.title('Model Loss')\n",
    "# plt.ylabel('Loss')\n",
    "# plt.xlabel('Epoch')\n",
    "# plt.legend(['Train', 'Validation'])\n",
    "# plt.show()\n",
    "\n",
    "# # Evaluate the network\n",
    "# train_accuracy = history2.history[\"binary_accuracy\"][-1]\n",
    "# result = FNN_MFCC_n_pt.evaluate(X_test,y_test, verbose=1)\n",
    "\n",
    "# print(f\"Train Accuracy: {train_accuracy:.4f}\")\n",
    "# print(f\"Test Accuracy: {result[1]:.4f}\")\n",
    "\n",
    "# FNN_MFCC_n_pt.summary()\n",
    "\n",
    "# #saving model\n",
    "# FNN_MFCC_n_pt.save('/Users/jmd/Documents/BOOTCAMP/Capstone/neural_nets/FFN_MFCC_no_patient', overwrite=False)"
   ]
  },
  {
   "cell_type": "markdown",
   "id": "8ae70820-08e9-4c41-9f9e-1e28fcd78e7b",
   "metadata": {},
   "source": [
    "### MFCC w/ Patient Info: FFN"
   ]
  },
  {
   "cell_type": "code",
   "execution_count": 34,
   "id": "e9f3df2f-2ebe-433a-a8bc-ca93f876291b",
   "metadata": {},
   "outputs": [],
   "source": [
    "X = np.load('/Users/jmd/Documents/BOOTCAMP/Capstone/arrays/MFCCs_withPatient.npy', allow_pickle=True)\n",
    "y = np.load('/Users/jmd/Documents/BOOTCAMP/Capstone/arrays/target_array.npy', allow_pickle=True)"
   ]
  },
  {
   "cell_type": "code",
   "execution_count": 35,
   "id": "da948b7a-6e70-48a2-9199-ea14be8ed4de",
   "metadata": {},
   "outputs": [],
   "source": [
    "X_train, X_test, y_train, y_test = train_test_split(X, y, stratify=y, test_size = 0.3)\n",
    "X_train, X_val, y_train, y_val = train_test_split(X_train, y_train, stratify=y_train, test_size=0.3)"
   ]
  },
  {
   "cell_type": "code",
   "execution_count": 36,
   "id": "ef2d6675-04d4-462b-90e8-c0ce78142082",
   "metadata": {},
   "outputs": [],
   "source": [
    "es_callback = keras.callbacks.EarlyStopping(monitor='val_loss', patience=10)"
   ]
  },
  {
   "cell_type": "code",
   "execution_count": 37,
   "id": "9377792a-6389-4a65-af4a-c1af999ac118",
   "metadata": {
    "scrolled": true,
    "tags": []
   },
   "outputs": [
    {
     "name": "stdout",
     "output_type": "stream",
     "text": [
      "Trial 100 Complete [00h 00m 42s]\n",
      "val_loss: 0.5100515484809875\n",
      "\n",
      "Best val_loss So Far: 0.4997389018535614\n",
      "Total elapsed time: 01h 16m 37s\n",
      "INFO:tensorflow:Oracle triggered exit\n"
     ]
    }
   ],
   "source": [
    "sequential_MFCC_with_patient_tuner = kt.BayesianOptimization(\n",
    "    hypermodel=build_model,\n",
    "    objective=\"val_loss\",\n",
    "    max_trials=100,\n",
    "    seed=42,\n",
    "    overwrite=True,\n",
    "    directory='/Users/jmd/Documents/BOOTCAMP/Capstone/kerastune_searches',\n",
    "    project_name='sequential_MFCC_with_patient'\n",
    ")\n",
    "\n",
    "sequential_MFCC_with_patient_tuner.search(X_train, y_train, epochs=100, validation_data=(X_val,y_val), callbacks=[es_callback])"
   ]
  },
  {
   "cell_type": "code",
   "execution_count": 38,
   "id": "8fc9509e-42ce-4896-8e2f-2c8ba742e318",
   "metadata": {
    "scrolled": true,
    "tags": []
   },
   "outputs": [
    {
     "name": "stdout",
     "output_type": "stream",
     "text": [
      "Results summary\n",
      "Results in /Users/jmd/Documents/BOOTCAMP/Capstone/kerastune_searches/sequential_MFCC_with_patient\n",
      "Showing 1 best trials\n",
      "Objective(name='val_loss', direction='min')\n",
      "Trial summary\n",
      "Hyperparameters:\n",
      "layers: 3\n",
      "units0: 800\n",
      "dropout0: True\n",
      "normalization0: False\n",
      "units1: 32\n",
      "dropout1: False\n",
      "normalization1: False\n",
      "starting_learning_rate: 0.01\n",
      "units2: 32\n",
      "dropout2: False\n",
      "normalization2: True\n",
      "units3: 992\n",
      "dropout3: False\n",
      "normalization3: False\n",
      "Score: 0.4997389018535614\n"
     ]
    }
   ],
   "source": [
    "sequential_MFCC_with_patient_tuner.results_summary(num_trials=1)"
   ]
  },
  {
   "cell_type": "code",
   "execution_count": 39,
   "id": "b9d67ec6-8f16-4643-ad29-36b87e8bec22",
   "metadata": {},
   "outputs": [],
   "source": [
    "es_callback = keras.callbacks.EarlyStopping(monitor='val_loss', patience=10)"
   ]
  },
  {
   "cell_type": "code",
   "execution_count": 40,
   "id": "d326d139-342c-479d-8389-4d6815f737e0",
   "metadata": {
    "scrolled": true,
    "tags": []
   },
   "outputs": [
    {
     "name": "stdout",
     "output_type": "stream",
     "text": [
      "Epoch 1/1000\n",
      "46/46 [==============================] - 1s 17ms/step - loss: 1.6878 - binary_accuracy: 0.6626 - val_loss: 1.3759 - val_binary_accuracy: 0.7959\n",
      "Epoch 2/1000\n",
      "46/46 [==============================] - 1s 15ms/step - loss: 0.9509 - binary_accuracy: 0.7906 - val_loss: 0.9626 - val_binary_accuracy: 0.7959\n",
      "Epoch 3/1000\n",
      "46/46 [==============================] - 1s 15ms/step - loss: 0.7979 - binary_accuracy: 0.7973 - val_loss: 0.7937 - val_binary_accuracy: 0.7959\n",
      "Epoch 4/1000\n",
      "46/46 [==============================] - 1s 15ms/step - loss: 0.7213 - binary_accuracy: 0.8105 - val_loss: 0.7211 - val_binary_accuracy: 0.7959\n",
      "Epoch 5/1000\n",
      "46/46 [==============================] - 1s 15ms/step - loss: 0.7081 - binary_accuracy: 0.7908 - val_loss: 0.6873 - val_binary_accuracy: 0.7959\n",
      "Epoch 6/1000\n",
      "46/46 [==============================] - 1s 15ms/step - loss: 0.6906 - binary_accuracy: 0.7905 - val_loss: 0.6692 - val_binary_accuracy: 0.7959\n",
      "Epoch 7/1000\n",
      "46/46 [==============================] - 1s 15ms/step - loss: 0.6734 - binary_accuracy: 0.7891 - val_loss: 0.6567 - val_binary_accuracy: 0.7959\n",
      "Epoch 8/1000\n",
      "46/46 [==============================] - 1s 15ms/step - loss: 0.6226 - binary_accuracy: 0.8184 - val_loss: 0.6437 - val_binary_accuracy: 0.7959\n",
      "Epoch 9/1000\n",
      "46/46 [==============================] - 1s 15ms/step - loss: 0.6448 - binary_accuracy: 0.7993 - val_loss: 0.6403 - val_binary_accuracy: 0.7959\n",
      "Epoch 10/1000\n",
      "46/46 [==============================] - 1s 15ms/step - loss: 0.6360 - binary_accuracy: 0.7933 - val_loss: 0.6290 - val_binary_accuracy: 0.7959\n",
      "Epoch 11/1000\n",
      "46/46 [==============================] - 1s 15ms/step - loss: 0.6200 - binary_accuracy: 0.8062 - val_loss: 0.6214 - val_binary_accuracy: 0.7959\n",
      "Epoch 12/1000\n",
      "46/46 [==============================] - 1s 15ms/step - loss: 0.6154 - binary_accuracy: 0.8019 - val_loss: 0.6143 - val_binary_accuracy: 0.7959\n",
      "Epoch 13/1000\n",
      "46/46 [==============================] - 1s 16ms/step - loss: 0.5885 - binary_accuracy: 0.8108 - val_loss: 0.6101 - val_binary_accuracy: 0.7975\n",
      "Epoch 14/1000\n",
      "46/46 [==============================] - 1s 15ms/step - loss: 0.5950 - binary_accuracy: 0.8064 - val_loss: 0.6087 - val_binary_accuracy: 0.7991\n",
      "Epoch 15/1000\n",
      "46/46 [==============================] - 1s 15ms/step - loss: 0.6024 - binary_accuracy: 0.7981 - val_loss: 0.6036 - val_binary_accuracy: 0.7991\n",
      "Epoch 16/1000\n",
      "46/46 [==============================] - 1s 15ms/step - loss: 0.5998 - binary_accuracy: 0.7960 - val_loss: 0.5950 - val_binary_accuracy: 0.7991\n",
      "Epoch 17/1000\n",
      "46/46 [==============================] - 1s 15ms/step - loss: 0.6004 - binary_accuracy: 0.7909 - val_loss: 0.5902 - val_binary_accuracy: 0.7991\n",
      "Epoch 18/1000\n",
      "46/46 [==============================] - 1s 15ms/step - loss: 0.5979 - binary_accuracy: 0.7933 - val_loss: 0.5903 - val_binary_accuracy: 0.8022\n",
      "Epoch 19/1000\n",
      "46/46 [==============================] - 1s 15ms/step - loss: 0.5931 - binary_accuracy: 0.7856 - val_loss: 0.5850 - val_binary_accuracy: 0.8022\n",
      "Epoch 20/1000\n",
      "46/46 [==============================] - 1s 15ms/step - loss: 0.5768 - binary_accuracy: 0.7993 - val_loss: 0.5849 - val_binary_accuracy: 0.8070\n",
      "Epoch 21/1000\n",
      "46/46 [==============================] - 1s 15ms/step - loss: 0.5879 - binary_accuracy: 0.7936 - val_loss: 0.5782 - val_binary_accuracy: 0.8070\n",
      "Epoch 22/1000\n",
      "46/46 [==============================] - 1s 15ms/step - loss: 0.5632 - binary_accuracy: 0.8060 - val_loss: 0.5760 - val_binary_accuracy: 0.8085\n",
      "Epoch 23/1000\n",
      "46/46 [==============================] - 1s 15ms/step - loss: 0.5811 - binary_accuracy: 0.8006 - val_loss: 0.5765 - val_binary_accuracy: 0.8070\n",
      "Epoch 24/1000\n",
      "46/46 [==============================] - 1s 15ms/step - loss: 0.5842 - binary_accuracy: 0.7892 - val_loss: 0.5657 - val_binary_accuracy: 0.8085\n",
      "Epoch 25/1000\n",
      "46/46 [==============================] - 1s 15ms/step - loss: 0.5467 - binary_accuracy: 0.8219 - val_loss: 0.5621 - val_binary_accuracy: 0.8117\n",
      "Epoch 26/1000\n",
      "46/46 [==============================] - 1s 15ms/step - loss: 0.5795 - binary_accuracy: 0.7984 - val_loss: 0.5688 - val_binary_accuracy: 0.8149\n",
      "Epoch 27/1000\n",
      "46/46 [==============================] - 1s 15ms/step - loss: 0.5647 - binary_accuracy: 0.8028 - val_loss: 0.5671 - val_binary_accuracy: 0.8212\n",
      "Epoch 28/1000\n",
      "46/46 [==============================] - 1s 15ms/step - loss: 0.5564 - binary_accuracy: 0.7980 - val_loss: 0.5682 - val_binary_accuracy: 0.8180\n",
      "Epoch 29/1000\n",
      "46/46 [==============================] - 1s 15ms/step - loss: 0.5432 - binary_accuracy: 0.8122 - val_loss: 0.5527 - val_binary_accuracy: 0.8196\n",
      "Epoch 30/1000\n",
      "46/46 [==============================] - 1s 15ms/step - loss: 0.5462 - binary_accuracy: 0.8118 - val_loss: 0.5477 - val_binary_accuracy: 0.8196\n",
      "Epoch 31/1000\n",
      "46/46 [==============================] - 1s 15ms/step - loss: 0.5304 - binary_accuracy: 0.8161 - val_loss: 0.5414 - val_binary_accuracy: 0.8180\n",
      "Epoch 32/1000\n",
      "46/46 [==============================] - 1s 15ms/step - loss: 0.5280 - binary_accuracy: 0.8297 - val_loss: 0.5362 - val_binary_accuracy: 0.8212\n",
      "Epoch 33/1000\n",
      "46/46 [==============================] - 1s 15ms/step - loss: 0.5242 - binary_accuracy: 0.8383 - val_loss: 0.5344 - val_binary_accuracy: 0.8180\n",
      "Epoch 34/1000\n",
      "46/46 [==============================] - 1s 15ms/step - loss: 0.5423 - binary_accuracy: 0.8253 - val_loss: 0.5331 - val_binary_accuracy: 0.8149\n",
      "Epoch 35/1000\n",
      "46/46 [==============================] - 1s 15ms/step - loss: 0.4904 - binary_accuracy: 0.8582 - val_loss: 0.5316 - val_binary_accuracy: 0.8196\n",
      "Epoch 36/1000\n",
      "46/46 [==============================] - 1s 15ms/step - loss: 0.5444 - binary_accuracy: 0.8146 - val_loss: 0.5316 - val_binary_accuracy: 0.8196\n",
      "Epoch 37/1000\n",
      "46/46 [==============================] - 1s 16ms/step - loss: 0.5118 - binary_accuracy: 0.8297 - val_loss: 0.5298 - val_binary_accuracy: 0.8165\n",
      "Epoch 38/1000\n",
      "46/46 [==============================] - 1s 15ms/step - loss: 0.5415 - binary_accuracy: 0.8190 - val_loss: 0.5311 - val_binary_accuracy: 0.8212\n",
      "Epoch 39/1000\n",
      "46/46 [==============================] - 1s 15ms/step - loss: 0.4808 - binary_accuracy: 0.8523 - val_loss: 0.5299 - val_binary_accuracy: 0.8212\n",
      "Epoch 40/1000\n",
      "46/46 [==============================] - 1s 15ms/step - loss: 0.5042 - binary_accuracy: 0.8386 - val_loss: 0.5282 - val_binary_accuracy: 0.8180\n",
      "Epoch 41/1000\n",
      "46/46 [==============================] - 1s 15ms/step - loss: 0.5002 - binary_accuracy: 0.8343 - val_loss: 0.5349 - val_binary_accuracy: 0.8228\n",
      "Epoch 42/1000\n",
      "46/46 [==============================] - 1s 15ms/step - loss: 0.5259 - binary_accuracy: 0.8201 - val_loss: 0.5254 - val_binary_accuracy: 0.8244\n",
      "Epoch 43/1000\n",
      "46/46 [==============================] - 1s 15ms/step - loss: 0.4961 - binary_accuracy: 0.8356 - val_loss: 0.5266 - val_binary_accuracy: 0.8196\n",
      "Epoch 44/1000\n",
      "46/46 [==============================] - 1s 15ms/step - loss: 0.4910 - binary_accuracy: 0.8357 - val_loss: 0.5321 - val_binary_accuracy: 0.8133\n",
      "Epoch 45/1000\n",
      "46/46 [==============================] - 1s 15ms/step - loss: 0.5014 - binary_accuracy: 0.8256 - val_loss: 0.5372 - val_binary_accuracy: 0.8006\n",
      "Epoch 46/1000\n",
      "46/46 [==============================] - 1s 15ms/step - loss: 0.5065 - binary_accuracy: 0.8231 - val_loss: 0.5268 - val_binary_accuracy: 0.8133\n",
      "Epoch 47/1000\n",
      "46/46 [==============================] - 1s 15ms/step - loss: 0.5147 - binary_accuracy: 0.8161 - val_loss: 0.5270 - val_binary_accuracy: 0.8149\n",
      "Epoch 48/1000\n",
      "46/46 [==============================] - 1s 15ms/step - loss: 0.5149 - binary_accuracy: 0.8313 - val_loss: 0.5279 - val_binary_accuracy: 0.8196\n",
      "Epoch 49/1000\n",
      "46/46 [==============================] - 1s 15ms/step - loss: 0.5296 - binary_accuracy: 0.8019 - val_loss: 0.6724 - val_binary_accuracy: 0.6835\n",
      "Epoch 50/1000\n",
      "46/46 [==============================] - 1s 15ms/step - loss: 0.5092 - binary_accuracy: 0.8124 - val_loss: 0.7423 - val_binary_accuracy: 0.6250\n",
      "Epoch 51/1000\n",
      "46/46 [==============================] - 1s 15ms/step - loss: 0.4849 - binary_accuracy: 0.8367 - val_loss: 0.5312 - val_binary_accuracy: 0.8085\n",
      "Epoch 52/1000\n",
      "46/46 [==============================] - 1s 15ms/step - loss: 0.5103 - binary_accuracy: 0.8206 - val_loss: 0.5187 - val_binary_accuracy: 0.8180\n",
      "Epoch 53/1000\n",
      "46/46 [==============================] - 1s 15ms/step - loss: 0.4965 - binary_accuracy: 0.8273 - val_loss: 0.5180 - val_binary_accuracy: 0.8244\n",
      "Epoch 54/1000\n",
      "46/46 [==============================] - 1s 15ms/step - loss: 0.5024 - binary_accuracy: 0.8280 - val_loss: 0.5177 - val_binary_accuracy: 0.8244\n",
      "Epoch 55/1000\n",
      "46/46 [==============================] - 1s 15ms/step - loss: 0.5118 - binary_accuracy: 0.8357 - val_loss: 0.5189 - val_binary_accuracy: 0.8259\n",
      "Epoch 56/1000\n",
      "46/46 [==============================] - 1s 15ms/step - loss: 0.4927 - binary_accuracy: 0.8345 - val_loss: 0.5190 - val_binary_accuracy: 0.8212\n",
      "Epoch 57/1000\n",
      "46/46 [==============================] - 1s 15ms/step - loss: 0.4932 - binary_accuracy: 0.8254 - val_loss: 0.5177 - val_binary_accuracy: 0.8244\n",
      "Epoch 58/1000\n",
      "46/46 [==============================] - 1s 15ms/step - loss: 0.4773 - binary_accuracy: 0.8426 - val_loss: 0.5177 - val_binary_accuracy: 0.8259\n",
      "Epoch 59/1000\n",
      "46/46 [==============================] - 1s 15ms/step - loss: 0.4864 - binary_accuracy: 0.8287 - val_loss: 0.5179 - val_binary_accuracy: 0.8259\n",
      "Epoch 60/1000\n",
      "46/46 [==============================] - 1s 16ms/step - loss: 0.4951 - binary_accuracy: 0.8368 - val_loss: 0.5177 - val_binary_accuracy: 0.8228\n",
      "Epoch 61/1000\n",
      "46/46 [==============================] - 1s 15ms/step - loss: 0.4621 - binary_accuracy: 0.8469 - val_loss: 0.5169 - val_binary_accuracy: 0.8212\n",
      "Epoch 62/1000\n",
      "46/46 [==============================] - 1s 15ms/step - loss: 0.4746 - binary_accuracy: 0.8437 - val_loss: 0.5164 - val_binary_accuracy: 0.8244\n",
      "Epoch 63/1000\n",
      "46/46 [==============================] - 1s 15ms/step - loss: 0.4641 - binary_accuracy: 0.8470 - val_loss: 0.5166 - val_binary_accuracy: 0.8244\n",
      "Epoch 64/1000\n",
      "46/46 [==============================] - 1s 15ms/step - loss: 0.4645 - binary_accuracy: 0.8369 - val_loss: 0.5179 - val_binary_accuracy: 0.8212\n",
      "Epoch 65/1000\n",
      "46/46 [==============================] - 1s 15ms/step - loss: 0.4586 - binary_accuracy: 0.8589 - val_loss: 0.5169 - val_binary_accuracy: 0.8259\n",
      "Epoch 66/1000\n",
      "46/46 [==============================] - 1s 15ms/step - loss: 0.4488 - binary_accuracy: 0.8504 - val_loss: 0.5990 - val_binary_accuracy: 0.7991\n",
      "Epoch 67/1000\n",
      "46/46 [==============================] - 1s 15ms/step - loss: 0.4626 - binary_accuracy: 0.8520 - val_loss: 0.5850 - val_binary_accuracy: 0.7991\n",
      "Epoch 68/1000\n",
      "46/46 [==============================] - 1s 15ms/step - loss: 0.4760 - binary_accuracy: 0.8456 - val_loss: 0.5451 - val_binary_accuracy: 0.8038\n",
      "Epoch 69/1000\n",
      "46/46 [==============================] - 1s 15ms/step - loss: 0.4896 - binary_accuracy: 0.8242 - val_loss: 0.5269 - val_binary_accuracy: 0.8117\n",
      "Epoch 70/1000\n",
      "46/46 [==============================] - 1s 15ms/step - loss: 0.4669 - binary_accuracy: 0.8486 - val_loss: 0.5161 - val_binary_accuracy: 0.8212\n",
      "Epoch 71/1000\n",
      "46/46 [==============================] - 1s 15ms/step - loss: 0.4722 - binary_accuracy: 0.8345 - val_loss: 0.5154 - val_binary_accuracy: 0.8196\n",
      "Epoch 72/1000\n",
      "46/46 [==============================] - 1s 15ms/step - loss: 0.5004 - binary_accuracy: 0.8161 - val_loss: 0.5152 - val_binary_accuracy: 0.8212\n",
      "Epoch 73/1000\n",
      "46/46 [==============================] - 1s 15ms/step - loss: 0.4768 - binary_accuracy: 0.8497 - val_loss: 0.5141 - val_binary_accuracy: 0.8180\n",
      "Epoch 74/1000\n",
      "46/46 [==============================] - 1s 15ms/step - loss: 0.4466 - binary_accuracy: 0.8626 - val_loss: 0.5140 - val_binary_accuracy: 0.8228\n",
      "Epoch 75/1000\n",
      "46/46 [==============================] - 1s 15ms/step - loss: 0.4908 - binary_accuracy: 0.8347 - val_loss: 0.5144 - val_binary_accuracy: 0.8228\n",
      "Epoch 76/1000\n",
      "46/46 [==============================] - 1s 15ms/step - loss: 0.4486 - binary_accuracy: 0.8568 - val_loss: 0.5153 - val_binary_accuracy: 0.8228\n",
      "Epoch 77/1000\n",
      "46/46 [==============================] - 1s 15ms/step - loss: 0.4581 - binary_accuracy: 0.8461 - val_loss: 0.5136 - val_binary_accuracy: 0.8180\n",
      "Epoch 78/1000\n",
      "46/46 [==============================] - 1s 15ms/step - loss: 0.4541 - binary_accuracy: 0.8464 - val_loss: 0.5129 - val_binary_accuracy: 0.8228\n",
      "Epoch 79/1000\n",
      "46/46 [==============================] - 1s 15ms/step - loss: 0.4813 - binary_accuracy: 0.8235 - val_loss: 0.5139 - val_binary_accuracy: 0.8212\n",
      "Epoch 80/1000\n",
      "46/46 [==============================] - 1s 15ms/step - loss: 0.4677 - binary_accuracy: 0.8421 - val_loss: 0.5138 - val_binary_accuracy: 0.8228\n",
      "Epoch 81/1000\n",
      "46/46 [==============================] - 1s 15ms/step - loss: 0.4599 - binary_accuracy: 0.8565 - val_loss: 0.5134 - val_binary_accuracy: 0.8228\n",
      "Epoch 82/1000\n",
      "46/46 [==============================] - 1s 15ms/step - loss: 0.4721 - binary_accuracy: 0.8372 - val_loss: 0.5139 - val_binary_accuracy: 0.8228\n",
      "Epoch 83/1000\n",
      "46/46 [==============================] - 1s 16ms/step - loss: 0.4652 - binary_accuracy: 0.8374 - val_loss: 0.5144 - val_binary_accuracy: 0.8196\n",
      "Epoch 84/1000\n",
      "46/46 [==============================] - 1s 15ms/step - loss: 0.4427 - binary_accuracy: 0.8573 - val_loss: 0.5142 - val_binary_accuracy: 0.8180\n",
      "Epoch 85/1000\n",
      "46/46 [==============================] - 1s 15ms/step - loss: 0.5043 - binary_accuracy: 0.8280 - val_loss: 0.5149 - val_binary_accuracy: 0.8180\n",
      "Epoch 86/1000\n",
      "46/46 [==============================] - 1s 15ms/step - loss: 0.4837 - binary_accuracy: 0.8273 - val_loss: 0.5129 - val_binary_accuracy: 0.8228\n",
      "Epoch 87/1000\n",
      "46/46 [==============================] - 1s 15ms/step - loss: 0.4813 - binary_accuracy: 0.8365 - val_loss: 0.5128 - val_binary_accuracy: 0.8228\n",
      "Epoch 88/1000\n",
      "46/46 [==============================] - 1s 15ms/step - loss: 0.4588 - binary_accuracy: 0.8512 - val_loss: 0.5124 - val_binary_accuracy: 0.8228\n",
      "Epoch 89/1000\n",
      "46/46 [==============================] - 1s 15ms/step - loss: 0.4631 - binary_accuracy: 0.8413 - val_loss: 0.5126 - val_binary_accuracy: 0.8228\n",
      "Epoch 90/1000\n",
      "46/46 [==============================] - 1s 15ms/step - loss: 0.4570 - binary_accuracy: 0.8452 - val_loss: 0.5121 - val_binary_accuracy: 0.8228\n",
      "Epoch 91/1000\n",
      "46/46 [==============================] - 1s 15ms/step - loss: 0.4644 - binary_accuracy: 0.8479 - val_loss: 0.5122 - val_binary_accuracy: 0.8212\n",
      "Epoch 92/1000\n",
      "46/46 [==============================] - 1s 15ms/step - loss: 0.4664 - binary_accuracy: 0.8394 - val_loss: 0.5120 - val_binary_accuracy: 0.8228\n",
      "Epoch 93/1000\n",
      "46/46 [==============================] - 1s 15ms/step - loss: 0.4686 - binary_accuracy: 0.8346 - val_loss: 0.5118 - val_binary_accuracy: 0.8228\n",
      "Epoch 94/1000\n",
      "46/46 [==============================] - 1s 15ms/step - loss: 0.4633 - binary_accuracy: 0.8477 - val_loss: 0.5121 - val_binary_accuracy: 0.8180\n",
      "Epoch 95/1000\n",
      "46/46 [==============================] - 1s 15ms/step - loss: 0.4749 - binary_accuracy: 0.8395 - val_loss: 0.5119 - val_binary_accuracy: 0.8212\n",
      "Epoch 96/1000\n",
      "46/46 [==============================] - 1s 15ms/step - loss: 0.4436 - binary_accuracy: 0.8599 - val_loss: 0.5122 - val_binary_accuracy: 0.8196\n",
      "Epoch 97/1000\n",
      "46/46 [==============================] - 1s 15ms/step - loss: 0.4482 - binary_accuracy: 0.8417 - val_loss: 0.5118 - val_binary_accuracy: 0.8228\n",
      "Epoch 98/1000\n",
      "46/46 [==============================] - 1s 15ms/step - loss: 0.4735 - binary_accuracy: 0.8411 - val_loss: 0.5119 - val_binary_accuracy: 0.8228\n",
      "Epoch 99/1000\n",
      "46/46 [==============================] - 1s 15ms/step - loss: 0.4732 - binary_accuracy: 0.8541 - val_loss: 0.5119 - val_binary_accuracy: 0.8212\n",
      "Epoch 100/1000\n",
      "46/46 [==============================] - 1s 15ms/step - loss: 0.4949 - binary_accuracy: 0.8218 - val_loss: 0.5122 - val_binary_accuracy: 0.8196\n",
      "Epoch 101/1000\n",
      "46/46 [==============================] - 1s 15ms/step - loss: 0.4448 - binary_accuracy: 0.8594 - val_loss: 0.5123 - val_binary_accuracy: 0.8228\n",
      "Epoch 102/1000\n",
      "46/46 [==============================] - 1s 15ms/step - loss: 0.4620 - binary_accuracy: 0.8343 - val_loss: 0.5131 - val_binary_accuracy: 0.8212\n",
      "Epoch 103/1000\n",
      "46/46 [==============================] - 1s 15ms/step - loss: 0.4701 - binary_accuracy: 0.8391 - val_loss: 0.5146 - val_binary_accuracy: 0.8180\n",
      "Epoch 104/1000\n",
      "46/46 [==============================] - 1s 15ms/step - loss: 0.4627 - binary_accuracy: 0.8535 - val_loss: 0.5146 - val_binary_accuracy: 0.8165\n",
      "Epoch 105/1000\n",
      "46/46 [==============================] - 1s 16ms/step - loss: 0.4431 - binary_accuracy: 0.8610 - val_loss: 0.5124 - val_binary_accuracy: 0.8228\n",
      "Epoch 106/1000\n",
      "46/46 [==============================] - 1s 16ms/step - loss: 0.4819 - binary_accuracy: 0.8399 - val_loss: 0.5116 - val_binary_accuracy: 0.8212\n",
      "Epoch 107/1000\n",
      "46/46 [==============================] - 1s 15ms/step - loss: 0.4496 - binary_accuracy: 0.8450 - val_loss: 0.5118 - val_binary_accuracy: 0.8228\n",
      "Epoch 108/1000\n",
      "46/46 [==============================] - 1s 15ms/step - loss: 0.4507 - binary_accuracy: 0.8392 - val_loss: 0.5118 - val_binary_accuracy: 0.8196\n",
      "Epoch 109/1000\n",
      "46/46 [==============================] - 1s 15ms/step - loss: 0.4549 - binary_accuracy: 0.8451 - val_loss: 0.5125 - val_binary_accuracy: 0.8196\n",
      "Epoch 110/1000\n",
      "46/46 [==============================] - 1s 15ms/step - loss: 0.4323 - binary_accuracy: 0.8609 - val_loss: 0.5129 - val_binary_accuracy: 0.8196\n",
      "Epoch 111/1000\n",
      "46/46 [==============================] - 1s 15ms/step - loss: 0.4617 - binary_accuracy: 0.8491 - val_loss: 0.5128 - val_binary_accuracy: 0.8196\n",
      "Epoch 112/1000\n",
      "46/46 [==============================] - 1s 15ms/step - loss: 0.4561 - binary_accuracy: 0.8436 - val_loss: 0.5127 - val_binary_accuracy: 0.8196\n",
      "Epoch 113/1000\n",
      "46/46 [==============================] - 1s 15ms/step - loss: 0.4471 - binary_accuracy: 0.8497 - val_loss: 0.5127 - val_binary_accuracy: 0.8196\n",
      "Epoch 114/1000\n",
      "46/46 [==============================] - 1s 15ms/step - loss: 0.4485 - binary_accuracy: 0.8653 - val_loss: 0.5135 - val_binary_accuracy: 0.8196\n",
      "Epoch 115/1000\n",
      "46/46 [==============================] - 1s 15ms/step - loss: 0.4433 - binary_accuracy: 0.8536 - val_loss: 0.5145 - val_binary_accuracy: 0.8165\n",
      "Epoch 116/1000\n",
      "46/46 [==============================] - 1s 15ms/step - loss: 0.4661 - binary_accuracy: 0.8328 - val_loss: 0.5140 - val_binary_accuracy: 0.8196\n"
     ]
    }
   ],
   "source": [
    "# Get the best hyperparameters.\n",
    "best_hps = sequential_MFCC_with_patient_tuner.get_best_hyperparameters()\n",
    "# Build the model with the best hp.\n",
    "sequential_MFCC_with_patient = build_model(best_hps[0])\n",
    "\n",
    "sequential_MFCC_with_patient_history = sequential_MFCC_with_patient.fit(X_train, y_train, epochs=1000, validation_data=(X_val,y_val), callbacks=[es_callback])"
   ]
  },
  {
   "cell_type": "code",
   "execution_count": 41,
   "id": "06feade5-16d2-408a-ba47-c9ce87708a62",
   "metadata": {},
   "outputs": [
    {
     "name": "stdout",
     "output_type": "stream",
     "text": [
      "Model: \"sequential_1\"\n",
      "_________________________________________________________________\n",
      "Layer (type)                 Output Shape              Param #   \n",
      "=================================================================\n",
      "flatten_1 (Flatten)          (None, 2910)              0         \n",
      "_________________________________________________________________\n",
      "dense_3 (Dense)              (None, 800)               2328800   \n",
      "_________________________________________________________________\n",
      "dropout_1 (Dropout)          (None, 800)               0         \n",
      "_________________________________________________________________\n",
      "dense_4 (Dense)              (None, 32)                25632     \n",
      "_________________________________________________________________\n",
      "dense_5 (Dense)              (None, 32)                1056      \n",
      "_________________________________________________________________\n",
      "batch_normalization_1 (Batch (None, 32)                128       \n",
      "_________________________________________________________________\n",
      "dense_6 (Dense)              (None, 1)                 33        \n",
      "=================================================================\n",
      "Total params: 2,355,649\n",
      "Trainable params: 2,355,585\n",
      "Non-trainable params: 64\n",
      "_________________________________________________________________\n"
     ]
    }
   ],
   "source": [
    "sequential_MFCC_with_patient.summary()"
   ]
  },
  {
   "cell_type": "code",
   "execution_count": 42,
   "id": "48b279a6-2608-4d31-a0fe-9a8fcdb2f36a",
   "metadata": {},
   "outputs": [
    {
     "name": "stdout",
     "output_type": "stream",
     "text": [
      "29/29 [==============================] - 0s 7ms/step - loss: 0.4875 - binary_accuracy: 0.8339\n",
      "Train Accuracy: 84.5109%\n",
      "Test Accuracy: 83.3887%\n"
     ]
    }
   ],
   "source": [
    "evaluate_model(sequential_MFCC_with_patient, sequential_MFCC_with_patient_history)"
   ]
  },
  {
   "cell_type": "code",
   "execution_count": 43,
   "id": "4b187254-fccb-486e-bdf4-e0582e9cb3e0",
   "metadata": {},
   "outputs": [
    {
     "data": {
      "image/png": "[encoded data removed]",
      "text/plain": [
       "<Figure size 864x576 with 1 Axes>"
      ]
     },
     "metadata": {
      "needs_background": "light"
     },
     "output_type": "display_data"
    }
   ],
   "source": [
    "graph_model_loss('MFCC w/o Patient Information', sequential_MFCC_with_patient_history)"
   ]
  },
  {
   "cell_type": "code",
   "execution_count": 44,
   "id": "469ec051-9bb7-47ef-b6ff-81fd85137291",
   "metadata": {},
   "outputs": [
    {
     "name": "stdout",
     "output_type": "stream",
     "text": [
      "INFO:tensorflow:Assets written to: /Users/jmd/Documents/BOOTCAMP/Capstone/neural_nets/sequential_MFCC_with_patient/assets\n"
     ]
    }
   ],
   "source": [
    "#saving model\n",
    "sequential_MFCC_with_patient.save('/Users/jmd/Documents/BOOTCAMP/Capstone/neural_nets/sequential_MFCC_with_patient', overwrite=True)"
   ]
  },
  {
   "cell_type": "markdown",
   "id": "56cb5530-f2d6-41a4-a2bb-81f9c6c83398",
   "metadata": {},
   "source": [
    "---"
   ]
  },
  {
   "cell_type": "markdown",
   "id": "b3966017-5a55-4f22-8280-351e0675b378",
   "metadata": {},
   "source": [
    "### CNN w/o Patient Info"
   ]
  },
  {
   "cell_type": "code",
   "execution_count": 45,
   "id": "407c31ef-c27c-48b4-b3c2-50486707b68b",
   "metadata": {},
   "outputs": [],
   "source": [
    "X = np.load('/Users/jmd/Documents/BOOTCAMP/Capstone/arrays/MFCCs_noPatient.npy', allow_pickle=True)\n",
    "y = np.load('/Users/jmd/Documents/BOOTCAMP/Capstone/arrays/target_array.npy', allow_pickle=True)"
   ]
  },
  {
   "cell_type": "code",
   "execution_count": 46,
   "id": "fb48edd6-c670-4b1e-ab72-7034b15a83e1",
   "metadata": {},
   "outputs": [],
   "source": [
    "X = X.reshape(X.shape[0], X.shape[1], X.shape[2], 1)"
   ]
  },
  {
   "cell_type": "code",
   "execution_count": 47,
   "id": "ceb2bbd3-51c6-46b1-90bb-aeed66b79f5b",
   "metadata": {},
   "outputs": [],
   "source": [
    "X_train, X_test, y_train, y_test = train_test_split(X, y, stratify=y, test_size = 0.3)\n",
    "X_train, X_val, y_train, y_val = train_test_split(X_train, y_train, stratify=y_train, test_size=0.3)"
   ]
  },
  {
   "cell_type": "code",
   "execution_count": 51,
   "id": "35a33c5c-d6a5-430a-ab5c-121dd29c3a75",
   "metadata": {},
   "outputs": [],
   "source": [
    "CNN_MFCC_no_patient_tuner = kt.BayesianOptimization(\n",
    "    hypermodel=build_CNN_model,\n",
    "    objective=\"val_loss\",\n",
    "    max_trials=250,\n",
    "    seed=42,\n",
    "    overwrite=True,\n",
    "    directory='/Users/jmd/Documents/BOOTCAMP/Capstone/kerastune_searches',\n",
    "    project_name='CNN_MFCC_no_patient'\n",
    ")"
   ]
  },
  {
   "cell_type": "code",
   "execution_count": 49,
   "id": "3527603f-3d1d-4cca-9f8e-80e8b6913131",
   "metadata": {},
   "outputs": [],
   "source": [
    "es_callback = keras.callbacks.EarlyStopping(monitor='val_loss', patience=10)"
   ]
  },
  {
   "cell_type": "code",
   "execution_count": 50,
   "id": "d1ad1e41-1c46-4b1a-aed9-5a2d031c16dd",
   "metadata": {
    "scrolled": true,
    "tags": []
   },
   "outputs": [
    {
     "name": "stdout",
     "output_type": "stream",
     "text": [
      "Trial 123 Complete [00h 03m 15s]\n",
      "val_loss: 0.4082942008972168\n",
      "\n",
      "Best val_loss So Far: 0.39008629322052\n",
      "Total elapsed time: 10h 13m 11s\n",
      "\n",
      "Search: Running Trial #124\n",
      "\n",
      "Hyperparameter    |Value             |Best Value So Far \n",
      "conv_layers       |2                 |3                 \n",
      "filters0          |32                |48                \n",
      "conv_dropout0     |True              |True              \n",
      "dense_layers      |1                 |1                 \n",
      "units0            |256               |256               \n",
      "dropout0          |True              |True              \n",
      "normalization0    |True              |True              \n",
      "starting_learni...|0.01              |0.01              \n",
      "filters1          |32                |32                \n",
      "conv_dropout1     |True              |True              \n",
      "units1            |256               |256               \n",
      "dropout1          |False             |False             \n",
      "normalization1    |False             |False             \n",
      "units2            |256               |256               \n",
      "dropout2          |True              |True              \n",
      "normalization2    |True              |False             \n",
      "filters2          |128               |128               \n",
      "conv_dropout2     |False             |True              \n",
      "\n",
      "Epoch 1/100\n",
      "46/46 [==============================] - 5s 94ms/step - loss: 0.6481 - binary_accuracy: 0.6834 - val_loss: 0.8790 - val_binary_accuracy: 0.7959\n",
      "Epoch 2/100\n",
      "46/46 [==============================] - 4s 98ms/step - loss: 0.5021 - binary_accuracy: 0.7810 - val_loss: 0.6491 - val_binary_accuracy: 0.7959\n",
      "Epoch 3/100\n",
      "46/46 [==============================] - 4s 98ms/step - loss: 0.4567 - binary_accuracy: 0.8257 - val_loss: 0.6426 - val_binary_accuracy: 0.7959\n",
      "Epoch 4/100\n",
      "46/46 [==============================] - 5s 102ms/step - loss: 0.4194 - binary_accuracy: 0.8426 - val_loss: 0.5832 - val_binary_accuracy: 0.7959\n",
      "Epoch 5/100\n",
      "46/46 [==============================] - 4s 98ms/step - loss: 0.4276 - binary_accuracy: 0.8272 - val_loss: 0.5358 - val_binary_accuracy: 0.7959\n",
      "Epoch 6/100\n",
      "46/46 [==============================] - 5s 100ms/step - loss: 0.4046 - binary_accuracy: 0.8400 - val_loss: 0.4823 - val_binary_accuracy: 0.8006\n",
      "Epoch 7/100\n",
      "46/46 [==============================] - 4s 97ms/step - loss: 0.4368 - binary_accuracy: 0.8225 - val_loss: 0.4550 - val_binary_accuracy: 0.8054\n",
      "Epoch 8/100\n",
      "46/46 [==============================] - 4s 98ms/step - loss: 0.4194 - binary_accuracy: 0.8095 - val_loss: 0.4664 - val_binary_accuracy: 0.8038\n",
      "Epoch 9/100\n",
      "46/46 [==============================] - 4s 96ms/step - loss: 0.4091 - binary_accuracy: 0.8342 - val_loss: 0.4300 - val_binary_accuracy: 0.8101\n",
      "Epoch 10/100\n",
      "46/46 [==============================] - 4s 96ms/step - loss: 0.4039 - binary_accuracy: 0.8366 - val_loss: 0.4178 - val_binary_accuracy: 0.8165\n",
      "Epoch 11/100\n",
      "46/46 [==============================] - 4s 98ms/step - loss: 0.4072 - binary_accuracy: 0.8308 - val_loss: 0.4124 - val_binary_accuracy: 0.8228\n",
      "Epoch 12/100\n",
      "46/46 [==============================] - 4s 97ms/step - loss: 0.3816 - binary_accuracy: 0.8487 - val_loss: 0.4120 - val_binary_accuracy: 0.8228\n",
      "Epoch 13/100\n",
      "46/46 [==============================] - 5s 98ms/step - loss: 0.3662 - binary_accuracy: 0.8438 - val_loss: 0.4281 - val_binary_accuracy: 0.8165\n",
      "Epoch 14/100\n",
      "46/46 [==============================] - 4s 96ms/step - loss: 0.3465 - binary_accuracy: 0.8504 - val_loss: 0.4006 - val_binary_accuracy: 0.8339\n",
      "Epoch 15/100\n",
      "46/46 [==============================] - 4s 97ms/step - loss: 0.3611 - binary_accuracy: 0.8440 - val_loss: 0.4015 - val_binary_accuracy: 0.8339\n",
      "Epoch 16/100\n",
      "33/46 [====================>.........] - ETA: 1s - loss: 0.3491 - binary_accuracy: 0.8459"
     ]
    },
    {
     "ename": "KeyboardInterrupt",
     "evalue": "",
     "output_type": "error",
     "traceback": [
      "\u001b[0;31m---------------------------------------------------------------------------\u001b[0m",
      "\u001b[0;31mKeyboardInterrupt\u001b[0m                         Traceback (most recent call last)",
      "Input \u001b[0;32mIn [50]\u001b[0m, in \u001b[0;36m<cell line: 1>\u001b[0;34m()\u001b[0m\n\u001b[0;32m----> 1\u001b[0m \u001b[43mCNN_MFCC_no_patient_tuner\u001b[49m\u001b[38;5;241;43m.\u001b[39;49m\u001b[43msearch\u001b[49m\u001b[43m(\u001b[49m\u001b[43mX_train\u001b[49m\u001b[43m,\u001b[49m\u001b[43m \u001b[49m\u001b[43my_train\u001b[49m\u001b[43m,\u001b[49m\u001b[43m \u001b[49m\u001b[43mepochs\u001b[49m\u001b[38;5;241;43m=\u001b[39;49m\u001b[38;5;241;43m100\u001b[39;49m\u001b[43m,\u001b[49m\u001b[43m \u001b[49m\u001b[43mvalidation_data\u001b[49m\u001b[38;5;241;43m=\u001b[39;49m\u001b[43m(\u001b[49m\u001b[43mX_val\u001b[49m\u001b[43m,\u001b[49m\u001b[43my_val\u001b[49m\u001b[43m)\u001b[49m\u001b[43m,\u001b[49m\u001b[43m \u001b[49m\u001b[43mcallbacks\u001b[49m\u001b[38;5;241;43m=\u001b[39;49m\u001b[43m[\u001b[49m\u001b[43mes_callback\u001b[49m\u001b[43m]\u001b[49m\u001b[43m)\u001b[49m\n",
      "File \u001b[0;32m/opt/anaconda3/envs/capstone/lib/python3.8/site-packages/keras_tuner/engine/base_tuner.py:179\u001b[0m, in \u001b[0;36mBaseTuner.search\u001b[0;34m(self, *fit_args, **fit_kwargs)\u001b[0m\n\u001b[1;32m    176\u001b[0m     \u001b[38;5;28;01mcontinue\u001b[39;00m\n\u001b[1;32m    178\u001b[0m \u001b[38;5;28mself\u001b[39m\u001b[38;5;241m.\u001b[39mon_trial_begin(trial)\n\u001b[0;32m--> 179\u001b[0m results \u001b[38;5;241m=\u001b[39m \u001b[38;5;28;43mself\u001b[39;49m\u001b[38;5;241;43m.\u001b[39;49m\u001b[43mrun_trial\u001b[49m\u001b[43m(\u001b[49m\u001b[43mtrial\u001b[49m\u001b[43m,\u001b[49m\u001b[43m \u001b[49m\u001b[38;5;241;43m*\u001b[39;49m\u001b[43mfit_args\u001b[49m\u001b[43m,\u001b[49m\u001b[43m \u001b[49m\u001b[38;5;241;43m*\u001b[39;49m\u001b[38;5;241;43m*\u001b[39;49m\u001b[43mfit_kwargs\u001b[49m\u001b[43m)\u001b[49m\n\u001b[1;32m    180\u001b[0m \u001b[38;5;66;03m# `results` is None indicates user updated oracle in `run_trial()`.\u001b[39;00m\n\u001b[1;32m    181\u001b[0m \u001b[38;5;28;01mif\u001b[39;00m results \u001b[38;5;129;01mis\u001b[39;00m \u001b[38;5;28;01mNone\u001b[39;00m:\n",
      "File \u001b[0;32m/opt/anaconda3/envs/capstone/lib/python3.8/site-packages/keras_tuner/engine/tuner.py:304\u001b[0m, in \u001b[0;36mTuner.run_trial\u001b[0;34m(self, trial, *args, **kwargs)\u001b[0m\n\u001b[1;32m    302\u001b[0m callbacks\u001b[38;5;241m.\u001b[39mappend(model_checkpoint)\n\u001b[1;32m    303\u001b[0m copied_kwargs[\u001b[38;5;124m\"\u001b[39m\u001b[38;5;124mcallbacks\u001b[39m\u001b[38;5;124m\"\u001b[39m] \u001b[38;5;241m=\u001b[39m callbacks\n\u001b[0;32m--> 304\u001b[0m obj_value \u001b[38;5;241m=\u001b[39m \u001b[38;5;28;43mself\u001b[39;49m\u001b[38;5;241;43m.\u001b[39;49m\u001b[43m_build_and_fit_model\u001b[49m\u001b[43m(\u001b[49m\u001b[43mtrial\u001b[49m\u001b[43m,\u001b[49m\u001b[43m \u001b[49m\u001b[38;5;241;43m*\u001b[39;49m\u001b[43margs\u001b[49m\u001b[43m,\u001b[49m\u001b[43m \u001b[49m\u001b[38;5;241;43m*\u001b[39;49m\u001b[38;5;241;43m*\u001b[39;49m\u001b[43mcopied_kwargs\u001b[49m\u001b[43m)\u001b[49m\n\u001b[1;32m    306\u001b[0m \u001b[38;5;66;03m# objective left unspecified,\u001b[39;00m\n\u001b[1;32m    307\u001b[0m \u001b[38;5;66;03m# and objective value is not a single float.\u001b[39;00m\n\u001b[1;32m    308\u001b[0m \u001b[38;5;28;01mif\u001b[39;00m (\n\u001b[1;32m    309\u001b[0m     \u001b[38;5;129;01mnot\u001b[39;00m \u001b[38;5;28misinstance\u001b[39m(obj_value, (\u001b[38;5;28mint\u001b[39m, \u001b[38;5;28mfloat\u001b[39m))\n\u001b[1;32m    310\u001b[0m     \u001b[38;5;129;01mand\u001b[39;00m \u001b[38;5;28mself\u001b[39m\u001b[38;5;241m.\u001b[39moracle\u001b[38;5;241m.\u001b[39mobjective\u001b[38;5;241m.\u001b[39mname \u001b[38;5;241m==\u001b[39m \u001b[38;5;124m\"\u001b[39m\u001b[38;5;124mdefault_objective\u001b[39m\u001b[38;5;124m\"\u001b[39m\n\u001b[1;32m    311\u001b[0m ):\n",
      "File \u001b[0;32m/opt/anaconda3/envs/capstone/lib/python3.8/site-packages/keras_tuner/engine/tuner.py:234\u001b[0m, in \u001b[0;36mTuner._build_and_fit_model\u001b[0;34m(self, trial, *args, **kwargs)\u001b[0m\n\u001b[1;32m    232\u001b[0m hp \u001b[38;5;241m=\u001b[39m trial\u001b[38;5;241m.\u001b[39mhyperparameters\n\u001b[1;32m    233\u001b[0m model \u001b[38;5;241m=\u001b[39m \u001b[38;5;28mself\u001b[39m\u001b[38;5;241m.\u001b[39m_try_build(hp)\n\u001b[0;32m--> 234\u001b[0m \u001b[38;5;28;01mreturn\u001b[39;00m \u001b[38;5;28;43mself\u001b[39;49m\u001b[38;5;241;43m.\u001b[39;49m\u001b[43mhypermodel\u001b[49m\u001b[38;5;241;43m.\u001b[39;49m\u001b[43mfit\u001b[49m\u001b[43m(\u001b[49m\u001b[43mhp\u001b[49m\u001b[43m,\u001b[49m\u001b[43m \u001b[49m\u001b[43mmodel\u001b[49m\u001b[43m,\u001b[49m\u001b[43m \u001b[49m\u001b[38;5;241;43m*\u001b[39;49m\u001b[43margs\u001b[49m\u001b[43m,\u001b[49m\u001b[43m \u001b[49m\u001b[38;5;241;43m*\u001b[39;49m\u001b[38;5;241;43m*\u001b[39;49m\u001b[43mkwargs\u001b[49m\u001b[43m)\u001b[49m\n",
      "File \u001b[0;32m/opt/anaconda3/envs/capstone/lib/python3.8/site-packages/keras_tuner/engine/hypermodel.py:137\u001b[0m, in \u001b[0;36mHyperModel.fit\u001b[0;34m(self, hp, model, *args, **kwargs)\u001b[0m\n\u001b[1;32m    113\u001b[0m \u001b[38;5;28;01mdef\u001b[39;00m \u001b[38;5;21mfit\u001b[39m(\u001b[38;5;28mself\u001b[39m, hp, model, \u001b[38;5;241m*\u001b[39margs, \u001b[38;5;241m*\u001b[39m\u001b[38;5;241m*\u001b[39mkwargs):\n\u001b[1;32m    114\u001b[0m     \u001b[38;5;124;03m\"\"\"Train the model.\u001b[39;00m\n\u001b[1;32m    115\u001b[0m \n\u001b[1;32m    116\u001b[0m \u001b[38;5;124;03m    Args:\u001b[39;00m\n\u001b[0;32m   (...)\u001b[0m\n\u001b[1;32m    135\u001b[0m \u001b[38;5;124;03m        If return a float, it should be the `objective` value.\u001b[39;00m\n\u001b[1;32m    136\u001b[0m \u001b[38;5;124;03m    \"\"\"\u001b[39;00m\n\u001b[0;32m--> 137\u001b[0m     \u001b[38;5;28;01mreturn\u001b[39;00m \u001b[43mmodel\u001b[49m\u001b[38;5;241;43m.\u001b[39;49m\u001b[43mfit\u001b[49m\u001b[43m(\u001b[49m\u001b[38;5;241;43m*\u001b[39;49m\u001b[43margs\u001b[49m\u001b[43m,\u001b[49m\u001b[43m \u001b[49m\u001b[38;5;241;43m*\u001b[39;49m\u001b[38;5;241;43m*\u001b[39;49m\u001b[43mkwargs\u001b[49m\u001b[43m)\u001b[49m\n",
      "File \u001b[0;32m/opt/anaconda3/envs/capstone/lib/python3.8/site-packages/tensorflow/python/keras/engine/training.py:1100\u001b[0m, in \u001b[0;36mModel.fit\u001b[0;34m(self, x, y, batch_size, epochs, verbose, callbacks, validation_split, validation_data, shuffle, class_weight, sample_weight, initial_epoch, steps_per_epoch, validation_steps, validation_batch_size, validation_freq, max_queue_size, workers, use_multiprocessing)\u001b[0m\n\u001b[1;32m   1093\u001b[0m \u001b[38;5;28;01mwith\u001b[39;00m trace\u001b[38;5;241m.\u001b[39mTrace(\n\u001b[1;32m   1094\u001b[0m     \u001b[38;5;124m'\u001b[39m\u001b[38;5;124mtrain\u001b[39m\u001b[38;5;124m'\u001b[39m,\n\u001b[1;32m   1095\u001b[0m     epoch_num\u001b[38;5;241m=\u001b[39mepoch,\n\u001b[1;32m   1096\u001b[0m     step_num\u001b[38;5;241m=\u001b[39mstep,\n\u001b[1;32m   1097\u001b[0m     batch_size\u001b[38;5;241m=\u001b[39mbatch_size,\n\u001b[1;32m   1098\u001b[0m     _r\u001b[38;5;241m=\u001b[39m\u001b[38;5;241m1\u001b[39m):\n\u001b[1;32m   1099\u001b[0m   callbacks\u001b[38;5;241m.\u001b[39mon_train_batch_begin(step)\n\u001b[0;32m-> 1100\u001b[0m   tmp_logs \u001b[38;5;241m=\u001b[39m \u001b[38;5;28;43mself\u001b[39;49m\u001b[38;5;241;43m.\u001b[39;49m\u001b[43mtrain_function\u001b[49m\u001b[43m(\u001b[49m\u001b[43miterator\u001b[49m\u001b[43m)\u001b[49m\n\u001b[1;32m   1101\u001b[0m   \u001b[38;5;28;01mif\u001b[39;00m data_handler\u001b[38;5;241m.\u001b[39mshould_sync:\n\u001b[1;32m   1102\u001b[0m     context\u001b[38;5;241m.\u001b[39masync_wait()\n",
      "File \u001b[0;32m/opt/anaconda3/envs/capstone/lib/python3.8/site-packages/tensorflow/python/eager/def_function.py:828\u001b[0m, in \u001b[0;36mFunction.__call__\u001b[0;34m(self, *args, **kwds)\u001b[0m\n\u001b[1;32m    826\u001b[0m tracing_count \u001b[38;5;241m=\u001b[39m \u001b[38;5;28mself\u001b[39m\u001b[38;5;241m.\u001b[39mexperimental_get_tracing_count()\n\u001b[1;32m    827\u001b[0m \u001b[38;5;28;01mwith\u001b[39;00m trace\u001b[38;5;241m.\u001b[39mTrace(\u001b[38;5;28mself\u001b[39m\u001b[38;5;241m.\u001b[39m_name) \u001b[38;5;28;01mas\u001b[39;00m tm:\n\u001b[0;32m--> 828\u001b[0m   result \u001b[38;5;241m=\u001b[39m \u001b[38;5;28;43mself\u001b[39;49m\u001b[38;5;241;43m.\u001b[39;49m\u001b[43m_call\u001b[49m\u001b[43m(\u001b[49m\u001b[38;5;241;43m*\u001b[39;49m\u001b[43margs\u001b[49m\u001b[43m,\u001b[49m\u001b[43m \u001b[49m\u001b[38;5;241;43m*\u001b[39;49m\u001b[38;5;241;43m*\u001b[39;49m\u001b[43mkwds\u001b[49m\u001b[43m)\u001b[49m\n\u001b[1;32m    829\u001b[0m   compiler \u001b[38;5;241m=\u001b[39m \u001b[38;5;124m\"\u001b[39m\u001b[38;5;124mxla\u001b[39m\u001b[38;5;124m\"\u001b[39m \u001b[38;5;28;01mif\u001b[39;00m \u001b[38;5;28mself\u001b[39m\u001b[38;5;241m.\u001b[39m_experimental_compile \u001b[38;5;28;01melse\u001b[39;00m \u001b[38;5;124m\"\u001b[39m\u001b[38;5;124mnonXla\u001b[39m\u001b[38;5;124m\"\u001b[39m\n\u001b[1;32m    830\u001b[0m   new_tracing_count \u001b[38;5;241m=\u001b[39m \u001b[38;5;28mself\u001b[39m\u001b[38;5;241m.\u001b[39mexperimental_get_tracing_count()\n",
      "File \u001b[0;32m/opt/anaconda3/envs/capstone/lib/python3.8/site-packages/tensorflow/python/eager/def_function.py:855\u001b[0m, in \u001b[0;36mFunction._call\u001b[0;34m(self, *args, **kwds)\u001b[0m\n\u001b[1;32m    852\u001b[0m   \u001b[38;5;28mself\u001b[39m\u001b[38;5;241m.\u001b[39m_lock\u001b[38;5;241m.\u001b[39mrelease()\n\u001b[1;32m    853\u001b[0m   \u001b[38;5;66;03m# In this case we have created variables on the first call, so we run the\u001b[39;00m\n\u001b[1;32m    854\u001b[0m   \u001b[38;5;66;03m# defunned version which is guaranteed to never create variables.\u001b[39;00m\n\u001b[0;32m--> 855\u001b[0m   \u001b[38;5;28;01mreturn\u001b[39;00m \u001b[38;5;28;43mself\u001b[39;49m\u001b[38;5;241;43m.\u001b[39;49m\u001b[43m_stateless_fn\u001b[49m\u001b[43m(\u001b[49m\u001b[38;5;241;43m*\u001b[39;49m\u001b[43margs\u001b[49m\u001b[43m,\u001b[49m\u001b[43m \u001b[49m\u001b[38;5;241;43m*\u001b[39;49m\u001b[38;5;241;43m*\u001b[39;49m\u001b[43mkwds\u001b[49m\u001b[43m)\u001b[49m  \u001b[38;5;66;03m# pylint: disable=not-callable\u001b[39;00m\n\u001b[1;32m    856\u001b[0m \u001b[38;5;28;01melif\u001b[39;00m \u001b[38;5;28mself\u001b[39m\u001b[38;5;241m.\u001b[39m_stateful_fn \u001b[38;5;129;01mis\u001b[39;00m \u001b[38;5;129;01mnot\u001b[39;00m \u001b[38;5;28;01mNone\u001b[39;00m:\n\u001b[1;32m    857\u001b[0m   \u001b[38;5;66;03m# Release the lock early so that multiple threads can perform the call\u001b[39;00m\n\u001b[1;32m    858\u001b[0m   \u001b[38;5;66;03m# in parallel.\u001b[39;00m\n\u001b[1;32m    859\u001b[0m   \u001b[38;5;28mself\u001b[39m\u001b[38;5;241m.\u001b[39m_lock\u001b[38;5;241m.\u001b[39mrelease()\n",
      "File \u001b[0;32m/opt/anaconda3/envs/capstone/lib/python3.8/site-packages/tensorflow/python/eager/function.py:2942\u001b[0m, in \u001b[0;36mFunction.__call__\u001b[0;34m(self, *args, **kwargs)\u001b[0m\n\u001b[1;32m   2939\u001b[0m \u001b[38;5;28;01mwith\u001b[39;00m \u001b[38;5;28mself\u001b[39m\u001b[38;5;241m.\u001b[39m_lock:\n\u001b[1;32m   2940\u001b[0m   (graph_function,\n\u001b[1;32m   2941\u001b[0m    filtered_flat_args) \u001b[38;5;241m=\u001b[39m \u001b[38;5;28mself\u001b[39m\u001b[38;5;241m.\u001b[39m_maybe_define_function(args, kwargs)\n\u001b[0;32m-> 2942\u001b[0m \u001b[38;5;28;01mreturn\u001b[39;00m \u001b[43mgraph_function\u001b[49m\u001b[38;5;241;43m.\u001b[39;49m\u001b[43m_call_flat\u001b[49m\u001b[43m(\u001b[49m\n\u001b[1;32m   2943\u001b[0m \u001b[43m    \u001b[49m\u001b[43mfiltered_flat_args\u001b[49m\u001b[43m,\u001b[49m\u001b[43m \u001b[49m\u001b[43mcaptured_inputs\u001b[49m\u001b[38;5;241;43m=\u001b[39;49m\u001b[43mgraph_function\u001b[49m\u001b[38;5;241;43m.\u001b[39;49m\u001b[43mcaptured_inputs\u001b[49m\u001b[43m)\u001b[49m\n",
      "File \u001b[0;32m/opt/anaconda3/envs/capstone/lib/python3.8/site-packages/tensorflow/python/eager/function.py:1918\u001b[0m, in \u001b[0;36mConcreteFunction._call_flat\u001b[0;34m(self, args, captured_inputs, cancellation_manager)\u001b[0m\n\u001b[1;32m   1914\u001b[0m possible_gradient_type \u001b[38;5;241m=\u001b[39m gradients_util\u001b[38;5;241m.\u001b[39mPossibleTapeGradientTypes(args)\n\u001b[1;32m   1915\u001b[0m \u001b[38;5;28;01mif\u001b[39;00m (possible_gradient_type \u001b[38;5;241m==\u001b[39m gradients_util\u001b[38;5;241m.\u001b[39mPOSSIBLE_GRADIENT_TYPES_NONE\n\u001b[1;32m   1916\u001b[0m     \u001b[38;5;129;01mand\u001b[39;00m executing_eagerly):\n\u001b[1;32m   1917\u001b[0m   \u001b[38;5;66;03m# No tape is watching; skip to running the function.\u001b[39;00m\n\u001b[0;32m-> 1918\u001b[0m   \u001b[38;5;28;01mreturn\u001b[39;00m \u001b[38;5;28mself\u001b[39m\u001b[38;5;241m.\u001b[39m_build_call_outputs(\u001b[38;5;28;43mself\u001b[39;49m\u001b[38;5;241;43m.\u001b[39;49m\u001b[43m_inference_function\u001b[49m\u001b[38;5;241;43m.\u001b[39;49m\u001b[43mcall\u001b[49m\u001b[43m(\u001b[49m\n\u001b[1;32m   1919\u001b[0m \u001b[43m      \u001b[49m\u001b[43mctx\u001b[49m\u001b[43m,\u001b[49m\u001b[43m \u001b[49m\u001b[43margs\u001b[49m\u001b[43m,\u001b[49m\u001b[43m \u001b[49m\u001b[43mcancellation_manager\u001b[49m\u001b[38;5;241;43m=\u001b[39;49m\u001b[43mcancellation_manager\u001b[49m\u001b[43m)\u001b[49m)\n\u001b[1;32m   1920\u001b[0m forward_backward \u001b[38;5;241m=\u001b[39m \u001b[38;5;28mself\u001b[39m\u001b[38;5;241m.\u001b[39m_select_forward_and_backward_functions(\n\u001b[1;32m   1921\u001b[0m     args,\n\u001b[1;32m   1922\u001b[0m     possible_gradient_type,\n\u001b[1;32m   1923\u001b[0m     executing_eagerly)\n\u001b[1;32m   1924\u001b[0m forward_function, args_with_tangents \u001b[38;5;241m=\u001b[39m forward_backward\u001b[38;5;241m.\u001b[39mforward()\n",
      "File \u001b[0;32m/opt/anaconda3/envs/capstone/lib/python3.8/site-packages/tensorflow/python/eager/function.py:555\u001b[0m, in \u001b[0;36m_EagerDefinedFunction.call\u001b[0;34m(self, ctx, args, cancellation_manager)\u001b[0m\n\u001b[1;32m    553\u001b[0m \u001b[38;5;28;01mwith\u001b[39;00m _InterpolateFunctionError(\u001b[38;5;28mself\u001b[39m):\n\u001b[1;32m    554\u001b[0m   \u001b[38;5;28;01mif\u001b[39;00m cancellation_manager \u001b[38;5;129;01mis\u001b[39;00m \u001b[38;5;28;01mNone\u001b[39;00m:\n\u001b[0;32m--> 555\u001b[0m     outputs \u001b[38;5;241m=\u001b[39m \u001b[43mexecute\u001b[49m\u001b[38;5;241;43m.\u001b[39;49m\u001b[43mexecute\u001b[49m\u001b[43m(\u001b[49m\n\u001b[1;32m    556\u001b[0m \u001b[43m        \u001b[49m\u001b[38;5;28;43mstr\u001b[39;49m\u001b[43m(\u001b[49m\u001b[38;5;28;43mself\u001b[39;49m\u001b[38;5;241;43m.\u001b[39;49m\u001b[43msignature\u001b[49m\u001b[38;5;241;43m.\u001b[39;49m\u001b[43mname\u001b[49m\u001b[43m)\u001b[49m\u001b[43m,\u001b[49m\n\u001b[1;32m    557\u001b[0m \u001b[43m        \u001b[49m\u001b[43mnum_outputs\u001b[49m\u001b[38;5;241;43m=\u001b[39;49m\u001b[38;5;28;43mself\u001b[39;49m\u001b[38;5;241;43m.\u001b[39;49m\u001b[43m_num_outputs\u001b[49m\u001b[43m,\u001b[49m\n\u001b[1;32m    558\u001b[0m \u001b[43m        \u001b[49m\u001b[43minputs\u001b[49m\u001b[38;5;241;43m=\u001b[39;49m\u001b[43margs\u001b[49m\u001b[43m,\u001b[49m\n\u001b[1;32m    559\u001b[0m \u001b[43m        \u001b[49m\u001b[43mattrs\u001b[49m\u001b[38;5;241;43m=\u001b[39;49m\u001b[43mattrs\u001b[49m\u001b[43m,\u001b[49m\n\u001b[1;32m    560\u001b[0m \u001b[43m        \u001b[49m\u001b[43mctx\u001b[49m\u001b[38;5;241;43m=\u001b[39;49m\u001b[43mctx\u001b[49m\u001b[43m)\u001b[49m\n\u001b[1;32m    561\u001b[0m   \u001b[38;5;28;01melse\u001b[39;00m:\n\u001b[1;32m    562\u001b[0m     outputs \u001b[38;5;241m=\u001b[39m execute\u001b[38;5;241m.\u001b[39mexecute_with_cancellation(\n\u001b[1;32m    563\u001b[0m         \u001b[38;5;28mstr\u001b[39m(\u001b[38;5;28mself\u001b[39m\u001b[38;5;241m.\u001b[39msignature\u001b[38;5;241m.\u001b[39mname),\n\u001b[1;32m    564\u001b[0m         num_outputs\u001b[38;5;241m=\u001b[39m\u001b[38;5;28mself\u001b[39m\u001b[38;5;241m.\u001b[39m_num_outputs,\n\u001b[0;32m   (...)\u001b[0m\n\u001b[1;32m    567\u001b[0m         ctx\u001b[38;5;241m=\u001b[39mctx,\n\u001b[1;32m    568\u001b[0m         cancellation_manager\u001b[38;5;241m=\u001b[39mcancellation_manager)\n",
      "File \u001b[0;32m/opt/anaconda3/envs/capstone/lib/python3.8/site-packages/tensorflow/python/eager/execute.py:59\u001b[0m, in \u001b[0;36mquick_execute\u001b[0;34m(op_name, num_outputs, inputs, attrs, ctx, name)\u001b[0m\n\u001b[1;32m     57\u001b[0m \u001b[38;5;28;01mtry\u001b[39;00m:\n\u001b[1;32m     58\u001b[0m   ctx\u001b[38;5;241m.\u001b[39mensure_initialized()\n\u001b[0;32m---> 59\u001b[0m   tensors \u001b[38;5;241m=\u001b[39m \u001b[43mpywrap_tfe\u001b[49m\u001b[38;5;241;43m.\u001b[39;49m\u001b[43mTFE_Py_Execute\u001b[49m\u001b[43m(\u001b[49m\u001b[43mctx\u001b[49m\u001b[38;5;241;43m.\u001b[39;49m\u001b[43m_handle\u001b[49m\u001b[43m,\u001b[49m\u001b[43m \u001b[49m\u001b[43mdevice_name\u001b[49m\u001b[43m,\u001b[49m\u001b[43m \u001b[49m\u001b[43mop_name\u001b[49m\u001b[43m,\u001b[49m\n\u001b[1;32m     60\u001b[0m \u001b[43m                                      \u001b[49m\u001b[43minputs\u001b[49m\u001b[43m,\u001b[49m\u001b[43m \u001b[49m\u001b[43mattrs\u001b[49m\u001b[43m,\u001b[49m\u001b[43m \u001b[49m\u001b[43mnum_outputs\u001b[49m\u001b[43m)\u001b[49m\n\u001b[1;32m     61\u001b[0m \u001b[38;5;28;01mexcept\u001b[39;00m core\u001b[38;5;241m.\u001b[39m_NotOkStatusException \u001b[38;5;28;01mas\u001b[39;00m e:\n\u001b[1;32m     62\u001b[0m   \u001b[38;5;28;01mif\u001b[39;00m name \u001b[38;5;129;01mis\u001b[39;00m \u001b[38;5;129;01mnot\u001b[39;00m \u001b[38;5;28;01mNone\u001b[39;00m:\n",
      "\u001b[0;31mKeyboardInterrupt\u001b[0m: "
     ]
    }
   ],
   "source": [
    "CNN_MFCC_no_patient_tuner.search(X_train, y_train, epochs=100, validation_data=(X_val,y_val), callbacks=[es_callback])"
   ]
  },
  {
   "cell_type": "markdown",
   "id": "c45cd7ed-6a2a-4d3b-93c3-e81d4a9adc1e",
   "metadata": {},
   "source": [
    "Unfortunately, I had to terminate this search after 124 trials due to time constraints, as by that point it had run for 10h and was only halfway done. I instantiated the best result below. For the remaining models"
   ]
  },
  {
   "cell_type": "code",
   "execution_count": 53,
   "id": "8ba78164-4562-4a90-a73a-985d0a0a8b87",
   "metadata": {
    "scrolled": true,
    "tags": []
   },
   "outputs": [
    {
     "ename": "IndexError",
     "evalue": "list index out of range",
     "output_type": "error",
     "traceback": [
      "\u001b[0;31m---------------------------------------------------------------------------\u001b[0m",
      "\u001b[0;31mIndexError\u001b[0m                                Traceback (most recent call last)",
      "Input \u001b[0;32mIn [53]\u001b[0m, in \u001b[0;36m<cell line: 5>\u001b[0;34m()\u001b[0m\n\u001b[1;32m      3\u001b[0m best_hps \u001b[38;5;241m=\u001b[39m CNN_MFCC_no_patient_tuner\u001b[38;5;241m.\u001b[39mget_best_hyperparameters()\n\u001b[1;32m      4\u001b[0m \u001b[38;5;66;03m# Build the model with the best hp.\u001b[39;00m\n\u001b[0;32m----> 5\u001b[0m CNN_MFCC_no_patient \u001b[38;5;241m=\u001b[39m build_CNN_model(\u001b[43mbest_hps\u001b[49m\u001b[43m[\u001b[49m\u001b[38;5;241;43m0\u001b[39;49m\u001b[43m]\u001b[49m)\n\u001b[1;32m      7\u001b[0m CNN_MFCC_no_patient_history \u001b[38;5;241m=\u001b[39m CNN_MFCC_no_patient\u001b[38;5;241m.\u001b[39mfit(X_train, y_train, epochs\u001b[38;5;241m=\u001b[39m\u001b[38;5;241m1000\u001b[39m, validation_data\u001b[38;5;241m=\u001b[39m(X_val,y_val), callbacks\u001b[38;5;241m=\u001b[39m[es_callback])\n",
      "\u001b[0;31mIndexError\u001b[0m: list index out of range"
     ]
    }
   ],
   "source": [
    "es_callback = keras.callbacks.EarlyStopping(monitor='val_loss', patience=10)\n",
    "# Get the best hyperparameters.\n",
    "best_hps = CNN_MFCC_no_patient_tuner.get_best_hyperparameters()\n",
    "# Build the model with the best hp.\n",
    "CNN_MFCC_no_patient = build_CNN_model(best_hps[0])\n",
    "\n",
    "CNN_MFCC_no_patient_history = CNN_MFCC_no_patient.fit(X_train, y_train, epochs=1000, validation_data=(X_val,y_val), callbacks=[es_callback])"
   ]
  },
  {
   "cell_type": "code",
   "execution_count": null,
   "id": "4cb71c13-0666-478a-b8a9-798832fd1c93",
   "metadata": {},
   "outputs": [],
   "source": [
    "CNN_MFCC_no_patient.summary()"
   ]
  },
  {
   "cell_type": "code",
   "execution_count": null,
   "id": "35b69007-795f-46b7-8583-7df4ed8d89a2",
   "metadata": {},
   "outputs": [],
   "source": [
    "evaluate_model(CNN_MFCC_no_patient, CNN_MFCC_no_patient_history)"
   ]
  },
  {
   "cell_type": "code",
   "execution_count": null,
   "id": "5ef9c9b0-50eb-4e2e-8091-0bcfbbcba2ee",
   "metadata": {},
   "outputs": [],
   "source": [
    "graph_model_loss('CNN MFCC w/o Patient Information', CNN_MFCC_no_patient_history)"
   ]
  },
  {
   "cell_type": "code",
   "execution_count": null,
   "id": "852e92d5-f9c4-4720-b36f-9029061dca4b",
   "metadata": {},
   "outputs": [],
   "source": [
    "#saving model\n",
    "CNN_MFCC_no_patient_tuner.save('/Users/jmd/Documents/BOOTCAMP/Capstone/neural_nets/CNN_MFCC_no_patient_tuner', overwrite=True)"
   ]
  },
  {
   "cell_type": "markdown",
   "id": "21eb8763-bf3d-4f86-b207-e9d36ddc7a51",
   "metadata": {},
   "source": [
    "### CNN w/ Patient Info"
   ]
  },
  {
   "cell_type": "code",
   "execution_count": null,
   "id": "cf5c2653-acf1-45d0-a23e-d2a941157c05",
   "metadata": {},
   "outputs": [],
   "source": [
    "X = np.load('/Users/jmd/Documents/BOOTCAMP/Capstone/arrays/MFCCs_withPatient.npy', allow_pickle=True)\n",
    "y = np.load('/Users/jmd/Documents/BOOTCAMP/Capstone/arrays/target_array.npy', allow_pickle=True)"
   ]
  },
  {
   "cell_type": "code",
   "execution_count": null,
   "id": "ab9bf3a9-3684-466d-adc1-2f5c1f062790",
   "metadata": {},
   "outputs": [],
   "source": [
    "X = X.reshape(X.shape[0], X.shape[1], X.shape[2], 1)"
   ]
  },
  {
   "cell_type": "code",
   "execution_count": null,
   "id": "eab7d522-ae9f-46a9-8ad5-cba99e47f489",
   "metadata": {},
   "outputs": [],
   "source": [
    "X_train, X_test, y_train, y_test = train_test_split(X, y, stratify=y, test_size = 0.3)\n",
    "X_train, X_val, y_train, y_val = train_test_split(X_train, y_train, stratify=y_train, test_size=0.3)"
   ]
  },
  {
   "cell_type": "code",
   "execution_count": null,
   "id": "63e7cb6e-45c6-4889-a3c7-fd7f430a7463",
   "metadata": {},
   "outputs": [],
   "source": [
    "CNN_MFCC_with_patient_tuner = kt.BayesianOptimization(\n",
    "    hypermodel=build_CNN_model,\n",
    "    objective=\"val_loss\",\n",
    "    max_trials=50,\n",
    "    seed=42,\n",
    "    overwrite=True,\n",
    "    directory='/Users/jmd/Documents/BOOTCAMP/Capstone/kerastune_searches',\n",
    "    project_name='CNN_MFCC_no_patient'\n",
    ")"
   ]
  },
  {
   "cell_type": "code",
   "execution_count": null,
   "id": "4eff939d-fafa-4ef0-9fe6-e4a01d018e3d",
   "metadata": {
    "scrolled": true,
    "tags": []
   },
   "outputs": [],
   "source": [
    "es_callback = keras.callbacks.EarlyStopping(monitor='val_loss', patience=10)\n",
    "CNN_MFCC_with_patient_tuner.search(X_train, y_train, epochs=100, validation_data=(X_val,y_val), callbacks=[es_callback])"
   ]
  },
  {
   "cell_type": "code",
   "execution_count": null,
   "id": "7c2d2218-fef6-41e4-81c5-4c070e50d86b",
   "metadata": {
    "scrolled": true,
    "tags": []
   },
   "outputs": [],
   "source": [
    "CNN_MFCC_with_patient_tuner.results_summary(num_trials=1)"
   ]
  },
  {
   "cell_type": "code",
   "execution_count": null,
   "id": "16086210-3c73-4bd0-9914-c2da2a185a21",
   "metadata": {
    "scrolled": true,
    "tags": []
   },
   "outputs": [],
   "source": [
    "es_callback = keras.callbacks.EarlyStopping(monitor='val_loss', patience=10)\n",
    "# Get the best hyperparameters.\n",
    "best_hps = CNN_MFCC_with_patient_tuner.get_best_hyperparameters()\n",
    "# Build the model with the best hp.\n",
    "CNN_MFCC_with_patient = build_CNN_model(best_hps[0])\n",
    "\n",
    "CNN_MFCC_with_patient_history = CNN_MFCC_with_patient.fit(X_train, y_train, epochs=1000, validation_data=(X_val,y_val), callbacks=[es_callback])"
   ]
  },
  {
   "cell_type": "code",
   "execution_count": null,
   "id": "8072f6ee-da05-435a-8d85-fd130b2989ee",
   "metadata": {},
   "outputs": [],
   "source": [
    "CNN_MFCC_with_patient.summary()"
   ]
  },
  {
   "cell_type": "code",
   "execution_count": null,
   "id": "8551045d-625d-4190-934b-5520a468f8d4",
   "metadata": {},
   "outputs": [],
   "source": [
    "evaluate_model(CNN_MFCC_with_patient, CNN_MFCC_with_patient_history)"
   ]
  },
  {
   "cell_type": "code",
   "execution_count": null,
   "id": "3e952418-01d6-4e8e-a0a1-b0cc885b90fb",
   "metadata": {},
   "outputs": [],
   "source": [
    "graph_model_loss('CNN MFCC w/ Patient Information', CNN_MFCC_with_patient_history)"
   ]
  },
  {
   "cell_type": "code",
   "execution_count": null,
   "id": "40b6e774-4ed4-4dec-9bc7-ca8d6a357d18",
   "metadata": {},
   "outputs": [],
   "source": [
    "#saving model\n",
    "CNN_MFCC_no_patient_tuner.save('/Users/jmd/Documents/BOOTCAMP/Capstone/neural_nets/CNN_MFCC_no_patient_tuner', overwrite=True)"
   ]
  },
  {
   "cell_type": "markdown",
   "id": "f81a678c-28ed-4c28-a89a-087ce31f4911",
   "metadata": {},
   "source": [
    "## Framework"
   ]
  },
  {
   "cell_type": "markdown",
   "id": "991a7d4f-334c-4d59-a508-f973e5d66398",
   "metadata": {},
   "source": [
    "How to Approach the Problem:\n",
    "- Current plan:\n",
    "    - Intend to initially fit an RNN to the raw, unpadded signal data and see how it fares. \n",
    "    - Also fit a CNN to the MFCC data and see how that fares\n",
    "    - Stack the outputs of those two with a third CNN that incorporates the patient information provided in the annotations.\n",
    "    \n",
    "- Questions:\n",
    "    - Does this plan make sense?\n",
    "    - How should I go about optimizing my parameters & deciding on network architecture?\n",
    "    - "
   ]
  },
  {
   "cell_type": "code",
   "execution_count": null,
   "id": "dbe780c9-7376-4527-a39c-d3fcc4f73f1e",
   "metadata": {},
   "outputs": [],
   "source": [
    "# use glob to extract files. "
   ]
  },
  {
   "cell_type": "markdown",
   "id": "9948ec37-188b-4517-9269-cb3d0009afbb",
   "metadata": {},
   "source": [
    "- do LTSM\n",
    "- 1D CNN \n",
    "\n",
    "\n",
    "- Trim sampling rate to 25% of what it is now."
   ]
  },
  {
   "cell_type": "markdown",
   "id": "0a17b860-22e8-4f23-8ce8-bc9a78b770cb",
   "metadata": {},
   "source": [
    "RNN approach, concatenate patient information into a 1D vector to feed into the model"
   ]
  },
  {
   "cell_type": "markdown",
   "id": "9fd6b67a-684d-4de7-a077-c90258f852df",
   "metadata": {},
   "source": [
    "Look into an ensemble/aggregation model. "
   ]
  },
  {
   "cell_type": "markdown",
   "id": "571ec269-646a-49b6-a94a-508293e05a59",
   "metadata": {},
   "source": [
    "Can incorporate patient info into CNN as well, just need to pad the vector"
   ]
  },
  {
   "cell_type": "markdown",
   "id": "07d4ba38-bc99-41d2-8b90-5e4937238320",
   "metadata": {},
   "source": [
    "Look into training accelerometer data on LTSMs. "
   ]
  },
  {
   "cell_type": "markdown",
   "id": "9862d579-7513-41e4-abb9-94fc2c4048a5",
   "metadata": {},
   "source": [
    "Look into varying model hyperparameters based on frequency of the data."
   ]
  },
  {
   "cell_type": "markdown",
   "id": "c58bc140-3c6b-4531-a391-e01ecbe2eba9",
   "metadata": {},
   "source": [
    "Look into example architectures for CNN that are used on MFCCs"
   ]
  },
  {
   "cell_type": "markdown",
   "id": "85dc28a8-bba7-4301-b012-83f5b40b9d2a",
   "metadata": {},
   "source": [
    "make sure to train a dumb feed forward model"
   ]
  },
  {
   "cell_type": "markdown",
   "id": "6875a0b4-bd38-4ecc-af0f-f18ef89700ae",
   "metadata": {},
   "source": [
    "Try 1024 for an input layer. "
   ]
  },
  {
   "cell_type": "markdown",
   "id": "b1e9a1d0-4b1e-4053-b82c-ac256170e850",
   "metadata": {},
   "source": [
    "1. Train a simple feed forward on the padded and transformed data. \n",
    "- MFCC data with patient demo info into feed forward. \n",
    "2. RNN, with patient info\n",
    "- First train without, then train with. \n",
    "3. CNN on MFCCs with patient info. \n",
    "- First train out, then train with. "
   ]
  }
 ],
 "metadata": {
  "kernelspec": {
   "display_name": "capstone",
   "language": "python",
   "name": "capstone"
  },
  "language_info": {
   "codemirror_mode": {
    "name": "ipython",
    "version": 3
   },
   "file_extension": ".py",
   "mimetype": "text/x-python",
   "name": "python",
   "nbconvert_exporter": "python",
   "pygments_lexer": "ipython3",
   "version": "3.8.12"
  },
  "toc-autonumbering": false,
  "toc-showmarkdowntxt": false
 },
 "nbformat": 4,
 "nbformat_minor": 5
}
