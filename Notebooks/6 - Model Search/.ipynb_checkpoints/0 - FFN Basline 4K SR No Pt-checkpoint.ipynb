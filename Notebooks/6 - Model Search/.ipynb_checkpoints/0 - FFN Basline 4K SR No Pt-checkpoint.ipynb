{
 "cells": [
  {
   "cell_type": "markdown",
   "id": "490a64b3-ef71-4463-bb99-3903b5782fd0",
   "metadata": {
    "id": "490a64b3-ef71-4463-bb99-3903b5782fd0"
   },
   "source": [
    "# Basic ML: Phonocardiograms"
   ]
  },
  {
   "cell_type": "markdown",
   "id": "fa1bcf3d-b7a4-46e4-89b0-c3073d6a5e10",
   "metadata": {
    "id": "fa1bcf3d-b7a4-46e4-89b0-c3073d6a5e10"
   },
   "source": [
    "Author: Jake Dumbauld <br>\n",
    "Contact: jacobmilodumbauld@gmail.com<br>\n",
    "Date: 3.15.22"
   ]
  },
  {
   "cell_type": "markdown",
   "id": "732046ce-784f-4bba-a5cb-86d8061788b4",
   "metadata": {
    "id": "732046ce-784f-4bba-a5cb-86d8061788b4"
   },
   "source": [
    "## Introduction: Background & Plotting the Course (again...)"
   ]
  },
  {
   "cell_type": "markdown",
   "id": "d0a36175-ad38-4dbd-9619-2f542e56b01f",
   "metadata": {
    "id": "d89607f6-34a3-4ae5-a3f0-26bfb7ff67a4"
   },
   "source": [
    "### Background:"
   ]
  },
  {
   "cell_type": "markdown",
   "id": "9d4ad7f6-4859-4ca0-b8db-51ec859f2c26",
   "metadata": {
    "id": "d89607f6-34a3-4ae5-a3f0-26bfb7ff67a4"
   },
   "source": [
    "Initially, when I reached this phase I started out by just instantiating, training, and evaluating keras models without much rhyme or reason. I spent far more time doing this than I'd like to admit, but at some point I became frustrated with the fact that the approach didn't feel scientific. I couldn't find relationships between model architecture and performance, and was generally getting nowhere. I reassessed my approach and decided there were n problems I needed to solve:\n",
    "- I had **no idea** of how to decide on an architecture. I had some basic understanding of the relationship between the number of nodes, number of layers, and the subsequent complexity of the models, as well as how likely that made them to overfit. But my understanding was vauge, and not useful for making decisions.\n",
    "- I was in an environment with unconstrained randomness. I recognized that without setting seeds my results would not be reproducible.\n",
    "- As a result of the former, I wouldn't be able to draw any meaningful conclusions without constraining this randomness.\n",
    "\n",
    "I set about trying to solve these problems by reading online resources (huge shoutout to Jason Brownlee's website, [Machine Learning Mastery](https://machinelearningmastery.com/), massive help) and in this process I stumbled into kerastune which solved my first major problem.</br></br>\n",
    "\n",
    "In the process of stumbling around in the dark instantiating and testing models without a system, I had discovered some ranges and some parameters that worked. Kerastune allowed me to search the space of those parameters to converge on the best solution. In reading about kerastune, I learned that by setting a few seeds (again thank you Jason Brownlee) I could constrain the randomness of my search and yield reporoducible results. Problem two solved.</br></br>\n",
    "\n",
    "Now that I had a plan for how to find the best models, I needed to figure out how to evaluate them. But, I'll save that for the intro to `7 - Comparing and Evaluating Networks`. "
   ]
  },
  {
   "cell_type": "markdown",
   "id": "195ba1db-023a-4b86-a93d-7c9052d2bd02",
   "metadata": {},
   "source": [
    "### Plotting the Course"
   ]
  },
  {
   "cell_type": "markdown",
   "id": "d759e95b-079a-4b97-b1af-3228870a1fab",
   "metadata": {},
   "source": [
    "With kerastune, I knew that I wanted to create models for the data that I had set up in notebook 5. I decided on training the following models.\n",
    "- A simple, sequential model on the 4k sr signal data without patient information\n",
    "- A simple, sequential model on the 1k sr signal data without patient information\n",
    "- A simple, sequential model on the 1k sr signal data with patient information\n",
    "- A simple, sequential model on the MFCC data without patient information\n",
    "- A simple, sequential model on the MFCC data with patient information\n",
    "- A convolutional neural network on the MFCC data without patient information\n",
    "- A convolutional neural network on the MFCC data with patient information\n",
    "- A recurrent neural network on the 1k signal data without patient information\n",
    "- A recurrent neural network on the 1k signal data with patient information\n",
    "</br></br>\n",
    "I posited that by building this set of models in a space with constrained randomness (same seeds) it would allow me to draw some meaningful conclusions about the use of patient information in different modelling approaches. So, each of the following 9 notebooks in this directory utilize the exact same approach. I split it in to 9 notebooks so that they could be run in parallel, some on Google Collab and some on my local machine, as this was NOT a fast process."
   ]
  },
  {
   "cell_type": "markdown",
   "id": "8632aee3-b257-4d30-9be6-13034a9a4c96",
   "metadata": {
    "id": "8632aee3-b257-4d30-9be6-13034a9a4c96"
   },
   "source": [
    "## Imports"
   ]
  },
  {
   "cell_type": "code",
   "execution_count": 1,
   "id": "8a727db3-572e-4988-abac-7e33c5d7dec7",
   "metadata": {
    "colab": {
     "base_uri": "https://localhost:8080/"
    },
    "executionInfo": {
     "elapsed": 19437,
     "status": "ok",
     "timestamp": 1648838434372,
     "user": {
      "displayName": "Jake",
      "userId": "18385482828738288081"
     },
     "user_tz": 240
    },
    "id": "8a727db3-572e-4988-abac-7e33c5d7dec7",
    "outputId": "e954955b-6da4-47ed-a79b-c09c8bbeb466"
   },
   "outputs": [
    {
     "name": "stdout",
     "output_type": "stream",
     "text": [
      "\u001b[K     |████████████████████████████████| 133 kB 4.0 MB/s eta 0:00:01\n",
      "\u001b[?25h"
     ]
    }
   ],
   "source": [
    "#imports\n",
    "\n",
    "import numpy as np\n",
    "import pandas as pd\n",
    "import matplotlib.pyplot as plt\n",
    "\n",
    "import time\n",
    "import re\n",
    "\n",
    "from sklearn.model_selection import train_test_split\n",
    "\n",
    "import tensorflow as tf\n",
    "from tensorflow import keras\n",
    "from tensorflow.keras.models import Sequential\n",
    "from tensorflow.keras.layers import Flatten, Dense, Dropout, BatchNormalization\n",
    "from tensorflow.keras import regularizers\n",
    "!pip install -q -U keras-tuner\n",
    "import keras_tuner as kt"
   ]
  },
  {
   "cell_type": "markdown",
   "id": "2998aa87-b46d-462e-a21c-8b504d8a5475",
   "metadata": {
    "id": "2998aa87-b46d-462e-a21c-8b504d8a5475"
   },
   "source": [
    "From the Keras FAQ: https://keras.io/getting_started/faq/#how-can-i-obtain-reproducible-results-using-keras-during-development\n",
    "- Trying to obtain reproducible results. Best I can tell scikitlearn also uses np.random() seed"
   ]
  },
  {
   "cell_type": "code",
   "execution_count": 2,
   "id": "a45eb872-5513-4fa6-8b3e-0865547a7576",
   "metadata": {
    "colab": {
     "base_uri": "https://localhost:8080/"
    },
    "executionInfo": {
     "elapsed": 396,
     "status": "ok",
     "timestamp": 1648838434758,
     "user": {
      "displayName": "Jake",
      "userId": "18385482828738288081"
     },
     "user_tz": 240
    },
    "id": "a45eb872-5513-4fa6-8b3e-0865547a7576",
    "outputId": "b01f2036-15a6-488f-a59f-039376b509a0"
   },
   "outputs": [
    {
     "name": "stdout",
     "output_type": "stream",
     "text": [
      "env: PYTHONHASHSEED=0\n",
      "env: CUDA_VISIBLE_DEVICES=\"\"\n"
     ]
    }
   ],
   "source": [
    "import random as python_random\n",
    "\n",
    "np.random.seed(42)\n",
    "\n",
    "# The below is necessary for starting core Python generated random numbers in a well-defined state.\n",
    "python_random.seed(42)\n",
    "\n",
    "# The below set_seed() will make random number generation\n",
    "# in the TensorFlow backend have a well-defined initial state.\n",
    "# For further details, see:\n",
    "# https://www.tensorflow.org/api_docs/python/tf/random/set_seed\n",
    "tf.random.set_seed(42)\n",
    "\n",
    "#not sure if the below are necessary - leaving in to perhaps un-comment later.\n",
    "%env PYTHONHASHSEED=0\n",
    "%env CUDA_VISIBLE_DEVICES=\"\""
   ]
  },
  {
   "cell_type": "markdown",
   "id": "bf5d8060-d35b-4417-8f60-5b2ddc2ad5ed",
   "metadata": {
    "id": "bf5d8060-d35b-4417-8f60-5b2ddc2ad5ed"
   },
   "source": [
    "## Helper Functions"
   ]
  },
  {
   "cell_type": "markdown",
   "id": "b86a6cd7-6e72-477b-9a3b-973e0b4dd3de",
   "metadata": {
    "id": "b86a6cd7-6e72-477b-9a3b-973e0b4dd3de"
   },
   "source": [
    "Defining a Helper Function for Plotting Model Loss"
   ]
  },
  {
   "cell_type": "code",
   "execution_count": 3,
   "id": "1afc21c1-5768-44c9-b66c-f790ad9b75a1",
   "metadata": {
    "executionInfo": {
     "elapsed": 4,
     "status": "ok",
     "timestamp": 1648838434758,
     "user": {
      "displayName": "Jake",
      "userId": "18385482828738288081"
     },
     "user_tz": 240
    },
    "id": "1afc21c1-5768-44c9-b66c-f790ad9b75a1",
    "tags": []
   },
   "outputs": [],
   "source": [
    "def graph_model_loss(title, history):\n",
    "    \"\"\"\n",
    "    Description:\n",
    "    Graphs training vs validation loss over epochs for a given model. \n",
    "    \n",
    "    History: tensorflow.python.keras.callbacks.History object\n",
    "    Title: str\n",
    "    \"\"\" \n",
    "    plt.figure(figsize=(12,8))\n",
    "    plt.plot(history.history['loss'])\n",
    "    plt.plot(history.history['val_loss'])\n",
    "    plt.title(title,size=24)\n",
    "    plt.ylabel('Loss',size=16)\n",
    "    plt.xlabel('Epoch',size=16)\n",
    "    plt.legend(['Train', 'Validation'])\n",
    "    plt.show()"
   ]
  },
  {
   "cell_type": "markdown",
   "id": "a770d168-3410-496a-a700-1f6c1fdf63ec",
   "metadata": {
    "id": "a770d168-3410-496a-a700-1f6c1fdf63ec"
   },
   "source": [
    "Defining a helper function to evaluate train & test accuracies"
   ]
  },
  {
   "cell_type": "code",
   "execution_count": 4,
   "id": "73bfce1c-1dd5-4fb7-8651-a493eb647fc8",
   "metadata": {
    "executionInfo": {
     "elapsed": 4,
     "status": "ok",
     "timestamp": 1648838434759,
     "user": {
      "displayName": "Jake",
      "userId": "18385482828738288081"
     },
     "user_tz": 240
    },
    "id": "73bfce1c-1dd5-4fb7-8651-a493eb647fc8"
   },
   "outputs": [],
   "source": [
    "def evaluate_model(model, history):\n",
    "    \"\"\"\n",
    "    Description:\n",
    "    Outputs model train & test accuracies for currently defined train and test set variables.\n",
    "    \n",
    "    model: tensorflow model,\n",
    "    history: tensorflow.python.keras.callbacks.History object\n",
    "    \"\"\"\n",
    "    # Evaluate the network\n",
    "    train_accuracy = history.history[\"binary_accuracy\"][-1]\n",
    "    result = model.evaluate(X_test,y_test, verbose=1)\n",
    "\n",
    "    print(f\"Train Accuracy: {np.round(train_accuracy, 6)*100}%\")\n",
    "    print(f\"Test Accuracy: {np.round(result[1], 6)*100}%\")"
   ]
  },
  {
   "cell_type": "markdown",
   "id": "2aeb5e82-e625-44bc-a919-102c6ef88e1d",
   "metadata": {
    "id": "2aeb5e82-e625-44bc-a919-102c6ef88e1d"
   },
   "source": [
    "## Defining A Search Space"
   ]
  },
  {
   "cell_type": "code",
   "execution_count": 5,
   "id": "f03fbaa0-df53-490f-aa5e-1c372242bdc0",
   "metadata": {
    "colab": {
     "base_uri": "https://localhost:8080/"
    },
    "executionInfo": {
     "elapsed": 268,
     "status": "ok",
     "timestamp": 1648838435023,
     "user": {
      "displayName": "Jake",
      "userId": "18385482828738288081"
     },
     "user_tz": 240
    },
    "id": "f03fbaa0-df53-490f-aa5e-1c372242bdc0",
    "outputId": "328d07cb-bfaf-4413-e2a8-4784e2eab9f0"
   },
   "outputs": [
    {
     "data": {
      "text/plain": [
       "<keras.engine.sequential.Sequential at 0x7f45cd03a5d0>"
      ]
     },
     "execution_count": 5,
     "metadata": {},
     "output_type": "execute_result"
    }
   ],
   "source": [
    "def build_model(hp):\n",
    "    model = keras.Sequential()\n",
    "    #flattening input\n",
    "    model.add(Flatten())\n",
    "    \n",
    "    for i in range(hp.Int('layers', 2, 4)):\n",
    "        model.add(\n",
    "            Dense(\n",
    "            #Tuning the number of units in my input layer.\n",
    "            units=hp.Int(\"units\" + str(i), min_value=32, max_value=1024, step=64),\n",
    "            kernel_regularizer=regularizers.l2(0.001),\n",
    "            activation=\"relu\"\n",
    "            )\n",
    "        )\n",
    "        #Tuning whether or not to use dropout.\n",
    "        if hp.Boolean(\"dropout\" + str(i)):\n",
    "            model.add(Dropout(rate=0.25))\n",
    "\n",
    "        #Adding batch normalization\n",
    "        if hp.Boolean(\"normalization\" + str(i)):\n",
    "            model.add(BatchNormalization())\n",
    "\n",
    "    #output layer\n",
    "    model.add(Dense(1, activation=\"sigmoid\"))\n",
    "    \n",
    "    #defining learning rate\n",
    "    lr_schedule = keras.optimizers.schedules.InverseTimeDecay(\n",
    "                      #tuning initial learning rate\n",
    "                      initial_learning_rate=hp.Float(\"starting_learning_rate\", min_value=1e-4, max_value=1e-2, sampling=\"log\"),\n",
    "                      decay_steps=1.0,\n",
    "                      decay_rate=0.1\n",
    "                  )\n",
    "    model.compile(\n",
    "        #Optimizer\n",
    "        optimizer = keras.optimizers.Adam(learning_rate=lr_schedule),\n",
    "        #Loss\n",
    "        loss=keras.losses.BinaryCrossentropy(),\n",
    "        #Metrics\n",
    "        metrics=[keras.metrics.BinaryAccuracy()]\n",
    "    )\n",
    "    return model\n",
    "\n",
    "build_model(kt.HyperParameters())"
   ]
  },
  {
   "cell_type": "markdown",
   "id": "42ba3608-a70b-4491-a3cc-1268e387bedd",
   "metadata": {
    "id": "42ba3608-a70b-4491-a3cc-1268e387bedd"
   },
   "source": [
    "### Raw Signal Data"
   ]
  },
  {
   "cell_type": "code",
   "execution_count": 6,
   "id": "rL_xt1WI-Diu",
   "metadata": {
    "colab": {
     "base_uri": "https://localhost:8080/"
    },
    "executionInfo": {
     "elapsed": 16903,
     "status": "ok",
     "timestamp": 1648838451923,
     "user": {
      "displayName": "Jake",
      "userId": "18385482828738288081"
     },
     "user_tz": 240
    },
    "id": "rL_xt1WI-Diu",
    "outputId": "f5b30909-c354-4298-cbcb-6432955796be"
   },
   "outputs": [
    {
     "name": "stdout",
     "output_type": "stream",
     "text": [
      "Mounted at /content/drive\n"
     ]
    }
   ],
   "source": [
    "from google.colab import drive\n",
    "drive.mount('/content/drive')"
   ]
  },
  {
   "cell_type": "code",
   "execution_count": 7,
   "id": "37ad96ac-603a-4973-9643-310efa70af1d",
   "metadata": {
    "executionInfo": {
     "elapsed": 14796,
     "status": "ok",
     "timestamp": 1648838466715,
     "user": {
      "displayName": "Jake",
      "userId": "18385482828738288081"
     },
     "user_tz": 240
    },
    "id": "37ad96ac-603a-4973-9643-310efa70af1d"
   },
   "outputs": [],
   "source": [
    "raw = np.load('/content/drive/My Drive/Colab Notebooks/Capstone/arrays/signal_murmur_presimple_4k.npy', allow_pickle=True)"
   ]
  },
  {
   "cell_type": "code",
   "execution_count": 8,
   "id": "3e774fae-a8e5-4f4a-866b-5ac310c22a7c",
   "metadata": {
    "executionInfo": {
     "elapsed": 22,
     "status": "ok",
     "timestamp": 1648838466716,
     "user": {
      "displayName": "Jake",
      "userId": "18385482828738288081"
     },
     "user_tz": 240
    },
    "id": "3e774fae-a8e5-4f4a-866b-5ac310c22a7c"
   },
   "outputs": [],
   "source": [
    "y = raw[:,0] #murmurs are just the first column\n",
    "X = raw[:,1:]"
   ]
  },
  {
   "cell_type": "code",
   "execution_count": 9,
   "id": "8700e168-ed96-4c3b-bce5-ad781e8bed79",
   "metadata": {
    "executionInfo": {
     "elapsed": 3456,
     "status": "ok",
     "timestamp": 1648838470152,
     "user": {
      "displayName": "Jake",
      "userId": "18385482828738288081"
     },
     "user_tz": 240
    },
    "id": "8700e168-ed96-4c3b-bce5-ad781e8bed79"
   },
   "outputs": [],
   "source": [
    "#train test split\n",
    "X_train, X_test, y_train, y_test = train_test_split(X, y, stratify=y, test_size = 0.3)"
   ]
  },
  {
   "cell_type": "code",
   "execution_count": 10,
   "id": "1697a7ed-74dd-4d27-8403-5f461b1146b5",
   "metadata": {
    "executionInfo": {
     "elapsed": 617,
     "status": "ok",
     "timestamp": 1648838470767,
     "user": {
      "displayName": "Jake",
      "userId": "18385482828738288081"
     },
     "user_tz": 240
    },
    "id": "1697a7ed-74dd-4d27-8403-5f461b1146b5"
   },
   "outputs": [],
   "source": [
    "X_train, X_val, y_train, y_val = train_test_split(X_train, y_train, stratify=y_train, test_size=0.3)"
   ]
  },
  {
   "cell_type": "code",
   "execution_count": 11,
   "id": "7602ac8b-cd2d-4d11-969b-46916e737aab",
   "metadata": {
    "executionInfo": {
     "elapsed": 2,
     "status": "ok",
     "timestamp": 1648838470768,
     "user": {
      "displayName": "Jake",
      "userId": "18385482828738288081"
     },
     "user_tz": 240
    },
    "id": "7602ac8b-cd2d-4d11-969b-46916e737aab"
   },
   "outputs": [],
   "source": [
    "es_callback = keras.callbacks.EarlyStopping(monitor='val_loss', patience=5)"
   ]
  },
  {
   "cell_type": "code",
   "execution_count": 12,
   "id": "17dd3178-8891-4061-b60c-e0125b8cbd29",
   "metadata": {
    "colab": {
     "base_uri": "https://localhost:8080/"
    },
    "executionInfo": {
     "elapsed": 9471364,
     "status": "ok",
     "timestamp": 1648847942130,
     "user": {
      "displayName": "Jake",
      "userId": "18385482828738288081"
     },
     "user_tz": 240
    },
    "id": "17dd3178-8891-4061-b60c-e0125b8cbd29",
    "outputId": "08d85b30-4740-47c4-b652-53f3fe580749",
    "tags": []
   },
   "outputs": [
    {
     "name": "stdout",
     "output_type": "stream",
     "text": [
      "Trial 50 Complete [00h 00m 55s]\n",
      "val_loss: 0.8230718970298767\n",
      "\n",
      "Best val_loss So Far: 0.655856728553772\n",
      "Total elapsed time: 02h 37m 51s\n",
      "INFO:tensorflow:Oracle triggered exit\n"
     ]
    }
   ],
   "source": [
    "tuner = kt.BayesianOptimization(\n",
    "    hypermodel=build_model,\n",
    "    objective=\"val_loss\",\n",
    "    max_trials=50,\n",
    "    seed=42,\n",
    "    overwrite=True,\n",
    "    directory='/content/drive/My Drive/Colab Notebooks/Capstone/kerastune_searches',\n",
    "    project_name='sequential_4k_signal_no_patient'\n",
    ")\n",
    "\n",
    "tuner.search(X_train, y_train, epochs=100, validation_data=(X_val,y_val), callbacks=[es_callback])"
   ]
  },
  {
   "cell_type": "code",
   "execution_count": 13,
   "id": "bb41a387-5e4e-4817-a99e-bb6fc2c10b80",
   "metadata": {
    "colab": {
     "base_uri": "https://localhost:8080/"
    },
    "executionInfo": {
     "elapsed": 6,
     "status": "ok",
     "timestamp": 1648847942131,
     "user": {
      "displayName": "Jake",
      "userId": "18385482828738288081"
     },
     "user_tz": 240
    },
    "id": "bb41a387-5e4e-4817-a99e-bb6fc2c10b80",
    "outputId": "0ba147ec-d342-4f07-bf8d-2fe8ed4528e2",
    "scrolled": true,
    "tags": []
   },
   "outputs": [
    {
     "name": "stdout",
     "output_type": "stream",
     "text": [
      "Results summary\n",
      "Results in /content/drive/My Drive/Colab Notebooks/Capstone/kerastune_searches/sequential_4k_signal_no_patient\n",
      "Showing 1 best trials\n",
      "<keras_tuner.engine.objective.Objective object at 0x7f45c96dc190>\n",
      "Trial summary\n",
      "Hyperparameters:\n",
      "layers: 2\n",
      "units0: 32\n",
      "dropout0: True\n",
      "normalization0: False\n",
      "units1: 32\n",
      "dropout1: False\n",
      "normalization1: False\n",
      "starting_learning_rate: 0.0011433841321939594\n",
      "units2: 32\n",
      "dropout2: False\n",
      "normalization2: False\n",
      "units3: 992\n",
      "dropout3: False\n",
      "normalization3: False\n",
      "Score: 0.655856728553772\n"
     ]
    }
   ],
   "source": [
    "tuner.results_summary(num_trials=1)"
   ]
  },
  {
   "cell_type": "code",
   "execution_count": 14,
   "id": "49d62546-45b2-4191-9d17-119aac952979",
   "metadata": {
    "executionInfo": {
     "elapsed": 4,
     "status": "ok",
     "timestamp": 1648847942131,
     "user": {
      "displayName": "Jake",
      "userId": "18385482828738288081"
     },
     "user_tz": 240
    },
    "id": "49d62546-45b2-4191-9d17-119aac952979"
   },
   "outputs": [],
   "source": [
    "es_callback = keras.callbacks.EarlyStopping(monitor='val_loss', patience=10)"
   ]
  },
  {
   "cell_type": "code",
   "execution_count": 15,
   "id": "3512ba1c-d65d-4148-99d2-80bbc0320d45",
   "metadata": {
    "colab": {
     "base_uri": "https://localhost:8080/"
    },
    "executionInfo": {
     "elapsed": 176208,
     "status": "ok",
     "timestamp": 1648848118530,
     "user": {
      "displayName": "Jake",
      "userId": "18385482828738288081"
     },
     "user_tz": 240
    },
    "id": "3512ba1c-d65d-4148-99d2-80bbc0320d45",
    "outputId": "6f87d5a6-6755-4e31-fde1-3a97d97255c6",
    "scrolled": true,
    "tags": []
   },
   "outputs": [
    {
     "name": "stdout",
     "output_type": "stream",
     "text": [
      "Epoch 1/100\n",
      "46/46 [==============================] - 2s 38ms/step - loss: 0.7655 - binary_accuracy: 0.7452 - val_loss: 0.7494 - val_binary_accuracy: 0.7880\n",
      "Epoch 2/100\n",
      "46/46 [==============================] - 1s 31ms/step - loss: 0.6313 - binary_accuracy: 0.8424 - val_loss: 0.7319 - val_binary_accuracy: 0.7959\n",
      "Epoch 3/100\n",
      "46/46 [==============================] - 1s 29ms/step - loss: 0.5731 - binary_accuracy: 0.8668 - val_loss: 0.7210 - val_binary_accuracy: 0.7959\n",
      "Epoch 4/100\n",
      "46/46 [==============================] - 1s 30ms/step - loss: 0.5376 - binary_accuracy: 0.8811 - val_loss: 0.7134 - val_binary_accuracy: 0.7943\n",
      "Epoch 5/100\n",
      "46/46 [==============================] - 1s 32ms/step - loss: 0.5131 - binary_accuracy: 0.8920 - val_loss: 0.7076 - val_binary_accuracy: 0.7943\n",
      "Epoch 6/100\n",
      "46/46 [==============================] - 1s 32ms/step - loss: 0.4918 - binary_accuracy: 0.8974 - val_loss: 0.7028 - val_binary_accuracy: 0.7943\n",
      "Epoch 7/100\n",
      "46/46 [==============================] - 2s 33ms/step - loss: 0.4736 - binary_accuracy: 0.8995 - val_loss: 0.6991 - val_binary_accuracy: 0.7943\n",
      "Epoch 8/100\n",
      "46/46 [==============================] - 2s 34ms/step - loss: 0.4585 - binary_accuracy: 0.9035 - val_loss: 0.6958 - val_binary_accuracy: 0.7943\n",
      "Epoch 9/100\n",
      "46/46 [==============================] - 1s 32ms/step - loss: 0.4490 - binary_accuracy: 0.9029 - val_loss: 0.6931 - val_binary_accuracy: 0.7927\n",
      "Epoch 10/100\n",
      "46/46 [==============================] - 2s 35ms/step - loss: 0.4383 - binary_accuracy: 0.9096 - val_loss: 0.6906 - val_binary_accuracy: 0.7927\n",
      "Epoch 11/100\n",
      "46/46 [==============================] - 1s 30ms/step - loss: 0.4316 - binary_accuracy: 0.9137 - val_loss: 0.6885 - val_binary_accuracy: 0.7927\n",
      "Epoch 12/100\n",
      "46/46 [==============================] - 1s 30ms/step - loss: 0.4231 - binary_accuracy: 0.9178 - val_loss: 0.6867 - val_binary_accuracy: 0.7927\n",
      "Epoch 13/100\n",
      "46/46 [==============================] - 1s 29ms/step - loss: 0.4124 - binary_accuracy: 0.9185 - val_loss: 0.6850 - val_binary_accuracy: 0.7911\n",
      "Epoch 14/100\n",
      "46/46 [==============================] - 1s 30ms/step - loss: 0.4058 - binary_accuracy: 0.9178 - val_loss: 0.6835 - val_binary_accuracy: 0.7911\n",
      "Epoch 15/100\n",
      "46/46 [==============================] - 1s 31ms/step - loss: 0.4011 - binary_accuracy: 0.9239 - val_loss: 0.6821 - val_binary_accuracy: 0.7911\n",
      "Epoch 16/100\n",
      "46/46 [==============================] - 1s 31ms/step - loss: 0.3962 - binary_accuracy: 0.9266 - val_loss: 0.6809 - val_binary_accuracy: 0.7911\n",
      "Epoch 17/100\n",
      "46/46 [==============================] - 1s 31ms/step - loss: 0.3891 - binary_accuracy: 0.9260 - val_loss: 0.6798 - val_binary_accuracy: 0.7911\n",
      "Epoch 18/100\n",
      "46/46 [==============================] - 1s 32ms/step - loss: 0.3863 - binary_accuracy: 0.9280 - val_loss: 0.6787 - val_binary_accuracy: 0.7927\n",
      "Epoch 19/100\n",
      "46/46 [==============================] - 1s 31ms/step - loss: 0.3809 - binary_accuracy: 0.9287 - val_loss: 0.6777 - val_binary_accuracy: 0.7927\n",
      "Epoch 20/100\n",
      "46/46 [==============================] - 1s 33ms/step - loss: 0.3737 - binary_accuracy: 0.9314 - val_loss: 0.6768 - val_binary_accuracy: 0.7927\n",
      "Epoch 21/100\n",
      "46/46 [==============================] - 1s 32ms/step - loss: 0.3735 - binary_accuracy: 0.9334 - val_loss: 0.6760 - val_binary_accuracy: 0.7943\n",
      "Epoch 22/100\n",
      "46/46 [==============================] - 2s 33ms/step - loss: 0.3680 - binary_accuracy: 0.9429 - val_loss: 0.6753 - val_binary_accuracy: 0.7959\n",
      "Epoch 23/100\n",
      "46/46 [==============================] - 1s 31ms/step - loss: 0.3663 - binary_accuracy: 0.9334 - val_loss: 0.6745 - val_binary_accuracy: 0.7959\n",
      "Epoch 24/100\n",
      "46/46 [==============================] - 2s 34ms/step - loss: 0.3602 - binary_accuracy: 0.9334 - val_loss: 0.6737 - val_binary_accuracy: 0.7959\n",
      "Epoch 25/100\n",
      "46/46 [==============================] - 1s 32ms/step - loss: 0.3548 - binary_accuracy: 0.9355 - val_loss: 0.6731 - val_binary_accuracy: 0.7959\n",
      "Epoch 26/100\n",
      "46/46 [==============================] - 1s 32ms/step - loss: 0.3522 - binary_accuracy: 0.9409 - val_loss: 0.6725 - val_binary_accuracy: 0.7959\n",
      "Epoch 27/100\n",
      "46/46 [==============================] - 1s 31ms/step - loss: 0.3523 - binary_accuracy: 0.9334 - val_loss: 0.6719 - val_binary_accuracy: 0.7959\n",
      "Epoch 28/100\n",
      "46/46 [==============================] - 1s 32ms/step - loss: 0.3470 - binary_accuracy: 0.9375 - val_loss: 0.6713 - val_binary_accuracy: 0.7959\n",
      "Epoch 29/100\n",
      "46/46 [==============================] - 1s 31ms/step - loss: 0.3458 - binary_accuracy: 0.9443 - val_loss: 0.6707 - val_binary_accuracy: 0.7959\n",
      "Epoch 30/100\n",
      "46/46 [==============================] - 1s 31ms/step - loss: 0.3443 - binary_accuracy: 0.9443 - val_loss: 0.6701 - val_binary_accuracy: 0.7959\n",
      "Epoch 31/100\n",
      "46/46 [==============================] - 1s 32ms/step - loss: 0.3394 - binary_accuracy: 0.9470 - val_loss: 0.6697 - val_binary_accuracy: 0.7959\n",
      "Epoch 32/100\n",
      "46/46 [==============================] - 1s 30ms/step - loss: 0.3384 - binary_accuracy: 0.9395 - val_loss: 0.6692 - val_binary_accuracy: 0.7943\n",
      "Epoch 33/100\n",
      "46/46 [==============================] - 1s 30ms/step - loss: 0.3344 - binary_accuracy: 0.9457 - val_loss: 0.6688 - val_binary_accuracy: 0.7943\n",
      "Epoch 34/100\n",
      "46/46 [==============================] - 1s 31ms/step - loss: 0.3316 - binary_accuracy: 0.9484 - val_loss: 0.6684 - val_binary_accuracy: 0.7943\n",
      "Epoch 35/100\n",
      "46/46 [==============================] - 1s 31ms/step - loss: 0.3298 - binary_accuracy: 0.9443 - val_loss: 0.6680 - val_binary_accuracy: 0.7927\n",
      "Epoch 36/100\n",
      "46/46 [==============================] - 1s 32ms/step - loss: 0.3285 - binary_accuracy: 0.9436 - val_loss: 0.6676 - val_binary_accuracy: 0.7943\n",
      "Epoch 37/100\n",
      "46/46 [==============================] - 2s 32ms/step - loss: 0.3271 - binary_accuracy: 0.9484 - val_loss: 0.6673 - val_binary_accuracy: 0.7943\n",
      "Epoch 38/100\n",
      "46/46 [==============================] - 1s 31ms/step - loss: 0.3235 - binary_accuracy: 0.9457 - val_loss: 0.6670 - val_binary_accuracy: 0.7943\n",
      "Epoch 39/100\n",
      "46/46 [==============================] - 1s 31ms/step - loss: 0.3189 - binary_accuracy: 0.9484 - val_loss: 0.6667 - val_binary_accuracy: 0.7943\n",
      "Epoch 40/100\n",
      "46/46 [==============================] - 1s 30ms/step - loss: 0.3225 - binary_accuracy: 0.9429 - val_loss: 0.6663 - val_binary_accuracy: 0.7943\n",
      "Epoch 41/100\n",
      "46/46 [==============================] - 1s 30ms/step - loss: 0.3181 - binary_accuracy: 0.9484 - val_loss: 0.6661 - val_binary_accuracy: 0.7943\n",
      "Epoch 42/100\n",
      "46/46 [==============================] - 1s 30ms/step - loss: 0.3168 - binary_accuracy: 0.9470 - val_loss: 0.6657 - val_binary_accuracy: 0.7943\n",
      "Epoch 43/100\n",
      "46/46 [==============================] - 1s 31ms/step - loss: 0.3164 - binary_accuracy: 0.9477 - val_loss: 0.6655 - val_binary_accuracy: 0.7943\n",
      "Epoch 44/100\n",
      "46/46 [==============================] - 1s 32ms/step - loss: 0.3149 - binary_accuracy: 0.9531 - val_loss: 0.6652 - val_binary_accuracy: 0.7943\n",
      "Epoch 45/100\n",
      "46/46 [==============================] - 1s 31ms/step - loss: 0.3085 - binary_accuracy: 0.9511 - val_loss: 0.6649 - val_binary_accuracy: 0.7943\n",
      "Epoch 46/100\n",
      "46/46 [==============================] - 1s 31ms/step - loss: 0.3096 - binary_accuracy: 0.9484 - val_loss: 0.6647 - val_binary_accuracy: 0.7927\n",
      "Epoch 47/100\n",
      "46/46 [==============================] - 2s 33ms/step - loss: 0.3050 - binary_accuracy: 0.9531 - val_loss: 0.6645 - val_binary_accuracy: 0.7927\n",
      "Epoch 48/100\n",
      "46/46 [==============================] - 1s 32ms/step - loss: 0.3070 - binary_accuracy: 0.9490 - val_loss: 0.6642 - val_binary_accuracy: 0.7927\n",
      "Epoch 49/100\n",
      "46/46 [==============================] - 1s 32ms/step - loss: 0.3036 - binary_accuracy: 0.9504 - val_loss: 0.6640 - val_binary_accuracy: 0.7927\n",
      "Epoch 50/100\n",
      "46/46 [==============================] - 1s 32ms/step - loss: 0.3027 - binary_accuracy: 0.9545 - val_loss: 0.6638 - val_binary_accuracy: 0.7927\n",
      "Epoch 51/100\n",
      "46/46 [==============================] - 1s 32ms/step - loss: 0.3017 - binary_accuracy: 0.9504 - val_loss: 0.6636 - val_binary_accuracy: 0.7927\n",
      "Epoch 52/100\n",
      "46/46 [==============================] - 2s 35ms/step - loss: 0.3038 - binary_accuracy: 0.9497 - val_loss: 0.6634 - val_binary_accuracy: 0.7927\n",
      "Epoch 53/100\n",
      "46/46 [==============================] - 1s 31ms/step - loss: 0.3029 - binary_accuracy: 0.9490 - val_loss: 0.6632 - val_binary_accuracy: 0.7927\n",
      "Epoch 54/100\n",
      "46/46 [==============================] - 2s 33ms/step - loss: 0.3025 - binary_accuracy: 0.9538 - val_loss: 0.6631 - val_binary_accuracy: 0.7927\n",
      "Epoch 55/100\n",
      "46/46 [==============================] - 1s 32ms/step - loss: 0.2990 - binary_accuracy: 0.9524 - val_loss: 0.6629 - val_binary_accuracy: 0.7911\n",
      "Epoch 56/100\n",
      "46/46 [==============================] - 1s 32ms/step - loss: 0.3011 - binary_accuracy: 0.9511 - val_loss: 0.6628 - val_binary_accuracy: 0.7911\n",
      "Epoch 57/100\n",
      "46/46 [==============================] - 1s 32ms/step - loss: 0.2948 - binary_accuracy: 0.9552 - val_loss: 0.6626 - val_binary_accuracy: 0.7911\n",
      "Epoch 58/100\n",
      "46/46 [==============================] - 1s 32ms/step - loss: 0.2960 - binary_accuracy: 0.9538 - val_loss: 0.6625 - val_binary_accuracy: 0.7911\n",
      "Epoch 59/100\n",
      "46/46 [==============================] - 1s 31ms/step - loss: 0.2933 - binary_accuracy: 0.9565 - val_loss: 0.6623 - val_binary_accuracy: 0.7911\n",
      "Epoch 60/100\n",
      "46/46 [==============================] - 2s 33ms/step - loss: 0.2941 - binary_accuracy: 0.9511 - val_loss: 0.6622 - val_binary_accuracy: 0.7911\n",
      "Epoch 61/100\n",
      "46/46 [==============================] - 2s 35ms/step - loss: 0.2900 - binary_accuracy: 0.9579 - val_loss: 0.6621 - val_binary_accuracy: 0.7911\n",
      "Epoch 62/100\n",
      "46/46 [==============================] - 1s 32ms/step - loss: 0.2909 - binary_accuracy: 0.9572 - val_loss: 0.6620 - val_binary_accuracy: 0.7911\n",
      "Epoch 63/100\n",
      "46/46 [==============================] - 2s 33ms/step - loss: 0.2899 - binary_accuracy: 0.9586 - val_loss: 0.6619 - val_binary_accuracy: 0.7911\n",
      "Epoch 64/100\n",
      "46/46 [==============================] - 2s 35ms/step - loss: 0.2844 - binary_accuracy: 0.9613 - val_loss: 0.6618 - val_binary_accuracy: 0.7911\n",
      "Epoch 65/100\n",
      "46/46 [==============================] - 1s 32ms/step - loss: 0.2897 - binary_accuracy: 0.9552 - val_loss: 0.6617 - val_binary_accuracy: 0.7896\n",
      "Epoch 66/100\n",
      "46/46 [==============================] - 1s 30ms/step - loss: 0.2852 - binary_accuracy: 0.9606 - val_loss: 0.6616 - val_binary_accuracy: 0.7896\n",
      "Epoch 67/100\n",
      "46/46 [==============================] - 1s 32ms/step - loss: 0.2852 - binary_accuracy: 0.9599 - val_loss: 0.6615 - val_binary_accuracy: 0.7896\n",
      "Epoch 68/100\n",
      "46/46 [==============================] - 1s 32ms/step - loss: 0.2814 - binary_accuracy: 0.9613 - val_loss: 0.6614 - val_binary_accuracy: 0.7896\n",
      "Epoch 69/100\n",
      "46/46 [==============================] - 1s 33ms/step - loss: 0.2817 - binary_accuracy: 0.9626 - val_loss: 0.6613 - val_binary_accuracy: 0.7896\n",
      "Epoch 70/100\n",
      "46/46 [==============================] - 2s 34ms/step - loss: 0.2868 - binary_accuracy: 0.9531 - val_loss: 0.6613 - val_binary_accuracy: 0.7896\n",
      "Epoch 71/100\n",
      "46/46 [==============================] - 1s 31ms/step - loss: 0.2831 - binary_accuracy: 0.9606 - val_loss: 0.6611 - val_binary_accuracy: 0.7896\n",
      "Epoch 72/100\n",
      "46/46 [==============================] - 1s 31ms/step - loss: 0.2802 - binary_accuracy: 0.9592 - val_loss: 0.6611 - val_binary_accuracy: 0.7896\n",
      "Epoch 73/100\n",
      "46/46 [==============================] - 1s 32ms/step - loss: 0.2846 - binary_accuracy: 0.9538 - val_loss: 0.6610 - val_binary_accuracy: 0.7896\n",
      "Epoch 74/100\n",
      "46/46 [==============================] - 2s 33ms/step - loss: 0.2784 - binary_accuracy: 0.9558 - val_loss: 0.6609 - val_binary_accuracy: 0.7880\n",
      "Epoch 75/100\n",
      "46/46 [==============================] - 1s 31ms/step - loss: 0.2778 - binary_accuracy: 0.9599 - val_loss: 0.6608 - val_binary_accuracy: 0.7880\n",
      "Epoch 76/100\n",
      "46/46 [==============================] - 2s 34ms/step - loss: 0.2805 - binary_accuracy: 0.9613 - val_loss: 0.6607 - val_binary_accuracy: 0.7880\n",
      "Epoch 77/100\n",
      "46/46 [==============================] - 1s 32ms/step - loss: 0.2775 - binary_accuracy: 0.9626 - val_loss: 0.6607 - val_binary_accuracy: 0.7864\n",
      "Epoch 78/100\n",
      "46/46 [==============================] - 1s 32ms/step - loss: 0.2753 - binary_accuracy: 0.9592 - val_loss: 0.6606 - val_binary_accuracy: 0.7864\n",
      "Epoch 79/100\n",
      "46/46 [==============================] - 1s 32ms/step - loss: 0.2741 - binary_accuracy: 0.9592 - val_loss: 0.6605 - val_binary_accuracy: 0.7864\n",
      "Epoch 80/100\n",
      "46/46 [==============================] - 1s 31ms/step - loss: 0.2731 - binary_accuracy: 0.9626 - val_loss: 0.6604 - val_binary_accuracy: 0.7864\n",
      "Epoch 81/100\n",
      "46/46 [==============================] - 1s 31ms/step - loss: 0.2746 - binary_accuracy: 0.9572 - val_loss: 0.6604 - val_binary_accuracy: 0.7864\n",
      "Epoch 82/100\n",
      "46/46 [==============================] - 1s 32ms/step - loss: 0.2728 - binary_accuracy: 0.9613 - val_loss: 0.6603 - val_binary_accuracy: 0.7864\n",
      "Epoch 83/100\n",
      "46/46 [==============================] - 1s 32ms/step - loss: 0.2737 - binary_accuracy: 0.9613 - val_loss: 0.6602 - val_binary_accuracy: 0.7864\n",
      "Epoch 84/100\n",
      "46/46 [==============================] - 1s 32ms/step - loss: 0.2718 - binary_accuracy: 0.9545 - val_loss: 0.6602 - val_binary_accuracy: 0.7864\n",
      "Epoch 85/100\n",
      "46/46 [==============================] - 1s 32ms/step - loss: 0.2704 - binary_accuracy: 0.9633 - val_loss: 0.6601 - val_binary_accuracy: 0.7864\n",
      "Epoch 86/100\n",
      "46/46 [==============================] - 1s 32ms/step - loss: 0.2723 - binary_accuracy: 0.9586 - val_loss: 0.6601 - val_binary_accuracy: 0.7864\n",
      "Epoch 87/100\n",
      "46/46 [==============================] - 1s 32ms/step - loss: 0.2699 - binary_accuracy: 0.9606 - val_loss: 0.6600 - val_binary_accuracy: 0.7864\n",
      "Epoch 88/100\n",
      "46/46 [==============================] - 2s 33ms/step - loss: 0.2667 - binary_accuracy: 0.9599 - val_loss: 0.6600 - val_binary_accuracy: 0.7864\n",
      "Epoch 89/100\n",
      "46/46 [==============================] - 1s 32ms/step - loss: 0.2690 - binary_accuracy: 0.9620 - val_loss: 0.6599 - val_binary_accuracy: 0.7864\n",
      "Epoch 90/100\n",
      "46/46 [==============================] - 2s 33ms/step - loss: 0.2677 - binary_accuracy: 0.9640 - val_loss: 0.6599 - val_binary_accuracy: 0.7864\n",
      "Epoch 91/100\n",
      "46/46 [==============================] - 1s 32ms/step - loss: 0.2652 - binary_accuracy: 0.9572 - val_loss: 0.6598 - val_binary_accuracy: 0.7864\n",
      "Epoch 92/100\n",
      "46/46 [==============================] - 1s 32ms/step - loss: 0.2634 - binary_accuracy: 0.9613 - val_loss: 0.6598 - val_binary_accuracy: 0.7864\n",
      "Epoch 93/100\n",
      "46/46 [==============================] - 1s 32ms/step - loss: 0.2668 - binary_accuracy: 0.9640 - val_loss: 0.6597 - val_binary_accuracy: 0.7864\n",
      "Epoch 94/100\n",
      "46/46 [==============================] - 2s 33ms/step - loss: 0.2666 - binary_accuracy: 0.9660 - val_loss: 0.6597 - val_binary_accuracy: 0.7848\n",
      "Epoch 95/100\n",
      "46/46 [==============================] - 1s 31ms/step - loss: 0.2646 - binary_accuracy: 0.9606 - val_loss: 0.6596 - val_binary_accuracy: 0.7864\n",
      "Epoch 96/100\n",
      "46/46 [==============================] - 1s 32ms/step - loss: 0.2631 - binary_accuracy: 0.9613 - val_loss: 0.6596 - val_binary_accuracy: 0.7864\n",
      "Epoch 97/100\n",
      "46/46 [==============================] - 1s 31ms/step - loss: 0.2628 - binary_accuracy: 0.9640 - val_loss: 0.6596 - val_binary_accuracy: 0.7864\n",
      "Epoch 98/100\n",
      "46/46 [==============================] - 2s 33ms/step - loss: 0.2592 - binary_accuracy: 0.9654 - val_loss: 0.6595 - val_binary_accuracy: 0.7864\n",
      "Epoch 99/100\n",
      "46/46 [==============================] - 2s 34ms/step - loss: 0.2597 - binary_accuracy: 0.9701 - val_loss: 0.6595 - val_binary_accuracy: 0.7864\n",
      "Epoch 100/100\n",
      "46/46 [==============================] - 2s 33ms/step - loss: 0.2609 - binary_accuracy: 0.9688 - val_loss: 0.6594 - val_binary_accuracy: 0.7864\n"
     ]
    }
   ],
   "source": [
    "# Get the best hyperparameters.\n",
    "best_hps = tuner.get_best_hyperparameters()\n",
    "# Build the model with the best hp.\n",
    "model = build_model(best_hps[0])\n",
    "\n",
    "history = model.fit(X_train, y_train, epochs=100, validation_data=(X_val,y_val), callbacks=[es_callback])"
   ]
  },
  {
   "cell_type": "code",
   "execution_count": 16,
   "id": "e47ad94d-bd36-4656-b5af-276d378f7572",
   "metadata": {
    "colab": {
     "base_uri": "https://localhost:8080/"
    },
    "executionInfo": {
     "elapsed": 12,
     "status": "ok",
     "timestamp": 1648848118530,
     "user": {
      "displayName": "Jake",
      "userId": "18385482828738288081"
     },
     "user_tz": 240
    },
    "id": "e47ad94d-bd36-4656-b5af-276d378f7572",
    "outputId": "41fe8bbb-1b5f-4156-d2b1-1845962a87d6"
   },
   "outputs": [
    {
     "name": "stdout",
     "output_type": "stream",
     "text": [
      "Model: \"sequential_1\"\n",
      "_________________________________________________________________\n",
      " Layer (type)                Output Shape              Param #   \n",
      "=================================================================\n",
      " flatten_1 (Flatten)         (None, 49152)             0         \n",
      "                                                                 \n",
      " dense_5 (Dense)             (None, 32)                1572896   \n",
      "                                                                 \n",
      " dropout_3 (Dropout)         (None, 32)                0         \n",
      "                                                                 \n",
      " dense_6 (Dense)             (None, 32)                1056      \n",
      "                                                                 \n",
      " dense_7 (Dense)             (None, 1)                 33        \n",
      "                                                                 \n",
      "=================================================================\n",
      "Total params: 1,573,985\n",
      "Trainable params: 1,573,985\n",
      "Non-trainable params: 0\n",
      "_________________________________________________________________\n"
     ]
    }
   ],
   "source": [
    "model.summary()"
   ]
  },
  {
   "cell_type": "code",
   "execution_count": 17,
   "id": "2b36bf38-8ae8-4d68-8f78-59a55fb81369",
   "metadata": {
    "colab": {
     "base_uri": "https://localhost:8080/"
    },
    "executionInfo": {
     "elapsed": 1003,
     "status": "ok",
     "timestamp": 1648848119709,
     "user": {
      "displayName": "Jake",
      "userId": "18385482828738288081"
     },
     "user_tz": 240
    },
    "id": "2b36bf38-8ae8-4d68-8f78-59a55fb81369",
    "outputId": "6d133caf-8567-41d6-bb41-21c17583fcd9"
   },
   "outputs": [
    {
     "name": "stdout",
     "output_type": "stream",
     "text": [
      "29/29 [==============================] - 0s 9ms/step - loss: 0.6464 - binary_accuracy: 0.7785\n",
      "Train Accuracy: 96.875%\n",
      "Test Accuracy: 77.8516%\n"
     ]
    }
   ],
   "source": [
    "evaluate_model(model, history)"
   ]
  },
  {
   "cell_type": "code",
   "execution_count": 18,
   "id": "7d874729-70e1-4f0c-9498-5082ea4a6df6",
   "metadata": {
    "colab": {
     "base_uri": "https://localhost:8080/",
     "height": 0
    },
    "executionInfo": {
     "elapsed": 376,
     "status": "ok",
     "timestamp": 1648848120082,
     "user": {
      "displayName": "Jake",
      "userId": "18385482828738288081"
     },
     "user_tz": 240
    },
    "id": "7d874729-70e1-4f0c-9498-5082ea4a6df6",
    "outputId": "5edc0517-b534-4cb4-8b51-7c9145eec739"
   },
   "outputs": [
    {
     "data": {
      "image/png": "[encoded data removed]",
      "text/plain": [
       "<Figure size 864x576 with 1 Axes>"
      ]
     },
     "metadata": {
      "needs_background": "light"
     },
     "output_type": "display_data"
    }
   ],
   "source": [
    "graph_model_loss('Raw Signal Data, No Patient Information', history)"
   ]
  },
  {
   "cell_type": "code",
   "execution_count": 19,
   "id": "7e5c40dd-05cb-4955-8693-224896850f4b",
   "metadata": {
    "colab": {
     "base_uri": "https://localhost:8080/"
    },
    "executionInfo": {
     "elapsed": 1413,
     "status": "ok",
     "timestamp": 1648848121494,
     "user": {
      "displayName": "Jake",
      "userId": "18385482828738288081"
     },
     "user_tz": 240
    },
    "id": "7e5c40dd-05cb-4955-8693-224896850f4b",
    "outputId": "87b3d77e-6a0a-4f4e-b25c-570317944e2d"
   },
   "outputs": [
    {
     "name": "stdout",
     "output_type": "stream",
     "text": [
      "INFO:tensorflow:Assets written to: /content/drive/My Drive/Colab Notebooks/Capstone/neural_nets/sequential_4k_signal_no_patient/assets\n"
     ]
    }
   ],
   "source": [
    "#saving model\n",
    "model.save('/content/drive/My Drive/Colab Notebooks/Capstone/neural_nets/sequential_4k_signal_no_patient', overwrite=True)"
   ]
  }
 ],
 "metadata": {
  "colab": {
   "background_execution": "on",
   "name": "0 - FFN Basline 4K SR No Pt.ipynb",
   "provenance": []
  },
  "kernelspec": {
   "display_name": "capstone",
   "language": "python",
   "name": "capstone"
  },
  "language_info": {
   "codemirror_mode": {
    "name": "ipython",
    "version": 3
   },
   "file_extension": ".py",
   "mimetype": "text/x-python",
   "name": "python",
   "nbconvert_exporter": "python",
   "pygments_lexer": "ipython3",
   "version": "3.8.12"
  },
  "toc-autonumbering": false,
  "toc-showmarkdowntxt": false
 },
 "nbformat": 4,
 "nbformat_minor": 5
}
