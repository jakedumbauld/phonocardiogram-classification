{
 "cells": [
  {
   "cell_type": "markdown",
   "id": "12e3e3be-3d1f-48ac-bf2a-86da8952ebed",
   "metadata": {},
   "source": [
    "# RNN Signal - With Patient"
   ]
  },
  {
   "cell_type": "markdown",
   "id": "0cfa724e-530c-4aee-805a-8b1bbe09c4ad",
   "metadata": {},
   "source": [
    "Author: Jake Dumbauld <br>\n",
    "Contact: jacobmilodumbauld@gmail.com<br>\n",
    "Date: 3.15.22"
   ]
  },
  {
   "cell_type": "code",
   "execution_count": null,
   "id": "e550589f-cd4c-4f2f-b025-9001d4420328",
   "metadata": {},
   "outputs": [],
   "source": [
    "#imports\n",
    "\n",
    "import numpy as np\n",
    "import pandas as pd\n",
    "import matplotlib.pyplot as plt\n",
    "\n",
    "import time\n",
    "import re\n",
    "\n",
    "from sklearn.model_selection import train_test_split\n",
    "\n",
    "import tensorflow as tf\n",
    "from tensorflow import keras\n",
    "from tensorflow.keras.models import Sequential\n",
    "from tensorflow.keras.layers import Dense, Dropout, BatchNormalization, LSTM, GRU\n",
    "from tensorflow.keras import regularizers\n",
    "import keras_tuner as kt"
   ]
  },
  {
   "cell_type": "code",
   "execution_count": null,
   "id": "509c5914-f315-4101-90fb-2760eabfc73d",
   "metadata": {},
   "outputs": [],
   "source": [
    "import random as python_random\n",
    "\n",
    "np.random.seed(42)\n",
    "\n",
    "# The below is necessary for starting core Python generated random numbers in a well-defined state.\n",
    "python_random.seed(42)\n",
    "\n",
    "# The below set_seed() will make random number generation\n",
    "# in the TensorFlow backend have a well-defined initial state.\n",
    "# For further details, see:\n",
    "# https://www.tensorflow.org/api_docs/python/tf/random/set_seed\n",
    "tf.random.set_seed(42)\n",
    "\n",
    "#not sure if the below are necessary - leaving in to perhaps un-comment later.\n",
    "%env PYTHONHASHSEED=0\n",
    "%env CUDA_VISIBLE_DEVICES=\"\""
   ]
  },
  {
   "cell_type": "markdown",
   "id": "9105f3bb-c38f-4f36-9224-904eb54b7b08",
   "metadata": {},
   "source": [
    "## Helper Functions"
   ]
  },
  {
   "cell_type": "markdown",
   "id": "41e1568d-43a1-4eeb-bca2-38154b6d5d45",
   "metadata": {},
   "source": [
    "### Model Loss"
   ]
  },
  {
   "cell_type": "code",
   "execution_count": null,
   "id": "d2a09f77-9e37-4e92-b47e-2be25cc80eb1",
   "metadata": {
    "tags": []
   },
   "outputs": [],
   "source": [
    "def graph_model_loss(title, history):\n",
    "    \"\"\"\n",
    "    Description:\n",
    "    Graphs training vs validation loss over epochs for a given model. \n",
    "    \n",
    "    History: tensorflow.python.keras.callbacks.History object\n",
    "    Title: str\n",
    "    \"\"\" \n",
    "    plt.figure(figsize=(12,8))\n",
    "    plt.plot(history.history['loss'])\n",
    "    plt.plot(history.history['val_loss'])\n",
    "    plt.title(title,size=24)\n",
    "    plt.ylabel('Loss',size=16)\n",
    "    plt.xlabel('Epoch',size=16)\n",
    "    plt.legend(['Train', 'Validation'])\n",
    "    plt.show()"
   ]
  },
  {
   "cell_type": "markdown",
   "id": "02672341-823e-4399-b0fa-b720ac4a82d7",
   "metadata": {},
   "source": [
    "### Train/Test Acc Printout"
   ]
  },
  {
   "cell_type": "code",
   "execution_count": null,
   "id": "eeccd3dc-77c9-4d87-8ee8-d9b6e78b61e7",
   "metadata": {},
   "outputs": [],
   "source": [
    "def evaluate_model(model, history):\n",
    "    \"\"\"\n",
    "    Description:\n",
    "    Outputs model train & test accuracies for currently defined train and test set variables.\n",
    "    \n",
    "    model: tensorflow model,\n",
    "    history: tensorflow.python.keras.callbacks.History object\n",
    "    \"\"\"\n",
    "    # Evaluate the network\n",
    "    train_accuracy = history.history[\"binary_accuracy\"][-1]\n",
    "    result = model.evaluate(X_test,y_test, verbose=1)\n",
    "\n",
    "    print(f\"Train Accuracy: {np.round(train_accuracy, 6)*100}%\")\n",
    "    print(f\"Test Accuracy: {np.round(result[1], 6)*100}%\")"
   ]
  },
  {
   "cell_type": "markdown",
   "id": "4bf678e2-7acd-4665-b94f-46138fbb2384",
   "metadata": {},
   "source": [
    "### Defining Search Space"
   ]
  },
  {
   "cell_type": "code",
   "execution_count": null,
   "id": "c4394927-73d7-48a2-b363-5b1eb95a7556",
   "metadata": {},
   "outputs": [],
   "source": [
    "def build_RNN_model(hp):\n",
    "    model = keras.Sequential()\n",
    "    \n",
    "    model.add(\n",
    "        LSTM(units=hp.Int('LSTM_units1', min_value=16, max_value=32, step=8),\n",
    "        activation='relu',\n",
    "        return_sequences=True\n",
    "        )\n",
    "    )\n",
    "    #Tuning whether or not to use dropout.\n",
    "    if hp.Boolean(\"LSTM_dropout1\"):\n",
    "        model.add(Dropout(rate=0.25))\n",
    "                  \n",
    "    model.add(\n",
    "        LSTM(units=hp.Int('LSTM_units2', min_value=8, max_value=16, step=4),\n",
    "        activation='relu',\n",
    "        return_sequences=False\n",
    "        )\n",
    "    )\n",
    "    #Tuning whether or not to use dropout.\n",
    "    if hp.Boolean(\"LSTM_dropout2\"):\n",
    "        model.add(Dropout(rate=0.25))\n",
    "            \n",
    "    for i in range(hp.Int('dense_layers', 1, 3)):\n",
    "        model.add(\n",
    "            Dense(\n",
    "            #Tuning the number of units in my input layer.\n",
    "            units=hp.Int(\"units\" + str(i), min_value=16, max_value=64, step=8),\n",
    "            activation=\"relu\"\n",
    "            )\n",
    "        )\n",
    "        #Tuning whether or not to use dropout.\n",
    "        if hp.Boolean(\"dropout\" + str(i)):\n",
    "            model.add(Dropout(rate=0.25))\n",
    "\n",
    "        #Turning whether or not to add batch normalization\n",
    "        if hp.Boolean(\"normalization\" + str(i)):\n",
    "            model.add(BatchNormalization())\n",
    "\n",
    "    #output layer\n",
    "    model.add(Dense(1, activation=\"sigmoid\"))\n",
    "    \n",
    "    #defining learning rate\n",
    "    lr_schedule = keras.optimizers.schedules.InverseTimeDecay(\n",
    "                      #tuning initial learning rate\n",
    "                      initial_learning_rate=hp.Float(\"starting_learning_rate\", min_value=1e-4, max_value=1e-2, sampling=\"log\"),\n",
    "                      decay_steps=1.0,\n",
    "                      decay_rate=0.1\n",
    "                  )\n",
    "    model.compile(\n",
    "        #Optimizer\n",
    "        optimizer = keras.optimizers.Adam(learning_rate=lr_schedule),\n",
    "        #Loss\n",
    "        loss=keras.losses.BinaryCrossentropy(),\n",
    "        #Metrics\n",
    "        metrics=[keras.metrics.BinaryAccuracy()]\n",
    "    )\n",
    "    return model\n",
    "\n",
    "build_RNN_model(kt.HyperParameters())"
   ]
  },
  {
   "cell_type": "code",
   "execution_count": null,
   "id": "d081768a-c59d-4668-8596-5904a333f265",
   "metadata": {},
   "outputs": [],
   "source": [
    "X = np.load('/Users/jmd/Documents/BOOTCAMP/Capstone/arrays/signal_withPatient.npy', allow_pickle=True)\n",
    "y = np.load('/Users/jmd/Documents/BOOTCAMP/Capstone/arrays/target_array.npy', allow_pickle=True)"
   ]
  },
  {
   "cell_type": "code",
   "execution_count": null,
   "id": "f8220f73-0566-49c5-9e15-361383e04e77",
   "metadata": {},
   "outputs": [],
   "source": [
    "X =X.reshape(X.shape[0],X.shape[2],X.shape[1])"
   ]
  },
  {
   "cell_type": "code",
   "execution_count": null,
   "id": "cb0c24c3-e58f-457b-9402-6e100898bc3c",
   "metadata": {},
   "outputs": [],
   "source": [
    "X_train, X_test, y_train, y_test = train_test_split(X, y, stratify=y, test_size = 0.3)\n",
    "X_train, X_val, y_train, y_val = train_test_split(X_train, y_train, stratify=y_train, test_size=0.3)"
   ]
  },
  {
   "cell_type": "code",
   "execution_count": null,
   "id": "ddffa3f6-9bdc-4a52-9154-d699508e2c6d",
   "metadata": {},
   "outputs": [],
   "source": [
    "es_callback = keras.callbacks.EarlyStopping(monitor='val_loss', patience=10)"
   ]
  },
  {
   "cell_type": "code",
   "execution_count": null,
   "id": "6d5031b6-c96c-4e40-a07b-2e576ddc7b8f",
   "metadata": {
    "tags": []
   },
   "outputs": [],
   "source": [
    "tuner = kt.BayesianOptimization(\n",
    "    hypermodel=build_RNN_model,\n",
    "    objective=\"val_loss\",\n",
    "    max_trials=25,\n",
    "    seed=42,\n",
    "    overwrite=True,\n",
    "    directory='/Users/jmd/Documents/BOOTCAMP/Capstone/kerastune_searches',\n",
    "    project_name='RNN_signal_no_patient'\n",
    ")\n",
    "\n",
    "tuner.search(X_train, y_train, epochs=50, validation_data=(X_val,y_val), callbacks=[es_callback])"
   ]
  },
  {
   "cell_type": "code",
   "execution_count": null,
   "id": "11c12779-71d3-4a26-88ac-8fa3a4c0fc33",
   "metadata": {
    "scrolled": true,
    "tags": []
   },
   "outputs": [],
   "source": [
    "tuner.results_summary(num_trials=1)"
   ]
  },
  {
   "cell_type": "code",
   "execution_count": null,
   "id": "4630f02f-f76c-4478-9f2d-58df4077178a",
   "metadata": {},
   "outputs": [],
   "source": [
    "es_callback = keras.callbacks.EarlyStopping(monitor='val_loss', patience=10)"
   ]
  },
  {
   "cell_type": "code",
   "execution_count": null,
   "id": "a5b6fc42-b8bb-4298-849c-284245acb2db",
   "metadata": {
    "scrolled": true,
    "tags": []
   },
   "outputs": [],
   "source": [
    "# Get the best hyperparameters.\n",
    "best_hps = tuner.get_best_hyperparameters()\n",
    "# Build the model with the best hp.\n",
    "best_model = build_model(best_hps[0])\n",
    "\n",
    "history = best_model.fit(X_train, y_train, epochs=100, validation_data=(X_val,y_val), callbacks=[es_callback])"
   ]
  },
  {
   "cell_type": "code",
   "execution_count": null,
   "id": "7b19a2d4-ada9-4f82-97a2-27d2c2d68c77",
   "metadata": {},
   "outputs": [],
   "source": [
    "best_model.summary()"
   ]
  },
  {
   "cell_type": "code",
   "execution_count": null,
   "id": "60f6f48c-130c-4b71-9c75-491ecfe6fa44",
   "metadata": {},
   "outputs": [],
   "source": [
    "evaluate_model(best_model, history)"
   ]
  },
  {
   "cell_type": "code",
   "execution_count": null,
   "id": "233ec4ba-ac17-4c37-8910-902ac73f04af",
   "metadata": {},
   "outputs": [],
   "source": [
    "graph_model_loss('LSTM Signal w/o Patient Information', sequential_MFCC_with_patient_history)"
   ]
  },
  {
   "cell_type": "code",
   "execution_count": null,
   "id": "11752c42-74f8-47c3-8766-bdaf4b3f4af2",
   "metadata": {},
   "outputs": [],
   "source": [
    "#saving model\n",
    "sequential_MFCC_with_patient.save('/Users/jmd/Documents/BOOTCAMP/Capstone/neural_nets/LSTM_signal_no_patient', overwrite=True)"
   ]
  }
 ],
 "metadata": {
  "kernelspec": {
   "display_name": "capstone",
   "language": "python",
   "name": "capstone"
  },
  "language_info": {
   "codemirror_mode": {
    "name": "ipython",
    "version": 3
   },
   "file_extension": ".py",
   "mimetype": "text/x-python",
   "name": "python",
   "nbconvert_exporter": "python",
   "pygments_lexer": "ipython3",
   "version": "3.8.12"
  }
 },
 "nbformat": 4,
 "nbformat_minor": 5
}
