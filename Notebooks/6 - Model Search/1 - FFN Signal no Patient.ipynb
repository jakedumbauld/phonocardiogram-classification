{
 "cells": [
  {
   "cell_type": "markdown",
   "id": "0060e6c8-e778-41dd-95be-be8df025c7f4",
   "metadata": {},
   "source": [
    "# FFN Signal - No Patient"
   ]
  },
  {
   "cell_type": "markdown",
   "id": "486d2cd6-74ae-4236-9969-6d994f390066",
   "metadata": {},
   "source": [
    "Author: Jake Dumbauld <br>\n",
    "Contact: jacobmilodumbauld@gmail.com<br>\n",
    "Date: 3.15.22"
   ]
  },
  {
   "cell_type": "code",
   "execution_count": 1,
   "id": "37fe28bd-3bfb-4e75-b875-d924d61fab04",
   "metadata": {},
   "outputs": [],
   "source": [
    "#imports\n",
    "\n",
    "import numpy as np\n",
    "import pandas as pd\n",
    "import matplotlib.pyplot as plt\n",
    "\n",
    "import time\n",
    "import re\n",
    "\n",
    "from sklearn.model_selection import train_test_split\n",
    "\n",
    "import tensorflow as tf\n",
    "from tensorflow import keras\n",
    "from tensorflow.keras.models import Sequential\n",
    "from tensorflow.keras.layers import Conv2D\n",
    "from tensorflow.keras.layers import MaxPooling2D\n",
    "from tensorflow.keras.layers import Flatten\n",
    "from tensorflow.keras.layers import Dense\n",
    "from tensorflow.keras.layers import Dropout\n",
    "from tensorflow.keras.layers import BatchNormalization\n",
    "from tensorflow.keras import regularizers\n",
    "import keras_tuner as kt"
   ]
  },
  {
   "cell_type": "code",
   "execution_count": 2,
   "id": "7f1e109a-7ea5-46da-af5a-168f538a9249",
   "metadata": {},
   "outputs": [
    {
     "name": "stdout",
     "output_type": "stream",
     "text": [
      "env: PYTHONHASHSEED=0\n",
      "env: CUDA_VISIBLE_DEVICES=\"\"\n"
     ]
    }
   ],
   "source": [
    "import random as python_random\n",
    "\n",
    "np.random.seed(42)\n",
    "\n",
    "# The below is necessary for starting core Python generated random numbers in a well-defined state.\n",
    "python_random.seed(42)\n",
    "\n",
    "# The below set_seed() will make random number generation\n",
    "# in the TensorFlow backend have a well-defined initial state.\n",
    "# For further details, see:\n",
    "# https://www.tensorflow.org/api_docs/python/tf/random/set_seed\n",
    "tf.random.set_seed(42)\n",
    "\n",
    "#not sure if the below are necessary - leaving in to perhaps un-comment later.\n",
    "%env PYTHONHASHSEED=0\n",
    "%env CUDA_VISIBLE_DEVICES=\"\""
   ]
  },
  {
   "cell_type": "markdown",
   "id": "1674396e-2f3f-49db-921e-0d1d8dd5d8e5",
   "metadata": {},
   "source": [
    "## Helper Functions"
   ]
  },
  {
   "cell_type": "markdown",
   "id": "7e1c3a27-f319-4de5-911a-0c3b0bab5cde",
   "metadata": {},
   "source": [
    "### Model Loss"
   ]
  },
  {
   "cell_type": "code",
   "execution_count": 3,
   "id": "748193ab-73de-42cd-a643-f8505ce70c0d",
   "metadata": {
    "tags": []
   },
   "outputs": [],
   "source": [
    "def graph_model_loss(title, history):\n",
    "    \"\"\"\n",
    "    Description:\n",
    "    Graphs training vs validation loss over epochs for a given model. \n",
    "    \n",
    "    History: tensorflow.python.keras.callbacks.History object\n",
    "    Title: str\n",
    "    \"\"\" \n",
    "    plt.figure(figsize=(12,8))\n",
    "    plt.plot(history.history['loss'])\n",
    "    plt.plot(history.history['val_loss'])\n",
    "    plt.title(title,size=24)\n",
    "    plt.ylabel('Loss',size=16)\n",
    "    plt.xlabel('Epoch',size=16)\n",
    "    plt.legend(['Train', 'Validation'])\n",
    "    plt.show()"
   ]
  },
  {
   "cell_type": "markdown",
   "id": "abf0ce46-44c0-462d-ad5e-b9080a6a054d",
   "metadata": {},
   "source": [
    "### Train/Test Acc Printout"
   ]
  },
  {
   "cell_type": "code",
   "execution_count": 4,
   "id": "3826ba7f-03de-4e02-b369-18e06c69e0f7",
   "metadata": {},
   "outputs": [],
   "source": [
    "def evaluate_model(model, history):\n",
    "    \"\"\"\n",
    "    Description:\n",
    "    Outputs model train & test accuracies for currently defined train and test set variables.\n",
    "    \n",
    "    model: tensorflow model,\n",
    "    history: tensorflow.python.keras.callbacks.History object\n",
    "    \"\"\"\n",
    "    # Evaluate the network\n",
    "    train_accuracy = history.history[\"binary_accuracy\"][-1]\n",
    "    result = model.evaluate(X_test,y_test, verbose=1)\n",
    "\n",
    "    print(f\"Train Accuracy: {np.round(train_accuracy, 6)*100}%\")\n",
    "    print(f\"Test Accuracy: {np.round(result[1], 6)*100}%\")"
   ]
  },
  {
   "cell_type": "markdown",
   "id": "082731fd-af20-441b-a185-f63d46983ede",
   "metadata": {},
   "source": [
    "### Defining Hyperparameter Search Space"
   ]
  },
  {
   "cell_type": "code",
   "execution_count": 5,
   "id": "ba83456f-9c35-40ca-8d6b-1c9f98541fee",
   "metadata": {},
   "outputs": [
    {
     "name": "stderr",
     "output_type": "stream",
     "text": [
      "2022-04-01 11:46:13.340449: I tensorflow/core/platform/cpu_feature_guard.cc:142] This TensorFlow binary is optimized with oneAPI Deep Neural Network Library (oneDNN) to use the following CPU instructions in performance-critical operations:  SSE4.1 SSE4.2\n",
      "To enable them in other operations, rebuild TensorFlow with the appropriate compiler flags.\n"
     ]
    },
    {
     "data": {
      "text/plain": [
       "<tensorflow.python.keras.engine.sequential.Sequential at 0x7f9e004e4cd0>"
      ]
     },
     "execution_count": 5,
     "metadata": {},
     "output_type": "execute_result"
    }
   ],
   "source": [
    "def build_model(hp):\n",
    "    model = keras.Sequential()\n",
    "    #flattening input\n",
    "    model.add(Flatten())\n",
    "    \n",
    "    for i in range(hp.Int('layers', 2, 4)):\n",
    "        model.add(\n",
    "            Dense(\n",
    "            #Tuning the number of units in my input layer.\n",
    "            units=hp.Int(\"units\" + str(i), min_value=32, max_value=1024, step=64),\n",
    "            kernel_regularizer=regularizers.l2(0.001),\n",
    "            activation=\"relu\"\n",
    "            )\n",
    "        )\n",
    "        #Tuning whether or not to use dropout.\n",
    "        if hp.Boolean(\"dropout\" + str(i)):\n",
    "            model.add(Dropout(rate=0.25))\n",
    "\n",
    "        #Adding batch normalization\n",
    "        if hp.Boolean(\"normalization\" + str(i)):\n",
    "            model.add(BatchNormalization())\n",
    "\n",
    "    #output layer\n",
    "    model.add(Dense(1, activation=\"sigmoid\"))\n",
    "    \n",
    "    #defining learning rate\n",
    "    lr_schedule = keras.optimizers.schedules.InverseTimeDecay(\n",
    "                      #tuning initial learning rate\n",
    "                      initial_learning_rate=hp.Float(\"starting_learning_rate\", min_value=1e-4, max_value=1e-2, sampling=\"log\"),\n",
    "                      decay_steps=1.0,\n",
    "                      decay_rate=0.1\n",
    "                  )\n",
    "    model.compile(\n",
    "        #Optimizer\n",
    "        optimizer = keras.optimizers.Adam(learning_rate=lr_schedule),\n",
    "        #Loss\n",
    "        loss=keras.losses.BinaryCrossentropy(),\n",
    "        #Metrics\n",
    "        metrics=[keras.metrics.BinaryAccuracy()]\n",
    "    )\n",
    "    return model\n",
    "\n",
    "build_model(kt.HyperParameters())"
   ]
  },
  {
   "cell_type": "code",
   "execution_count": 6,
   "id": "b0197626-12a5-4f8b-ab29-bb52f386acb2",
   "metadata": {},
   "outputs": [],
   "source": [
    "X = np.load('/Users/jmd/Documents/BOOTCAMP/Capstone/arrays/signal_noPatient.npy', allow_pickle=True)\n",
    "y = np.load('/Users/jmd/Documents/BOOTCAMP/Capstone/arrays/target_array.npy', allow_pickle=True)"
   ]
  },
  {
   "cell_type": "code",
   "execution_count": 7,
   "id": "f6444b62-28ad-47d4-a19f-430f29772f13",
   "metadata": {},
   "outputs": [],
   "source": [
    "#train test split\n",
    "X_train, X_test, y_train, y_test = train_test_split(X, y, stratify=y, test_size = 0.3)"
   ]
  },
  {
   "cell_type": "code",
   "execution_count": 8,
   "id": "c4bb454d-6a97-4810-a168-d7a98704abb7",
   "metadata": {},
   "outputs": [],
   "source": [
    "X_train, X_val, y_train, y_val = train_test_split(X_train, y_train, stratify=y_train, test_size=0.3)"
   ]
  },
  {
   "cell_type": "code",
   "execution_count": 9,
   "id": "57c51c67-58ae-4ea0-95e9-0592dca63e1e",
   "metadata": {},
   "outputs": [],
   "source": [
    "es_callback = keras.callbacks.EarlyStopping(monitor='val_loss', patience=5)"
   ]
  },
  {
   "cell_type": "code",
   "execution_count": 10,
   "id": "e1d6faa7-86f8-4f14-bfd0-f9288545f274",
   "metadata": {
    "scrolled": true,
    "tags": []
   },
   "outputs": [
    {
     "name": "stdout",
     "output_type": "stream",
     "text": [
      "Trial 50 Complete [00h 00m 03s]\n",
      "val_loss: 0.553521454334259\n",
      "\n",
      "Best val_loss So Far: 0.516107439994812\n",
      "Total elapsed time: 00h 06m 25s\n",
      "INFO:tensorflow:Oracle triggered exit\n"
     ]
    }
   ],
   "source": [
    "tuner = kt.BayesianOptimization(\n",
    "    hypermodel=build_model,\n",
    "    objective=\"val_loss\",\n",
    "    max_trials=50,\n",
    "    seed=42,\n",
    "    overwrite=True,\n",
    "    directory='/Users/jmd/Documents/BOOTCAMP/Capstone/kerastune_searches',\n",
    "    project_name='sequential_signal_no_patient'\n",
    ")\n",
    "\n",
    "tuner.search(X_train, y_train, epochs=100, validation_data=(X_val,y_val), callbacks=[es_callback])"
   ]
  },
  {
   "cell_type": "code",
   "execution_count": 11,
   "id": "ff6c9fca-e654-415f-9289-9dec284ce35c",
   "metadata": {
    "scrolled": true,
    "tags": []
   },
   "outputs": [
    {
     "name": "stdout",
     "output_type": "stream",
     "text": [
      "Results summary\n",
      "Results in /Users/jmd/Documents/BOOTCAMP/Capstone/kerastune_searches/sequential_signal_no_patient\n",
      "Showing 1 best trials\n",
      "Objective(name='val_loss', direction='min')\n",
      "Trial summary\n",
      "Hyperparameters:\n",
      "layers: 4\n",
      "units0: 32\n",
      "dropout0: True\n",
      "normalization0: False\n",
      "units1: 992\n",
      "dropout1: False\n",
      "normalization1: False\n",
      "starting_learning_rate: 0.01\n",
      "units2: 32\n",
      "dropout2: True\n",
      "normalization2: False\n",
      "units3: 992\n",
      "dropout3: True\n",
      "normalization3: False\n",
      "Score: 0.516107439994812\n"
     ]
    }
   ],
   "source": [
    "tuner.results_summary(num_trials=1)"
   ]
  },
  {
   "cell_type": "code",
   "execution_count": 12,
   "id": "418f8aae-8ce5-468b-b9f2-5e9b5de2e234",
   "metadata": {},
   "outputs": [],
   "source": [
    "es_callback = keras.callbacks.EarlyStopping(monitor='val_loss', patience=10)"
   ]
  },
  {
   "cell_type": "code",
   "execution_count": 13,
   "id": "05c4047f-f2b9-4942-ab7c-b96060b44d9b",
   "metadata": {
    "scrolled": true,
    "tags": []
   },
   "outputs": [
    {
     "name": "stdout",
     "output_type": "stream",
     "text": [
      "Epoch 1/100\n",
      "46/46 [==============================] - 1s 15ms/step - loss: 0.6475 - binary_accuracy: 0.7834 - val_loss: 0.5601 - val_binary_accuracy: 0.7959\n",
      "Epoch 2/100\n",
      "46/46 [==============================] - 0s 8ms/step - loss: 0.5390 - binary_accuracy: 0.8044 - val_loss: 0.5311 - val_binary_accuracy: 0.7959\n",
      "Epoch 3/100\n",
      "46/46 [==============================] - 0s 8ms/step - loss: 0.5288 - binary_accuracy: 0.7935 - val_loss: 0.5319 - val_binary_accuracy: 0.7959\n",
      "Epoch 4/100\n",
      "46/46 [==============================] - 0s 9ms/step - loss: 0.4675 - binary_accuracy: 0.7957 - val_loss: 0.6659 - val_binary_accuracy: 0.7959\n",
      "Epoch 5/100\n",
      "46/46 [==============================] - 0s 10ms/step - loss: 0.2894 - binary_accuracy: 0.8735 - val_loss: 0.8923 - val_binary_accuracy: 0.7057\n",
      "Epoch 6/100\n",
      "46/46 [==============================] - 0s 9ms/step - loss: 0.2330 - binary_accuracy: 0.9624 - val_loss: 1.1022 - val_binary_accuracy: 0.7152\n",
      "Epoch 7/100\n",
      "46/46 [==============================] - 0s 7ms/step - loss: 0.1751 - binary_accuracy: 0.9782 - val_loss: 1.2210 - val_binary_accuracy: 0.6962\n",
      "Epoch 8/100\n",
      "46/46 [==============================] - 0s 9ms/step - loss: 0.1337 - binary_accuracy: 0.9860 - val_loss: 1.3213 - val_binary_accuracy: 0.6867\n",
      "Epoch 9/100\n",
      "46/46 [==============================] - 0s 9ms/step - loss: 0.1135 - binary_accuracy: 0.9939 - val_loss: 1.4138 - val_binary_accuracy: 0.6915\n",
      "Epoch 10/100\n",
      "46/46 [==============================] - 0s 8ms/step - loss: 0.1028 - binary_accuracy: 0.9939 - val_loss: 1.4555 - val_binary_accuracy: 0.6709\n",
      "Epoch 11/100\n",
      "46/46 [==============================] - 0s 8ms/step - loss: 0.1013 - binary_accuracy: 0.9922 - val_loss: 1.4824 - val_binary_accuracy: 0.6677\n",
      "Epoch 12/100\n",
      "46/46 [==============================] - 0s 7ms/step - loss: 0.0977 - binary_accuracy: 0.9946 - val_loss: 1.5230 - val_binary_accuracy: 0.6741\n"
     ]
    }
   ],
   "source": [
    "# Get the best hyperparameters.\n",
    "best_hps = tuner.get_best_hyperparameters()\n",
    "# Build the model with the best hp.\n",
    "model = build_model(best_hps[0])\n",
    "\n",
    "history = model.fit(X_train, y_train, epochs=100, validation_data=(X_val,y_val), callbacks=[es_callback])"
   ]
  },
  {
   "cell_type": "code",
   "execution_count": 14,
   "id": "30e79821-d300-47df-b1cd-228ae46bdf84",
   "metadata": {},
   "outputs": [
    {
     "name": "stdout",
     "output_type": "stream",
     "text": [
      "Model: \"sequential_1\"\n",
      "_________________________________________________________________\n",
      "Layer (type)                 Output Shape              Param #   \n",
      "=================================================================\n",
      "flatten_1 (Flatten)          (None, 6144)              0         \n",
      "_________________________________________________________________\n",
      "dense_5 (Dense)              (None, 32)                196640    \n",
      "_________________________________________________________________\n",
      "dropout_2 (Dropout)          (None, 32)                0         \n",
      "_________________________________________________________________\n",
      "dense_6 (Dense)              (None, 992)               32736     \n",
      "_________________________________________________________________\n",
      "dense_7 (Dense)              (None, 32)                31776     \n",
      "_________________________________________________________________\n",
      "dropout_3 (Dropout)          (None, 32)                0         \n",
      "_________________________________________________________________\n",
      "dense_8 (Dense)              (None, 992)               32736     \n",
      "_________________________________________________________________\n",
      "dropout_4 (Dropout)          (None, 992)               0         \n",
      "_________________________________________________________________\n",
      "dense_9 (Dense)              (None, 1)                 993       \n",
      "=================================================================\n",
      "Total params: 294,881\n",
      "Trainable params: 294,881\n",
      "Non-trainable params: 0\n",
      "_________________________________________________________________\n"
     ]
    }
   ],
   "source": [
    "model.summary()"
   ]
  },
  {
   "cell_type": "code",
   "execution_count": 15,
   "id": "3203cff1-668b-476c-bbf4-6f7e1dcbffe1",
   "metadata": {},
   "outputs": [
    {
     "name": "stdout",
     "output_type": "stream",
     "text": [
      "29/29 [==============================] - 0s 4ms/step - loss: 1.5551 - binary_accuracy: 0.6622\n",
      "Train Accuracy: 99.4565%\n",
      "Test Accuracy: 66.2237%\n"
     ]
    }
   ],
   "source": [
    "evaluate_model(model, history)"
   ]
  },
  {
   "cell_type": "code",
   "execution_count": 16,
   "id": "038a00cb-f8b1-4a98-a023-8acf8b3bcd7c",
   "metadata": {},
   "outputs": [
    {
     "data": {
      "image/png": "[encoded data removed]",
      "text/plain": [
       "<Figure size 864x576 with 1 Axes>"
      ]
     },
     "metadata": {
      "needs_background": "light"
     },
     "output_type": "display_data"
    }
   ],
   "source": [
    "graph_model_loss('Raw Signal Data, No Patient Information', history)"
   ]
  },
  {
   "cell_type": "code",
   "execution_count": 18,
   "id": "7a3426ea-3773-464f-885b-5e9001277e9d",
   "metadata": {},
   "outputs": [
    {
     "name": "stdout",
     "output_type": "stream",
     "text": [
      "INFO:tensorflow:Assets written to: /Users/jmd/Documents/BOOTCAMP/Capstone/neural_nets/sequential_signal_no_patient/assets\n"
     ]
    }
   ],
   "source": [
    "#saving model\n",
    "model.save('/Users/jmd/Documents/BOOTCAMP/Capstone/neural_nets/sequential_signal_no_patient', overwrite=True)"
   ]
  }
 ],
 "metadata": {
  "kernelspec": {
   "display_name": "capstone",
   "language": "python",
   "name": "capstone"
  },
  "language_info": {
   "codemirror_mode": {
    "name": "ipython",
    "version": 3
   },
   "file_extension": ".py",
   "mimetype": "text/x-python",
   "name": "python",
   "nbconvert_exporter": "python",
   "pygments_lexer": "ipython3",
   "version": "3.8.12"
  }
 },
 "nbformat": 4,
 "nbformat_minor": 5
}
