{
 "cells": [
  {
   "cell_type": "markdown",
   "id": "4dd56645-4834-4546-ac59-b2f4afdf6ff8",
   "metadata": {},
   "source": [
    "# Isolating Signals & Target Variable for Simple Modelling"
   ]
  },
  {
   "cell_type": "markdown",
   "id": "cb1be9ae-8bdd-4ef4-bb1f-d3e1118c3a5d",
   "metadata": {},
   "source": [
    "Author: Jake Dumbauld <br>\n",
    "Contact: jacobmilodumbauld@gmail.com<br>\n",
    "Date: 3.15.22"
   ]
  },
  {
   "cell_type": "code",
   "execution_count": 1,
   "id": "370804a2-3f99-4094-ad4f-6f2a8ad8b5bd",
   "metadata": {},
   "outputs": [],
   "source": [
    "# importing libraries\n",
    "\n",
    "import numpy as np\n",
    "import pandas as pd\n",
    "import matplotlib.pyplot as plt\n",
    "\n",
    "import librosa\n",
    "import librosa.display\n",
    "import IPython\n",
    "\n",
    "import os\n",
    "from random import uniform\n",
    "import time\n",
    "from IPython.display import display, clear_output"
   ]
  },
  {
   "cell_type": "code",
   "execution_count": 2,
   "id": "d9069d40-2bb3-47cb-8116-cfea69962e42",
   "metadata": {},
   "outputs": [],
   "source": [
    "df = pd.DataFrame(data = np.load('/Users/jmd/Documents/BOOTCAMP/Capstone/arrays/patient_signals_4k.npy', allow_pickle=True),\n",
    "                       columns=(['Patient ID', 'Locations', 'Age', 'Sex', 'Height', 'Weight',\n",
    "                                 'Pregnancy status', 'Murmur', 'Murmur locations',\n",
    "                                 'Most audible location', 'Systolic murmur timing',\n",
    "                                 'Systolic murmur shape', 'Systolic murmur grading',\n",
    "                                 'Systolic murmur pitch', 'Systolic murmur quality',\n",
    "                                 'Diastolic murmur timing', 'Diastolic murmur shape',\n",
    "                                 'Diastolic murmur grading', 'Diastolic murmur pitch',\n",
    "                                 'Diastolic murmur quality', 'Campaign', 'Additional ID',\n",
    "                                 'location_count', 'signal_patient_id', 'location', 'signal']))"
   ]
  },
  {
   "cell_type": "code",
   "execution_count": 3,
   "id": "c6d9ef08-2d9b-4d3f-86e5-2240eebb1341",
   "metadata": {},
   "outputs": [],
   "source": [
    "sr = 4096"
   ]
  },
  {
   "cell_type": "markdown",
   "id": "85b74f8c-62bc-445b-af4b-6415243d8776",
   "metadata": {},
   "source": [
    "## Binarizing Target"
   ]
  },
  {
   "cell_type": "markdown",
   "id": "92a788af-3fb3-4c9b-a408-f48c6150b368",
   "metadata": {},
   "source": [
    "#### Dropping Unknown Murmurs"
   ]
  },
  {
   "cell_type": "code",
   "execution_count": 4,
   "id": "8a4dd767-ad46-4684-b630-4e464ee9bd5f",
   "metadata": {},
   "outputs": [
    {
     "data": {
      "text/plain": [
       "(3163, 26)"
      ]
     },
     "execution_count": 4,
     "metadata": {},
     "output_type": "execute_result"
    }
   ],
   "source": [
    "df.shape"
   ]
  },
  {
   "cell_type": "code",
   "execution_count": 5,
   "id": "900baed9-8162-4b0c-b7fd-7c1768596c67",
   "metadata": {},
   "outputs": [
    {
     "data": {
      "text/plain": [
       "Absent     2391\n",
       "Present     616\n",
       "Unknown     156\n",
       "Name: Murmur, dtype: int64"
      ]
     },
     "execution_count": 5,
     "metadata": {},
     "output_type": "execute_result"
    }
   ],
   "source": [
    "df['Murmur'].value_counts()"
   ]
  },
  {
   "cell_type": "code",
   "execution_count": 6,
   "id": "df390224-770e-4c30-a86f-77b8a3ee4403",
   "metadata": {},
   "outputs": [],
   "source": [
    "df.drop(df[df['Murmur'] == 'Unknown'].index, inplace=True)"
   ]
  },
  {
   "cell_type": "code",
   "execution_count": 7,
   "id": "c7cf085b-071b-4fe1-a736-7b736f15360c",
   "metadata": {},
   "outputs": [],
   "source": [
    "df.reset_index(inplace=True, drop=True)"
   ]
  },
  {
   "cell_type": "markdown",
   "id": "49614adc-abc2-4052-8ba5-fce248344bfd",
   "metadata": {},
   "source": [
    "#### Binarizing Murmurs"
   ]
  },
  {
   "cell_type": "code",
   "execution_count": 8,
   "id": "28322b59-239d-4520-bc24-eeb89d6d6d38",
   "metadata": {},
   "outputs": [
    {
     "data": {
      "text/plain": [
       "Absent     2391\n",
       "Present     616\n",
       "Name: Murmur, dtype: int64"
      ]
     },
     "execution_count": 8,
     "metadata": {},
     "output_type": "execute_result"
    }
   ],
   "source": [
    "df['Murmur'].value_counts()"
   ]
  },
  {
   "cell_type": "code",
   "execution_count": 9,
   "id": "7504c2b5-172e-4b2b-9a81-4ebd9a6097f2",
   "metadata": {},
   "outputs": [],
   "source": [
    "df['Murmur'] = df['Murmur'].map({\"Absent\": 0,\n",
    "                                 \"Present\": 1})"
   ]
  },
  {
   "cell_type": "markdown",
   "id": "134bbf3e-1cde-48fd-91d1-a0484ee42f81",
   "metadata": {},
   "source": [
    "## Extracting a Signal DF"
   ]
  },
  {
   "cell_type": "markdown",
   "id": "e50bb19b-95d9-477f-bd22-e72a48899fbb",
   "metadata": {},
   "source": [
    "Goal here is trying to select an appropriate length of audio clip to shorten my files down to. My goal is to have 90% of my audio clips be that minimum so that they can be trimmed, the rest will be padded. "
   ]
  },
  {
   "cell_type": "code",
   "execution_count": 10,
   "id": "662556ee-48cd-42f5-be4c-951ae9966fb7",
   "metadata": {},
   "outputs": [],
   "source": [
    "signal_df = df[['Murmur','signal']]"
   ]
  },
  {
   "cell_type": "code",
   "execution_count": 11,
   "id": "3a4d3bcb-c59f-46df-b31d-117a236629a5",
   "metadata": {},
   "outputs": [
    {
     "data": {
      "text/plain": [
       "(3007, 2)"
      ]
     },
     "execution_count": 11,
     "metadata": {},
     "output_type": "execute_result"
    }
   ],
   "source": [
    "signal_df.shape"
   ]
  },
  {
   "cell_type": "code",
   "execution_count": 12,
   "id": "4b6cf269-9888-470f-80d3-04220e805385",
   "metadata": {},
   "outputs": [],
   "source": [
    "signals = signal_df['signal']"
   ]
  },
  {
   "cell_type": "code",
   "execution_count": 13,
   "id": "54badeaf-bec2-4ad6-98d9-9a6243105bd5",
   "metadata": {},
   "outputs": [],
   "source": [
    "lengths = []\n",
    "for signal in signals:\n",
    "    lengths.append(len(signal))"
   ]
  },
  {
   "cell_type": "code",
   "execution_count": 14,
   "id": "e1cbf98f-c936-4f73-a1c1-5b2acf53915b",
   "metadata": {},
   "outputs": [],
   "source": [
    "lengths = pd.Series(lengths)"
   ]
  },
  {
   "cell_type": "code",
   "execution_count": 15,
   "id": "0bbbab98-3f6a-4d13-913d-8cc8b0258c51",
   "metadata": {},
   "outputs": [
    {
     "data": {
      "text/plain": [
       "count     0.734131\n",
       "mean     22.894569\n",
       "std       7.297946\n",
       "min       5.152100\n",
       "25%      19.056152\n",
       "50%      21.488037\n",
       "75%      29.392090\n",
       "max      64.512207\n",
       "dtype: float64"
      ]
     },
     "execution_count": 15,
     "metadata": {},
     "output_type": "execute_result"
    }
   ],
   "source": [
    "lengths.describe() / sr #sampling rate for the files in this set, so now the lengths are given in seconds"
   ]
  },
  {
   "cell_type": "markdown",
   "id": "ac1ffb21-3512-4e72-bfb3-a7a5c9be6af8",
   "metadata": {},
   "source": [
    "Printing out a list of the proportion of clips that are at least a certain length in seconds."
   ]
  },
  {
   "cell_type": "code",
   "execution_count": 16,
   "id": "4d92379a-5622-47a1-b353-6262fa054402",
   "metadata": {
    "scrolled": true,
    "tags": []
   },
   "outputs": [
    {
     "name": "stdout",
     "output_type": "stream",
     "text": [
      "4 1.0\n",
      "5 1.0\n",
      "6 0.9986697705354174\n",
      "7 0.9960093116062521\n",
      "8 0.9890256069171932\n",
      "9 0.9787163285666778\n",
      "10 0.9630861323578317\n",
      "11 0.9441303624875291\n",
      "12 0.9218490189557699\n",
      "13 0.8985700033255737\n",
      "14 0.8782840039906884\n",
      "15 0.8540073162620552\n",
      "16 0.8240771533089458\n",
      "17 0.79847023611573\n",
      "18 0.7751912204855338\n",
      "19 0.7509145327569006\n",
      "20 0.6508147655470569\n",
      "21 0.5340871300299301\n",
      "22 0.4672430994346525\n",
      "23 0.4286664449617559\n",
      "24 0.40239441303624873\n",
      "25 0.3831060857998005\n",
      "26 0.36647821749251747\n",
      "27 0.3518456933821084\n",
      "28 0.32790156301962087\n",
      "29 0.28633189225141337\n"
     ]
    }
   ],
   "source": [
    "for i in range(4, 30):\n",
    "    print(i, len(lengths[lengths > (i * sr)]) / len(lengths))"
   ]
  },
  {
   "cell_type": "markdown",
   "id": "26f049c5-0fe0-4346-9599-71f458bc6974",
   "metadata": {},
   "source": [
    "So it looks like I can work with 12 second clips. To calculate how long that series its we multiply that by the sampling rate which I declared at the top"
   ]
  },
  {
   "cell_type": "code",
   "execution_count": 17,
   "id": "4cceb5d7-9288-496d-8370-a57b004734b9",
   "metadata": {},
   "outputs": [
    {
     "data": {
      "text/plain": [
       "49152"
      ]
     },
     "execution_count": 17,
     "metadata": {},
     "output_type": "execute_result"
    }
   ],
   "source": [
    "target_len = 12 * sr\n",
    "target_len"
   ]
  },
  {
   "cell_type": "code",
   "execution_count": 19,
   "id": "e06071db-3af1-41c4-b99a-60309007b6e2",
   "metadata": {},
   "outputs": [
    {
     "data": {
      "text/plain": [
       "0"
      ]
     },
     "execution_count": 19,
     "metadata": {},
     "output_type": "execute_result"
    }
   ],
   "source": [
    "signal_df['signal'].isna().sum()"
   ]
  },
  {
   "cell_type": "markdown",
   "id": "2a564198-cb69-40bb-8e3f-e5c6b571ca46",
   "metadata": {},
   "source": [
    "Looping through the signal data and trimming/padding it to the appropriate length"
   ]
  },
  {
   "cell_type": "code",
   "execution_count": 20,
   "id": "7fa39e3b-d143-4542-962f-847442258221",
   "metadata": {
    "scrolled": true,
    "tags": []
   },
   "outputs": [],
   "source": [
    "new_signals = []\n",
    "for signal in signals:\n",
    "    if len(signal) == target_len:\n",
    "        new_signals.append(signal)\n",
    "    elif len(signal) > target_len:\n",
    "        new_signals.append(signal[0:target_len])\n",
    "    elif len(signal) < target_len:\n",
    "        padwidth = target_len-len(signal)\n",
    "        new_signals.append(np.pad(signal, (0, padwidth), mode='constant'))\n",
    "    else:\n",
    "        print('wtf')"
   ]
  },
  {
   "cell_type": "code",
   "execution_count": 22,
   "id": "5297a7a4-baa7-4bc9-a267-c9e7f0f1553b",
   "metadata": {},
   "outputs": [],
   "source": [
    "new_signals = np.asarray(new_signals)"
   ]
  },
  {
   "cell_type": "code",
   "execution_count": 23,
   "id": "cb5aecce-6a13-4cd7-973b-da0c22b0ac23",
   "metadata": {},
   "outputs": [
    {
     "data": {
      "text/plain": [
       "(3007, 49152)"
      ]
     },
     "execution_count": 23,
     "metadata": {},
     "output_type": "execute_result"
    }
   ],
   "source": [
    "new_signals.shape"
   ]
  },
  {
   "cell_type": "markdown",
   "id": "ba6af9e3-bc8d-4e51-8be3-e20c5f2ff4b2",
   "metadata": {},
   "source": [
    "Making a dataframe out of my `new_signals`"
   ]
  },
  {
   "cell_type": "code",
   "execution_count": 24,
   "id": "879d9732-b12d-48c6-80db-6753f0f3f618",
   "metadata": {},
   "outputs": [],
   "source": [
    "temp_df = pd.DataFrame(new_signals)"
   ]
  },
  {
   "cell_type": "markdown",
   "id": "2a300c7b-a90a-45bc-a2ef-be9cc47cf610",
   "metadata": {},
   "source": [
    "Dropping the old signal data from my dataframe"
   ]
  },
  {
   "cell_type": "code",
   "execution_count": 25,
   "id": "ff415c9d-1923-4f00-9ae5-c50992ef8d94",
   "metadata": {},
   "outputs": [
    {
     "name": "stderr",
     "output_type": "stream",
     "text": [
      "/var/folders/zf/j9yckf9x41gbrplj0b23dt700000gn/T/ipykernel_42399/3632913729.py:1: SettingWithCopyWarning: \n",
      "A value is trying to be set on a copy of a slice from a DataFrame\n",
      "\n",
      "See the caveats in the documentation: https://pandas.pydata.org/pandas-docs/stable/user_guide/indexing.html#returning-a-view-versus-a-copy\n",
      "  signal_df.drop('signal',axis=1,inplace=True)\n"
     ]
    }
   ],
   "source": [
    "signal_df.drop('signal',axis=1,inplace=True)"
   ]
  },
  {
   "cell_type": "markdown",
   "id": "12701d1c-b5a9-4946-b815-bdea50bde2cf",
   "metadata": {},
   "source": [
    "Concatenating my murmur data with my signal data. "
   ]
  },
  {
   "cell_type": "code",
   "execution_count": 26,
   "id": "8cb11376-6468-4238-9eb3-6d9556b4a7f6",
   "metadata": {},
   "outputs": [],
   "source": [
    "final_df = signal_df.join(temp_df)"
   ]
  },
  {
   "cell_type": "code",
   "execution_count": 27,
   "id": "03b60cb4-c72f-417c-97e4-7ee58d121004",
   "metadata": {},
   "outputs": [
    {
     "data": {
      "text/plain": [
       "0"
      ]
     },
     "execution_count": 27,
     "metadata": {},
     "output_type": "execute_result"
    }
   ],
   "source": [
    "final_df.isna().sum().sum()"
   ]
  },
  {
   "cell_type": "code",
   "execution_count": 28,
   "id": "1d44c575-ddc5-4cc7-947b-a303c445fd9e",
   "metadata": {},
   "outputs": [
    {
     "data": {
      "text/plain": [
       "(3007, 49153)"
      ]
     },
     "execution_count": 28,
     "metadata": {},
     "output_type": "execute_result"
    }
   ],
   "source": [
    "final_df.shape"
   ]
  },
  {
   "cell_type": "code",
   "execution_count": 29,
   "id": "153c2747-dd38-4a1e-ac61-28fa051a62c7",
   "metadata": {},
   "outputs": [
    {
     "name": "stdout",
     "output_type": "stream",
     "text": [
      "<class 'pandas.core.frame.DataFrame'>\n",
      "RangeIndex: 3007 entries, 0 to 3006\n",
      "Columns: 49153 entries, Murmur to 49151\n",
      "dtypes: float32(49152), int64(1)\n",
      "memory usage: 563.8 MB\n"
     ]
    }
   ],
   "source": [
    "final_df.info()"
   ]
  },
  {
   "cell_type": "code",
   "execution_count": 30,
   "id": "ddab52bb-bb0e-4d76-80cb-635036735416",
   "metadata": {},
   "outputs": [],
   "source": [
    "np.save('/Users/jmd/Documents/BOOTCAMP/Capstone/arrays/signal_murmur_presimple_4k.npy', final_df.to_numpy())"
   ]
  }
 ],
 "metadata": {
  "kernelspec": {
   "display_name": "capstone",
   "language": "python",
   "name": "capstone"
  },
  "language_info": {
   "codemirror_mode": {
    "name": "ipython",
    "version": 3
   },
   "file_extension": ".py",
   "mimetype": "text/x-python",
   "name": "python",
   "nbconvert_exporter": "python",
   "pygments_lexer": "ipython3",
   "version": "3.8.12"
  }
 },
 "nbformat": 4,
 "nbformat_minor": 5
}
