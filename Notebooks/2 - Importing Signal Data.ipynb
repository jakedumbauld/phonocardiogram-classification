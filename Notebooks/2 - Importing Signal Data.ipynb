{
 "cells": [
  {
   "cell_type": "markdown",
   "id": "447dcfd6-677e-4838-a4ce-89ce0072ebbd",
   "metadata": {},
   "source": [
    "# Pre-Processing: Phonocardiograms"
   ]
  },
  {
   "cell_type": "markdown",
   "id": "e1e9d9ca-1d62-4103-b17c-746cb332f967",
   "metadata": {},
   "source": [
    "Author: Jake Dumbauld <br>\n",
    "Contact: jacobmilodumbauld@gmail.com<br>\n",
    "Date: 3.15.22"
   ]
  },
  {
   "cell_type": "code",
   "execution_count": 1,
   "id": "03c27a3b-efaa-4734-ab79-cc13f6685ac0",
   "metadata": {},
   "outputs": [],
   "source": [
    "# importing libraries\n",
    "\n",
    "import numpy as np\n",
    "import pandas as pd\n",
    "import matplotlib.pyplot as plt\n",
    "\n",
    "import librosa\n",
    "import librosa.display\n",
    "import IPython\n",
    "\n",
    "import os\n",
    "from random import uniform\n",
    "import time\n",
    "from IPython.display import display, clear_output"
   ]
  },
  {
   "cell_type": "code",
   "execution_count": 2,
   "id": "140dd527-cf0f-4aa4-b251-0f083c767962",
   "metadata": {},
   "outputs": [
    {
     "data": {
      "text/html": [
       "<div>\n",
       "<style scoped>\n",
       "    .dataframe tbody tr th:only-of-type {\n",
       "        vertical-align: middle;\n",
       "    }\n",
       "\n",
       "    .dataframe tbody tr th {\n",
       "        vertical-align: top;\n",
       "    }\n",
       "\n",
       "    .dataframe thead th {\n",
       "        text-align: right;\n",
       "    }\n",
       "</style>\n",
       "<table border=\"1\" class=\"dataframe\">\n",
       "  <thead>\n",
       "    <tr style=\"text-align: right;\">\n",
       "      <th></th>\n",
       "      <th>Patient ID</th>\n",
       "      <th>Locations</th>\n",
       "      <th>Age</th>\n",
       "      <th>Sex</th>\n",
       "      <th>Height</th>\n",
       "      <th>Weight</th>\n",
       "      <th>Pregnancy status</th>\n",
       "      <th>Murmur</th>\n",
       "      <th>Murmur locations</th>\n",
       "      <th>Most audible location</th>\n",
       "      <th>...</th>\n",
       "      <th>Systolic murmur grading</th>\n",
       "      <th>Systolic murmur pitch</th>\n",
       "      <th>Systolic murmur quality</th>\n",
       "      <th>Diastolic murmur timing</th>\n",
       "      <th>Diastolic murmur shape</th>\n",
       "      <th>Diastolic murmur grading</th>\n",
       "      <th>Diastolic murmur pitch</th>\n",
       "      <th>Diastolic murmur quality</th>\n",
       "      <th>Campaign</th>\n",
       "      <th>Additional ID</th>\n",
       "    </tr>\n",
       "  </thead>\n",
       "  <tbody>\n",
       "    <tr>\n",
       "      <th>0</th>\n",
       "      <td>2530</td>\n",
       "      <td>AV+PV+TV+MV</td>\n",
       "      <td>Child</td>\n",
       "      <td>Female</td>\n",
       "      <td>98.0</td>\n",
       "      <td>15.9</td>\n",
       "      <td>False</td>\n",
       "      <td>Absent</td>\n",
       "      <td>NaN</td>\n",
       "      <td>NaN</td>\n",
       "      <td>...</td>\n",
       "      <td>NaN</td>\n",
       "      <td>NaN</td>\n",
       "      <td>NaN</td>\n",
       "      <td>NaN</td>\n",
       "      <td>NaN</td>\n",
       "      <td>NaN</td>\n",
       "      <td>NaN</td>\n",
       "      <td>NaN</td>\n",
       "      <td>CC2015</td>\n",
       "      <td>NaN</td>\n",
       "    </tr>\n",
       "    <tr>\n",
       "      <th>1</th>\n",
       "      <td>9979</td>\n",
       "      <td>AV+PV+TV+MV</td>\n",
       "      <td>Child</td>\n",
       "      <td>Female</td>\n",
       "      <td>103.0</td>\n",
       "      <td>13.1</td>\n",
       "      <td>False</td>\n",
       "      <td>Present</td>\n",
       "      <td>AV+MV+PV+TV</td>\n",
       "      <td>TV</td>\n",
       "      <td>...</td>\n",
       "      <td>III/VI</td>\n",
       "      <td>High</td>\n",
       "      <td>Harsh</td>\n",
       "      <td>NaN</td>\n",
       "      <td>NaN</td>\n",
       "      <td>NaN</td>\n",
       "      <td>NaN</td>\n",
       "      <td>NaN</td>\n",
       "      <td>CC2015</td>\n",
       "      <td>NaN</td>\n",
       "    </tr>\n",
       "    <tr>\n",
       "      <th>2</th>\n",
       "      <td>9983</td>\n",
       "      <td>AV+PV+TV+MV</td>\n",
       "      <td>Child</td>\n",
       "      <td>Male</td>\n",
       "      <td>115.0</td>\n",
       "      <td>19.1</td>\n",
       "      <td>False</td>\n",
       "      <td>Unknown</td>\n",
       "      <td>NaN</td>\n",
       "      <td>NaN</td>\n",
       "      <td>...</td>\n",
       "      <td>NaN</td>\n",
       "      <td>NaN</td>\n",
       "      <td>NaN</td>\n",
       "      <td>NaN</td>\n",
       "      <td>NaN</td>\n",
       "      <td>NaN</td>\n",
       "      <td>NaN</td>\n",
       "      <td>NaN</td>\n",
       "      <td>CC2015</td>\n",
       "      <td>NaN</td>\n",
       "    </tr>\n",
       "    <tr>\n",
       "      <th>3</th>\n",
       "      <td>13918</td>\n",
       "      <td>AV+PV+TV+MV</td>\n",
       "      <td>Child</td>\n",
       "      <td>Male</td>\n",
       "      <td>98.0</td>\n",
       "      <td>15.9</td>\n",
       "      <td>False</td>\n",
       "      <td>Present</td>\n",
       "      <td>TV</td>\n",
       "      <td>TV</td>\n",
       "      <td>...</td>\n",
       "      <td>I/VI</td>\n",
       "      <td>Low</td>\n",
       "      <td>Blowing</td>\n",
       "      <td>NaN</td>\n",
       "      <td>NaN</td>\n",
       "      <td>NaN</td>\n",
       "      <td>NaN</td>\n",
       "      <td>NaN</td>\n",
       "      <td>CC2015</td>\n",
       "      <td>NaN</td>\n",
       "    </tr>\n",
       "    <tr>\n",
       "      <th>4</th>\n",
       "      <td>14241</td>\n",
       "      <td>AV+PV+TV+MV</td>\n",
       "      <td>Child</td>\n",
       "      <td>Male</td>\n",
       "      <td>87.0</td>\n",
       "      <td>11.2</td>\n",
       "      <td>False</td>\n",
       "      <td>Present</td>\n",
       "      <td>AV+MV+PV+TV</td>\n",
       "      <td>PV</td>\n",
       "      <td>...</td>\n",
       "      <td>II/VI</td>\n",
       "      <td>Low</td>\n",
       "      <td>Harsh</td>\n",
       "      <td>NaN</td>\n",
       "      <td>NaN</td>\n",
       "      <td>NaN</td>\n",
       "      <td>NaN</td>\n",
       "      <td>NaN</td>\n",
       "      <td>CC2015</td>\n",
       "      <td>NaN</td>\n",
       "    </tr>\n",
       "    <tr>\n",
       "      <th>...</th>\n",
       "      <td>...</td>\n",
       "      <td>...</td>\n",
       "      <td>...</td>\n",
       "      <td>...</td>\n",
       "      <td>...</td>\n",
       "      <td>...</td>\n",
       "      <td>...</td>\n",
       "      <td>...</td>\n",
       "      <td>...</td>\n",
       "      <td>...</td>\n",
       "      <td>...</td>\n",
       "      <td>...</td>\n",
       "      <td>...</td>\n",
       "      <td>...</td>\n",
       "      <td>...</td>\n",
       "      <td>...</td>\n",
       "      <td>...</td>\n",
       "      <td>...</td>\n",
       "      <td>...</td>\n",
       "      <td>...</td>\n",
       "      <td>...</td>\n",
       "    </tr>\n",
       "    <tr>\n",
       "      <th>937</th>\n",
       "      <td>85340</td>\n",
       "      <td>AV+PV+TV+MV</td>\n",
       "      <td>Child</td>\n",
       "      <td>Male</td>\n",
       "      <td>105.0</td>\n",
       "      <td>16.6</td>\n",
       "      <td>False</td>\n",
       "      <td>Absent</td>\n",
       "      <td>NaN</td>\n",
       "      <td>NaN</td>\n",
       "      <td>...</td>\n",
       "      <td>NaN</td>\n",
       "      <td>NaN</td>\n",
       "      <td>NaN</td>\n",
       "      <td>NaN</td>\n",
       "      <td>NaN</td>\n",
       "      <td>NaN</td>\n",
       "      <td>NaN</td>\n",
       "      <td>NaN</td>\n",
       "      <td>CC2015</td>\n",
       "      <td>NaN</td>\n",
       "    </tr>\n",
       "    <tr>\n",
       "      <th>938</th>\n",
       "      <td>85341</td>\n",
       "      <td>AV+PV+TV+MV</td>\n",
       "      <td>Child</td>\n",
       "      <td>Male</td>\n",
       "      <td>92.0</td>\n",
       "      <td>15.2</td>\n",
       "      <td>False</td>\n",
       "      <td>Absent</td>\n",
       "      <td>NaN</td>\n",
       "      <td>NaN</td>\n",
       "      <td>...</td>\n",
       "      <td>NaN</td>\n",
       "      <td>NaN</td>\n",
       "      <td>NaN</td>\n",
       "      <td>NaN</td>\n",
       "      <td>NaN</td>\n",
       "      <td>NaN</td>\n",
       "      <td>NaN</td>\n",
       "      <td>NaN</td>\n",
       "      <td>CC2015</td>\n",
       "      <td>NaN</td>\n",
       "    </tr>\n",
       "    <tr>\n",
       "      <th>939</th>\n",
       "      <td>85343</td>\n",
       "      <td>AV+PV+TV+MV</td>\n",
       "      <td>Child</td>\n",
       "      <td>Female</td>\n",
       "      <td>97.0</td>\n",
       "      <td>13.5</td>\n",
       "      <td>False</td>\n",
       "      <td>Present</td>\n",
       "      <td>MV+TV</td>\n",
       "      <td>TV</td>\n",
       "      <td>...</td>\n",
       "      <td>I/VI</td>\n",
       "      <td>Low</td>\n",
       "      <td>Blowing</td>\n",
       "      <td>NaN</td>\n",
       "      <td>NaN</td>\n",
       "      <td>NaN</td>\n",
       "      <td>NaN</td>\n",
       "      <td>NaN</td>\n",
       "      <td>CC2015</td>\n",
       "      <td>NaN</td>\n",
       "    </tr>\n",
       "    <tr>\n",
       "      <th>940</th>\n",
       "      <td>85345</td>\n",
       "      <td>AV+PV</td>\n",
       "      <td>Child</td>\n",
       "      <td>Female</td>\n",
       "      <td>132.0</td>\n",
       "      <td>38.1</td>\n",
       "      <td>False</td>\n",
       "      <td>Absent</td>\n",
       "      <td>NaN</td>\n",
       "      <td>NaN</td>\n",
       "      <td>...</td>\n",
       "      <td>NaN</td>\n",
       "      <td>NaN</td>\n",
       "      <td>NaN</td>\n",
       "      <td>NaN</td>\n",
       "      <td>NaN</td>\n",
       "      <td>NaN</td>\n",
       "      <td>NaN</td>\n",
       "      <td>NaN</td>\n",
       "      <td>CC2015</td>\n",
       "      <td>NaN</td>\n",
       "    </tr>\n",
       "    <tr>\n",
       "      <th>941</th>\n",
       "      <td>85349</td>\n",
       "      <td>AV+PV+TV</td>\n",
       "      <td>NaN</td>\n",
       "      <td>Female</td>\n",
       "      <td>NaN</td>\n",
       "      <td>NaN</td>\n",
       "      <td>True</td>\n",
       "      <td>Absent</td>\n",
       "      <td>NaN</td>\n",
       "      <td>NaN</td>\n",
       "      <td>...</td>\n",
       "      <td>NaN</td>\n",
       "      <td>NaN</td>\n",
       "      <td>NaN</td>\n",
       "      <td>NaN</td>\n",
       "      <td>NaN</td>\n",
       "      <td>NaN</td>\n",
       "      <td>NaN</td>\n",
       "      <td>NaN</td>\n",
       "      <td>CC2015</td>\n",
       "      <td>NaN</td>\n",
       "    </tr>\n",
       "  </tbody>\n",
       "</table>\n",
       "<p>942 rows × 22 columns</p>\n",
       "</div>"
      ],
      "text/plain": [
       "     Patient ID    Locations    Age     Sex  Height  Weight  Pregnancy status  \\\n",
       "0          2530  AV+PV+TV+MV  Child  Female    98.0    15.9             False   \n",
       "1          9979  AV+PV+TV+MV  Child  Female   103.0    13.1             False   \n",
       "2          9983  AV+PV+TV+MV  Child    Male   115.0    19.1             False   \n",
       "3         13918  AV+PV+TV+MV  Child    Male    98.0    15.9             False   \n",
       "4         14241  AV+PV+TV+MV  Child    Male    87.0    11.2             False   \n",
       "..          ...          ...    ...     ...     ...     ...               ...   \n",
       "937       85340  AV+PV+TV+MV  Child    Male   105.0    16.6             False   \n",
       "938       85341  AV+PV+TV+MV  Child    Male    92.0    15.2             False   \n",
       "939       85343  AV+PV+TV+MV  Child  Female    97.0    13.5             False   \n",
       "940       85345        AV+PV  Child  Female   132.0    38.1             False   \n",
       "941       85349     AV+PV+TV    NaN  Female     NaN     NaN              True   \n",
       "\n",
       "      Murmur Murmur locations Most audible location  ...  \\\n",
       "0     Absent              NaN                   NaN  ...   \n",
       "1    Present      AV+MV+PV+TV                    TV  ...   \n",
       "2    Unknown              NaN                   NaN  ...   \n",
       "3    Present               TV                    TV  ...   \n",
       "4    Present      AV+MV+PV+TV                    PV  ...   \n",
       "..       ...              ...                   ...  ...   \n",
       "937   Absent              NaN                   NaN  ...   \n",
       "938   Absent              NaN                   NaN  ...   \n",
       "939  Present            MV+TV                    TV  ...   \n",
       "940   Absent              NaN                   NaN  ...   \n",
       "941   Absent              NaN                   NaN  ...   \n",
       "\n",
       "    Systolic murmur grading Systolic murmur pitch Systolic murmur quality  \\\n",
       "0                       NaN                   NaN                     NaN   \n",
       "1                    III/VI                  High                   Harsh   \n",
       "2                       NaN                   NaN                     NaN   \n",
       "3                      I/VI                   Low                 Blowing   \n",
       "4                     II/VI                   Low                   Harsh   \n",
       "..                      ...                   ...                     ...   \n",
       "937                     NaN                   NaN                     NaN   \n",
       "938                     NaN                   NaN                     NaN   \n",
       "939                    I/VI                   Low                 Blowing   \n",
       "940                     NaN                   NaN                     NaN   \n",
       "941                     NaN                   NaN                     NaN   \n",
       "\n",
       "    Diastolic murmur timing Diastolic murmur shape Diastolic murmur grading  \\\n",
       "0                       NaN                    NaN                      NaN   \n",
       "1                       NaN                    NaN                      NaN   \n",
       "2                       NaN                    NaN                      NaN   \n",
       "3                       NaN                    NaN                      NaN   \n",
       "4                       NaN                    NaN                      NaN   \n",
       "..                      ...                    ...                      ...   \n",
       "937                     NaN                    NaN                      NaN   \n",
       "938                     NaN                    NaN                      NaN   \n",
       "939                     NaN                    NaN                      NaN   \n",
       "940                     NaN                    NaN                      NaN   \n",
       "941                     NaN                    NaN                      NaN   \n",
       "\n",
       "    Diastolic murmur pitch Diastolic murmur quality Campaign Additional ID  \n",
       "0                      NaN                      NaN   CC2015           NaN  \n",
       "1                      NaN                      NaN   CC2015           NaN  \n",
       "2                      NaN                      NaN   CC2015           NaN  \n",
       "3                      NaN                      NaN   CC2015           NaN  \n",
       "4                      NaN                      NaN   CC2015           NaN  \n",
       "..                     ...                      ...      ...           ...  \n",
       "937                    NaN                      NaN   CC2015           NaN  \n",
       "938                    NaN                      NaN   CC2015           NaN  \n",
       "939                    NaN                      NaN   CC2015           NaN  \n",
       "940                    NaN                      NaN   CC2015           NaN  \n",
       "941                    NaN                      NaN   CC2015           NaN  \n",
       "\n",
       "[942 rows x 22 columns]"
      ]
     },
     "execution_count": 2,
     "metadata": {},
     "output_type": "execute_result"
    }
   ],
   "source": [
    "# importing data annotations as a df\n",
    "patient_info = pd.read_csv('/Users/jmd/Documents/BOOTCAMP/Capstone/the-circor-digiscope-phonocardiogram-dataset-1.0.1/training_data.csv')\n",
    "patient_info"
   ]
  },
  {
   "cell_type": "code",
   "execution_count": 3,
   "id": "67786dbf-8515-42cd-9c12-4a4cd8575cab",
   "metadata": {},
   "outputs": [
    {
     "data": {
      "text/plain": [
       "Index(['Patient ID', 'Locations', 'Age', 'Sex', 'Height', 'Weight',\n",
       "       'Pregnancy status', 'Murmur', 'Murmur locations',\n",
       "       'Most audible location', 'Systolic murmur timing',\n",
       "       'Systolic murmur shape', 'Systolic murmur grading',\n",
       "       'Systolic murmur pitch', 'Systolic murmur quality',\n",
       "       'Diastolic murmur timing', 'Diastolic murmur shape',\n",
       "       'Diastolic murmur grading', 'Diastolic murmur pitch',\n",
       "       'Diastolic murmur quality', 'Campaign', 'Additional ID'],\n",
       "      dtype='object')"
      ]
     },
     "execution_count": 3,
     "metadata": {},
     "output_type": "execute_result"
    }
   ],
   "source": [
    "patient_info.columns"
   ]
  },
  {
   "cell_type": "code",
   "execution_count": 4,
   "id": "5d2290a7-7e00-4793-8f48-ccd0cba5720f",
   "metadata": {},
   "outputs": [],
   "source": [
    "training_folder_path = '/Users/jmd/Documents/BOOTCAMP/Capstone/the-circor-digiscope-phonocardiogram-dataset-1.0.1/training_data/'"
   ]
  },
  {
   "cell_type": "markdown",
   "id": "f321a727-bdca-476e-8d04-3eb6ee57181e",
   "metadata": {},
   "source": [
    "## Generating 4K Signals"
   ]
  },
  {
   "cell_type": "markdown",
   "id": "68519af2-f903-4400-839e-9669c885e4cc",
   "metadata": {},
   "source": [
    "Choosing a Sampling Rate of 4096. "
   ]
  },
  {
   "cell_type": "markdown",
   "id": "42e7f628-a6e7-49b7-a601-c59cf934824a",
   "metadata": {},
   "source": [
    "From Evidence-Based Physical Diagnosis (Fourth Edition)<br>\n",
    "- Although the human ear can hear sounds with frequencies from 20 to 20,000 cycles per second (Hz), the principal frequencies of heart sounds and murmurs are at the lower end of this range, from 20 to 500 Hz.\n",
    "- In general, choosing a sampling rate twice that of the maximum frequency you intend to capture is standard. In my review of the data, I did find some sounds at and around 2000 hz. \n",
    "- Choosing a sampling rate of twice that to satisfy the Nyquist-Shannon Sampling Theorem. \n",
    "- Finally picking 4096 is a nice clean power of 2."
   ]
  },
  {
   "cell_type": "code",
   "execution_count": 5,
   "id": "61ff8a4e-67b7-4908-9994-4f6340903d1d",
   "metadata": {},
   "outputs": [],
   "source": [
    "sr = 4096"
   ]
  },
  {
   "cell_type": "code",
   "execution_count": 6,
   "id": "7786908b-45ee-43a4-b863-d76cb72e4409",
   "metadata": {
    "tags": []
   },
   "outputs": [
    {
     "data": {
      "text/plain": [
       "'3150 files loaded'"
      ]
     },
     "metadata": {},
     "output_type": "display_data"
    }
   ],
   "source": [
    "filenames = []\n",
    "signals = []\n",
    "\n",
    "i = 0\n",
    "\n",
    "for file in os.listdir(training_folder_path):\n",
    "    filename = os.fsdecode(file)\n",
    "    if filename.endswith(\".wav\"):\n",
    "        signal, sr = librosa.load(training_folder_path + file, sr = sr)\n",
    "        filenames.append(filename.split('.')[0])\n",
    "        signals.append(signal)\n",
    "        i += 1\n",
    "    if i % 50 == 0:\n",
    "        clear_output(wait=True)\n",
    "        display(f\"{i} files loaded\")\n",
    "    else:\n",
    "        continue"
   ]
  },
  {
   "cell_type": "markdown",
   "id": "36e6ad83-a774-4333-93ca-613e2b8d1897",
   "metadata": {},
   "source": [
    "Each filename has an associated patient ID and location, just pulling out that information here."
   ]
  },
  {
   "cell_type": "code",
   "execution_count": 7,
   "id": "17172af2-651c-4a3c-9740-a4f33e15d20b",
   "metadata": {},
   "outputs": [],
   "source": [
    "signal_locations = []\n",
    "for file in filenames:\n",
    "    signal_locations.append(file.split('_')[1])\n",
    "\n",
    "signal_patient_ids = []\n",
    "for file in filenames:\n",
    "    signal_patient_ids.append(file.split('_')[0])"
   ]
  },
  {
   "cell_type": "markdown",
   "id": "521ff9ee-57a8-4bc0-a4f5-e0f31d3a1b87",
   "metadata": {},
   "source": [
    "Creating a df with the above info as well as the signal info created above."
   ]
  },
  {
   "cell_type": "code",
   "execution_count": 8,
   "id": "9cf20651-8903-4a3e-bcac-15e5a2cbab46",
   "metadata": {},
   "outputs": [],
   "source": [
    "signal_df = pd.DataFrame({'signal_patient_id': signal_patient_ids,\n",
    "                         'location': signal_locations,\n",
    "                         'signal': signals},\n",
    "                         columns=['signal_patient_id','location','signal'])\n",
    "\n",
    "signal_df['signal_patient_id'] = signal_df['signal_patient_id'].astype('int')\n",
    "\n",
    "signal_df.sort_values(by='signal_patient_id').reset_index(drop=True)"
   ]
  },
  {
   "cell_type": "markdown",
   "id": "c5f803ac-9709-41d8-972e-088e6189b058",
   "metadata": {},
   "source": [
    "Now, I have to expand the patient info df duplicating the rows by the number of locations recordings were taken from."
   ]
  },
  {
   "cell_type": "code",
   "execution_count": 11,
   "id": "74963d95-b849-4767-b946-887773fb040e",
   "metadata": {},
   "outputs": [],
   "source": [
    "patient_info['location_count'] = 0\n",
    "for i in range(0,len(patient_info['location_count'])):\n",
    "    patient_info.at[i,'location_count'] = len(patient_info['Locations'][i].split('+'))"
   ]
  },
  {
   "cell_type": "code",
   "execution_count": 12,
   "id": "737bacf6-11b5-48a2-b9ef-109ba3bb8c8c",
   "metadata": {},
   "outputs": [],
   "source": [
    "patient_info = patient_info.loc[patient_info.index.repeat(patient_info.location_count)]"
   ]
  },
  {
   "cell_type": "code",
   "execution_count": 13,
   "id": "cb55d90a-75c4-4b70-8d4c-0b3d337b5e43",
   "metadata": {},
   "outputs": [],
   "source": [
    "patient_info.reset_index(drop=True,inplace=True)"
   ]
  },
  {
   "cell_type": "markdown",
   "id": "f49c2cf8-6ec8-493b-bf61-f835a085edf4",
   "metadata": {},
   "source": [
    "Concatenating this new patient info df with the signal df I created above."
   ]
  },
  {
   "cell_type": "code",
   "execution_count": 14,
   "id": "fff01f82-adbd-4f67-8712-2bd64faa14f4",
   "metadata": {},
   "outputs": [],
   "source": [
    "final_patient_info = pd.concat([patient_info.reset_index(drop=True),\n",
    "                                signal_df.sort_values(by='signal_patient_id').reset_index(drop=True)], axis=1)"
   ]
  },
  {
   "cell_type": "code",
   "execution_count": 15,
   "id": "0013eb7f-7380-40d1-86dc-1caf13b4296b",
   "metadata": {},
   "outputs": [
    {
     "data": {
      "text/plain": [
       "Index(['Patient ID', 'Locations', 'Age', 'Sex', 'Height', 'Weight',\n",
       "       'Pregnancy status', 'Murmur', 'Murmur locations',\n",
       "       'Most audible location', 'Systolic murmur timing',\n",
       "       'Systolic murmur shape', 'Systolic murmur grading',\n",
       "       'Systolic murmur pitch', 'Systolic murmur quality',\n",
       "       'Diastolic murmur timing', 'Diastolic murmur shape',\n",
       "       'Diastolic murmur grading', 'Diastolic murmur pitch',\n",
       "       'Diastolic murmur quality', 'Campaign', 'Additional ID',\n",
       "       'location_count', 'signal_patient_id', 'location', 'signal'],\n",
       "      dtype='object')"
      ]
     },
     "execution_count": 15,
     "metadata": {},
     "output_type": "execute_result"
    }
   ],
   "source": [
    "final_patient_info.columns"
   ]
  },
  {
   "cell_type": "markdown",
   "id": "840bc3c8-4dc6-49fd-acdd-1ad9177571b4",
   "metadata": {},
   "source": [
    "There are some unneeded columns here, but I opted to clean those up at import in later stages in case anything suddenly became necessary."
   ]
  },
  {
   "cell_type": "code",
   "execution_count": 16,
   "id": "9397a94c-ed1a-44d8-9a94-0d4b44fc8026",
   "metadata": {},
   "outputs": [],
   "source": [
    "np.save('/Users/jmd/Documents/BOOTCAMP/Capstone/arrays/patient_signals_4k.npy', final_patient_info.to_numpy())"
   ]
  },
  {
   "cell_type": "markdown",
   "id": "b01d4592-fe13-4909-aa5b-a3b53a2a05e8",
   "metadata": {},
   "source": [
    "## Generating 1K SR Signals"
   ]
  },
  {
   "cell_type": "markdown",
   "id": "5d371139-f453-41a9-b3fd-44fc02dfa16c",
   "metadata": {},
   "source": [
    "Returned to this problem later to preprocess the data in a different way so that it was more palatable to an LTSM. TODO: Write out full explanation here."
   ]
  },
  {
   "cell_type": "code",
   "execution_count": 5,
   "id": "41e1deff-6c5e-45a5-86c7-83f3537d4904",
   "metadata": {
    "tags": []
   },
   "outputs": [
    {
     "data": {
      "text/plain": [
       "'3150 files loaded'"
      ]
     },
     "metadata": {},
     "output_type": "display_data"
    }
   ],
   "source": [
    "sr = 1024\n",
    "\n",
    "filenames = []\n",
    "signals = []\n",
    "\n",
    "i = 0\n",
    "\n",
    "for file in os.listdir(training_folder_path):\n",
    "    filename = os.fsdecode(file)\n",
    "    if filename.endswith(\".wav\"):\n",
    "        signal, sr = librosa.load(training_folder_path + file, sr = sr)\n",
    "        filenames.append(filename.split('.')[0])\n",
    "        signals.append(signal)\n",
    "        i += 1\n",
    "    if i % 50 == 0:\n",
    "        clear_output(wait=True)\n",
    "        display(f\"{i} files loaded\")\n",
    "    else:\n",
    "        continue"
   ]
  },
  {
   "cell_type": "markdown",
   "id": "eb63d292-73c6-4985-8aef-682cf6184bf8",
   "metadata": {},
   "source": [
    "Each filename has an associated patient ID and location, just pulling out that information here."
   ]
  },
  {
   "cell_type": "code",
   "execution_count": 6,
   "id": "a60c5ce5-bee8-495c-afda-267df2519be8",
   "metadata": {},
   "outputs": [],
   "source": [
    "signal_locations = []\n",
    "for file in filenames:\n",
    "    signal_locations.append(file.split('_')[1])\n",
    "\n",
    "signal_patient_ids = []\n",
    "for file in filenames:\n",
    "    signal_patient_ids.append(file.split('_')[0])"
   ]
  },
  {
   "cell_type": "markdown",
   "id": "cf03b9e7-a240-413a-8ba5-55d83f3da554",
   "metadata": {},
   "source": [
    "Creating a df with the above info as well as the signal info created above."
   ]
  },
  {
   "cell_type": "code",
   "execution_count": 7,
   "id": "8516550d-f838-495a-882a-c2f6bd1aab6e",
   "metadata": {},
   "outputs": [
    {
     "data": {
      "text/html": [
       "<div>\n",
       "<style scoped>\n",
       "    .dataframe tbody tr th:only-of-type {\n",
       "        vertical-align: middle;\n",
       "    }\n",
       "\n",
       "    .dataframe tbody tr th {\n",
       "        vertical-align: top;\n",
       "    }\n",
       "\n",
       "    .dataframe thead th {\n",
       "        text-align: right;\n",
       "    }\n",
       "</style>\n",
       "<table border=\"1\" class=\"dataframe\">\n",
       "  <thead>\n",
       "    <tr style=\"text-align: right;\">\n",
       "      <th></th>\n",
       "      <th>signal_patient_id</th>\n",
       "      <th>location</th>\n",
       "      <th>signal</th>\n",
       "    </tr>\n",
       "  </thead>\n",
       "  <tbody>\n",
       "    <tr>\n",
       "      <th>0</th>\n",
       "      <td>2530</td>\n",
       "      <td>PV</td>\n",
       "      <td>[0.037114453, 0.061636038, 0.055389933, 0.0675...</td>\n",
       "    </tr>\n",
       "    <tr>\n",
       "      <th>1</th>\n",
       "      <td>2530</td>\n",
       "      <td>AV</td>\n",
       "      <td>[0.006357202, -0.010564456, -0.008372305, 0.00...</td>\n",
       "    </tr>\n",
       "    <tr>\n",
       "      <th>2</th>\n",
       "      <td>2530</td>\n",
       "      <td>MV</td>\n",
       "      <td>[0.16865823, 0.035755683, -0.01783402, 0.00613...</td>\n",
       "    </tr>\n",
       "    <tr>\n",
       "      <th>3</th>\n",
       "      <td>2530</td>\n",
       "      <td>TV</td>\n",
       "      <td>[0.042926352, 0.08795212, 0.081163116, 0.07926...</td>\n",
       "    </tr>\n",
       "    <tr>\n",
       "      <th>4</th>\n",
       "      <td>9979</td>\n",
       "      <td>MV</td>\n",
       "      <td>[0.11233253, 0.16617733, 0.22739325, 0.3153002...</td>\n",
       "    </tr>\n",
       "    <tr>\n",
       "      <th>...</th>\n",
       "      <td>...</td>\n",
       "      <td>...</td>\n",
       "      <td>...</td>\n",
       "    </tr>\n",
       "    <tr>\n",
       "      <th>3158</th>\n",
       "      <td>85345</td>\n",
       "      <td>AV</td>\n",
       "      <td>[0.02705935, 0.0051991576, -0.028789269, -0.00...</td>\n",
       "    </tr>\n",
       "    <tr>\n",
       "      <th>3159</th>\n",
       "      <td>85345</td>\n",
       "      <td>PV</td>\n",
       "      <td>[0.011014578, 0.009928619, 0.014445103, 0.0160...</td>\n",
       "    </tr>\n",
       "    <tr>\n",
       "      <th>3160</th>\n",
       "      <td>85349</td>\n",
       "      <td>AV</td>\n",
       "      <td>[0.0010312841, -0.0074770185, 0.0053564664, 0....</td>\n",
       "    </tr>\n",
       "    <tr>\n",
       "      <th>3161</th>\n",
       "      <td>85349</td>\n",
       "      <td>PV</td>\n",
       "      <td>[0.070928715, 0.053460453, -0.012949261, -0.09...</td>\n",
       "    </tr>\n",
       "    <tr>\n",
       "      <th>3162</th>\n",
       "      <td>85349</td>\n",
       "      <td>TV</td>\n",
       "      <td>[0.07846564, 0.006256001, -0.02002155, 0.00305...</td>\n",
       "    </tr>\n",
       "  </tbody>\n",
       "</table>\n",
       "<p>3163 rows × 3 columns</p>\n",
       "</div>"
      ],
      "text/plain": [
       "      signal_patient_id location  \\\n",
       "0                  2530       PV   \n",
       "1                  2530       AV   \n",
       "2                  2530       MV   \n",
       "3                  2530       TV   \n",
       "4                  9979       MV   \n",
       "...                 ...      ...   \n",
       "3158              85345       AV   \n",
       "3159              85345       PV   \n",
       "3160              85349       AV   \n",
       "3161              85349       PV   \n",
       "3162              85349       TV   \n",
       "\n",
       "                                                 signal  \n",
       "0     [0.037114453, 0.061636038, 0.055389933, 0.0675...  \n",
       "1     [0.006357202, -0.010564456, -0.008372305, 0.00...  \n",
       "2     [0.16865823, 0.035755683, -0.01783402, 0.00613...  \n",
       "3     [0.042926352, 0.08795212, 0.081163116, 0.07926...  \n",
       "4     [0.11233253, 0.16617733, 0.22739325, 0.3153002...  \n",
       "...                                                 ...  \n",
       "3158  [0.02705935, 0.0051991576, -0.028789269, -0.00...  \n",
       "3159  [0.011014578, 0.009928619, 0.014445103, 0.0160...  \n",
       "3160  [0.0010312841, -0.0074770185, 0.0053564664, 0....  \n",
       "3161  [0.070928715, 0.053460453, -0.012949261, -0.09...  \n",
       "3162  [0.07846564, 0.006256001, -0.02002155, 0.00305...  \n",
       "\n",
       "[3163 rows x 3 columns]"
      ]
     },
     "execution_count": 7,
     "metadata": {},
     "output_type": "execute_result"
    }
   ],
   "source": [
    "signal_df = pd.DataFrame({'signal_patient_id': signal_patient_ids,\n",
    "                         'location': signal_locations,\n",
    "                         'signal': signals},\n",
    "                         columns=['signal_patient_id','location','signal'])\n",
    "\n",
    "signal_df['signal_patient_id'] = signal_df['signal_patient_id'].astype('int')\n",
    "\n",
    "signal_df.sort_values(by='signal_patient_id').reset_index(drop=True)"
   ]
  },
  {
   "cell_type": "markdown",
   "id": "f3937ef9-031a-45a1-97bb-68330a23436a",
   "metadata": {},
   "source": [
    "Now, I have to expand the patient info df duplicating the rows by the number of locations recordings were taken from."
   ]
  },
  {
   "cell_type": "code",
   "execution_count": 8,
   "id": "71d03f4f-7378-4344-9f5f-a56664b45d8e",
   "metadata": {},
   "outputs": [],
   "source": [
    "patient_info['location_count'] = 0\n",
    "for i in range(0,len(patient_info['location_count'])):\n",
    "    patient_info.at[i,'location_count'] = len(patient_info['Locations'][i].split('+'))"
   ]
  },
  {
   "cell_type": "code",
   "execution_count": 9,
   "id": "c5344787-da2d-4d7b-a4bc-58d4934caee7",
   "metadata": {},
   "outputs": [],
   "source": [
    "patient_info = patient_info.loc[patient_info.index.repeat(patient_info.location_count)]"
   ]
  },
  {
   "cell_type": "code",
   "execution_count": 10,
   "id": "0a412c11-35b2-41df-87a3-4f3e9a70fe3d",
   "metadata": {},
   "outputs": [],
   "source": [
    "patient_info.reset_index(drop=True,inplace=True)"
   ]
  },
  {
   "cell_type": "markdown",
   "id": "49fe59c2-51da-4823-9c3b-3a176e90d1b9",
   "metadata": {},
   "source": [
    "Concatenating this new patient info df with the signal df I created above."
   ]
  },
  {
   "cell_type": "code",
   "execution_count": 11,
   "id": "559e5b8f-242c-4983-9a78-65b8056bf5eb",
   "metadata": {},
   "outputs": [],
   "source": [
    "final_patient_info = pd.concat([patient_info.reset_index(drop=True),\n",
    "                                signal_df.sort_values(by='signal_patient_id').reset_index(drop=True)], axis=1)"
   ]
  },
  {
   "cell_type": "code",
   "execution_count": 12,
   "id": "061209a3-4646-48ac-be21-f7691b74f9a9",
   "metadata": {},
   "outputs": [
    {
     "data": {
      "text/plain": [
       "Index(['Patient ID', 'Locations', 'Age', 'Sex', 'Height', 'Weight',\n",
       "       'Pregnancy status', 'Murmur', 'Murmur locations',\n",
       "       'Most audible location', 'Systolic murmur timing',\n",
       "       'Systolic murmur shape', 'Systolic murmur grading',\n",
       "       'Systolic murmur pitch', 'Systolic murmur quality',\n",
       "       'Diastolic murmur timing', 'Diastolic murmur shape',\n",
       "       'Diastolic murmur grading', 'Diastolic murmur pitch',\n",
       "       'Diastolic murmur quality', 'Campaign', 'Additional ID',\n",
       "       'location_count', 'signal_patient_id', 'location', 'signal'],\n",
       "      dtype='object')"
      ]
     },
     "execution_count": 12,
     "metadata": {},
     "output_type": "execute_result"
    }
   ],
   "source": [
    "final_patient_info.columns"
   ]
  },
  {
   "cell_type": "markdown",
   "id": "82338859-7166-4c21-9815-99fac66c332c",
   "metadata": {},
   "source": [
    "There are some unneeded columns here, but I opted to clean those up at import in later stages in case anything suddenly became necessary."
   ]
  },
  {
   "cell_type": "code",
   "execution_count": 13,
   "id": "8e8e4fb0-108d-48ef-9fa8-40e422bc399f",
   "metadata": {},
   "outputs": [],
   "source": [
    "np.save('/Users/jmd/Documents/BOOTCAMP/Capstone/arrays/patient_signals_1k.npy', final_patient_info.to_numpy())"
   ]
  }
 ],
 "metadata": {
  "kernelspec": {
   "display_name": "capstone",
   "language": "python",
   "name": "capstone"
  },
  "language_info": {
   "codemirror_mode": {
    "name": "ipython",
    "version": 3
   },
   "file_extension": ".py",
   "mimetype": "text/x-python",
   "name": "python",
   "nbconvert_exporter": "python",
   "pygments_lexer": "ipython3",
   "version": "3.8.12"
  }
 },
 "nbformat": 4,
 "nbformat_minor": 5
}
